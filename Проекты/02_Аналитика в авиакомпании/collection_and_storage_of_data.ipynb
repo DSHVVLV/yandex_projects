{
 "cells": [
  {
   "cell_type": "markdown",
   "metadata": {},
   "source": [
    "<h1>Аналитика в авиакомпании<span class=\"tocSkip\"></span></h1>"
   ]
  },
  {
   "cell_type": "markdown",
   "metadata": {},
   "source": [
    "1. Парсер для сбора данных с сайта  \n",
    "\n",
    "2. Подготовка данных о количестве рейсов во время фестивалей  \n",
    "\n",
    "3. Аналитика средствами Python  \n",
    "\n",
    "4. Общий вывод"
   ]
  },
  {
   "attachments": {},
   "cell_type": "markdown",
   "metadata": {},
   "source": [
    "**Задача**  \n",
    "  \n",
    "Необходимо выявить предпочтения клиентов авиакомпании, покупающих билеты на разные направления, изучить базу данных и проанализировать спрос пассажиров на рейсы в города, где проходят крупнейшие фестивали.   "
   ]
  },
  {
   "cell_type": "code",
   "execution_count": 1,
   "metadata": {},
   "outputs": [],
   "source": [
    "import pandas as pd \n",
    "import numpy as np\n",
    "\n",
    "import requests \n",
    "from bs4 import (BeautifulSoup)  \n",
    "\n",
    "from sqlalchemy import create_engine\n",
    "\n",
    "import seaborn as sns\n",
    "import matplotlib.pyplot as plt\n",
    "\n",
    "pd.set_option('display.max_columns', None)\n",
    "pd.set_option('display.float_format', '{:,.2f}'.format)"
   ]
  },
  {
   "cell_type": "markdown",
   "metadata": {},
   "source": [
    "## Парсер для сбора данных с сайта"
   ]
  },
  {
   "cell_type": "markdown",
   "metadata": {},
   "source": [
    "В первую очередь нам необходимо написать парсер для сбора данных с сайта об 11 крупнейших фестивалях 2018 года.\n",
    "\n",
    "Ссылка на сайт: "
   ]
  },
  {
   "cell_type": "code",
   "execution_count": 2,
   "metadata": {},
   "outputs": [
    {
     "data": {
      "text/html": [
       "<div>\n",
       "<style scoped>\n",
       "    .dataframe tbody tr th:only-of-type {\n",
       "        vertical-align: middle;\n",
       "    }\n",
       "\n",
       "    .dataframe tbody tr th {\n",
       "        vertical-align: top;\n",
       "    }\n",
       "\n",
       "    .dataframe thead th {\n",
       "        text-align: right;\n",
       "    }\n",
       "</style>\n",
       "<table border=\"1\" class=\"dataframe\">\n",
       "  <thead>\n",
       "    <tr style=\"text-align: right;\">\n",
       "      <th></th>\n",
       "      <th>Название фестиваля</th>\n",
       "      <th>Место проведения</th>\n",
       "      <th>Дата проведения</th>\n",
       "    </tr>\n",
       "  </thead>\n",
       "  <tbody>\n",
       "    <tr>\n",
       "      <th>0</th>\n",
       "      <td>Музыкальный фестиваль «Усадьба Jazz»</td>\n",
       "      <td>Екатеринбург</td>\n",
       "      <td>01.07.2018</td>\n",
       "    </tr>\n",
       "    <tr>\n",
       "      <th>1</th>\n",
       "      <td>Фестиваль музыки и технологий Alfa Future People</td>\n",
       "      <td>Нижний Новгород</td>\n",
       "      <td>10.08.2018</td>\n",
       "    </tr>\n",
       "    <tr>\n",
       "      <th>2</th>\n",
       "      <td>Фестиваль еды «О, да! Еда!»</td>\n",
       "      <td>Санкт-Петербург</td>\n",
       "      <td>21.07.2018</td>\n",
       "    </tr>\n",
       "    <tr>\n",
       "      <th>3</th>\n",
       "      <td>Доброфест</td>\n",
       "      <td>Ярославль</td>\n",
       "      <td>29.07.2018</td>\n",
       "    </tr>\n",
       "    <tr>\n",
       "      <th>4</th>\n",
       "      <td>Park Live</td>\n",
       "      <td>Москва</td>\n",
       "      <td>28.07.2018</td>\n",
       "    </tr>\n",
       "    <tr>\n",
       "      <th>5</th>\n",
       "      <td>Пикник Афиши</td>\n",
       "      <td>Москва</td>\n",
       "      <td>04.08.2018</td>\n",
       "    </tr>\n",
       "    <tr>\n",
       "      <th>6</th>\n",
       "      <td>VK FEST</td>\n",
       "      <td>Санкт-Петербург</td>\n",
       "      <td>29.07.2018</td>\n",
       "    </tr>\n",
       "    <tr>\n",
       "      <th>7</th>\n",
       "      <td>Фестиваль «О, да! Еда!»</td>\n",
       "      <td>Иркутск</td>\n",
       "      <td>25.08.2018</td>\n",
       "    </tr>\n",
       "    <tr>\n",
       "      <th>8</th>\n",
       "      <td>Фестиваль «О, да! Еда!»</td>\n",
       "      <td>Владивосток</td>\n",
       "      <td>02.09.2018</td>\n",
       "    </tr>\n",
       "    <tr>\n",
       "      <th>9</th>\n",
       "      <td>Видфест</td>\n",
       "      <td>Москва</td>\n",
       "      <td>08.09.2018</td>\n",
       "    </tr>\n",
       "    <tr>\n",
       "      <th>10</th>\n",
       "      <td>«Нашествие 2018»</td>\n",
       "      <td>Тверь</td>\n",
       "      <td>05.08.2018</td>\n",
       "    </tr>\n",
       "  </tbody>\n",
       "</table>\n",
       "</div>"
      ],
      "text/plain": [
       "                                  Название фестиваля Место проведения  \\\n",
       "0               Музыкальный фестиваль «Усадьба Jazz»     Екатеринбург   \n",
       "1   Фестиваль музыки и технологий Alfa Future People  Нижний Новгород   \n",
       "2                        Фестиваль еды «О, да! Еда!»  Санкт-Петербург   \n",
       "3                                          Доброфест        Ярославль   \n",
       "4                                          Park Live           Москва   \n",
       "5                                       Пикник Афиши           Москва   \n",
       "6                                            VK FEST  Санкт-Петербург   \n",
       "7                            Фестиваль «О, да! Еда!»          Иркутск   \n",
       "8                            Фестиваль «О, да! Еда!»      Владивосток   \n",
       "9                                            Видфест           Москва   \n",
       "10                                  «Нашествие 2018»            Тверь   \n",
       "\n",
       "   Дата проведения  \n",
       "0       01.07.2018  \n",
       "1       10.08.2018  \n",
       "2       21.07.2018  \n",
       "3       29.07.2018  \n",
       "4       28.07.2018  \n",
       "5       04.08.2018  \n",
       "6       29.07.2018  \n",
       "7       25.08.2018  \n",
       "8       02.09.2018  \n",
       "9       08.09.2018  \n",
       "10      05.08.2018  "
      ]
     },
     "execution_count": 2,
     "metadata": {},
     "output_type": "execute_result"
    }
   ],
   "source": [
    "URL = \n",
    "req = requests.get(URL)\n",
    "soup = BeautifulSoup(req.text, 'lxml')\n",
    "\n",
    "table = soup.find('table',attrs={'id': 'best_festivals'})\n",
    "\n",
    "heading_table = []\n",
    "\n",
    "for row in table.find_all('th'): \n",
    "    heading_table.append(row.text)\n",
    "content=[] \n",
    "\n",
    "for row in table.find_all('tr'): \n",
    "    if not row.find_all('th'): \n",
    "            content.append([element.text for element in row.find_all('td')])\n",
    "            \n",
    "festivals = pd.DataFrame(content, columns=heading_table) \n",
    "festivals.head(11)"
   ]
  },
  {
   "cell_type": "markdown",
   "metadata": {},
   "source": [
    "Мы видим, что фестивали проходили в июле, августе и сентябре (конец лета, начало осени).   \n",
    "\n",
    "Города проведения: \n",
    "\n",
    "- Москва     \n",
    "- Санкт-Петербург   \n",
    "- Екатеринбург   \n",
    "- Нижний Новгород   \n",
    "- Тверь    \n",
    "- Ярославль   \n",
    "- Иркутск  \n",
    "- Владивосток   \n",
    "\n",
    "Тематика: музыка, еда, видеоблогинг."
   ]
  },
  {
   "cell_type": "markdown",
   "metadata": {},
   "source": [
    "## Подготовка данных о количестве рейсов во время фестивалей"
   ]
  },
  {
   "cell_type": "markdown",
   "metadata": {},
   "source": [
    "- Посмотрим на таблицу *airports* и выведите список городов (city), в которых есть аэропорты."
   ]
  },
  {
   "cell_type": "code",
   "execution_count": 3,
   "metadata": {},
   "outputs": [],
   "source": [
    "SELECT \n",
    "    DISTINCT(city)\n",
    "FROM\n",
    "    airports;"
   ]
  },
  {
   "cell_type": "markdown",
   "metadata": {},
   "source": [
    "city: Липецк, Оренбург, Южно-Сахалинск, Красноярск, Калуга, Уфа, Новый Уренгой, Нарьян-Мар, Белгород, Нерюнгри, Ульяновск, Салехард, Грозный, Орск, Нижневартовск, Астрахань, Минеральные Воды, Когалым, Краснодар, Кемерово, Саранск, Братск, Якутск, Казань, Новокузнецк, Нижний Новгород, Екатеринбург, Белоярский, Пенза, Омск, Пермь, Сургут, Чебоксары, Надым, Тюмень, Сыктывкар, Нальчик, Волгоград, Иркутск, Томск, Норильск, Советский, Анапа, Ростов-на-Дону, Курск, Владикавказ, Удачный, Ставрополь, Йошкар-Ола, Петропавловск-Камчатский, Кызыл, Новосибирск, Воронеж, Улан-Удэ, Киров, Мирный, Ярославль, Стрежевой, Саратов, Горно-Алтайск, Геленджик, Петрозаводск, Иваново, Усть-Кут, Магадан, Абакан, Хабаровск, Самара, Калининград, Воркута, Махачкала, Тамбов, Чита, Анадырь, Усинск, Брянск, Мурманск, Череповец, Урай, Комсомольск-на-Амуре, Челябинск, Бугульма, Сочи, Москва, Усть-Илимск, Благовещенск, Санкт-Петербург, Ухта, Элиста, Барнаул, Нефтеюганск, Ханты-Мансийск, Псков, Магнитогорск, Нижнекамск, Нягань, Курган, Ноябрьск, Архангельск, Ижевск, Владивосток.  \n",
    "\n",
    "Итого: 101 город. "
   ]
  },
  {
   "cell_type": "markdown",
   "metadata": {},
   "source": [
    "- Посмотрим на таблицу *flights* и подсчитаем количество вылетов (flight_id) из каждого аэропорта вылета (departure_airport). Назовем переменную cnt_flights и выведем её вместе со столбцом departure_airport — сначала departure_airport, потом cnt_flights. Результат отсортируем в порядке убывания количества вылетов."
   ]
  },
  {
   "cell_type": "code",
   "execution_count": 4,
   "metadata": {},
   "outputs": [],
   "source": [
    "SELECT \n",
    "    departure_airport,\n",
    "    COUNT(flight_id) AS cnt_flights \n",
    "FROM\n",
    "    flights \n",
    "GROUP BY\n",
    "    departure_airport\n",
    "ORDER BY\n",
    "    cnt_flights DESC;"
   ]
  },
  {
   "cell_type": "markdown",
   "metadata": {},
   "source": [
    "DME: 6376, SVO: 5912, LED: 3769, VKO: 3405, OVB: 2091, KJA: 1401, SVX: 1367, PEE: 1228, ROV: 1227, BZK: 1210, AER: 1159, OVS: 1089, SGC: 1055, HMA: 1021, NUX: 1003, KZN: 934, TJM: 847, CEK: 812, KHV: 795, ULV: 778, UFA: 761, MJZ: 761, IKT: 727, KVX: 726, EGO: 726, NOZ: 725, GOJ: 709, PES: 709, ARH: 640, VOG: 622, CSY: 605, REN: 605, ESL: 588, VKT: 554, JOK: 519, UUS: 519, TOF: 501, SCW: 501, MQF: 484, TBW: 484, RTW: 484, PEZ: 484, KRR: 468, ABA: 467, NBC: 450, KRO: 416, MRV: 415, MCX: 398, OMS: 397, NJC: 381, KGP: 380, ULY: 380, NOJ: 364, UUA: 363, UCT: 363, VVO: 363, KUF: 363, NAL: 363, UIK: 346, YKS: 329, KGD: 311, CNN: 311, NNM: 311, BAX: 311, ASF: 294, NYM: 278, URS: 277, NSK: 276, AAQ: 259, CEE: 259, SKX: 242, MMK: 242, VOZ: 242, URJ: 242, SLY: 242, OGZ: 242, KLF: 242, STW: 241, GDZ: 226, HTA: 191, PKV: 190, KEJ: 173, RGK: 172, IAR: 156, UUD: 139, OSW: 139, GRV: 138, BQS: 121, UKX: 121, IJK: 121, BTK: 121, SWT: 121, EYK: 104, NFG: 87, KYZ: 86, LPK: 86, DYR: 70, GDX: 70, IWA: 68, PKC: 52, NYA: 51, PYJ: 51, KXK: 35, USK: 34"
   ]
  },
  {
   "cell_type": "markdown",
   "metadata": {},
   "source": [
    "- Найдем количество рейсов на каждой модели самолёта с вылетом в сентябре 2018 года.  \n",
    "Назовем получившийся столбец flights_amount и выведем его, также выведем столбец model.  "
   ]
  },
  {
   "cell_type": "code",
   "execution_count": 5,
   "metadata": {},
   "outputs": [],
   "source": [
    "SELECT\n",
    "    aircrafts.model,\n",
    "    COUNT(flights.flight_id) AS flights_amount\n",
    "FROM\n",
    "    aircrafts\n",
    "    INNER JOIN flights ON flights.aircraft_code = aircrafts.aircraft_code \n",
    "WHERE\n",
    "    CAST(flights.departure_time AS date) BETWEEN '2018-09-01' AND '2018-09-30'\n",
    "GROUP BY \n",
    "    model;"
   ]
  },
  {
   "cell_type": "markdown",
   "metadata": {},
   "source": [
    "Airbus A319-100: 607   \n",
    "Airbus A321-200: 960   \n",
    "Boeing 737-300: 630   \n",
    "Boeing 767-300: 600    \n",
    "Boeing 777-300: 300   \n",
    "Bombardier CRJ-200: 4446   \n",
    "Cessna 208 Caravan: 4557   \n",
    "Sukhoi SuperJet-100: 4185    "
   ]
  },
  {
   "cell_type": "markdown",
   "metadata": {},
   "source": [
    "- Посчитаем количество рейсов по всем моделям самолётов Boeing, Airbus и другим ('other') в сентябре.  \n",
    "Типы моделей поместим в столбец type_aircraft, а количество рейсов — во flights_amount."
   ]
  },
  {
   "cell_type": "code",
   "execution_count": 6,
   "metadata": {},
   "outputs": [],
   "source": [
    "SELECT\n",
    "    CASE WHEN model LIKE '%Boeing%' THEN 'Boeing'\n",
    "         WHEN model LIKE '%Airbus%' THEN 'Airbus'\n",
    "    ELSE \n",
    "         'other'\n",
    "    END AS type_aircraft,\n",
    "    COUNT(flights.flight_id) AS flights_amount\n",
    "FROM\n",
    "    aircrafts\n",
    "    INNER JOIN flights ON flights.aircraft_code = aircrafts.aircraft_code \n",
    "WHERE\n",
    "    CAST(flights.departure_time AS date) BETWEEN '2018-09-01' AND '2018-09-30'\n",
    "GROUP BY \n",
    "    type_aircraft;"
   ]
  },
  {
   "cell_type": "markdown",
   "metadata": {},
   "source": [
    "Airbus\t1567  \n",
    "Boeing\t1530  \n",
    "other\t13188  "
   ]
  },
  {
   "cell_type": "markdown",
   "metadata": {},
   "source": [
    "- Посчитаем среднее количество прибывающих рейсов в день для каждого города за август 2018 года.  \n",
    "Получившееся поле назовем average_flights, вместе с ним выведем столбец city."
   ]
  },
  {
   "cell_type": "code",
   "execution_count": 7,
   "metadata": {},
   "outputs": [],
   "source": [
    "WITH table1 as(\n",
    "    SELECT\n",
    "        airports.city AS city,\n",
    "        flights.arrival_time::DATE AS DATE,\n",
    "        COUNT(flights.flight_id) AS flights_amount\n",
    "    FROM\n",
    "        flights\n",
    "        INNER JOIN airports ON flights.arrival_airport = airports.airport_code\n",
    "    WHERE\n",
    "        EXTRACT('month' FROM flights.arrival_time) = '8'     \n",
    "    GROUP BY\n",
    "        airports.city,\n",
    "        arrival_time::DATE)\n",
    " \n",
    "SELECT\n",
    "    city,\n",
    "    AVG(flights_amount) AS average_flights\n",
    "FROM\n",
    "    table1\n",
    "GROUP BY\n",
    "    city"
   ]
  },
  {
   "cell_type": "markdown",
   "metadata": {},
   "source": [
    "Оренбург - 5, Липецк - 1.29412, Красноярск - 11.5806, Уфа - 6.29032, Калуга - 2.03226, Ульяновск - 9.58065, Салехард - 2, Нижневартовск - 3.12903, Астрахань - 2.45161, Минеральные Воды - 3.41935, Краснодар - 3.90323, Когалым - 3.16129, Братск - 1, Казань - 7.74194, Нижний Новгород - 5.87097, Белоярский - 2, Пенза - 4, Пермь - 10.129, Сургут - 8.74194, Надым - 2.29032, Тюмень - 6.96774, Сыктывкар - 4.12903, Нальчик - 3, Иркутск - 6.03226, Волгоград - 5.12903\n",
    "Ростов-на-Дону - 10.1935, Курск - 2.29032, Владикавказ - 2, Йошкар-Ола - 4.29032, Петропавловск-Камчатский - 1,Воронеж - 2, Мирный - 6.29032, Стрежевой - 1, Иваново - 1, Усть-Кут - 1, Магадан - 1.35714, Хабаровск - 6.54839, Абакан - 3.87097, Самара - 3, Тамбов - 4, Махачкала - 3.29032, Мурманск - 2, Брянск - 10, Череповец - 2.16129, Урай - 2, Челябинск - 6.70968, Бугульма - 3, Усть-Илимск - 2.87097, Москва - 129.774, Благовещенск - 1, Элиста - 4.87097,\n",
    "Ханты-Мансийск - 8.41935, Нягань - 1, Курган - 3.41935, Ноябрьск - 3, Ижевск - 1, Южно-Сахалинск - 4.29032, Новый Уренгой - 8.29032, Нарьян-Мар - 2.6129, Белгород - 6, Нерюнгри - 2.58065, Грозный - 1.12903, Орск - 1.59091, Саранск - 2, Кемерово - 2, Якутск - 2.74194, Новокузнецк - 6.03226, Екатеринбург - 11.3226, Омск - 3.29032, Чебоксары - 5, Томск - 4.19355, Советский - 9, Норильск - 2.29032, Анапа - 2.16129, Удачный - 3, Ставрополь - 2, Новосибирск - 17.3226,, Кызыл - 1.27778, Улан-Удэ - 1.6087, Киров - 6, Ярославль - 1.32258, Саратов - 4, Горно-Алтайск - 1.3871, Геленджик - 2.59091, Петрозаводск - 5.87097, Калининград - 2.58065, Воркута - 4.58065, Чита - 1.58065, Анадырь - 1, Усинск - 1,Комсомольск-на-Амуре - 1, Сочи - 9.6129, Санкт-Петербург - 31.1613, Ухта - 3, Нефтеюганск - 1, Барнаул - 2.6129, Псков - 1.54839, Магнитогорск - 4, Нижнекамск - 3.74194, Архангельск - 5.35484, Владивосток - 3"
   ]
  },
  {
   "cell_type": "markdown",
   "metadata": {},
   "source": [
    "- Найдем фестивали, которые проходили с 23 июля по 30 сентября 2018 года в Москве, и номер недели, в которую они проходили. Выведем название фестиваля festival_name и номер недели festival_week."
   ]
  },
  {
   "cell_type": "code",
   "execution_count": 8,
   "metadata": {},
   "outputs": [],
   "source": [
    "SELECT\n",
    "    festival_name AS name,\n",
    "    EXTRACT(WEEK FROM festival_date) AS festival_week\n",
    "FROM\n",
    "    festivals \n",
    "WHERE\n",
    "    festival_city = 'Москва';"
   ]
  },
  {
   "cell_type": "markdown",
   "metadata": {},
   "source": [
    "Park Live\t30  \n",
    "Пикник Афиши\t31  \n",
    "Видфест\t36  "
   ]
  },
  {
   "cell_type": "markdown",
   "metadata": {},
   "source": [
    "- Для каждой недели с 23 июля по 30 сентября 2018 года посчитаем количество билетов, купленных на рейсы в Москву (номер недели week_number и количество билетов ticket_amount). Получим таблицу, в которой будет номер недели; информация о количестве купленных за неделю билетов; номер недели ещё раз, если в эту неделю проходил фестиваль, и nan, если не проходил; а также название фестиваля festival_name."
   ]
  },
  {
   "cell_type": "code",
   "execution_count": 9,
   "metadata": {},
   "outputs": [],
   "source": [
    "WITH table1 AS (\n",
    "    SELECT\n",
    "        EXTRACT(WEEK FROM flights.arrival_time) AS week_number,\n",
    "        COUNT(ticket_flights.ticket_no) AS ticket_amount\n",
    "    FROM\n",
    "        flights \n",
    "        INNER JOIN ticket_flights ON ticket_flights.flight_id = flights.flight_id\n",
    "        INNER JOIN airports ON airports.airport_code = flights.arrival_airport\n",
    "    WHERE\n",
    "        arrival_time::date BETWEEN '2018-07-23' AND '2018-09-30'\n",
    "        AND city = 'Москва'\n",
    "    GROUP BY\n",
    "        week_number) \n",
    "    \n",
    "    , table2 AS (\n",
    "    SELECT\n",
    "        EXTRACT(WEEK FROM festival_date) AS festival_week,\n",
    "        festival_name AS festival_name\n",
    "    FROM\n",
    "        festivals \n",
    "    WHERE\n",
    "        festival_date::date BETWEEN '2018-07-23' AND '2018-09-30'\n",
    "        AND festival_city = 'Москва')    \n",
    "       \n",
    "SELECT\n",
    "    table1.week_number,\n",
    "    table1.ticket_amount,\n",
    "    table2.festival_week, \n",
    "    table2.festival_name\n",
    "FROM \n",
    "    table2 \n",
    "    RIGHT JOIN table1 ON table1.week_number = table2.festival_week"
   ]
  },
  {
   "cell_type": "markdown",
   "metadata": {},
   "source": [
    "33\t51378\tnan  \t\n",
    "31\t51034\t31\tПикник Афиши  \n",
    "38\t51518\tnan\t  \n",
    "30\t43568\t30\tPark Live  \n",
    "32\t51675\tnan\t  \n",
    "34\t51492\tnan\t  \n",
    "35\t51360\tnan\t  \n",
    "37\t51670\tnan\t  \n",
    "36\t51386\t36\tВидфест  \n",
    "39\t51623\tnan  "
   ]
  },
  {
   "cell_type": "markdown",
   "metadata": {},
   "source": [
    "Изучив количество проданных билетов мы можем сделать вывод, что проведение фестивалей практически влияет на спрос.  \n",
    "Интересное исключение составляет 30 неделя и фестиваль Park Live, здесь вопреки ожиданиям продажи билетов заметно снизились."
   ]
  },
  {
   "cell_type": "markdown",
   "metadata": {},
   "source": [
    "## Аналитика средствами Python"
   ]
  },
  {
   "cell_type": "markdown",
   "metadata": {},
   "source": [
    "`query_1` — результат первого запроса  \n",
    "\n",
    "В нём содержится информация о:  \n",
    "- model — модели самолета\n",
    "- flights_amount — количество рейсов для каждой модели самолетов model в сентябре 2018 года"
   ]
  },
  {
   "cell_type": "code",
   "execution_count": 10,
   "metadata": {},
   "outputs": [
    {
     "data": {
      "text/html": [
       "<div>\n",
       "<style scoped>\n",
       "    .dataframe tbody tr th:only-of-type {\n",
       "        vertical-align: middle;\n",
       "    }\n",
       "\n",
       "    .dataframe tbody tr th {\n",
       "        vertical-align: top;\n",
       "    }\n",
       "\n",
       "    .dataframe thead th {\n",
       "        text-align: right;\n",
       "    }\n",
       "</style>\n",
       "<table border=\"1\" class=\"dataframe\">\n",
       "  <thead>\n",
       "    <tr style=\"text-align: right;\">\n",
       "      <th></th>\n",
       "      <th>model</th>\n",
       "      <th>flights_amount</th>\n",
       "    </tr>\n",
       "  </thead>\n",
       "  <tbody>\n",
       "    <tr>\n",
       "      <th>0</th>\n",
       "      <td>Airbus A319-100</td>\n",
       "      <td>607</td>\n",
       "    </tr>\n",
       "    <tr>\n",
       "      <th>1</th>\n",
       "      <td>Airbus A321-200</td>\n",
       "      <td>960</td>\n",
       "    </tr>\n",
       "    <tr>\n",
       "      <th>2</th>\n",
       "      <td>Boeing 737-300</td>\n",
       "      <td>630</td>\n",
       "    </tr>\n",
       "    <tr>\n",
       "      <th>3</th>\n",
       "      <td>Boeing 767-300</td>\n",
       "      <td>600</td>\n",
       "    </tr>\n",
       "    <tr>\n",
       "      <th>4</th>\n",
       "      <td>Boeing 777-300</td>\n",
       "      <td>300</td>\n",
       "    </tr>\n",
       "    <tr>\n",
       "      <th>5</th>\n",
       "      <td>Bombardier CRJ-200</td>\n",
       "      <td>4446</td>\n",
       "    </tr>\n",
       "    <tr>\n",
       "      <th>6</th>\n",
       "      <td>Cessna 208 Caravan</td>\n",
       "      <td>4557</td>\n",
       "    </tr>\n",
       "    <tr>\n",
       "      <th>7</th>\n",
       "      <td>Sukhoi SuperJet-100</td>\n",
       "      <td>4185</td>\n",
       "    </tr>\n",
       "  </tbody>\n",
       "</table>\n",
       "</div>"
      ],
      "text/plain": [
       "                 model  flights_amount\n",
       "0      Airbus A319-100             607\n",
       "1      Airbus A321-200             960\n",
       "2       Boeing 737-300             630\n",
       "3       Boeing 767-300             600\n",
       "4       Boeing 777-300             300\n",
       "5   Bombardier CRJ-200            4446\n",
       "6   Cessna 208 Caravan            4557\n",
       "7  Sukhoi SuperJet-100            4185"
      ]
     },
     "metadata": {},
     "output_type": "display_data"
    }
   ],
   "source": [
    "query_1.head(10)"
   ]
  },
  {
   "cell_type": "code",
   "execution_count": 11,
   "metadata": {},
   "outputs": [
    {
     "name": "stdout",
     "output_type": "stream",
     "text": [
      "<class 'pandas.core.frame.DataFrame'>\n",
      "RangeIndex: 8 entries, 0 to 7\n",
      "Data columns (total 2 columns):\n",
      " #   Column          Non-Null Count  Dtype \n",
      "---  ------          --------------  ----- \n",
      " 0   model           8 non-null      object\n",
      " 1   flights_amount  8 non-null      int64 \n",
      "dtypes: int64(1), object(1)\n",
      "memory usage: 256.0+ bytes\n"
     ]
    }
   ],
   "source": [
    "query_1.info()"
   ]
  },
  {
   "cell_type": "markdown",
   "metadata": {},
   "source": [
    "`query_3` — результат третьего запроса  \n",
    "\n",
    "В нём содержится информация о:\n",
    "- city — городах\n",
    "- average_flights — среднем количестве рейсов, прибывающих в город city за день в августе 2018 года"
   ]
  },
  {
   "cell_type": "code",
   "execution_count": 12,
   "metadata": {},
   "outputs": [
    {
     "data": {
      "text/html": [
       "<div>\n",
       "<style scoped>\n",
       "    .dataframe tbody tr th:only-of-type {\n",
       "        vertical-align: middle;\n",
       "    }\n",
       "\n",
       "    .dataframe tbody tr th {\n",
       "        vertical-align: top;\n",
       "    }\n",
       "\n",
       "    .dataframe thead th {\n",
       "        text-align: right;\n",
       "    }\n",
       "</style>\n",
       "<table border=\"1\" class=\"dataframe\">\n",
       "  <thead>\n",
       "    <tr style=\"text-align: right;\">\n",
       "      <th></th>\n",
       "      <th>city</th>\n",
       "      <th>average_flights</th>\n",
       "    </tr>\n",
       "  </thead>\n",
       "  <tbody>\n",
       "    <tr>\n",
       "      <th>0</th>\n",
       "      <td>Абакан</td>\n",
       "      <td>3.87</td>\n",
       "    </tr>\n",
       "    <tr>\n",
       "      <th>1</th>\n",
       "      <td>Анадырь</td>\n",
       "      <td>1.00</td>\n",
       "    </tr>\n",
       "    <tr>\n",
       "      <th>2</th>\n",
       "      <td>Анапа</td>\n",
       "      <td>2.16</td>\n",
       "    </tr>\n",
       "    <tr>\n",
       "      <th>3</th>\n",
       "      <td>Архангельск</td>\n",
       "      <td>5.35</td>\n",
       "    </tr>\n",
       "    <tr>\n",
       "      <th>4</th>\n",
       "      <td>Астрахань</td>\n",
       "      <td>2.45</td>\n",
       "    </tr>\n",
       "  </tbody>\n",
       "</table>\n",
       "</div>"
      ],
      "text/plain": [
       "          city  average_flights\n",
       "0       Абакан             3.87\n",
       "1      Анадырь             1.00\n",
       "2        Анапа             2.16\n",
       "3  Архангельск             5.35\n",
       "4    Астрахань             2.45"
      ]
     },
     "metadata": {},
     "output_type": "display_data"
    }
   ],
   "source": [
    "query_3.head()"
   ]
  },
  {
   "cell_type": "code",
   "execution_count": 13,
   "metadata": {},
   "outputs": [
    {
     "name": "stdout",
     "output_type": "stream",
     "text": [
      "<class 'pandas.core.frame.DataFrame'>\n",
      "RangeIndex: 101 entries, 0 to 100\n",
      "Data columns (total 2 columns):\n",
      " #   Column           Non-Null Count  Dtype  \n",
      "---  ------           --------------  -----  \n",
      " 0   city             101 non-null    object \n",
      " 1   average_flights  101 non-null    float64\n",
      "dtypes: float64(1), object(1)\n",
      "memory usage: 1.7+ KB\n"
     ]
    }
   ],
   "source": [
    "query_3.info()"
   ]
  },
  {
   "cell_type": "markdown",
   "metadata": {},
   "source": [
    "Проверим датасеты на наличие пропущенных значений. "
   ]
  },
  {
   "cell_type": "code",
   "execution_count": 14,
   "metadata": {},
   "outputs": [
    {
     "data": {
      "text/html": [
       "<div>\n",
       "<style scoped>\n",
       "    .dataframe tbody tr th:only-of-type {\n",
       "        vertical-align: middle;\n",
       "    }\n",
       "\n",
       "    .dataframe tbody tr th {\n",
       "        vertical-align: top;\n",
       "    }\n",
       "\n",
       "    .dataframe thead th {\n",
       "        text-align: right;\n",
       "    }\n",
       "</style>\n",
       "<table border=\"1\" class=\"dataframe\">\n",
       "  <thead>\n",
       "    <tr style=\"text-align: right;\">\n",
       "      <th></th>\n",
       "      <th>0</th>\n",
       "    </tr>\n",
       "  </thead>\n",
       "  <tbody>\n",
       "    <tr>\n",
       "      <th>model</th>\n",
       "      <td>0</td>\n",
       "    </tr>\n",
       "    <tr>\n",
       "      <th>flights_amount</th>\n",
       "      <td>0</td>\n",
       "    </tr>\n",
       "  </tbody>\n",
       "</table>\n",
       "</div>"
      ],
      "text/plain": [
       "                0\n",
       "model           0\n",
       "flights_amount  0"
      ]
     },
     "metadata": {},
     "output_type": "display_data"
    },
    {
     "data": {
      "text/html": [
       "<div>\n",
       "<style scoped>\n",
       "    .dataframe tbody tr th:only-of-type {\n",
       "        vertical-align: middle;\n",
       "    }\n",
       "\n",
       "    .dataframe tbody tr th {\n",
       "        vertical-align: top;\n",
       "    }\n",
       "\n",
       "    .dataframe thead th {\n",
       "        text-align: right;\n",
       "    }\n",
       "</style>\n",
       "<table border=\"1\" class=\"dataframe\">\n",
       "  <thead>\n",
       "    <tr style=\"text-align: right;\">\n",
       "      <th></th>\n",
       "      <th>0</th>\n",
       "    </tr>\n",
       "  </thead>\n",
       "  <tbody>\n",
       "    <tr>\n",
       "      <th>city</th>\n",
       "      <td>0</td>\n",
       "    </tr>\n",
       "    <tr>\n",
       "      <th>average_flights</th>\n",
       "      <td>0</td>\n",
       "    </tr>\n",
       "  </tbody>\n",
       "</table>\n",
       "</div>"
      ],
      "text/plain": [
       "                 0\n",
       "city             0\n",
       "average_flights  0"
      ]
     },
     "metadata": {},
     "output_type": "display_data"
    }
   ],
   "source": [
    "datasets = [query_1, query_3]\n",
    "\n",
    "for dataset in datasets:\n",
    "    display(dataset.isnull().sum().to_frame())"
   ]
  },
  {
   "cell_type": "markdown",
   "metadata": {},
   "source": [
    "Проверим датасеты на наличие дубликатов."
   ]
  },
  {
   "cell_type": "code",
   "execution_count": 15,
   "metadata": {},
   "outputs": [
    {
     "name": "stdout",
     "output_type": "stream",
     "text": [
      "0\n",
      "0\n"
     ]
    }
   ],
   "source": [
    "for dataset in datasets:\n",
    "    dataset.drop_duplicates().reset_index(drop=True)\n",
    "    print(dataset.duplicated().sum())"
   ]
  },
  {
   "cell_type": "markdown",
   "metadata": {},
   "source": [
    "С данными познакомились, типы соответствуют значениям, пропусков и дубликатов не обнаружено.  \n",
    "Приступаем к анализу."
   ]
  },
  {
   "cell_type": "markdown",
   "metadata": {},
   "source": [
    "### Топ-10 городов по количеству рейсов"
   ]
  },
  {
   "cell_type": "code",
   "execution_count": 16,
   "metadata": {},
   "outputs": [
    {
     "data": {
      "text/html": [
       "<div>\n",
       "<style scoped>\n",
       "    .dataframe tbody tr th:only-of-type {\n",
       "        vertical-align: middle;\n",
       "    }\n",
       "\n",
       "    .dataframe tbody tr th {\n",
       "        vertical-align: top;\n",
       "    }\n",
       "\n",
       "    .dataframe thead th {\n",
       "        text-align: right;\n",
       "    }\n",
       "</style>\n",
       "<table border=\"1\" class=\"dataframe\">\n",
       "  <thead>\n",
       "    <tr style=\"text-align: right;\">\n",
       "      <th></th>\n",
       "      <th>average_flights</th>\n",
       "    </tr>\n",
       "    <tr>\n",
       "      <th>city</th>\n",
       "      <th></th>\n",
       "    </tr>\n",
       "  </thead>\n",
       "  <tbody>\n",
       "    <tr>\n",
       "      <th>Москва</th>\n",
       "      <td>129.77</td>\n",
       "    </tr>\n",
       "    <tr>\n",
       "      <th>Санкт-Петербург</th>\n",
       "      <td>31.16</td>\n",
       "    </tr>\n",
       "    <tr>\n",
       "      <th>Новосибирск</th>\n",
       "      <td>17.32</td>\n",
       "    </tr>\n",
       "    <tr>\n",
       "      <th>Красноярск</th>\n",
       "      <td>11.58</td>\n",
       "    </tr>\n",
       "    <tr>\n",
       "      <th>Екатеринбург</th>\n",
       "      <td>11.32</td>\n",
       "    </tr>\n",
       "    <tr>\n",
       "      <th>Ростов-на-Дону</th>\n",
       "      <td>10.19</td>\n",
       "    </tr>\n",
       "    <tr>\n",
       "      <th>Пермь</th>\n",
       "      <td>10.13</td>\n",
       "    </tr>\n",
       "    <tr>\n",
       "      <th>Брянск</th>\n",
       "      <td>10.00</td>\n",
       "    </tr>\n",
       "    <tr>\n",
       "      <th>Сочи</th>\n",
       "      <td>9.61</td>\n",
       "    </tr>\n",
       "    <tr>\n",
       "      <th>Ульяновск</th>\n",
       "      <td>9.58</td>\n",
       "    </tr>\n",
       "  </tbody>\n",
       "</table>\n",
       "</div>"
      ],
      "text/plain": [
       "                 average_flights\n",
       "city                            \n",
       "Москва                    129.77\n",
       "Санкт-Петербург            31.16\n",
       "Новосибирск                17.32\n",
       "Красноярск                 11.58\n",
       "Екатеринбург               11.32\n",
       "Ростов-на-Дону             10.19\n",
       "Пермь                      10.13\n",
       "Брянск                     10.00\n",
       "Сочи                        9.61\n",
       "Ульяновск                   9.58"
      ]
     },
     "execution_count": 16,
     "metadata": {},
     "output_type": "execute_result"
    }
   ],
   "source": [
    "top10 = query_3.pivot_table(index = 'city', values = 'average_flights').nlargest(10, 'average_flights')\n",
    "top10"
   ]
  },
  {
   "cell_type": "markdown",
   "metadata": {},
   "source": [
    "### Визуализация данных"
   ]
  },
  {
   "cell_type": "markdown",
   "metadata": {},
   "source": [
    "- **Модели самолетов и количество рейсов**"
   ]
  },
  {
   "cell_type": "code",
   "execution_count": 17,
   "metadata": {},
   "outputs": [
    {
     "data": {
      "image/png": "[encoded data removed]",
      "text/plain": [
       "<Figure size 576x360 with 1 Axes>"
      ]
     },
     "metadata": {
      "needs_background": "light"
     },
     "output_type": "display_data"
    }
   ],
   "source": [
    "plot_order = query_1.groupby('model')['flights_amount'].sum().sort_values(ascending=False).index.values\n",
    "sns.catplot(\n",
    "    data=query_1, \n",
    "    x='model', \n",
    "    y='flights_amount', \n",
    "    kind='bar', \n",
    "    color='indigo', \n",
    "    ci=None, \n",
    "    legend_out=True, \n",
    "    order=plot_order,\n",
    "    aspect=8/5)\n",
    "\n",
    "plt.xlabel('Модели самолетов', fontsize=12)\n",
    "plt.ylabel('Количество рейсов', fontsize=12)\n",
    "plt.xticks(rotation=90) \n",
    "plt.show()"
   ]
  },
  {
   "cell_type": "markdown",
   "metadata": {},
   "source": [
    "График показывает, что с большим отрывом по количеству полетов в сентябре 2018 года лидируют три модели: Bombardier CRJ-200, Cessna 208 Caravan, Sukhoi SuperJet-100. Bombardier - административный самолёт (бизнес-джет), он используется для частных перелетов чиновниками, звездами, бизнесменами и фактически это \"личный автомобиль\" в мире авиации. Cessna - это лёгкий одномоторный турбовинтовой самолёт общего назначения с неубирающимся шасси, этот самолет используется для обучения пилотов, развлекательных полетов и перелетов между небольшими населенными пунктами на небольшие расстояния. Sukhoi SuperJet-100 - это российский самолёт, который активно продвигают на внутреннем рынке. Остальные модели чаще используются для международных перелетов. "
   ]
  },
  {
   "cell_type": "markdown",
   "metadata": {},
   "source": [
    "**Города и количество рейсов**"
   ]
  },
  {
   "cell_type": "code",
   "execution_count": 18,
   "metadata": {},
   "outputs": [
    {
     "data": {
      "image/png": "[encoded data removed]",
      "text/plain": [
       "<Figure size 907.2x432 with 1 Axes>"
      ]
     },
     "metadata": {
      "needs_background": "light"
     },
     "output_type": "display_data"
    }
   ],
   "source": [
    "plot_order = query_3.groupby('city')['average_flights'].sum().sort_values(ascending=False).index.values\n",
    "sns.catplot(\n",
    "    data=query_3, \n",
    "    x='city', \n",
    "    y='average_flights', \n",
    "    kind='bar', \n",
    "    height=6, \n",
    "    aspect=2.1, \n",
    "    color='green', \n",
    "    ci=None, \n",
    "    legend_out=False, \n",
    "    order=plot_order)\n",
    "\n",
    "plt.xlabel('Модели самолетов')\n",
    "plt.ylabel('Количество рейсов')\n",
    "plt.xticks(rotation=90) \n",
    "plt.show()"
   ]
  },
  {
   "cell_type": "code",
   "execution_count": 19,
   "metadata": {},
   "outputs": [
    {
     "data": {
      "text/plain": [
       "101"
      ]
     },
     "execution_count": 19,
     "metadata": {},
     "output_type": "execute_result"
    }
   ],
   "source": [
    "query_3['city'].value_counts().sum()"
   ]
  },
  {
   "cell_type": "markdown",
   "metadata": {},
   "source": [
    "При выводе полного списка городов график получается не совсем наглядным, тем не менее, мы видим явных лидеров. "
   ]
  },
  {
   "cell_type": "markdown",
   "metadata": {},
   "source": [
    "**Топ-10 городов и количество рейсов**"
   ]
  },
  {
   "cell_type": "code",
   "execution_count": 20,
   "metadata": {},
   "outputs": [
    {
     "data": {
      "image/png": "[encoded data removed]",
      "text/plain": [
       "<Figure size 576x360 with 1 Axes>"
      ]
     },
     "metadata": {
      "needs_background": "light"
     },
     "output_type": "display_data"
    }
   ],
   "source": [
    "pivot = query_3.pivot_table(\n",
    "    index='city', \n",
    "    values='average_flights', \n",
    "    aggfunc='sum').nlargest(10, 'average_flights')\n",
    "\n",
    "pivot.plot.bar(rot=0, figsize=(8,5))\n",
    "plt.xlabel('Топ-10 городов', fontsize=12)\n",
    "plt.ylabel('Количество рейсов', fontsize=12)\n",
    "plt.xticks(rotation=90)\n",
    "plt.show()"
   ]
  },
  {
   "cell_type": "markdown",
   "metadata": {},
   "source": [
    "Явным лидером по количеству рейсов прибывающих в город за день в августе 2018 года вполне ожидаемо становится столица, город с наибольшим количеством жителей и сосредоточением бизнес-процессов. Также это крупнейший в России транспортный узел, здесь оcуществляется большое количество пересадок международных и междугородних рейсов. Далее по нисходящей идут другие крупные транспортные узлы, практически без отрыва. "
   ]
  },
  {
   "cell_type": "markdown",
   "metadata": {},
   "source": [
    "## Общий вывод"
   ]
  },
  {
   "cell_type": "markdown",
   "metadata": {},
   "source": [
    "Подведем итог, проведение фестивалей практически не влияет на продажи билетов. Для перелетов внутри страны авиакомпании в основном используют Bombardier CRJ-200, Cessna 208 Caravan, Sukhoi SuperJet-100. Для каждой модели своя задача: Bombardier - для привилегированных персон, Cessna - для небольших групповых перелетов, Sukhoi SuperJet - для крупных коммерческих рейсов. При этом наибольшее количество рейсов совершается в крупные города, так называемые транспортные узлы, где осуществляются пересадки пассажиров и передача грузов, топ-3: Москва, Санкт-Петербург, Новосибирск. "
   ]
  }
 ],
 "metadata": {
  "ExecuteTimeLog": [
   {
    "duration": 1133,
    "start_time": "2021-09-17T19:31:53.486Z"
   },
   {
    "duration": 24,
    "start_time": "2021-09-17T19:32:48.439Z"
   },
   {
    "duration": 20,
    "start_time": "2021-09-17T19:33:16.592Z"
   },
   {
    "duration": 6,
    "start_time": "2021-09-17T19:33:59.981Z"
   },
   {
    "duration": 20,
    "start_time": "2021-09-17T19:34:09.630Z"
   },
   {
    "duration": 6,
    "start_time": "2021-09-17T19:34:21.461Z"
   },
   {
    "duration": 1043,
    "start_time": "2021-09-19T18:00:53.603Z"
   },
   {
    "duration": 22,
    "start_time": "2021-09-19T18:00:54.648Z"
   },
   {
    "duration": 7,
    "start_time": "2021-09-19T18:00:54.672Z"
   },
   {
    "duration": 21,
    "start_time": "2021-09-19T18:00:54.680Z"
   },
   {
    "duration": 6,
    "start_time": "2021-09-19T18:00:54.702Z"
   },
   {
    "duration": 1505,
    "start_time": "2021-09-19T18:08:50.848Z"
   },
   {
    "duration": 5,
    "start_time": "2021-09-19T18:08:56.488Z"
   },
   {
    "duration": 5,
    "start_time": "2021-09-19T18:09:20.662Z"
   },
   {
    "duration": 190,
    "start_time": "2021-09-19T18:24:23.767Z"
   },
   {
    "duration": 172,
    "start_time": "2021-09-19T18:24:37.041Z"
   },
   {
    "duration": 357,
    "start_time": "2021-09-19T18:24:51.677Z"
   },
   {
    "duration": 13,
    "start_time": "2021-09-19T18:25:26.218Z"
   },
   {
    "duration": 976,
    "start_time": "2021-09-19T18:27:12.660Z"
   },
   {
    "duration": 23,
    "start_time": "2021-09-19T18:27:13.637Z"
   },
   {
    "duration": 6,
    "start_time": "2021-09-19T18:27:13.662Z"
   },
   {
    "duration": 23,
    "start_time": "2021-09-19T18:27:13.670Z"
   },
   {
    "duration": 5,
    "start_time": "2021-09-19T18:27:13.695Z"
   },
   {
    "duration": 16,
    "start_time": "2021-09-19T18:27:13.702Z"
   },
   {
    "duration": 16,
    "start_time": "2021-09-19T18:59:10.371Z"
   },
   {
    "duration": 14,
    "start_time": "2021-09-19T18:59:25.418Z"
   },
   {
    "duration": 13,
    "start_time": "2021-09-19T18:59:40.881Z"
   },
   {
    "duration": 284,
    "start_time": "2021-09-19T19:00:54.821Z"
   },
   {
    "duration": 182,
    "start_time": "2021-09-19T19:01:05.178Z"
   },
   {
    "duration": 1162,
    "start_time": "2021-09-19T19:04:30.881Z"
   },
   {
    "duration": 23,
    "start_time": "2021-09-19T19:04:33.571Z"
   },
   {
    "duration": 406,
    "start_time": "2021-09-19T19:04:36.051Z"
   },
   {
    "duration": 7,
    "start_time": "2021-09-19T19:06:13.931Z"
   },
   {
    "duration": 23,
    "start_time": "2021-09-19T19:06:16.143Z"
   },
   {
    "duration": 6,
    "start_time": "2021-09-19T19:06:18.689Z"
   },
   {
    "duration": 15,
    "start_time": "2021-09-19T19:06:23.097Z"
   },
   {
    "duration": 177,
    "start_time": "2021-09-19T19:07:49.509Z"
   },
   {
    "duration": 184,
    "start_time": "2021-09-19T19:08:13.589Z"
   },
   {
    "duration": 152,
    "start_time": "2021-09-19T19:08:24.371Z"
   },
   {
    "duration": 183,
    "start_time": "2021-09-19T19:08:28.990Z"
   },
   {
    "duration": 367,
    "start_time": "2021-09-19T19:09:20.288Z"
   },
   {
    "duration": 836,
    "start_time": "2021-09-19T19:09:35.260Z"
   },
   {
    "duration": 354,
    "start_time": "2021-09-19T19:09:45.319Z"
   },
   {
    "duration": 243,
    "start_time": "2021-09-19T19:09:57.320Z"
   },
   {
    "duration": 5,
    "start_time": "2021-09-19T19:10:45.019Z"
   },
   {
    "duration": 253,
    "start_time": "2021-09-19T19:10:50.241Z"
   },
   {
    "duration": 5,
    "start_time": "2021-09-19T19:11:08.388Z"
   },
   {
    "duration": 294,
    "start_time": "2021-09-19T19:11:12.738Z"
   },
   {
    "duration": 4,
    "start_time": "2021-09-19T19:11:26.810Z"
   },
   {
    "duration": 329,
    "start_time": "2021-09-19T19:11:30.930Z"
   },
   {
    "duration": 5,
    "start_time": "2021-09-19T19:11:55.461Z"
   },
   {
    "duration": 243,
    "start_time": "2021-09-19T19:11:59.179Z"
   },
   {
    "duration": 4,
    "start_time": "2021-09-19T19:12:09.875Z"
   },
   {
    "duration": 259,
    "start_time": "2021-09-19T19:12:12.849Z"
   },
   {
    "duration": 4,
    "start_time": "2021-09-19T19:12:21.531Z"
   },
   {
    "duration": 291,
    "start_time": "2021-09-19T19:12:26.503Z"
   },
   {
    "duration": 4,
    "start_time": "2021-09-19T19:12:41.412Z"
   },
   {
    "duration": 291,
    "start_time": "2021-09-19T19:12:45.321Z"
   },
   {
    "duration": 4,
    "start_time": "2021-09-19T19:13:16.139Z"
   },
   {
    "duration": 243,
    "start_time": "2021-09-19T19:13:19.569Z"
   },
   {
    "duration": 4,
    "start_time": "2021-09-19T19:13:28.231Z"
   },
   {
    "duration": 326,
    "start_time": "2021-09-19T19:13:31.492Z"
   },
   {
    "duration": 4,
    "start_time": "2021-09-19T19:13:50.049Z"
   },
   {
    "duration": 294,
    "start_time": "2021-09-19T19:13:52.992Z"
   },
   {
    "duration": 5,
    "start_time": "2021-09-19T19:14:10.892Z"
   },
   {
    "duration": 360,
    "start_time": "2021-09-19T19:14:14.461Z"
   },
   {
    "duration": 63,
    "start_time": "2021-09-19T19:15:09.180Z"
   },
   {
    "duration": 5,
    "start_time": "2021-09-19T19:15:12.610Z"
   },
   {
    "duration": 4,
    "start_time": "2021-09-19T19:15:27.761Z"
   },
   {
    "duration": 320,
    "start_time": "2021-09-19T19:15:31.220Z"
   },
   {
    "duration": 5,
    "start_time": "2021-09-19T19:15:50.553Z"
   },
   {
    "duration": 356,
    "start_time": "2021-09-19T19:15:57.271Z"
   },
   {
    "duration": 4,
    "start_time": "2021-09-19T19:16:19.329Z"
   },
   {
    "duration": 316,
    "start_time": "2021-09-19T19:16:23.368Z"
   },
   {
    "duration": 202,
    "start_time": "2021-09-19T19:17:15.347Z"
   },
   {
    "duration": 286,
    "start_time": "2021-09-19T19:17:21.417Z"
   },
   {
    "duration": 183,
    "start_time": "2021-09-19T19:17:56.339Z"
   },
   {
    "duration": 3318,
    "start_time": "2021-09-19T19:18:04.541Z"
   },
   {
    "duration": 3366,
    "start_time": "2021-09-19T19:18:27.170Z"
   },
   {
    "duration": 5,
    "start_time": "2021-09-19T19:19:21.389Z"
   },
   {
    "duration": 7,
    "start_time": "2021-09-19T19:19:36.259Z"
   },
   {
    "duration": 6,
    "start_time": "2021-09-19T19:19:47.741Z"
   },
   {
    "duration": 2,
    "start_time": "2021-09-19T19:23:55.221Z"
   },
   {
    "duration": 174,
    "start_time": "2021-09-19T19:25:14.537Z"
   },
   {
    "duration": 411,
    "start_time": "2021-09-19T19:25:26.451Z"
   },
   {
    "duration": 1098,
    "start_time": "2021-09-19T19:34:44.308Z"
   },
   {
    "duration": 22,
    "start_time": "2021-09-19T19:34:45.408Z"
   },
   {
    "duration": 7,
    "start_time": "2021-09-19T19:34:45.432Z"
   },
   {
    "duration": 21,
    "start_time": "2021-09-19T19:34:45.441Z"
   },
   {
    "duration": 6,
    "start_time": "2021-09-19T19:34:45.463Z"
   },
   {
    "duration": 13,
    "start_time": "2021-09-19T19:34:45.471Z"
   },
   {
    "duration": 15,
    "start_time": "2021-09-19T19:34:45.485Z"
   },
   {
    "duration": 306,
    "start_time": "2021-09-19T19:34:45.502Z"
   },
   {
    "duration": 2,
    "start_time": "2021-09-19T19:34:45.810Z"
   },
   {
    "duration": 325,
    "start_time": "2021-09-19T19:34:45.814Z"
   },
   {
    "duration": 62,
    "start_time": "2021-09-19T19:58:44.166Z"
   },
   {
    "duration": 298,
    "start_time": "2021-09-19T19:59:00.609Z"
   },
   {
    "duration": 587,
    "start_time": "2021-09-19T20:00:59.517Z"
   },
   {
    "duration": 290,
    "start_time": "2021-09-19T20:01:42.309Z"
   },
   {
    "duration": 295,
    "start_time": "2021-09-19T20:03:04.867Z"
   },
   {
    "duration": 355,
    "start_time": "2021-09-19T20:05:35.017Z"
   },
   {
    "duration": 290,
    "start_time": "2021-09-19T20:05:43.068Z"
   },
   {
    "duration": 301,
    "start_time": "2021-09-19T20:08:23.066Z"
   },
   {
    "duration": 289,
    "start_time": "2021-09-19T20:08:32.458Z"
   },
   {
    "duration": 1429,
    "start_time": "2021-09-19T20:12:19.737Z"
   },
   {
    "duration": 473,
    "start_time": "2021-09-19T20:12:28.057Z"
   },
   {
    "duration": 465,
    "start_time": "2021-09-19T20:12:45.774Z"
   },
   {
    "duration": 460,
    "start_time": "2021-09-19T20:12:50.607Z"
   },
   {
    "duration": 471,
    "start_time": "2021-09-19T20:13:09.539Z"
   },
   {
    "duration": 747,
    "start_time": "2021-09-19T20:13:18.177Z"
   },
   {
    "duration": 320,
    "start_time": "2021-09-19T20:14:58.779Z"
   },
   {
    "duration": 399,
    "start_time": "2021-09-19T20:15:16.908Z"
   },
   {
    "duration": 4,
    "start_time": "2021-09-19T20:15:33.523Z"
   },
   {
    "duration": 238,
    "start_time": "2021-09-19T20:15:37.730Z"
   },
   {
    "duration": 1144,
    "start_time": "2021-09-19T20:15:55.091Z"
   },
   {
    "duration": 23,
    "start_time": "2021-09-19T20:15:56.237Z"
   },
   {
    "duration": 17,
    "start_time": "2021-09-19T20:15:56.262Z"
   },
   {
    "duration": 35,
    "start_time": "2021-09-19T20:15:56.281Z"
   },
   {
    "duration": 17,
    "start_time": "2021-09-19T20:15:56.318Z"
   },
   {
    "duration": 30,
    "start_time": "2021-09-19T20:15:56.336Z"
   },
   {
    "duration": 311,
    "start_time": "2021-09-19T20:15:56.367Z"
   },
   {
    "duration": 2,
    "start_time": "2021-09-19T20:15:56.680Z"
   },
   {
    "duration": 311,
    "start_time": "2021-09-19T20:15:56.684Z"
   },
   {
    "duration": 1081,
    "start_time": "2021-09-19T20:16:10.615Z"
   },
   {
    "duration": 22,
    "start_time": "2021-09-19T20:16:11.698Z"
   },
   {
    "duration": 7,
    "start_time": "2021-09-19T20:16:11.722Z"
   },
   {
    "duration": 22,
    "start_time": "2021-09-19T20:16:11.731Z"
   },
   {
    "duration": 5,
    "start_time": "2021-09-19T20:16:11.755Z"
   },
   {
    "duration": 16,
    "start_time": "2021-09-19T20:16:11.761Z"
   },
   {
    "duration": 263,
    "start_time": "2021-09-19T20:16:11.778Z"
   },
   {
    "duration": 2,
    "start_time": "2021-09-19T20:16:12.043Z"
   },
   {
    "duration": 284,
    "start_time": "2021-09-19T20:16:12.047Z"
   },
   {
    "duration": 3663,
    "start_time": "2021-09-19T21:02:22.814Z"
   },
   {
    "duration": 3665,
    "start_time": "2021-09-19T21:02:38.223Z"
   },
   {
    "duration": 1121,
    "start_time": "2021-09-19T21:08:53.296Z"
   },
   {
    "duration": 24,
    "start_time": "2021-09-19T21:08:54.419Z"
   },
   {
    "duration": 6,
    "start_time": "2021-09-19T21:08:54.448Z"
   },
   {
    "duration": 21,
    "start_time": "2021-09-19T21:08:54.456Z"
   },
   {
    "duration": 6,
    "start_time": "2021-09-19T21:08:54.478Z"
   },
   {
    "duration": 23,
    "start_time": "2021-09-19T21:08:54.486Z"
   },
   {
    "duration": 299,
    "start_time": "2021-09-19T21:08:54.511Z"
   },
   {
    "duration": 3442,
    "start_time": "2021-09-19T21:08:54.812Z"
   },
   {
    "duration": 308,
    "start_time": "2021-09-19T21:08:58.256Z"
   },
   {
    "duration": 5,
    "start_time": "2021-09-19T21:10:24.378Z"
   },
   {
    "duration": 5,
    "start_time": "2021-09-19T21:10:37.057Z"
   },
   {
    "duration": 6,
    "start_time": "2021-09-19T21:10:52.669Z"
   },
   {
    "duration": 1081,
    "start_time": "2021-09-19T21:18:57.596Z"
   },
   {
    "duration": 24,
    "start_time": "2021-09-19T21:18:58.681Z"
   },
   {
    "duration": 8,
    "start_time": "2021-09-19T21:18:58.707Z"
   },
   {
    "duration": 18,
    "start_time": "2021-09-19T21:18:58.717Z"
   },
   {
    "duration": 5,
    "start_time": "2021-09-19T21:18:58.736Z"
   },
   {
    "duration": 14,
    "start_time": "2021-09-19T21:18:58.743Z"
   },
   {
    "duration": 319,
    "start_time": "2021-09-19T21:18:58.759Z"
   },
   {
    "duration": 3497,
    "start_time": "2021-09-19T21:18:59.079Z"
   },
   {
    "duration": 5,
    "start_time": "2021-09-19T21:19:02.578Z"
   },
   {
    "duration": 323,
    "start_time": "2021-09-19T21:19:02.585Z"
   },
   {
    "duration": 1050,
    "start_time": "2021-09-19T21:21:46.351Z"
   },
   {
    "duration": 24,
    "start_time": "2021-09-19T21:21:47.403Z"
   },
   {
    "duration": 6,
    "start_time": "2021-09-19T21:21:47.428Z"
   },
   {
    "duration": 19,
    "start_time": "2021-09-19T21:21:47.436Z"
   },
   {
    "duration": 5,
    "start_time": "2021-09-19T21:21:47.457Z"
   },
   {
    "duration": 14,
    "start_time": "2021-09-19T21:21:47.463Z"
   },
   {
    "duration": 287,
    "start_time": "2021-09-19T21:21:47.478Z"
   },
   {
    "duration": 3402,
    "start_time": "2021-09-19T21:21:47.766Z"
   },
   {
    "duration": 5,
    "start_time": "2021-09-19T21:21:51.170Z"
   },
   {
    "duration": 306,
    "start_time": "2021-09-19T21:21:51.178Z"
   },
   {
    "duration": 639,
    "start_time": "2021-09-20T17:57:19.153Z"
   },
   {
    "duration": 1678,
    "start_time": "2021-09-20T17:57:33.648Z"
   },
   {
    "duration": 37,
    "start_time": "2021-09-20T17:57:35.675Z"
   },
   {
    "duration": 8,
    "start_time": "2021-09-20T17:57:40.269Z"
   },
   {
    "duration": 431,
    "start_time": "2021-09-20T17:57:42.869Z"
   },
   {
    "duration": 1553,
    "start_time": "2021-09-20T17:57:54.029Z"
   },
   {
    "duration": 31,
    "start_time": "2021-09-20T17:57:56.835Z"
   },
   {
    "duration": 9,
    "start_time": "2021-09-20T17:57:59.484Z"
   },
   {
    "duration": 23,
    "start_time": "2021-09-20T17:58:01.802Z"
   },
   {
    "duration": 8,
    "start_time": "2021-09-20T17:58:04.583Z"
   },
   {
    "duration": 20,
    "start_time": "2021-09-20T17:58:13.157Z"
   },
   {
    "duration": 706,
    "start_time": "2021-09-20T17:58:16.447Z"
   },
   {
    "duration": 710,
    "start_time": "2021-09-20T17:58:39.028Z"
   },
   {
    "duration": 493,
    "start_time": "2021-09-20T17:58:56.197Z"
   },
   {
    "duration": 854,
    "start_time": "2021-09-20T18:01:48.227Z"
   },
   {
    "duration": 921,
    "start_time": "2021-09-20T18:02:01.973Z"
   },
   {
    "duration": 767,
    "start_time": "2021-09-20T18:02:08.337Z"
   },
   {
    "duration": 772,
    "start_time": "2021-09-20T18:02:22.708Z"
   },
   {
    "duration": 496,
    "start_time": "2021-09-20T18:02:31.677Z"
   },
   {
    "duration": 838,
    "start_time": "2021-09-20T18:03:06.237Z"
   },
   {
    "duration": 1006,
    "start_time": "2021-09-20T18:03:18.977Z"
   },
   {
    "duration": 504,
    "start_time": "2021-09-20T18:03:57.146Z"
   },
   {
    "duration": 993,
    "start_time": "2021-09-20T18:06:24.527Z"
   },
   {
    "duration": 1070,
    "start_time": "2021-09-20T18:06:31.117Z"
   },
   {
    "duration": 1052,
    "start_time": "2021-09-20T18:06:37.448Z"
   },
   {
    "duration": 1011,
    "start_time": "2021-09-20T18:06:49.761Z"
   },
   {
    "duration": 747,
    "start_time": "2021-09-20T18:06:57.157Z"
   },
   {
    "duration": 730,
    "start_time": "2021-09-20T18:07:08.232Z"
   },
   {
    "duration": 819,
    "start_time": "2021-09-20T18:15:11.223Z"
   },
   {
    "duration": 488,
    "start_time": "2021-09-20T18:16:26.740Z"
   },
   {
    "duration": 602,
    "start_time": "2021-09-20T18:18:20.535Z"
   },
   {
    "duration": 822,
    "start_time": "2021-09-20T18:19:41.128Z"
   },
   {
    "duration": 709,
    "start_time": "2021-09-20T18:20:05.012Z"
   },
   {
    "duration": 1101,
    "start_time": "2021-09-20T18:20:22.952Z"
   },
   {
    "duration": 597,
    "start_time": "2021-09-20T18:20:42.593Z"
   },
   {
    "duration": 480,
    "start_time": "2021-09-20T18:21:15.252Z"
   },
   {
    "duration": 5,
    "start_time": "2021-09-20T18:21:20.754Z"
   },
   {
    "duration": 611,
    "start_time": "2021-09-20T18:21:35.173Z"
   },
   {
    "duration": 989,
    "start_time": "2021-09-20T18:21:53.253Z"
   },
   {
    "duration": 78,
    "start_time": "2021-09-20T18:24:26.901Z"
   },
   {
    "duration": 367,
    "start_time": "2021-09-20T18:24:32.252Z"
   },
   {
    "duration": 822,
    "start_time": "2021-09-20T18:25:08.071Z"
   },
   {
    "duration": 632,
    "start_time": "2021-09-20T18:25:20.733Z"
   },
   {
    "duration": 585,
    "start_time": "2021-09-20T18:28:59.348Z"
   },
   {
    "duration": 4,
    "start_time": "2021-09-20T18:29:08.469Z"
   },
   {
    "duration": 597,
    "start_time": "2021-09-20T18:29:21.168Z"
   },
   {
    "duration": 5916,
    "start_time": "2021-09-20T18:31:46.299Z"
   },
   {
    "duration": 3,
    "start_time": "2021-09-20T18:32:13.259Z"
   },
   {
    "duration": 451,
    "start_time": "2021-09-20T18:32:54.159Z"
   },
   {
    "duration": 7097,
    "start_time": "2021-09-20T18:33:04.600Z"
   },
   {
    "duration": 1768,
    "start_time": "2021-09-20T18:33:38.418Z"
   },
   {
    "duration": 30,
    "start_time": "2021-09-20T18:33:40.189Z"
   },
   {
    "duration": 9,
    "start_time": "2021-09-20T18:33:40.222Z"
   },
   {
    "duration": 34,
    "start_time": "2021-09-20T18:33:40.234Z"
   },
   {
    "duration": 17,
    "start_time": "2021-09-20T18:33:40.272Z"
   },
   {
    "duration": 24,
    "start_time": "2021-09-20T18:33:40.291Z"
   },
   {
    "duration": 11,
    "start_time": "2021-09-20T18:33:40.318Z"
   },
   {
    "duration": 555,
    "start_time": "2021-09-20T18:33:40.331Z"
   },
   {
    "duration": 4,
    "start_time": "2021-09-20T18:33:40.889Z"
   },
   {
    "duration": 2842,
    "start_time": "2021-09-20T18:33:40.895Z"
   },
   {
    "duration": 22,
    "start_time": "2021-09-20T18:33:43.740Z"
   },
   {
    "duration": 354,
    "start_time": "2021-09-20T18:33:43.766Z"
   },
   {
    "duration": 521,
    "start_time": "2021-09-20T18:34:27.089Z"
   },
   {
    "duration": 589,
    "start_time": "2021-09-20T18:34:44.513Z"
   },
   {
    "duration": 1577,
    "start_time": "2021-09-20T18:35:15.605Z"
   },
   {
    "duration": 29,
    "start_time": "2021-09-20T18:35:17.186Z"
   },
   {
    "duration": 14,
    "start_time": "2021-09-20T18:35:17.220Z"
   },
   {
    "duration": 34,
    "start_time": "2021-09-20T18:35:17.238Z"
   },
   {
    "duration": 13,
    "start_time": "2021-09-20T18:35:17.274Z"
   },
   {
    "duration": 31,
    "start_time": "2021-09-20T18:35:17.291Z"
   },
   {
    "duration": 13,
    "start_time": "2021-09-20T18:35:17.324Z"
   },
   {
    "duration": 626,
    "start_time": "2021-09-20T18:35:17.341Z"
   },
   {
    "duration": 3,
    "start_time": "2021-09-20T18:35:17.970Z"
   },
   {
    "duration": 7065,
    "start_time": "2021-09-20T18:35:17.976Z"
   },
   {
    "duration": 24,
    "start_time": "2021-09-20T18:35:25.043Z"
   },
   {
    "duration": 526,
    "start_time": "2021-09-20T18:35:25.070Z"
   },
   {
    "duration": 1513,
    "start_time": "2021-09-20T18:35:54.207Z"
   },
   {
    "duration": 28,
    "start_time": "2021-09-20T18:35:55.722Z"
   },
   {
    "duration": 21,
    "start_time": "2021-09-20T18:35:55.753Z"
   },
   {
    "duration": 32,
    "start_time": "2021-09-20T18:35:55.777Z"
   },
   {
    "duration": 9,
    "start_time": "2021-09-20T18:35:55.811Z"
   },
   {
    "duration": 41,
    "start_time": "2021-09-20T18:35:55.822Z"
   },
   {
    "duration": 8,
    "start_time": "2021-09-20T18:35:55.866Z"
   },
   {
    "duration": 531,
    "start_time": "2021-09-20T18:35:55.878Z"
   },
   {
    "duration": 3,
    "start_time": "2021-09-20T18:35:56.412Z"
   },
   {
    "duration": 3025,
    "start_time": "2021-09-20T18:35:56.417Z"
   },
   {
    "duration": 18,
    "start_time": "2021-09-20T18:35:59.445Z"
   },
   {
    "duration": 374,
    "start_time": "2021-09-20T18:35:59.466Z"
   },
   {
    "duration": 2966,
    "start_time": "2021-09-20T18:36:28.620Z"
   },
   {
    "duration": 4806,
    "start_time": "2021-09-20T18:36:42.841Z"
   },
   {
    "duration": 2920,
    "start_time": "2021-09-20T18:36:53.638Z"
   },
   {
    "duration": 2863,
    "start_time": "2021-09-20T18:37:07.691Z"
   },
   {
    "duration": 3058,
    "start_time": "2021-09-20T18:38:58.249Z"
   },
   {
    "duration": 2885,
    "start_time": "2021-09-20T18:39:23.385Z"
   },
   {
    "duration": 2924,
    "start_time": "2021-09-20T18:39:35.250Z"
   },
   {
    "duration": 3754,
    "start_time": "2021-09-20T18:39:42.229Z"
   },
   {
    "duration": 3254,
    "start_time": "2021-09-20T18:39:53.551Z"
   },
   {
    "duration": 3158,
    "start_time": "2021-09-20T18:40:02.511Z"
   },
   {
    "duration": 3542,
    "start_time": "2021-09-20T18:40:20.720Z"
   },
   {
    "duration": 3308,
    "start_time": "2021-09-20T18:40:29.130Z"
   },
   {
    "duration": 3055,
    "start_time": "2021-09-20T18:40:38.081Z"
   },
   {
    "duration": 3237,
    "start_time": "2021-09-20T18:40:58.990Z"
   },
   {
    "duration": 3096,
    "start_time": "2021-09-20T18:41:09.732Z"
   },
   {
    "duration": 3479,
    "start_time": "2021-09-20T18:41:18.602Z"
   },
   {
    "duration": 3126,
    "start_time": "2021-09-20T18:41:43.701Z"
   },
   {
    "duration": 3284,
    "start_time": "2021-09-20T18:42:07.231Z"
   },
   {
    "duration": 3167,
    "start_time": "2021-09-20T18:42:25.600Z"
   },
   {
    "duration": 2985,
    "start_time": "2021-09-20T18:42:44.740Z"
   },
   {
    "duration": 3078,
    "start_time": "2021-09-20T18:43:16.720Z"
   },
   {
    "duration": 3049,
    "start_time": "2021-09-20T18:43:29.590Z"
   },
   {
    "duration": 3185,
    "start_time": "2021-09-20T18:44:00.990Z"
   },
   {
    "duration": 3007,
    "start_time": "2021-09-20T18:44:15.132Z"
   },
   {
    "duration": 2866,
    "start_time": "2021-09-20T18:44:23.302Z"
   },
   {
    "duration": 3561,
    "start_time": "2021-09-20T18:44:31.230Z"
   },
   {
    "duration": 3477,
    "start_time": "2021-09-20T18:44:45.912Z"
   },
   {
    "duration": 3106,
    "start_time": "2021-09-20T18:44:56.318Z"
   },
   {
    "duration": 3265,
    "start_time": "2021-09-20T18:45:28.660Z"
   },
   {
    "duration": 3284,
    "start_time": "2021-09-20T18:45:37.682Z"
   },
   {
    "duration": 3744,
    "start_time": "2021-09-20T18:45:56.921Z"
   },
   {
    "duration": 3160,
    "start_time": "2021-09-20T18:46:05.461Z"
   },
   {
    "duration": 5113,
    "start_time": "2021-09-20T18:46:23.602Z"
   },
   {
    "duration": 2469,
    "start_time": "2021-09-20T18:47:08.462Z"
   },
   {
    "duration": 4,
    "start_time": "2021-09-20T18:47:23.490Z"
   },
   {
    "duration": 3,
    "start_time": "2021-09-20T18:48:36.551Z"
   },
   {
    "duration": 404,
    "start_time": "2021-09-20T18:49:33.172Z"
   },
   {
    "duration": 294,
    "start_time": "2021-09-20T18:50:06.929Z"
   },
   {
    "duration": 786,
    "start_time": "2021-09-20T18:51:17.720Z"
   },
   {
    "duration": 452,
    "start_time": "2021-09-20T18:51:38.961Z"
   },
   {
    "duration": 362,
    "start_time": "2021-09-20T18:52:45.540Z"
   },
   {
    "duration": 21,
    "start_time": "2021-09-20T18:53:06.790Z"
   },
   {
    "duration": 374,
    "start_time": "2021-09-20T18:57:06.271Z"
   },
   {
    "duration": 471,
    "start_time": "2021-09-20T18:58:25.740Z"
   },
   {
    "duration": 661,
    "start_time": "2021-09-20T18:59:10.571Z"
   },
   {
    "duration": 510,
    "start_time": "2021-09-20T18:59:42.662Z"
   },
   {
    "duration": 564,
    "start_time": "2021-09-20T19:00:50.633Z"
   },
   {
    "duration": 852,
    "start_time": "2021-09-20T19:00:57.981Z"
   },
   {
    "duration": 470,
    "start_time": "2021-09-20T19:01:05.153Z"
   },
   {
    "duration": 272,
    "start_time": "2021-09-20T19:01:36.430Z"
   },
   {
    "duration": 356,
    "start_time": "2021-09-20T19:01:41.410Z"
   },
   {
    "duration": 1122,
    "start_time": "2021-09-20T19:02:10.724Z"
   },
   {
    "duration": 477,
    "start_time": "2021-09-20T19:02:25.410Z"
   },
   {
    "duration": 444,
    "start_time": "2021-09-20T19:02:32.781Z"
   },
   {
    "duration": 519,
    "start_time": "2021-09-20T19:02:37.693Z"
   },
   {
    "duration": 354,
    "start_time": "2021-09-20T19:02:42.501Z"
   },
   {
    "duration": 671,
    "start_time": "2021-09-20T19:02:54.465Z"
   },
   {
    "duration": 711,
    "start_time": "2021-09-20T19:03:02.772Z"
   },
   {
    "duration": 668,
    "start_time": "2021-09-20T19:03:15.152Z"
   },
   {
    "duration": 381,
    "start_time": "2021-09-20T19:09:58.624Z"
   },
   {
    "duration": 621,
    "start_time": "2021-09-20T19:10:18.755Z"
   },
   {
    "duration": 700,
    "start_time": "2021-09-20T19:10:26.115Z"
   },
   {
    "duration": 397,
    "start_time": "2021-09-20T19:10:32.145Z"
   },
   {
    "duration": 415,
    "start_time": "2021-09-20T19:10:38.096Z"
   },
   {
    "duration": 388,
    "start_time": "2021-09-20T19:11:32.036Z"
   },
   {
    "duration": 498,
    "start_time": "2021-09-20T19:11:41.999Z"
   },
   {
    "duration": 547,
    "start_time": "2021-09-20T19:12:44.695Z"
   },
   {
    "duration": 502,
    "start_time": "2021-09-20T19:12:56.316Z"
   },
   {
    "duration": 413,
    "start_time": "2021-09-20T19:13:16.943Z"
   },
   {
    "duration": 309,
    "start_time": "2021-09-20T19:13:35.326Z"
   },
   {
    "duration": 2189,
    "start_time": "2021-09-20T19:13:54.703Z"
   },
   {
    "duration": 37,
    "start_time": "2021-09-20T19:13:56.895Z"
   },
   {
    "duration": 11,
    "start_time": "2021-09-20T19:13:56.938Z"
   },
   {
    "duration": 30,
    "start_time": "2021-09-20T19:13:56.965Z"
   },
   {
    "duration": 17,
    "start_time": "2021-09-20T19:13:56.998Z"
   },
   {
    "duration": 35,
    "start_time": "2021-09-20T19:13:57.018Z"
   },
   {
    "duration": 5,
    "start_time": "2021-09-20T19:13:57.063Z"
   },
   {
    "duration": 561,
    "start_time": "2021-09-20T19:13:57.071Z"
   },
   {
    "duration": 3,
    "start_time": "2021-09-20T19:13:57.638Z"
   },
   {
    "duration": 3130,
    "start_time": "2021-09-20T19:13:57.644Z"
   },
   {
    "duration": 9,
    "start_time": "2021-09-20T19:14:00.776Z"
   },
   {
    "duration": 397,
    "start_time": "2021-09-20T19:14:00.788Z"
   },
   {
    "duration": 498,
    "start_time": "2021-09-20T19:14:16.035Z"
   },
   {
    "duration": 646,
    "start_time": "2021-09-20T19:14:32.386Z"
   },
   {
    "duration": 408,
    "start_time": "2021-09-20T19:15:05.662Z"
   },
   {
    "duration": 1722,
    "start_time": "2021-09-20T19:15:12.378Z"
   },
   {
    "duration": 393,
    "start_time": "2021-09-20T19:15:16.466Z"
   },
   {
    "duration": 605,
    "start_time": "2021-09-20T19:58:14.852Z"
   },
   {
    "duration": 455,
    "start_time": "2021-09-20T19:58:25.012Z"
   }
  ],
  "kernelspec": {
   "display_name": "Python 3 (ipykernel)",
   "language": "python",
   "name": "python3"
  },
  "language_info": {
   "codemirror_mode": {
    "name": "ipython",
    "version": 3
   },
   "file_extension": ".py",
   "mimetype": "text/x-python",
   "name": "python",
   "nbconvert_exporter": "python",
   "pygments_lexer": "ipython3",
   "version": "3.9.7"
  },
  "toc": {
   "base_numbering": 1,
   "nav_menu": {},
   "number_sections": true,
   "sideBar": true,
   "skip_h1_title": true,
   "title_cell": "Table of Contents",
   "title_sidebar": "Contents",
   "toc_cell": false,
   "toc_position": {},
   "toc_section_display": true,
   "toc_window_display": false
  }
 },
 "nbformat": 4,
 "nbformat_minor": 2
}
