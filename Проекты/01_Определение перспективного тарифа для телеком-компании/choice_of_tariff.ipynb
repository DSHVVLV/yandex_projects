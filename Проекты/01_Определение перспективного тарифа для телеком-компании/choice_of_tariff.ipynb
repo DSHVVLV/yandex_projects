{
 "cells": [
  {
   "cell_type": "markdown",
   "metadata": {},
   "source": [
    "<h1>Определение перспективного тарифа для телеком компании<span class=\"tocSkip\"></span></h1>"
   ]
  },
  {
   "cell_type": "markdown",
   "metadata": {},
   "source": [
    "1. Предобработка данных  \n",
    "    - 1.1  Изучение данных из файлов  \n",
    "    - 1.2  Обработка пропусков  \n",
    "    - 1.3  Обработка дубликатов  \n",
    "    - 1.4  Замена типов данных  \n",
    "    - 1.5  Объединение датасетов  \n",
    "\n",
    "\n",
    "2. Исследовательский анализ данных  \n",
    "    - 2.1  Анализ пользовательского поведения  \n",
    "    - 2.2  Расчет среднего, дисперсии и стандартного отклонения  \n",
    "\n",
    "\n",
    "3. Проверка гипотез  \n",
    "    - 3.1  Гипотеза №1  \n",
    "    - 3.2  Гипотеза №2  \n",
    "\n",
    "\n",
    "4. Общий вывод"
   ]
  },
  {
   "cell_type": "markdown",
   "metadata": {},
   "source": [
    "В нашем распоряжении условия тарифных планов и данные 500 клиентов, включая: идентификатор пользователя, возраст, город, имя, фамилию, дату регистрации, тариф, расходы по звонкам, сообщениям и интернет-трафику.  \n",
    "  \n",
    "**Задачи:**   \n",
    "\n",
    "1.\tПроанализировать поведение пользователей двух тарифных планов и на основе полученных данных выбрать наиболее перспективный тариф сотовой связи. \n",
    "  \n",
    "  \n",
    "2.\tПроверить статистические гипотезы:\n",
    "\n",
    "\n",
    "  -\tо равенстве средних значений выручки по двум тарифам;\n",
    "  -\tо равенстве средних значений выручки по двум тарифам в Москве и регионах.\n"
   ]
  },
  {
   "cell_type": "markdown",
   "metadata": {},
   "source": [
    "## Предобработка данных"
   ]
  },
  {
   "cell_type": "markdown",
   "metadata": {},
   "source": [
    "### Изучение данных из файлов"
   ]
  },
  {
   "cell_type": "code",
   "execution_count": 1,
   "metadata": {},
   "outputs": [],
   "source": [
    "import pandas as pd \n",
    "import numpy as np\n",
    "import datetime as dt\n",
    "\n",
    "import math\n",
    "import random \n",
    "from scipy import stats as st\n",
    "\n",
    "import matplotlib.pyplot as plt\n",
    "import seaborn as sns\n",
    "\n",
    "pd.set_option('display.max_columns', None)\n",
    "pd.set_option('display.float_format', '{:,.2f}'.format)\n",
    "sns.set(rc={'figure.figsize':(12, 6)})"
   ]
  },
  {
   "cell_type": "code",
   "execution_count": 3,
   "metadata": {},
   "outputs": [
    {
     "data": {
      "text/html": [
       "<div>\n",
       "<style scoped>\n",
       "    .dataframe tbody tr th:only-of-type {\n",
       "        vertical-align: middle;\n",
       "    }\n",
       "\n",
       "    .dataframe tbody tr th {\n",
       "        vertical-align: top;\n",
       "    }\n",
       "\n",
       "    .dataframe thead th {\n",
       "        text-align: right;\n",
       "    }\n",
       "</style>\n",
       "<table border=\"1\" class=\"dataframe\">\n",
       "  <thead>\n",
       "    <tr style=\"text-align: right;\">\n",
       "      <th></th>\n",
       "      <th>user_id</th>\n",
       "      <th>age</th>\n",
       "      <th>churn_date</th>\n",
       "      <th>city</th>\n",
       "      <th>first_name</th>\n",
       "      <th>last_name</th>\n",
       "      <th>reg_date</th>\n",
       "      <th>tariff</th>\n",
       "    </tr>\n",
       "  </thead>\n",
       "  <tbody>\n",
       "    <tr>\n",
       "      <th>0</th>\n",
       "      <td>1000</td>\n",
       "      <td>52</td>\n",
       "      <td>NaN</td>\n",
       "      <td>Краснодар</td>\n",
       "      <td>Рафаил</td>\n",
       "      <td>Верещагин</td>\n",
       "      <td>2018-05-25</td>\n",
       "      <td>ultra</td>\n",
       "    </tr>\n",
       "    <tr>\n",
       "      <th>1</th>\n",
       "      <td>1001</td>\n",
       "      <td>41</td>\n",
       "      <td>NaN</td>\n",
       "      <td>Москва</td>\n",
       "      <td>Иван</td>\n",
       "      <td>Ежов</td>\n",
       "      <td>2018-11-01</td>\n",
       "      <td>smart</td>\n",
       "    </tr>\n",
       "  </tbody>\n",
       "</table>\n",
       "</div>"
      ],
      "text/plain": [
       "   user_id  age churn_date       city first_name  last_name    reg_date tariff\n",
       "0     1000   52        NaN  Краснодар     Рафаил  Верещагин  2018-05-25  ultra\n",
       "1     1001   41        NaN     Москва       Иван       Ежов  2018-11-01  smart"
      ]
     },
     "execution_count": 3,
     "metadata": {},
     "output_type": "execute_result"
    }
   ],
   "source": [
    "users.head(2)"
   ]
  },
  {
   "cell_type": "code",
   "execution_count": 4,
   "metadata": {},
   "outputs": [
    {
     "name": "stdout",
     "output_type": "stream",
     "text": [
      "<class 'pandas.core.frame.DataFrame'>\n",
      "RangeIndex: 500 entries, 0 to 499\n",
      "Data columns (total 8 columns):\n",
      " #   Column      Non-Null Count  Dtype \n",
      "---  ------      --------------  ----- \n",
      " 0   user_id     500 non-null    int64 \n",
      " 1   age         500 non-null    int64 \n",
      " 2   churn_date  38 non-null     object\n",
      " 3   city        500 non-null    object\n",
      " 4   first_name  500 non-null    object\n",
      " 5   last_name   500 non-null    object\n",
      " 6   reg_date    500 non-null    object\n",
      " 7   tariff      500 non-null    object\n",
      "dtypes: int64(2), object(6)\n",
      "memory usage: 31.4+ KB\n"
     ]
    }
   ],
   "source": [
    "users.info()"
   ]
  },
  {
   "cell_type": "code",
   "execution_count": 5,
   "metadata": {},
   "outputs": [
    {
     "data": {
      "text/html": [
       "<div>\n",
       "<style scoped>\n",
       "    .dataframe tbody tr th:only-of-type {\n",
       "        vertical-align: middle;\n",
       "    }\n",
       "\n",
       "    .dataframe tbody tr th {\n",
       "        vertical-align: top;\n",
       "    }\n",
       "\n",
       "    .dataframe thead th {\n",
       "        text-align: right;\n",
       "    }\n",
       "</style>\n",
       "<table border=\"1\" class=\"dataframe\">\n",
       "  <thead>\n",
       "    <tr style=\"text-align: right;\">\n",
       "      <th></th>\n",
       "      <th>id</th>\n",
       "      <th>call_date</th>\n",
       "      <th>duration</th>\n",
       "      <th>user_id</th>\n",
       "    </tr>\n",
       "  </thead>\n",
       "  <tbody>\n",
       "    <tr>\n",
       "      <th>0</th>\n",
       "      <td>1000_0</td>\n",
       "      <td>2018-07-25</td>\n",
       "      <td>0.00</td>\n",
       "      <td>1000</td>\n",
       "    </tr>\n",
       "    <tr>\n",
       "      <th>1</th>\n",
       "      <td>1000_1</td>\n",
       "      <td>2018-08-17</td>\n",
       "      <td>0.00</td>\n",
       "      <td>1000</td>\n",
       "    </tr>\n",
       "  </tbody>\n",
       "</table>\n",
       "</div>"
      ],
      "text/plain": [
       "       id   call_date  duration  user_id\n",
       "0  1000_0  2018-07-25      0.00     1000\n",
       "1  1000_1  2018-08-17      0.00     1000"
      ]
     },
     "execution_count": 5,
     "metadata": {},
     "output_type": "execute_result"
    }
   ],
   "source": [
    "calls.head(2)"
   ]
  },
  {
   "cell_type": "code",
   "execution_count": 6,
   "metadata": {},
   "outputs": [
    {
     "name": "stdout",
     "output_type": "stream",
     "text": [
      "<class 'pandas.core.frame.DataFrame'>\n",
      "RangeIndex: 202607 entries, 0 to 202606\n",
      "Data columns (total 4 columns):\n",
      " #   Column     Non-Null Count   Dtype  \n",
      "---  ------     --------------   -----  \n",
      " 0   id         202607 non-null  object \n",
      " 1   call_date  202607 non-null  object \n",
      " 2   duration   202607 non-null  float64\n",
      " 3   user_id    202607 non-null  int64  \n",
      "dtypes: float64(1), int64(1), object(2)\n",
      "memory usage: 6.2+ MB\n"
     ]
    }
   ],
   "source": [
    "calls.info()"
   ]
  },
  {
   "cell_type": "code",
   "execution_count": 7,
   "metadata": {},
   "outputs": [
    {
     "data": {
      "text/html": [
       "<div>\n",
       "<style scoped>\n",
       "    .dataframe tbody tr th:only-of-type {\n",
       "        vertical-align: middle;\n",
       "    }\n",
       "\n",
       "    .dataframe tbody tr th {\n",
       "        vertical-align: top;\n",
       "    }\n",
       "\n",
       "    .dataframe thead th {\n",
       "        text-align: right;\n",
       "    }\n",
       "</style>\n",
       "<table border=\"1\" class=\"dataframe\">\n",
       "  <thead>\n",
       "    <tr style=\"text-align: right;\">\n",
       "      <th></th>\n",
       "      <th>id</th>\n",
       "      <th>message_date</th>\n",
       "      <th>user_id</th>\n",
       "    </tr>\n",
       "  </thead>\n",
       "  <tbody>\n",
       "    <tr>\n",
       "      <th>0</th>\n",
       "      <td>1000_0</td>\n",
       "      <td>2018-06-27</td>\n",
       "      <td>1000</td>\n",
       "    </tr>\n",
       "    <tr>\n",
       "      <th>1</th>\n",
       "      <td>1000_1</td>\n",
       "      <td>2018-10-08</td>\n",
       "      <td>1000</td>\n",
       "    </tr>\n",
       "  </tbody>\n",
       "</table>\n",
       "</div>"
      ],
      "text/plain": [
       "       id message_date  user_id\n",
       "0  1000_0   2018-06-27     1000\n",
       "1  1000_1   2018-10-08     1000"
      ]
     },
     "execution_count": 7,
     "metadata": {},
     "output_type": "execute_result"
    }
   ],
   "source": [
    "messages.head(2)"
   ]
  },
  {
   "cell_type": "code",
   "execution_count": 8,
   "metadata": {},
   "outputs": [
    {
     "name": "stdout",
     "output_type": "stream",
     "text": [
      "<class 'pandas.core.frame.DataFrame'>\n",
      "RangeIndex: 123036 entries, 0 to 123035\n",
      "Data columns (total 3 columns):\n",
      " #   Column        Non-Null Count   Dtype \n",
      "---  ------        --------------   ----- \n",
      " 0   id            123036 non-null  object\n",
      " 1   message_date  123036 non-null  object\n",
      " 2   user_id       123036 non-null  int64 \n",
      "dtypes: int64(1), object(2)\n",
      "memory usage: 2.8+ MB\n"
     ]
    }
   ],
   "source": [
    "messages.info()"
   ]
  },
  {
   "cell_type": "code",
   "execution_count": 9,
   "metadata": {},
   "outputs": [
    {
     "data": {
      "text/html": [
       "<div>\n",
       "<style scoped>\n",
       "    .dataframe tbody tr th:only-of-type {\n",
       "        vertical-align: middle;\n",
       "    }\n",
       "\n",
       "    .dataframe tbody tr th {\n",
       "        vertical-align: top;\n",
       "    }\n",
       "\n",
       "    .dataframe thead th {\n",
       "        text-align: right;\n",
       "    }\n",
       "</style>\n",
       "<table border=\"1\" class=\"dataframe\">\n",
       "  <thead>\n",
       "    <tr style=\"text-align: right;\">\n",
       "      <th></th>\n",
       "      <th>id</th>\n",
       "      <th>mb_used</th>\n",
       "      <th>session_date</th>\n",
       "      <th>user_id</th>\n",
       "    </tr>\n",
       "  </thead>\n",
       "  <tbody>\n",
       "    <tr>\n",
       "      <th>0</th>\n",
       "      <td>1000_0</td>\n",
       "      <td>112.95</td>\n",
       "      <td>2018-11-25</td>\n",
       "      <td>1000</td>\n",
       "    </tr>\n",
       "    <tr>\n",
       "      <th>1</th>\n",
       "      <td>1000_1</td>\n",
       "      <td>1,052.81</td>\n",
       "      <td>2018-09-07</td>\n",
       "      <td>1000</td>\n",
       "    </tr>\n",
       "  </tbody>\n",
       "</table>\n",
       "</div>"
      ],
      "text/plain": [
       "       id  mb_used session_date  user_id\n",
       "0  1000_0   112.95   2018-11-25     1000\n",
       "1  1000_1 1,052.81   2018-09-07     1000"
      ]
     },
     "execution_count": 9,
     "metadata": {},
     "output_type": "execute_result"
    }
   ],
   "source": [
    "internet.head(2)"
   ]
  },
  {
   "cell_type": "code",
   "execution_count": 10,
   "metadata": {},
   "outputs": [
    {
     "name": "stdout",
     "output_type": "stream",
     "text": [
      "<class 'pandas.core.frame.DataFrame'>\n",
      "Int64Index: 149396 entries, 0 to 149395\n",
      "Data columns (total 4 columns):\n",
      " #   Column        Non-Null Count   Dtype  \n",
      "---  ------        --------------   -----  \n",
      " 0   id            149396 non-null  object \n",
      " 1   mb_used       149396 non-null  float64\n",
      " 2   session_date  149396 non-null  object \n",
      " 3   user_id       149396 non-null  int64  \n",
      "dtypes: float64(1), int64(1), object(2)\n",
      "memory usage: 5.7+ MB\n"
     ]
    }
   ],
   "source": [
    "internet.info()"
   ]
  },
  {
   "cell_type": "code",
   "execution_count": 11,
   "metadata": {},
   "outputs": [
    {
     "data": {
      "text/html": [
       "<div>\n",
       "<style scoped>\n",
       "    .dataframe tbody tr th:only-of-type {\n",
       "        vertical-align: middle;\n",
       "    }\n",
       "\n",
       "    .dataframe tbody tr th {\n",
       "        vertical-align: top;\n",
       "    }\n",
       "\n",
       "    .dataframe thead th {\n",
       "        text-align: right;\n",
       "    }\n",
       "</style>\n",
       "<table border=\"1\" class=\"dataframe\">\n",
       "  <thead>\n",
       "    <tr style=\"text-align: right;\">\n",
       "      <th></th>\n",
       "      <th>messages_included</th>\n",
       "      <th>mb_per_month_included</th>\n",
       "      <th>minutes_included</th>\n",
       "      <th>rub_monthly_fee</th>\n",
       "      <th>rub_per_gb</th>\n",
       "      <th>rub_per_message</th>\n",
       "      <th>rub_per_minute</th>\n",
       "      <th>tariff_name</th>\n",
       "    </tr>\n",
       "  </thead>\n",
       "  <tbody>\n",
       "    <tr>\n",
       "      <th>0</th>\n",
       "      <td>50</td>\n",
       "      <td>15360</td>\n",
       "      <td>500</td>\n",
       "      <td>550</td>\n",
       "      <td>200</td>\n",
       "      <td>3</td>\n",
       "      <td>3</td>\n",
       "      <td>smart</td>\n",
       "    </tr>\n",
       "    <tr>\n",
       "      <th>1</th>\n",
       "      <td>1000</td>\n",
       "      <td>30720</td>\n",
       "      <td>3000</td>\n",
       "      <td>1950</td>\n",
       "      <td>150</td>\n",
       "      <td>1</td>\n",
       "      <td>1</td>\n",
       "      <td>ultra</td>\n",
       "    </tr>\n",
       "  </tbody>\n",
       "</table>\n",
       "</div>"
      ],
      "text/plain": [
       "   messages_included  mb_per_month_included  minutes_included  \\\n",
       "0                 50                  15360               500   \n",
       "1               1000                  30720              3000   \n",
       "\n",
       "   rub_monthly_fee  rub_per_gb  rub_per_message  rub_per_minute tariff_name  \n",
       "0              550         200                3               3       smart  \n",
       "1             1950         150                1               1       ultra  "
      ]
     },
     "execution_count": 11,
     "metadata": {},
     "output_type": "execute_result"
    }
   ],
   "source": [
    "tariffs.head(2)"
   ]
  },
  {
   "cell_type": "code",
   "execution_count": 12,
   "metadata": {
    "scrolled": true
   },
   "outputs": [
    {
     "name": "stdout",
     "output_type": "stream",
     "text": [
      "<class 'pandas.core.frame.DataFrame'>\n",
      "RangeIndex: 2 entries, 0 to 1\n",
      "Data columns (total 8 columns):\n",
      " #   Column                 Non-Null Count  Dtype \n",
      "---  ------                 --------------  ----- \n",
      " 0   messages_included      2 non-null      int64 \n",
      " 1   mb_per_month_included  2 non-null      int64 \n",
      " 2   minutes_included       2 non-null      int64 \n",
      " 3   rub_monthly_fee        2 non-null      int64 \n",
      " 4   rub_per_gb             2 non-null      int64 \n",
      " 5   rub_per_message        2 non-null      int64 \n",
      " 6   rub_per_minute         2 non-null      int64 \n",
      " 7   tariff_name            2 non-null      object\n",
      "dtypes: int64(7), object(1)\n",
      "memory usage: 256.0+ bytes\n"
     ]
    }
   ],
   "source": [
    "tariffs.info()"
   ]
  },
  {
   "cell_type": "markdown",
   "metadata": {},
   "source": [
    "### Обработка пропусков"
   ]
  },
  {
   "cell_type": "code",
   "execution_count": 13,
   "metadata": {},
   "outputs": [
    {
     "data": {
      "text/html": [
       "<div>\n",
       "<style scoped>\n",
       "    .dataframe tbody tr th:only-of-type {\n",
       "        vertical-align: middle;\n",
       "    }\n",
       "\n",
       "    .dataframe tbody tr th {\n",
       "        vertical-align: top;\n",
       "    }\n",
       "\n",
       "    .dataframe thead th {\n",
       "        text-align: right;\n",
       "    }\n",
       "</style>\n",
       "<table border=\"1\" class=\"dataframe\">\n",
       "  <thead>\n",
       "    <tr style=\"text-align: right;\">\n",
       "      <th></th>\n",
       "      <th>0</th>\n",
       "    </tr>\n",
       "  </thead>\n",
       "  <tbody>\n",
       "    <tr>\n",
       "      <th>user_id</th>\n",
       "      <td>0</td>\n",
       "    </tr>\n",
       "    <tr>\n",
       "      <th>age</th>\n",
       "      <td>0</td>\n",
       "    </tr>\n",
       "    <tr>\n",
       "      <th>churn_date</th>\n",
       "      <td>462</td>\n",
       "    </tr>\n",
       "    <tr>\n",
       "      <th>city</th>\n",
       "      <td>0</td>\n",
       "    </tr>\n",
       "    <tr>\n",
       "      <th>first_name</th>\n",
       "      <td>0</td>\n",
       "    </tr>\n",
       "    <tr>\n",
       "      <th>last_name</th>\n",
       "      <td>0</td>\n",
       "    </tr>\n",
       "    <tr>\n",
       "      <th>reg_date</th>\n",
       "      <td>0</td>\n",
       "    </tr>\n",
       "    <tr>\n",
       "      <th>tariff</th>\n",
       "      <td>0</td>\n",
       "    </tr>\n",
       "  </tbody>\n",
       "</table>\n",
       "</div>"
      ],
      "text/plain": [
       "              0\n",
       "user_id       0\n",
       "age           0\n",
       "churn_date  462\n",
       "city          0\n",
       "first_name    0\n",
       "last_name     0\n",
       "reg_date      0\n",
       "tariff        0"
      ]
     },
     "metadata": {},
     "output_type": "display_data"
    },
    {
     "data": {
      "text/html": [
       "<div>\n",
       "<style scoped>\n",
       "    .dataframe tbody tr th:only-of-type {\n",
       "        vertical-align: middle;\n",
       "    }\n",
       "\n",
       "    .dataframe tbody tr th {\n",
       "        vertical-align: top;\n",
       "    }\n",
       "\n",
       "    .dataframe thead th {\n",
       "        text-align: right;\n",
       "    }\n",
       "</style>\n",
       "<table border=\"1\" class=\"dataframe\">\n",
       "  <thead>\n",
       "    <tr style=\"text-align: right;\">\n",
       "      <th></th>\n",
       "      <th>0</th>\n",
       "    </tr>\n",
       "  </thead>\n",
       "  <tbody>\n",
       "    <tr>\n",
       "      <th>id</th>\n",
       "      <td>0</td>\n",
       "    </tr>\n",
       "    <tr>\n",
       "      <th>call_date</th>\n",
       "      <td>0</td>\n",
       "    </tr>\n",
       "    <tr>\n",
       "      <th>duration</th>\n",
       "      <td>0</td>\n",
       "    </tr>\n",
       "    <tr>\n",
       "      <th>user_id</th>\n",
       "      <td>0</td>\n",
       "    </tr>\n",
       "  </tbody>\n",
       "</table>\n",
       "</div>"
      ],
      "text/plain": [
       "           0\n",
       "id         0\n",
       "call_date  0\n",
       "duration   0\n",
       "user_id    0"
      ]
     },
     "metadata": {},
     "output_type": "display_data"
    },
    {
     "data": {
      "text/html": [
       "<div>\n",
       "<style scoped>\n",
       "    .dataframe tbody tr th:only-of-type {\n",
       "        vertical-align: middle;\n",
       "    }\n",
       "\n",
       "    .dataframe tbody tr th {\n",
       "        vertical-align: top;\n",
       "    }\n",
       "\n",
       "    .dataframe thead th {\n",
       "        text-align: right;\n",
       "    }\n",
       "</style>\n",
       "<table border=\"1\" class=\"dataframe\">\n",
       "  <thead>\n",
       "    <tr style=\"text-align: right;\">\n",
       "      <th></th>\n",
       "      <th>0</th>\n",
       "    </tr>\n",
       "  </thead>\n",
       "  <tbody>\n",
       "    <tr>\n",
       "      <th>id</th>\n",
       "      <td>0</td>\n",
       "    </tr>\n",
       "    <tr>\n",
       "      <th>message_date</th>\n",
       "      <td>0</td>\n",
       "    </tr>\n",
       "    <tr>\n",
       "      <th>user_id</th>\n",
       "      <td>0</td>\n",
       "    </tr>\n",
       "  </tbody>\n",
       "</table>\n",
       "</div>"
      ],
      "text/plain": [
       "              0\n",
       "id            0\n",
       "message_date  0\n",
       "user_id       0"
      ]
     },
     "metadata": {},
     "output_type": "display_data"
    },
    {
     "data": {
      "text/html": [
       "<div>\n",
       "<style scoped>\n",
       "    .dataframe tbody tr th:only-of-type {\n",
       "        vertical-align: middle;\n",
       "    }\n",
       "\n",
       "    .dataframe tbody tr th {\n",
       "        vertical-align: top;\n",
       "    }\n",
       "\n",
       "    .dataframe thead th {\n",
       "        text-align: right;\n",
       "    }\n",
       "</style>\n",
       "<table border=\"1\" class=\"dataframe\">\n",
       "  <thead>\n",
       "    <tr style=\"text-align: right;\">\n",
       "      <th></th>\n",
       "      <th>0</th>\n",
       "    </tr>\n",
       "  </thead>\n",
       "  <tbody>\n",
       "    <tr>\n",
       "      <th>id</th>\n",
       "      <td>0</td>\n",
       "    </tr>\n",
       "    <tr>\n",
       "      <th>mb_used</th>\n",
       "      <td>0</td>\n",
       "    </tr>\n",
       "    <tr>\n",
       "      <th>session_date</th>\n",
       "      <td>0</td>\n",
       "    </tr>\n",
       "    <tr>\n",
       "      <th>user_id</th>\n",
       "      <td>0</td>\n",
       "    </tr>\n",
       "  </tbody>\n",
       "</table>\n",
       "</div>"
      ],
      "text/plain": [
       "              0\n",
       "id            0\n",
       "mb_used       0\n",
       "session_date  0\n",
       "user_id       0"
      ]
     },
     "metadata": {},
     "output_type": "display_data"
    },
    {
     "data": {
      "text/html": [
       "<div>\n",
       "<style scoped>\n",
       "    .dataframe tbody tr th:only-of-type {\n",
       "        vertical-align: middle;\n",
       "    }\n",
       "\n",
       "    .dataframe tbody tr th {\n",
       "        vertical-align: top;\n",
       "    }\n",
       "\n",
       "    .dataframe thead th {\n",
       "        text-align: right;\n",
       "    }\n",
       "</style>\n",
       "<table border=\"1\" class=\"dataframe\">\n",
       "  <thead>\n",
       "    <tr style=\"text-align: right;\">\n",
       "      <th></th>\n",
       "      <th>0</th>\n",
       "    </tr>\n",
       "  </thead>\n",
       "  <tbody>\n",
       "    <tr>\n",
       "      <th>messages_included</th>\n",
       "      <td>0</td>\n",
       "    </tr>\n",
       "    <tr>\n",
       "      <th>mb_per_month_included</th>\n",
       "      <td>0</td>\n",
       "    </tr>\n",
       "    <tr>\n",
       "      <th>minutes_included</th>\n",
       "      <td>0</td>\n",
       "    </tr>\n",
       "    <tr>\n",
       "      <th>rub_monthly_fee</th>\n",
       "      <td>0</td>\n",
       "    </tr>\n",
       "    <tr>\n",
       "      <th>rub_per_gb</th>\n",
       "      <td>0</td>\n",
       "    </tr>\n",
       "    <tr>\n",
       "      <th>rub_per_message</th>\n",
       "      <td>0</td>\n",
       "    </tr>\n",
       "    <tr>\n",
       "      <th>rub_per_minute</th>\n",
       "      <td>0</td>\n",
       "    </tr>\n",
       "    <tr>\n",
       "      <th>tariff_name</th>\n",
       "      <td>0</td>\n",
       "    </tr>\n",
       "  </tbody>\n",
       "</table>\n",
       "</div>"
      ],
      "text/plain": [
       "                       0\n",
       "messages_included      0\n",
       "mb_per_month_included  0\n",
       "minutes_included       0\n",
       "rub_monthly_fee        0\n",
       "rub_per_gb             0\n",
       "rub_per_message        0\n",
       "rub_per_minute         0\n",
       "tariff_name            0"
      ]
     },
     "metadata": {},
     "output_type": "display_data"
    }
   ],
   "source": [
    "datasets = [users, calls, messages, internet, tariffs]\n",
    "\n",
    "for dataset in datasets:\n",
    "    display(dataset.isnull().sum().to_frame())"
   ]
  },
  {
   "cell_type": "markdown",
   "metadata": {},
   "source": [
    "Пропущенные значения есть только в столбце churn_date датасета *users*, это дата прекращения пользования тарифом (если значение пропущено, то тариф ещё действовал на момент выгрузки данных), то есть наличие таких пропусков допустимо. "
   ]
  },
  {
   "cell_type": "markdown",
   "metadata": {},
   "source": [
    "### Обработка дубликатов"
   ]
  },
  {
   "cell_type": "code",
   "execution_count": 14,
   "metadata": {},
   "outputs": [
    {
     "name": "stdout",
     "output_type": "stream",
     "text": [
      "0\n",
      "0\n",
      "0\n",
      "0\n",
      "0\n"
     ]
    }
   ],
   "source": [
    "for dataset in datasets:\n",
    "    dataset.drop_duplicates().reset_index(drop=True)\n",
    "    print(dataset.duplicated().sum())"
   ]
  },
  {
   "cell_type": "markdown",
   "metadata": {},
   "source": [
    "Дубликатов нет."
   ]
  },
  {
   "cell_type": "markdown",
   "metadata": {},
   "source": [
    "### Замена типов данных"
   ]
  },
  {
   "cell_type": "markdown",
   "metadata": {},
   "source": [
    "Для того, чтобы получить данные по месяцам воспользуемся методом to_datetime() и превратим содержимое столбцов с call_date, message_date и session_date в понятные для Python даты."
   ]
  },
  {
   "cell_type": "code",
   "execution_count": 15,
   "metadata": {},
   "outputs": [],
   "source": [
    "calls['call_date'] = pd.to_datetime(calls['call_date'], format='%Y-%m-%dT%H:%M:%S')\n",
    "messages['message_date'] = pd.to_datetime(messages['message_date'], format='%Y-%m-%dT%H:%M:%S')\n",
    "internet['session_date'] = pd.to_datetime(internet['session_date'], format='%Y-%m-%dT%H:%M:%S')\n",
    "\n",
    "calls['month'] = calls['call_date'].dt.month\n",
    "messages['month'] = messages['message_date'].dt.month\n",
    "internet['month'] = internet['session_date'].dt.month"
   ]
  },
  {
   "cell_type": "markdown",
   "metadata": {},
   "source": [
    "### Объединение датасетов"
   ]
  },
  {
   "cell_type": "markdown",
   "metadata": {},
   "source": [
    "Объединим датасеты users и tariffs."
   ]
  },
  {
   "cell_type": "code",
   "execution_count": 16,
   "metadata": {},
   "outputs": [
    {
     "data": {
      "text/html": [
       "<div>\n",
       "<style scoped>\n",
       "    .dataframe tbody tr th:only-of-type {\n",
       "        vertical-align: middle;\n",
       "    }\n",
       "\n",
       "    .dataframe tbody tr th {\n",
       "        vertical-align: top;\n",
       "    }\n",
       "\n",
       "    .dataframe thead th {\n",
       "        text-align: right;\n",
       "    }\n",
       "</style>\n",
       "<table border=\"1\" class=\"dataframe\">\n",
       "  <thead>\n",
       "    <tr style=\"text-align: right;\">\n",
       "      <th></th>\n",
       "      <th>user_id</th>\n",
       "      <th>age</th>\n",
       "      <th>churn_date</th>\n",
       "      <th>city</th>\n",
       "      <th>first_name</th>\n",
       "      <th>last_name</th>\n",
       "      <th>reg_date</th>\n",
       "      <th>tariff</th>\n",
       "      <th>mes_included</th>\n",
       "      <th>mb_included</th>\n",
       "      <th>min_included</th>\n",
       "      <th>rub_monthly_fee</th>\n",
       "      <th>rub_per_gb</th>\n",
       "      <th>rub_per_mes</th>\n",
       "      <th>rub_per_min</th>\n",
       "    </tr>\n",
       "  </thead>\n",
       "  <tbody>\n",
       "    <tr>\n",
       "      <th>0</th>\n",
       "      <td>1000</td>\n",
       "      <td>52</td>\n",
       "      <td>NaN</td>\n",
       "      <td>Краснодар</td>\n",
       "      <td>Рафаил</td>\n",
       "      <td>Верещагин</td>\n",
       "      <td>2018-05-25</td>\n",
       "      <td>ultra</td>\n",
       "      <td>1000</td>\n",
       "      <td>30720</td>\n",
       "      <td>3000</td>\n",
       "      <td>1950</td>\n",
       "      <td>150</td>\n",
       "      <td>1</td>\n",
       "      <td>1</td>\n",
       "    </tr>\n",
       "    <tr>\n",
       "      <th>1</th>\n",
       "      <td>1001</td>\n",
       "      <td>41</td>\n",
       "      <td>NaN</td>\n",
       "      <td>Москва</td>\n",
       "      <td>Иван</td>\n",
       "      <td>Ежов</td>\n",
       "      <td>2018-11-01</td>\n",
       "      <td>smart</td>\n",
       "      <td>50</td>\n",
       "      <td>15360</td>\n",
       "      <td>500</td>\n",
       "      <td>550</td>\n",
       "      <td>200</td>\n",
       "      <td>3</td>\n",
       "      <td>3</td>\n",
       "    </tr>\n",
       "  </tbody>\n",
       "</table>\n",
       "</div>"
      ],
      "text/plain": [
       "   user_id  age churn_date       city first_name  last_name    reg_date  \\\n",
       "0     1000   52        NaN  Краснодар     Рафаил  Верещагин  2018-05-25   \n",
       "1     1001   41        NaN     Москва       Иван       Ежов  2018-11-01   \n",
       "\n",
       "  tariff  mes_included  mb_included  min_included  rub_monthly_fee  \\\n",
       "0  ultra          1000        30720          3000             1950   \n",
       "1  smart            50        15360           500              550   \n",
       "\n",
       "   rub_per_gb  rub_per_mes  rub_per_min  \n",
       "0         150            1            1  \n",
       "1         200            3            3  "
      ]
     },
     "execution_count": 16,
     "metadata": {},
     "output_type": "execute_result"
    }
   ],
   "source": [
    "tariffs.set_axis(['mes_included', 'mb_included', 'min_included', 'rub_monthly_fee', \n",
    "                  'rub_per_gb', 'rub_per_mes', 'rub_per_min', 'tariff'], axis=\"columns\", inplace=True)\n",
    "\n",
    "users_tariffs = users.merge(tariffs, on='tariff', how='left')\n",
    "users_tariffs.head(2)"
   ]
  },
  {
   "cell_type": "markdown",
   "metadata": {},
   "source": [
    "Посчитаем для каждого пользователя количество сделанных звонков по месяцам.  \n",
    "Округлим значения в столбце duration в соответствии с требованием заказчика («Мегалайн» всегда округляет секунды до минут, каждый звонок округляется отдельно: даже если он длился всего 1 секунду, будет засчитан как 1 минута)."
   ]
  },
  {
   "cell_type": "code",
   "execution_count": 17,
   "metadata": {},
   "outputs": [
    {
     "data": {
      "text/html": [
       "<div>\n",
       "<style scoped>\n",
       "    .dataframe tbody tr th:only-of-type {\n",
       "        vertical-align: middle;\n",
       "    }\n",
       "\n",
       "    .dataframe tbody tr th {\n",
       "        vertical-align: top;\n",
       "    }\n",
       "\n",
       "    .dataframe thead th {\n",
       "        text-align: right;\n",
       "    }\n",
       "</style>\n",
       "<table border=\"1\" class=\"dataframe\">\n",
       "  <thead>\n",
       "    <tr style=\"text-align: right;\">\n",
       "      <th></th>\n",
       "      <th>user_id</th>\n",
       "      <th>month</th>\n",
       "      <th>duration</th>\n",
       "    </tr>\n",
       "  </thead>\n",
       "  <tbody>\n",
       "    <tr>\n",
       "      <th>0</th>\n",
       "      <td>1000</td>\n",
       "      <td>5</td>\n",
       "      <td>151.00</td>\n",
       "    </tr>\n",
       "    <tr>\n",
       "      <th>1</th>\n",
       "      <td>1000</td>\n",
       "      <td>6</td>\n",
       "      <td>159.00</td>\n",
       "    </tr>\n",
       "    <tr>\n",
       "      <th>2</th>\n",
       "      <td>1000</td>\n",
       "      <td>7</td>\n",
       "      <td>319.00</td>\n",
       "    </tr>\n",
       "    <tr>\n",
       "      <th>3</th>\n",
       "      <td>1000</td>\n",
       "      <td>8</td>\n",
       "      <td>390.00</td>\n",
       "    </tr>\n",
       "    <tr>\n",
       "      <th>4</th>\n",
       "      <td>1000</td>\n",
       "      <td>9</td>\n",
       "      <td>441.00</td>\n",
       "    </tr>\n",
       "  </tbody>\n",
       "</table>\n",
       "</div>"
      ],
      "text/plain": [
       "   user_id  month  duration\n",
       "0     1000      5    151.00\n",
       "1     1000      6    159.00\n",
       "2     1000      7    319.00\n",
       "3     1000      8    390.00\n",
       "4     1000      9    441.00"
      ]
     },
     "metadata": {},
     "output_type": "display_data"
    }
   ],
   "source": [
    "sp_minutes = calls.groupby(['user_id', 'month']).sum()\n",
    "sp_minutes = sp_minutes.reset_index()\n",
    "sp_minutes['duration'] = np.ceil(sp_minutes['duration'])\n",
    "display(sp_minutes.head())"
   ]
  },
  {
   "cell_type": "markdown",
   "metadata": {},
   "source": [
    "Посчитаем для каждого пользователя количество израсходованных минут разговора по месяцам."
   ]
  },
  {
   "cell_type": "markdown",
   "metadata": {},
   "source": [
    "Объединим датасет sp_minutes с users_tariffs."
   ]
  },
  {
   "cell_type": "code",
   "execution_count": 18,
   "metadata": {},
   "outputs": [
    {
     "data": {
      "text/html": [
       "<div>\n",
       "<style scoped>\n",
       "    .dataframe tbody tr th:only-of-type {\n",
       "        vertical-align: middle;\n",
       "    }\n",
       "\n",
       "    .dataframe tbody tr th {\n",
       "        vertical-align: top;\n",
       "    }\n",
       "\n",
       "    .dataframe thead th {\n",
       "        text-align: right;\n",
       "    }\n",
       "</style>\n",
       "<table border=\"1\" class=\"dataframe\">\n",
       "  <thead>\n",
       "    <tr style=\"text-align: right;\">\n",
       "      <th></th>\n",
       "      <th>user_id</th>\n",
       "      <th>age</th>\n",
       "      <th>churn_date</th>\n",
       "      <th>city</th>\n",
       "      <th>first_name</th>\n",
       "      <th>last_name</th>\n",
       "      <th>reg_date</th>\n",
       "      <th>tariff</th>\n",
       "      <th>mes_included</th>\n",
       "      <th>mb_included</th>\n",
       "      <th>min_included</th>\n",
       "      <th>rub_monthly_fee</th>\n",
       "      <th>rub_per_gb</th>\n",
       "      <th>rub_per_mes</th>\n",
       "      <th>rub_per_min</th>\n",
       "      <th>month</th>\n",
       "      <th>duration</th>\n",
       "    </tr>\n",
       "  </thead>\n",
       "  <tbody>\n",
       "    <tr>\n",
       "      <th>0</th>\n",
       "      <td>1000</td>\n",
       "      <td>52</td>\n",
       "      <td>NaN</td>\n",
       "      <td>Краснодар</td>\n",
       "      <td>Рафаил</td>\n",
       "      <td>Верещагин</td>\n",
       "      <td>2018-05-25</td>\n",
       "      <td>ultra</td>\n",
       "      <td>1000</td>\n",
       "      <td>30720</td>\n",
       "      <td>3000</td>\n",
       "      <td>1950</td>\n",
       "      <td>150</td>\n",
       "      <td>1</td>\n",
       "      <td>1</td>\n",
       "      <td>5.00</td>\n",
       "      <td>151.00</td>\n",
       "    </tr>\n",
       "    <tr>\n",
       "      <th>1</th>\n",
       "      <td>1000</td>\n",
       "      <td>52</td>\n",
       "      <td>NaN</td>\n",
       "      <td>Краснодар</td>\n",
       "      <td>Рафаил</td>\n",
       "      <td>Верещагин</td>\n",
       "      <td>2018-05-25</td>\n",
       "      <td>ultra</td>\n",
       "      <td>1000</td>\n",
       "      <td>30720</td>\n",
       "      <td>3000</td>\n",
       "      <td>1950</td>\n",
       "      <td>150</td>\n",
       "      <td>1</td>\n",
       "      <td>1</td>\n",
       "      <td>6.00</td>\n",
       "      <td>159.00</td>\n",
       "    </tr>\n",
       "  </tbody>\n",
       "</table>\n",
       "</div>"
      ],
      "text/plain": [
       "   user_id  age churn_date       city first_name  last_name    reg_date  \\\n",
       "0     1000   52        NaN  Краснодар     Рафаил  Верещагин  2018-05-25   \n",
       "1     1000   52        NaN  Краснодар     Рафаил  Верещагин  2018-05-25   \n",
       "\n",
       "  tariff  mes_included  mb_included  min_included  rub_monthly_fee  \\\n",
       "0  ultra          1000        30720          3000             1950   \n",
       "1  ultra          1000        30720          3000             1950   \n",
       "\n",
       "   rub_per_gb  rub_per_mes  rub_per_min  month  duration  \n",
       "0         150            1            1   5.00    151.00  \n",
       "1         150            1            1   6.00    159.00  "
      ]
     },
     "execution_count": 18,
     "metadata": {},
     "output_type": "execute_result"
    }
   ],
   "source": [
    "users_calls = users_tariffs.merge(sp_minutes, on='user_id', how='left')\n",
    "users_calls.dropna(subset = ['duration', 'month'], inplace = True)\n",
    "users_calls.head(2)"
   ]
  },
  {
   "cell_type": "markdown",
   "metadata": {},
   "source": [
    "У нас уже есть данные для каждого пользователя по количеству сделанных звонков и израсходованных минут разговора по месяцам. Посчитаем помесячную выручку с каждого пользователя по звонкам."
   ]
  },
  {
   "cell_type": "code",
   "execution_count": 19,
   "metadata": {},
   "outputs": [
    {
     "data": {
      "text/html": [
       "<div>\n",
       "<style scoped>\n",
       "    .dataframe tbody tr th:only-of-type {\n",
       "        vertical-align: middle;\n",
       "    }\n",
       "\n",
       "    .dataframe tbody tr th {\n",
       "        vertical-align: top;\n",
       "    }\n",
       "\n",
       "    .dataframe thead th {\n",
       "        text-align: right;\n",
       "    }\n",
       "</style>\n",
       "<table border=\"1\" class=\"dataframe\">\n",
       "  <thead>\n",
       "    <tr style=\"text-align: right;\">\n",
       "      <th></th>\n",
       "      <th>user_id</th>\n",
       "      <th>age</th>\n",
       "      <th>churn_date</th>\n",
       "      <th>city</th>\n",
       "      <th>first_name</th>\n",
       "      <th>last_name</th>\n",
       "      <th>reg_date</th>\n",
       "      <th>tariff</th>\n",
       "      <th>mes_included</th>\n",
       "      <th>mb_included</th>\n",
       "      <th>min_included</th>\n",
       "      <th>rub_monthly_fee</th>\n",
       "      <th>rub_per_gb</th>\n",
       "      <th>rub_per_mes</th>\n",
       "      <th>rub_per_min</th>\n",
       "      <th>month</th>\n",
       "      <th>duration</th>\n",
       "      <th>calls_profit</th>\n",
       "    </tr>\n",
       "  </thead>\n",
       "  <tbody>\n",
       "    <tr>\n",
       "      <th>0</th>\n",
       "      <td>1000</td>\n",
       "      <td>52</td>\n",
       "      <td>NaN</td>\n",
       "      <td>Краснодар</td>\n",
       "      <td>Рафаил</td>\n",
       "      <td>Верещагин</td>\n",
       "      <td>2018-05-25</td>\n",
       "      <td>ultra</td>\n",
       "      <td>1000</td>\n",
       "      <td>30720</td>\n",
       "      <td>3000</td>\n",
       "      <td>1950</td>\n",
       "      <td>150</td>\n",
       "      <td>1</td>\n",
       "      <td>1</td>\n",
       "      <td>5.00</td>\n",
       "      <td>151.00</td>\n",
       "      <td>0.00</td>\n",
       "    </tr>\n",
       "    <tr>\n",
       "      <th>1</th>\n",
       "      <td>1000</td>\n",
       "      <td>52</td>\n",
       "      <td>NaN</td>\n",
       "      <td>Краснодар</td>\n",
       "      <td>Рафаил</td>\n",
       "      <td>Верещагин</td>\n",
       "      <td>2018-05-25</td>\n",
       "      <td>ultra</td>\n",
       "      <td>1000</td>\n",
       "      <td>30720</td>\n",
       "      <td>3000</td>\n",
       "      <td>1950</td>\n",
       "      <td>150</td>\n",
       "      <td>1</td>\n",
       "      <td>1</td>\n",
       "      <td>6.00</td>\n",
       "      <td>159.00</td>\n",
       "      <td>0.00</td>\n",
       "    </tr>\n",
       "  </tbody>\n",
       "</table>\n",
       "</div>"
      ],
      "text/plain": [
       "   user_id  age churn_date       city first_name  last_name    reg_date  \\\n",
       "0     1000   52        NaN  Краснодар     Рафаил  Верещагин  2018-05-25   \n",
       "1     1000   52        NaN  Краснодар     Рафаил  Верещагин  2018-05-25   \n",
       "\n",
       "  tariff  mes_included  mb_included  min_included  rub_monthly_fee  \\\n",
       "0  ultra          1000        30720          3000             1950   \n",
       "1  ultra          1000        30720          3000             1950   \n",
       "\n",
       "   rub_per_gb  rub_per_mes  rub_per_min  month  duration  calls_profit  \n",
       "0         150            1            1   5.00    151.00          0.00  \n",
       "1         150            1            1   6.00    159.00          0.00  "
      ]
     },
     "execution_count": 19,
     "metadata": {},
     "output_type": "execute_result"
    }
   ],
   "source": [
    "def call_profit(row):\n",
    "    included = row['min_included']\n",
    "    dur = row['duration']\n",
    "    rubmin = row['rub_per_min']\n",
    "    if dur > included:\n",
    "        delta = dur - included\n",
    "    else:\n",
    "        delta = 0\n",
    "        \n",
    "    prof = rubmin*(delta)\n",
    "    return prof\n",
    "    \n",
    "users_calls['calls_profit'] = users_calls.apply(call_profit, axis=1)\n",
    "users_calls.head(2)"
   ]
  },
  {
   "cell_type": "code",
   "execution_count": 20,
   "metadata": {},
   "outputs": [
    {
     "data": {
      "text/html": [
       "<div>\n",
       "<style scoped>\n",
       "    .dataframe tbody tr th:only-of-type {\n",
       "        vertical-align: middle;\n",
       "    }\n",
       "\n",
       "    .dataframe tbody tr th {\n",
       "        vertical-align: top;\n",
       "    }\n",
       "\n",
       "    .dataframe thead th {\n",
       "        text-align: right;\n",
       "    }\n",
       "</style>\n",
       "<table border=\"1\" class=\"dataframe\">\n",
       "  <thead>\n",
       "    <tr style=\"text-align: right;\">\n",
       "      <th></th>\n",
       "      <th>user_id</th>\n",
       "      <th>month</th>\n",
       "      <th>duration</th>\n",
       "      <th>calls_profit</th>\n",
       "    </tr>\n",
       "  </thead>\n",
       "  <tbody>\n",
       "    <tr>\n",
       "      <th>0</th>\n",
       "      <td>1000</td>\n",
       "      <td>5.00</td>\n",
       "      <td>151.00</td>\n",
       "      <td>0.00</td>\n",
       "    </tr>\n",
       "    <tr>\n",
       "      <th>1</th>\n",
       "      <td>1000</td>\n",
       "      <td>6.00</td>\n",
       "      <td>159.00</td>\n",
       "      <td>0.00</td>\n",
       "    </tr>\n",
       "    <tr>\n",
       "      <th>2</th>\n",
       "      <td>1000</td>\n",
       "      <td>7.00</td>\n",
       "      <td>319.00</td>\n",
       "      <td>0.00</td>\n",
       "    </tr>\n",
       "    <tr>\n",
       "      <th>3</th>\n",
       "      <td>1000</td>\n",
       "      <td>8.00</td>\n",
       "      <td>390.00</td>\n",
       "      <td>0.00</td>\n",
       "    </tr>\n",
       "    <tr>\n",
       "      <th>4</th>\n",
       "      <td>1000</td>\n",
       "      <td>9.00</td>\n",
       "      <td>441.00</td>\n",
       "      <td>0.00</td>\n",
       "    </tr>\n",
       "  </tbody>\n",
       "</table>\n",
       "</div>"
      ],
      "text/plain": [
       "   user_id  month  duration  calls_profit\n",
       "0     1000   5.00    151.00          0.00\n",
       "1     1000   6.00    159.00          0.00\n",
       "2     1000   7.00    319.00          0.00\n",
       "3     1000   8.00    390.00          0.00\n",
       "4     1000   9.00    441.00          0.00"
      ]
     },
     "execution_count": 20,
     "metadata": {},
     "output_type": "execute_result"
    }
   ],
   "source": [
    "users_calls = users_calls[['user_id', 'month', 'duration', 'calls_profit']]\n",
    "users_calls.head()"
   ]
  },
  {
   "cell_type": "markdown",
   "metadata": {},
   "source": [
    "Посчитаем для каждого пользователя количество отправленных сообщений по месяцам.  "
   ]
  },
  {
   "cell_type": "code",
   "execution_count": 21,
   "metadata": {},
   "outputs": [
    {
     "data": {
      "text/html": [
       "<div>\n",
       "<style scoped>\n",
       "    .dataframe tbody tr th:only-of-type {\n",
       "        vertical-align: middle;\n",
       "    }\n",
       "\n",
       "    .dataframe tbody tr th {\n",
       "        vertical-align: top;\n",
       "    }\n",
       "\n",
       "    .dataframe thead th {\n",
       "        text-align: right;\n",
       "    }\n",
       "</style>\n",
       "<table border=\"1\" class=\"dataframe\">\n",
       "  <thead>\n",
       "    <tr style=\"text-align: right;\">\n",
       "      <th></th>\n",
       "      <th>month</th>\n",
       "      <th>user_id</th>\n",
       "      <th>mes_count</th>\n",
       "    </tr>\n",
       "  </thead>\n",
       "  <tbody>\n",
       "    <tr>\n",
       "      <th>0</th>\n",
       "      <td>1</td>\n",
       "      <td>1005</td>\n",
       "      <td>7</td>\n",
       "    </tr>\n",
       "    <tr>\n",
       "      <th>21</th>\n",
       "      <td>1</td>\n",
       "      <td>1337</td>\n",
       "      <td>7</td>\n",
       "    </tr>\n",
       "    <tr>\n",
       "      <th>22</th>\n",
       "      <td>1</td>\n",
       "      <td>1372</td>\n",
       "      <td>12</td>\n",
       "    </tr>\n",
       "    <tr>\n",
       "      <th>23</th>\n",
       "      <td>1</td>\n",
       "      <td>1373</td>\n",
       "      <td>28</td>\n",
       "    </tr>\n",
       "    <tr>\n",
       "      <th>24</th>\n",
       "      <td>1</td>\n",
       "      <td>1375</td>\n",
       "      <td>75</td>\n",
       "    </tr>\n",
       "  </tbody>\n",
       "</table>\n",
       "</div>"
      ],
      "text/plain": [
       "    month  user_id  mes_count\n",
       "0       1     1005          7\n",
       "21      1     1337          7\n",
       "22      1     1372         12\n",
       "23      1     1373         28\n",
       "24      1     1375         75"
      ]
     },
     "execution_count": 21,
     "metadata": {},
     "output_type": "execute_result"
    }
   ],
   "source": [
    "sp_messages = messages.pivot_table(index = ('month', 'user_id'), values = 'message_date', aggfunc = 'count')\n",
    "sp_messages = sp_messages.reset_index()\n",
    "sp_messages.set_axis(['month', 'user_id', 'mes_count'], axis=\"columns\", inplace=True)\n",
    "sp_messages.sort_values(by='month').head()"
   ]
  },
  {
   "cell_type": "markdown",
   "metadata": {},
   "source": [
    "Объединим датасет sp_messages с users_tariffs."
   ]
  },
  {
   "cell_type": "code",
   "execution_count": 22,
   "metadata": {},
   "outputs": [
    {
     "data": {
      "text/html": [
       "<div>\n",
       "<style scoped>\n",
       "    .dataframe tbody tr th:only-of-type {\n",
       "        vertical-align: middle;\n",
       "    }\n",
       "\n",
       "    .dataframe tbody tr th {\n",
       "        vertical-align: top;\n",
       "    }\n",
       "\n",
       "    .dataframe thead th {\n",
       "        text-align: right;\n",
       "    }\n",
       "</style>\n",
       "<table border=\"1\" class=\"dataframe\">\n",
       "  <thead>\n",
       "    <tr style=\"text-align: right;\">\n",
       "      <th></th>\n",
       "      <th>user_id</th>\n",
       "      <th>age</th>\n",
       "      <th>churn_date</th>\n",
       "      <th>city</th>\n",
       "      <th>first_name</th>\n",
       "      <th>last_name</th>\n",
       "      <th>reg_date</th>\n",
       "      <th>tariff</th>\n",
       "      <th>mes_included</th>\n",
       "      <th>mb_included</th>\n",
       "      <th>min_included</th>\n",
       "      <th>rub_monthly_fee</th>\n",
       "      <th>rub_per_gb</th>\n",
       "      <th>rub_per_mes</th>\n",
       "      <th>rub_per_min</th>\n",
       "      <th>month</th>\n",
       "      <th>mes_count</th>\n",
       "    </tr>\n",
       "  </thead>\n",
       "  <tbody>\n",
       "    <tr>\n",
       "      <th>0</th>\n",
       "      <td>1000</td>\n",
       "      <td>52</td>\n",
       "      <td>NaN</td>\n",
       "      <td>Краснодар</td>\n",
       "      <td>Рафаил</td>\n",
       "      <td>Верещагин</td>\n",
       "      <td>2018-05-25</td>\n",
       "      <td>ultra</td>\n",
       "      <td>1000</td>\n",
       "      <td>30720</td>\n",
       "      <td>3000</td>\n",
       "      <td>1950</td>\n",
       "      <td>150</td>\n",
       "      <td>1</td>\n",
       "      <td>1</td>\n",
       "      <td>5.00</td>\n",
       "      <td>22.00</td>\n",
       "    </tr>\n",
       "    <tr>\n",
       "      <th>1</th>\n",
       "      <td>1000</td>\n",
       "      <td>52</td>\n",
       "      <td>NaN</td>\n",
       "      <td>Краснодар</td>\n",
       "      <td>Рафаил</td>\n",
       "      <td>Верещагин</td>\n",
       "      <td>2018-05-25</td>\n",
       "      <td>ultra</td>\n",
       "      <td>1000</td>\n",
       "      <td>30720</td>\n",
       "      <td>3000</td>\n",
       "      <td>1950</td>\n",
       "      <td>150</td>\n",
       "      <td>1</td>\n",
       "      <td>1</td>\n",
       "      <td>6.00</td>\n",
       "      <td>60.00</td>\n",
       "    </tr>\n",
       "  </tbody>\n",
       "</table>\n",
       "</div>"
      ],
      "text/plain": [
       "   user_id  age churn_date       city first_name  last_name    reg_date  \\\n",
       "0     1000   52        NaN  Краснодар     Рафаил  Верещагин  2018-05-25   \n",
       "1     1000   52        NaN  Краснодар     Рафаил  Верещагин  2018-05-25   \n",
       "\n",
       "  tariff  mes_included  mb_included  min_included  rub_monthly_fee  \\\n",
       "0  ultra          1000        30720          3000             1950   \n",
       "1  ultra          1000        30720          3000             1950   \n",
       "\n",
       "   rub_per_gb  rub_per_mes  rub_per_min  month  mes_count  \n",
       "0         150            1            1   5.00      22.00  \n",
       "1         150            1            1   6.00      60.00  "
      ]
     },
     "execution_count": 22,
     "metadata": {},
     "output_type": "execute_result"
    }
   ],
   "source": [
    "users_messages = users_tariffs.merge(sp_messages, on='user_id', how='left')\n",
    "users_messages.dropna(subset = ['month', 'mes_count'], inplace = True)\n",
    "users_messages.head(2)"
   ]
  },
  {
   "cell_type": "markdown",
   "metadata": {},
   "source": [
    "Посчитаем помесячную выручку с каждого пользователя по сообщениям, для этого необходимо вычесть бесплатный лимит из суммарного количества звонков, остаток умножить на значение из тарифного плана; прибавить абонентскую плату, соответствующую тарифному плану."
   ]
  },
  {
   "cell_type": "code",
   "execution_count": 23,
   "metadata": {},
   "outputs": [
    {
     "data": {
      "text/html": [
       "<div>\n",
       "<style scoped>\n",
       "    .dataframe tbody tr th:only-of-type {\n",
       "        vertical-align: middle;\n",
       "    }\n",
       "\n",
       "    .dataframe tbody tr th {\n",
       "        vertical-align: top;\n",
       "    }\n",
       "\n",
       "    .dataframe thead th {\n",
       "        text-align: right;\n",
       "    }\n",
       "</style>\n",
       "<table border=\"1\" class=\"dataframe\">\n",
       "  <thead>\n",
       "    <tr style=\"text-align: right;\">\n",
       "      <th></th>\n",
       "      <th>user_id</th>\n",
       "      <th>age</th>\n",
       "      <th>churn_date</th>\n",
       "      <th>city</th>\n",
       "      <th>first_name</th>\n",
       "      <th>last_name</th>\n",
       "      <th>reg_date</th>\n",
       "      <th>tariff</th>\n",
       "      <th>mes_included</th>\n",
       "      <th>mb_included</th>\n",
       "      <th>min_included</th>\n",
       "      <th>rub_monthly_fee</th>\n",
       "      <th>rub_per_gb</th>\n",
       "      <th>rub_per_mes</th>\n",
       "      <th>rub_per_min</th>\n",
       "      <th>month</th>\n",
       "      <th>mes_count</th>\n",
       "      <th>mes_profit</th>\n",
       "    </tr>\n",
       "  </thead>\n",
       "  <tbody>\n",
       "    <tr>\n",
       "      <th>0</th>\n",
       "      <td>1000</td>\n",
       "      <td>52</td>\n",
       "      <td>NaN</td>\n",
       "      <td>Краснодар</td>\n",
       "      <td>Рафаил</td>\n",
       "      <td>Верещагин</td>\n",
       "      <td>2018-05-25</td>\n",
       "      <td>ultra</td>\n",
       "      <td>1000</td>\n",
       "      <td>30720</td>\n",
       "      <td>3000</td>\n",
       "      <td>1950</td>\n",
       "      <td>150</td>\n",
       "      <td>1</td>\n",
       "      <td>1</td>\n",
       "      <td>5.00</td>\n",
       "      <td>22.00</td>\n",
       "      <td>0.00</td>\n",
       "    </tr>\n",
       "    <tr>\n",
       "      <th>1</th>\n",
       "      <td>1000</td>\n",
       "      <td>52</td>\n",
       "      <td>NaN</td>\n",
       "      <td>Краснодар</td>\n",
       "      <td>Рафаил</td>\n",
       "      <td>Верещагин</td>\n",
       "      <td>2018-05-25</td>\n",
       "      <td>ultra</td>\n",
       "      <td>1000</td>\n",
       "      <td>30720</td>\n",
       "      <td>3000</td>\n",
       "      <td>1950</td>\n",
       "      <td>150</td>\n",
       "      <td>1</td>\n",
       "      <td>1</td>\n",
       "      <td>6.00</td>\n",
       "      <td>60.00</td>\n",
       "      <td>0.00</td>\n",
       "    </tr>\n",
       "  </tbody>\n",
       "</table>\n",
       "</div>"
      ],
      "text/plain": [
       "   user_id  age churn_date       city first_name  last_name    reg_date  \\\n",
       "0     1000   52        NaN  Краснодар     Рафаил  Верещагин  2018-05-25   \n",
       "1     1000   52        NaN  Краснодар     Рафаил  Верещагин  2018-05-25   \n",
       "\n",
       "  tariff  mes_included  mb_included  min_included  rub_monthly_fee  \\\n",
       "0  ultra          1000        30720          3000             1950   \n",
       "1  ultra          1000        30720          3000             1950   \n",
       "\n",
       "   rub_per_gb  rub_per_mes  rub_per_min  month  mes_count  mes_profit  \n",
       "0         150            1            1   5.00      22.00        0.00  \n",
       "1         150            1            1   6.00      60.00        0.00  "
      ]
     },
     "execution_count": 23,
     "metadata": {},
     "output_type": "execute_result"
    }
   ],
   "source": [
    "def mess_profit(row):\n",
    "    included = row['mes_included']\n",
    "    mes = row['mes_count']\n",
    "    rubmes = row['rub_per_mes']\n",
    "    if mes > included:\n",
    "        delta = mes - included\n",
    "    else:\n",
    "        delta = 0\n",
    "        \n",
    "    prof = rubmes*(delta)\n",
    "    return prof\n",
    "    \n",
    "users_messages['mes_profit'] = users_messages.apply(mess_profit, axis=1)\n",
    "users_messages.head(2)"
   ]
  },
  {
   "cell_type": "code",
   "execution_count": 24,
   "metadata": {},
   "outputs": [
    {
     "data": {
      "text/html": [
       "<div>\n",
       "<style scoped>\n",
       "    .dataframe tbody tr th:only-of-type {\n",
       "        vertical-align: middle;\n",
       "    }\n",
       "\n",
       "    .dataframe tbody tr th {\n",
       "        vertical-align: top;\n",
       "    }\n",
       "\n",
       "    .dataframe thead th {\n",
       "        text-align: right;\n",
       "    }\n",
       "</style>\n",
       "<table border=\"1\" class=\"dataframe\">\n",
       "  <thead>\n",
       "    <tr style=\"text-align: right;\">\n",
       "      <th></th>\n",
       "      <th>user_id</th>\n",
       "      <th>month</th>\n",
       "      <th>mes_count</th>\n",
       "      <th>mes_profit</th>\n",
       "    </tr>\n",
       "  </thead>\n",
       "  <tbody>\n",
       "    <tr>\n",
       "      <th>0</th>\n",
       "      <td>1000</td>\n",
       "      <td>5.00</td>\n",
       "      <td>22.00</td>\n",
       "      <td>0.00</td>\n",
       "    </tr>\n",
       "    <tr>\n",
       "      <th>1</th>\n",
       "      <td>1000</td>\n",
       "      <td>6.00</td>\n",
       "      <td>60.00</td>\n",
       "      <td>0.00</td>\n",
       "    </tr>\n",
       "    <tr>\n",
       "      <th>2</th>\n",
       "      <td>1000</td>\n",
       "      <td>7.00</td>\n",
       "      <td>75.00</td>\n",
       "      <td>0.00</td>\n",
       "    </tr>\n",
       "    <tr>\n",
       "      <th>3</th>\n",
       "      <td>1000</td>\n",
       "      <td>8.00</td>\n",
       "      <td>81.00</td>\n",
       "      <td>0.00</td>\n",
       "    </tr>\n",
       "    <tr>\n",
       "      <th>4</th>\n",
       "      <td>1000</td>\n",
       "      <td>9.00</td>\n",
       "      <td>57.00</td>\n",
       "      <td>0.00</td>\n",
       "    </tr>\n",
       "  </tbody>\n",
       "</table>\n",
       "</div>"
      ],
      "text/plain": [
       "   user_id  month  mes_count  mes_profit\n",
       "0     1000   5.00      22.00        0.00\n",
       "1     1000   6.00      60.00        0.00\n",
       "2     1000   7.00      75.00        0.00\n",
       "3     1000   8.00      81.00        0.00\n",
       "4     1000   9.00      57.00        0.00"
      ]
     },
     "execution_count": 24,
     "metadata": {},
     "output_type": "execute_result"
    }
   ],
   "source": [
    "users_messages = users_messages[['user_id', 'month', 'mes_count', 'mes_profit']]\n",
    "users_messages.head()"
   ]
  },
  {
   "cell_type": "markdown",
   "metadata": {},
   "source": [
    "Посчитаем для каждого пользователя объем израсходованного интернет-трафика по месяцам.    \n",
    "Округлим значения в соответствии с требованием заказчика («Мегалайн» всегда округляет мегабайты — до гигабайт. Для веб-трафика отдельные сессии не считаются. Вместо этого общая сумма за месяц округляется в бо́льшую сторону. Если абонент использует 1025 мегабайт в этом месяце, с него возьмут плату за 2 гигабайта)."
   ]
  },
  {
   "cell_type": "code",
   "execution_count": 25,
   "metadata": {},
   "outputs": [
    {
     "data": {
      "text/html": [
       "<div>\n",
       "<style scoped>\n",
       "    .dataframe tbody tr th:only-of-type {\n",
       "        vertical-align: middle;\n",
       "    }\n",
       "\n",
       "    .dataframe tbody tr th {\n",
       "        vertical-align: top;\n",
       "    }\n",
       "\n",
       "    .dataframe thead th {\n",
       "        text-align: right;\n",
       "    }\n",
       "</style>\n",
       "<table border=\"1\" class=\"dataframe\">\n",
       "  <thead>\n",
       "    <tr style=\"text-align: right;\">\n",
       "      <th></th>\n",
       "      <th>month</th>\n",
       "      <th>user_id</th>\n",
       "      <th>mb_sum</th>\n",
       "    </tr>\n",
       "  </thead>\n",
       "  <tbody>\n",
       "    <tr>\n",
       "      <th>0</th>\n",
       "      <td>1</td>\n",
       "      <td>1005</td>\n",
       "      <td>2,727.97</td>\n",
       "    </tr>\n",
       "    <tr>\n",
       "      <th>24</th>\n",
       "      <td>1</td>\n",
       "      <td>1337</td>\n",
       "      <td>10,174.42</td>\n",
       "    </tr>\n",
       "    <tr>\n",
       "      <th>25</th>\n",
       "      <td>1</td>\n",
       "      <td>1340</td>\n",
       "      <td>2,207.26</td>\n",
       "    </tr>\n",
       "    <tr>\n",
       "      <th>26</th>\n",
       "      <td>1</td>\n",
       "      <td>1372</td>\n",
       "      <td>4,312.96</td>\n",
       "    </tr>\n",
       "    <tr>\n",
       "      <th>27</th>\n",
       "      <td>1</td>\n",
       "      <td>1373</td>\n",
       "      <td>9,173.74</td>\n",
       "    </tr>\n",
       "  </tbody>\n",
       "</table>\n",
       "</div>"
      ],
      "text/plain": [
       "    month  user_id    mb_sum\n",
       "0       1     1005  2,727.97\n",
       "24      1     1337 10,174.42\n",
       "25      1     1340  2,207.26\n",
       "26      1     1372  4,312.96\n",
       "27      1     1373  9,173.74"
      ]
     },
     "execution_count": 25,
     "metadata": {},
     "output_type": "execute_result"
    }
   ],
   "source": [
    "sp_internet = internet.pivot_table(index = ('month', 'user_id'), values = 'mb_used', aggfunc = 'sum')\n",
    "sp_internet = sp_internet.reset_index()\n",
    "sp_internet.set_axis(['month', 'user_id', 'mb_sum'], axis=\"columns\", inplace=True)\n",
    "sp_internet.sort_values(by='month').head()"
   ]
  },
  {
   "cell_type": "code",
   "execution_count": 26,
   "metadata": {},
   "outputs": [
    {
     "data": {
      "text/html": [
       "<div>\n",
       "<style scoped>\n",
       "    .dataframe tbody tr th:only-of-type {\n",
       "        vertical-align: middle;\n",
       "    }\n",
       "\n",
       "    .dataframe tbody tr th {\n",
       "        vertical-align: top;\n",
       "    }\n",
       "\n",
       "    .dataframe thead th {\n",
       "        text-align: right;\n",
       "    }\n",
       "</style>\n",
       "<table border=\"1\" class=\"dataframe\">\n",
       "  <thead>\n",
       "    <tr style=\"text-align: right;\">\n",
       "      <th></th>\n",
       "      <th>user_id</th>\n",
       "      <th>age</th>\n",
       "      <th>churn_date</th>\n",
       "      <th>city</th>\n",
       "      <th>first_name</th>\n",
       "      <th>last_name</th>\n",
       "      <th>reg_date</th>\n",
       "      <th>tariff</th>\n",
       "      <th>mes_included</th>\n",
       "      <th>mb_included</th>\n",
       "      <th>min_included</th>\n",
       "      <th>rub_monthly_fee</th>\n",
       "      <th>rub_per_gb</th>\n",
       "      <th>rub_per_mes</th>\n",
       "      <th>rub_per_min</th>\n",
       "      <th>month</th>\n",
       "      <th>mb_sum</th>\n",
       "    </tr>\n",
       "  </thead>\n",
       "  <tbody>\n",
       "    <tr>\n",
       "      <th>0</th>\n",
       "      <td>1000</td>\n",
       "      <td>52</td>\n",
       "      <td>NaN</td>\n",
       "      <td>Краснодар</td>\n",
       "      <td>Рафаил</td>\n",
       "      <td>Верещагин</td>\n",
       "      <td>2018-05-25</td>\n",
       "      <td>ultra</td>\n",
       "      <td>1000</td>\n",
       "      <td>30720</td>\n",
       "      <td>3000</td>\n",
       "      <td>1950</td>\n",
       "      <td>150</td>\n",
       "      <td>1</td>\n",
       "      <td>1</td>\n",
       "      <td>5</td>\n",
       "      <td>2253</td>\n",
       "    </tr>\n",
       "    <tr>\n",
       "      <th>1</th>\n",
       "      <td>1000</td>\n",
       "      <td>52</td>\n",
       "      <td>NaN</td>\n",
       "      <td>Краснодар</td>\n",
       "      <td>Рафаил</td>\n",
       "      <td>Верещагин</td>\n",
       "      <td>2018-05-25</td>\n",
       "      <td>ultra</td>\n",
       "      <td>1000</td>\n",
       "      <td>30720</td>\n",
       "      <td>3000</td>\n",
       "      <td>1950</td>\n",
       "      <td>150</td>\n",
       "      <td>1</td>\n",
       "      <td>1</td>\n",
       "      <td>6</td>\n",
       "      <td>23233</td>\n",
       "    </tr>\n",
       "  </tbody>\n",
       "</table>\n",
       "</div>"
      ],
      "text/plain": [
       "   user_id  age churn_date       city first_name  last_name    reg_date  \\\n",
       "0     1000   52        NaN  Краснодар     Рафаил  Верещагин  2018-05-25   \n",
       "1     1000   52        NaN  Краснодар     Рафаил  Верещагин  2018-05-25   \n",
       "\n",
       "  tariff  mes_included  mb_included  min_included  rub_monthly_fee  \\\n",
       "0  ultra          1000        30720          3000             1950   \n",
       "1  ultra          1000        30720          3000             1950   \n",
       "\n",
       "   rub_per_gb  rub_per_mes  rub_per_min  month  mb_sum  \n",
       "0         150            1            1      5    2253  \n",
       "1         150            1            1      6   23233  "
      ]
     },
     "execution_count": 26,
     "metadata": {},
     "output_type": "execute_result"
    }
   ],
   "source": [
    "users_internet = users_tariffs.merge(sp_internet, on='user_id', how='inner')\n",
    "users_internet.dropna(subset = ['month', 'mb_sum'], inplace = True)\n",
    "users_internet['month'] = users_internet['month'].astype('int')\n",
    "users_internet['mb_sum'] = users_internet['mb_sum'].astype('int')\n",
    "users_internet.head(2)"
   ]
  },
  {
   "cell_type": "markdown",
   "metadata": {},
   "source": [
    "Посчитаем помесячную выручку с каждого пользователя за интернет по месяцам.  \n",
    "Т.к. «Мегалайн» считает перерасход трафика в гигабайтах, а у нас все данные в мегабайтах, то нам нужно перевести значения столбца mb_sum в гигабайты - разделить каждое значение на 1024. "
   ]
  },
  {
   "cell_type": "code",
   "execution_count": 27,
   "metadata": {
    "scrolled": true
   },
   "outputs": [
    {
     "data": {
      "text/html": [
       "<div>\n",
       "<style scoped>\n",
       "    .dataframe tbody tr th:only-of-type {\n",
       "        vertical-align: middle;\n",
       "    }\n",
       "\n",
       "    .dataframe tbody tr th {\n",
       "        vertical-align: top;\n",
       "    }\n",
       "\n",
       "    .dataframe thead th {\n",
       "        text-align: right;\n",
       "    }\n",
       "</style>\n",
       "<table border=\"1\" class=\"dataframe\">\n",
       "  <thead>\n",
       "    <tr style=\"text-align: right;\">\n",
       "      <th></th>\n",
       "      <th>user_id</th>\n",
       "      <th>age</th>\n",
       "      <th>churn_date</th>\n",
       "      <th>city</th>\n",
       "      <th>first_name</th>\n",
       "      <th>last_name</th>\n",
       "      <th>reg_date</th>\n",
       "      <th>tariff</th>\n",
       "      <th>mes_included</th>\n",
       "      <th>mb_included</th>\n",
       "      <th>min_included</th>\n",
       "      <th>rub_monthly_fee</th>\n",
       "      <th>rub_per_gb</th>\n",
       "      <th>rub_per_mes</th>\n",
       "      <th>rub_per_min</th>\n",
       "      <th>month</th>\n",
       "      <th>mb_sum</th>\n",
       "      <th>inet_profit</th>\n",
       "    </tr>\n",
       "  </thead>\n",
       "  <tbody>\n",
       "    <tr>\n",
       "      <th>0</th>\n",
       "      <td>1000</td>\n",
       "      <td>52</td>\n",
       "      <td>NaN</td>\n",
       "      <td>Краснодар</td>\n",
       "      <td>Рафаил</td>\n",
       "      <td>Верещагин</td>\n",
       "      <td>2018-05-25</td>\n",
       "      <td>ultra</td>\n",
       "      <td>1000</td>\n",
       "      <td>30720</td>\n",
       "      <td>3000</td>\n",
       "      <td>1950</td>\n",
       "      <td>150</td>\n",
       "      <td>1</td>\n",
       "      <td>1</td>\n",
       "      <td>5</td>\n",
       "      <td>2253</td>\n",
       "      <td>0</td>\n",
       "    </tr>\n",
       "    <tr>\n",
       "      <th>1</th>\n",
       "      <td>1000</td>\n",
       "      <td>52</td>\n",
       "      <td>NaN</td>\n",
       "      <td>Краснодар</td>\n",
       "      <td>Рафаил</td>\n",
       "      <td>Верещагин</td>\n",
       "      <td>2018-05-25</td>\n",
       "      <td>ultra</td>\n",
       "      <td>1000</td>\n",
       "      <td>30720</td>\n",
       "      <td>3000</td>\n",
       "      <td>1950</td>\n",
       "      <td>150</td>\n",
       "      <td>1</td>\n",
       "      <td>1</td>\n",
       "      <td>6</td>\n",
       "      <td>23233</td>\n",
       "      <td>0</td>\n",
       "    </tr>\n",
       "  </tbody>\n",
       "</table>\n",
       "</div>"
      ],
      "text/plain": [
       "   user_id  age churn_date       city first_name  last_name    reg_date  \\\n",
       "0     1000   52        NaN  Краснодар     Рафаил  Верещагин  2018-05-25   \n",
       "1     1000   52        NaN  Краснодар     Рафаил  Верещагин  2018-05-25   \n",
       "\n",
       "  tariff  mes_included  mb_included  min_included  rub_monthly_fee  \\\n",
       "0  ultra          1000        30720          3000             1950   \n",
       "1  ultra          1000        30720          3000             1950   \n",
       "\n",
       "   rub_per_gb  rub_per_mes  rub_per_min  month  mb_sum  inet_profit  \n",
       "0         150            1            1      5    2253            0  \n",
       "1         150            1            1      6   23233            0  "
      ]
     },
     "execution_count": 27,
     "metadata": {},
     "output_type": "execute_result"
    }
   ],
   "source": [
    "def internet_profit(row):\n",
    "    mb_incl = row['mb_included']\n",
    "    mb = row['mb_sum']\n",
    "    rubgb = row['rub_per_gb']\n",
    "    if mb > mb_incl:\n",
    "        delta = mb - mb_incl\n",
    "    else:\n",
    "        delta = 0\n",
    "        \n",
    "    prof = rubgb*math.ceil((delta/1024))\n",
    "    return prof\n",
    "    \n",
    "users_internet['inet_profit'] = users_internet.apply(internet_profit, axis=1)\n",
    "users_internet.head(2)"
   ]
  },
  {
   "cell_type": "code",
   "execution_count": 28,
   "metadata": {},
   "outputs": [
    {
     "data": {
      "text/html": [
       "<div>\n",
       "<style scoped>\n",
       "    .dataframe tbody tr th:only-of-type {\n",
       "        vertical-align: middle;\n",
       "    }\n",
       "\n",
       "    .dataframe tbody tr th {\n",
       "        vertical-align: top;\n",
       "    }\n",
       "\n",
       "    .dataframe thead th {\n",
       "        text-align: right;\n",
       "    }\n",
       "</style>\n",
       "<table border=\"1\" class=\"dataframe\">\n",
       "  <thead>\n",
       "    <tr style=\"text-align: right;\">\n",
       "      <th></th>\n",
       "      <th>user_id</th>\n",
       "      <th>month</th>\n",
       "      <th>mb_sum</th>\n",
       "      <th>inet_profit</th>\n",
       "    </tr>\n",
       "  </thead>\n",
       "  <tbody>\n",
       "    <tr>\n",
       "      <th>0</th>\n",
       "      <td>1000</td>\n",
       "      <td>5</td>\n",
       "      <td>2253</td>\n",
       "      <td>0</td>\n",
       "    </tr>\n",
       "    <tr>\n",
       "      <th>1</th>\n",
       "      <td>1000</td>\n",
       "      <td>6</td>\n",
       "      <td>23233</td>\n",
       "      <td>0</td>\n",
       "    </tr>\n",
       "    <tr>\n",
       "      <th>2</th>\n",
       "      <td>1000</td>\n",
       "      <td>7</td>\n",
       "      <td>14003</td>\n",
       "      <td>0</td>\n",
       "    </tr>\n",
       "    <tr>\n",
       "      <th>3</th>\n",
       "      <td>1000</td>\n",
       "      <td>8</td>\n",
       "      <td>14055</td>\n",
       "      <td>0</td>\n",
       "    </tr>\n",
       "    <tr>\n",
       "      <th>4</th>\n",
       "      <td>1000</td>\n",
       "      <td>9</td>\n",
       "      <td>14568</td>\n",
       "      <td>0</td>\n",
       "    </tr>\n",
       "  </tbody>\n",
       "</table>\n",
       "</div>"
      ],
      "text/plain": [
       "   user_id  month  mb_sum  inet_profit\n",
       "0     1000      5    2253            0\n",
       "1     1000      6   23233            0\n",
       "2     1000      7   14003            0\n",
       "3     1000      8   14055            0\n",
       "4     1000      9   14568            0"
      ]
     },
     "execution_count": 28,
     "metadata": {},
     "output_type": "execute_result"
    }
   ],
   "source": [
    "users_internet = users_internet[['user_id', 'month', 'mb_sum', 'inet_profit']]\n",
    "users_internet.head()"
   ]
  },
  {
   "cell_type": "markdown",
   "metadata": {},
   "source": [
    "Соберем данные в один датафрейм."
   ]
  },
  {
   "cell_type": "code",
   "execution_count": 29,
   "metadata": {
    "scrolled": false
   },
   "outputs": [
    {
     "data": {
      "text/html": [
       "<div>\n",
       "<style scoped>\n",
       "    .dataframe tbody tr th:only-of-type {\n",
       "        vertical-align: middle;\n",
       "    }\n",
       "\n",
       "    .dataframe tbody tr th {\n",
       "        vertical-align: top;\n",
       "    }\n",
       "\n",
       "    .dataframe thead th {\n",
       "        text-align: right;\n",
       "    }\n",
       "</style>\n",
       "<table border=\"1\" class=\"dataframe\">\n",
       "  <thead>\n",
       "    <tr style=\"text-align: right;\">\n",
       "      <th></th>\n",
       "      <th>user_id</th>\n",
       "      <th>age</th>\n",
       "      <th>churn_date</th>\n",
       "      <th>city</th>\n",
       "      <th>first_name</th>\n",
       "      <th>last_name</th>\n",
       "      <th>reg_date</th>\n",
       "      <th>tariff</th>\n",
       "      <th>mes_included</th>\n",
       "      <th>mb_included</th>\n",
       "      <th>min_included</th>\n",
       "      <th>rub_monthly_fee</th>\n",
       "      <th>rub_per_gb</th>\n",
       "      <th>rub_per_mes</th>\n",
       "      <th>rub_per_min</th>\n",
       "      <th>month</th>\n",
       "      <th>duration</th>\n",
       "      <th>calls_profit</th>\n",
       "      <th>mes_count</th>\n",
       "      <th>mes_profit</th>\n",
       "      <th>mb_sum</th>\n",
       "      <th>inet_profit</th>\n",
       "    </tr>\n",
       "  </thead>\n",
       "  <tbody>\n",
       "    <tr>\n",
       "      <th>0</th>\n",
       "      <td>1000</td>\n",
       "      <td>52</td>\n",
       "      <td>NaN</td>\n",
       "      <td>Краснодар</td>\n",
       "      <td>Рафаил</td>\n",
       "      <td>Верещагин</td>\n",
       "      <td>2018-05-25</td>\n",
       "      <td>ultra</td>\n",
       "      <td>1000</td>\n",
       "      <td>30720</td>\n",
       "      <td>3000</td>\n",
       "      <td>1950</td>\n",
       "      <td>150</td>\n",
       "      <td>1</td>\n",
       "      <td>1</td>\n",
       "      <td>5.00</td>\n",
       "      <td>151.00</td>\n",
       "      <td>0.00</td>\n",
       "      <td>22.00</td>\n",
       "      <td>0.00</td>\n",
       "      <td>2,253.00</td>\n",
       "      <td>0.00</td>\n",
       "    </tr>\n",
       "    <tr>\n",
       "      <th>1</th>\n",
       "      <td>1000</td>\n",
       "      <td>52</td>\n",
       "      <td>NaN</td>\n",
       "      <td>Краснодар</td>\n",
       "      <td>Рафаил</td>\n",
       "      <td>Верещагин</td>\n",
       "      <td>2018-05-25</td>\n",
       "      <td>ultra</td>\n",
       "      <td>1000</td>\n",
       "      <td>30720</td>\n",
       "      <td>3000</td>\n",
       "      <td>1950</td>\n",
       "      <td>150</td>\n",
       "      <td>1</td>\n",
       "      <td>1</td>\n",
       "      <td>6.00</td>\n",
       "      <td>159.00</td>\n",
       "      <td>0.00</td>\n",
       "      <td>60.00</td>\n",
       "      <td>0.00</td>\n",
       "      <td>23,233.00</td>\n",
       "      <td>0.00</td>\n",
       "    </tr>\n",
       "  </tbody>\n",
       "</table>\n",
       "</div>"
      ],
      "text/plain": [
       "   user_id  age churn_date       city first_name  last_name    reg_date  \\\n",
       "0     1000   52        NaN  Краснодар     Рафаил  Верещагин  2018-05-25   \n",
       "1     1000   52        NaN  Краснодар     Рафаил  Верещагин  2018-05-25   \n",
       "\n",
       "  tariff  mes_included  mb_included  min_included  rub_monthly_fee  \\\n",
       "0  ultra          1000        30720          3000             1950   \n",
       "1  ultra          1000        30720          3000             1950   \n",
       "\n",
       "   rub_per_gb  rub_per_mes  rub_per_min  month  duration  calls_profit  \\\n",
       "0         150            1            1   5.00    151.00          0.00   \n",
       "1         150            1            1   6.00    159.00          0.00   \n",
       "\n",
       "   mes_count  mes_profit    mb_sum  inet_profit  \n",
       "0      22.00        0.00  2,253.00         0.00  \n",
       "1      60.00        0.00 23,233.00         0.00  "
      ]
     },
     "execution_count": 29,
     "metadata": {},
     "output_type": "execute_result"
    }
   ],
   "source": [
    "users_1 = users_calls.merge(users_messages, on=['user_id', 'month'], how='outer')\n",
    "users_2 = users_1.merge(users_internet, on=['user_id', 'month'], how='outer')\n",
    "users_all = users_tariffs.merge(users_2, on='user_id', how='outer')\n",
    "users_all.head(2)"
   ]
  },
  {
   "cell_type": "markdown",
   "metadata": {},
   "source": [
    "Проверим новый датафрейм на предмет пропущенных значений. "
   ]
  },
  {
   "cell_type": "code",
   "execution_count": 30,
   "metadata": {},
   "outputs": [
    {
     "data": {
      "text/html": [
       "<div>\n",
       "<style scoped>\n",
       "    .dataframe tbody tr th:only-of-type {\n",
       "        vertical-align: middle;\n",
       "    }\n",
       "\n",
       "    .dataframe tbody tr th {\n",
       "        vertical-align: top;\n",
       "    }\n",
       "\n",
       "    .dataframe thead th {\n",
       "        text-align: right;\n",
       "    }\n",
       "</style>\n",
       "<table border=\"1\" class=\"dataframe\">\n",
       "  <thead>\n",
       "    <tr style=\"text-align: right;\">\n",
       "      <th></th>\n",
       "      <th>0</th>\n",
       "    </tr>\n",
       "  </thead>\n",
       "  <tbody>\n",
       "    <tr>\n",
       "      <th>user_id</th>\n",
       "      <td>0</td>\n",
       "    </tr>\n",
       "    <tr>\n",
       "      <th>age</th>\n",
       "      <td>0</td>\n",
       "    </tr>\n",
       "    <tr>\n",
       "      <th>churn_date</th>\n",
       "      <td>3027</td>\n",
       "    </tr>\n",
       "    <tr>\n",
       "      <th>city</th>\n",
       "      <td>0</td>\n",
       "    </tr>\n",
       "    <tr>\n",
       "      <th>first_name</th>\n",
       "      <td>0</td>\n",
       "    </tr>\n",
       "    <tr>\n",
       "      <th>last_name</th>\n",
       "      <td>0</td>\n",
       "    </tr>\n",
       "    <tr>\n",
       "      <th>reg_date</th>\n",
       "      <td>0</td>\n",
       "    </tr>\n",
       "    <tr>\n",
       "      <th>tariff</th>\n",
       "      <td>0</td>\n",
       "    </tr>\n",
       "    <tr>\n",
       "      <th>mes_included</th>\n",
       "      <td>0</td>\n",
       "    </tr>\n",
       "    <tr>\n",
       "      <th>mb_included</th>\n",
       "      <td>0</td>\n",
       "    </tr>\n",
       "    <tr>\n",
       "      <th>min_included</th>\n",
       "      <td>0</td>\n",
       "    </tr>\n",
       "    <tr>\n",
       "      <th>rub_monthly_fee</th>\n",
       "      <td>0</td>\n",
       "    </tr>\n",
       "    <tr>\n",
       "      <th>rub_per_gb</th>\n",
       "      <td>0</td>\n",
       "    </tr>\n",
       "    <tr>\n",
       "      <th>rub_per_mes</th>\n",
       "      <td>0</td>\n",
       "    </tr>\n",
       "    <tr>\n",
       "      <th>rub_per_min</th>\n",
       "      <td>0</td>\n",
       "    </tr>\n",
       "    <tr>\n",
       "      <th>month</th>\n",
       "      <td>2</td>\n",
       "    </tr>\n",
       "    <tr>\n",
       "      <th>duration</th>\n",
       "      <td>42</td>\n",
       "    </tr>\n",
       "    <tr>\n",
       "      <th>calls_profit</th>\n",
       "      <td>42</td>\n",
       "    </tr>\n",
       "    <tr>\n",
       "      <th>mes_count</th>\n",
       "      <td>499</td>\n",
       "    </tr>\n",
       "    <tr>\n",
       "      <th>mes_profit</th>\n",
       "      <td>499</td>\n",
       "    </tr>\n",
       "    <tr>\n",
       "      <th>mb_sum</th>\n",
       "      <td>13</td>\n",
       "    </tr>\n",
       "    <tr>\n",
       "      <th>inet_profit</th>\n",
       "      <td>13</td>\n",
       "    </tr>\n",
       "  </tbody>\n",
       "</table>\n",
       "</div>"
      ],
      "text/plain": [
       "                    0\n",
       "user_id             0\n",
       "age                 0\n",
       "churn_date       3027\n",
       "city                0\n",
       "first_name          0\n",
       "last_name           0\n",
       "reg_date            0\n",
       "tariff              0\n",
       "mes_included        0\n",
       "mb_included         0\n",
       "min_included        0\n",
       "rub_monthly_fee     0\n",
       "rub_per_gb          0\n",
       "rub_per_mes         0\n",
       "rub_per_min         0\n",
       "month               2\n",
       "duration           42\n",
       "calls_profit       42\n",
       "mes_count         499\n",
       "mes_profit        499\n",
       "mb_sum             13\n",
       "inet_profit        13"
      ]
     },
     "execution_count": 30,
     "metadata": {},
     "output_type": "execute_result"
    }
   ],
   "source": [
    "users_all.isnull().sum().to_frame()"
   ]
  },
  {
   "cell_type": "markdown",
   "metadata": {},
   "source": [
    "В основном пропуски образовались потому, что не все клиенты использовали все виды услуг (например, кто-то звонил, но не отправлял сообщения). Появление таких пропусков допустимо, заменим эти значения на 0. Также пропуски образовались в столбце month - это пользователи, которые отказались от тарифа в тот же месяц, в который его оформили. Таких пользователей всего двое, в дальнейшем мы можем их не учитывать."
   ]
  },
  {
   "cell_type": "code",
   "execution_count": 31,
   "metadata": {},
   "outputs": [],
   "source": [
    "users_all['duration'] = users_all['duration'].fillna(value=0)\n",
    "users_all['calls_profit'] = users_all['calls_profit'].fillna(value=0)\n",
    "users_all['mes_count'] = users_all['mes_count'].fillna(value=0)\n",
    "users_all['mes_profit'] = users_all['mes_profit'].fillna(value=0)\n",
    "users_all['mb_sum'] = users_all['mb_sum'].fillna(value=0)\n",
    "users_all['inet_profit'] = users_all['inet_profit'].fillna(value=0)\n",
    "\n",
    "users_all.dropna(subset = ['month'], inplace = True)"
   ]
  },
  {
   "cell_type": "markdown",
   "metadata": {},
   "source": [
    "Посчитаем общую помесячную выручку с каждого пользователя, для этого необходимо вычесть бесплатный лимит из суммарного количества звонков, сообщений и интернет-трафика; остаток умножить на значение из тарифного плана; прибавить абонентскую плату, соответствующую тарифному плану."
   ]
  },
  {
   "cell_type": "code",
   "execution_count": 32,
   "metadata": {},
   "outputs": [
    {
     "data": {
      "text/html": [
       "<div>\n",
       "<style scoped>\n",
       "    .dataframe tbody tr th:only-of-type {\n",
       "        vertical-align: middle;\n",
       "    }\n",
       "\n",
       "    .dataframe tbody tr th {\n",
       "        vertical-align: top;\n",
       "    }\n",
       "\n",
       "    .dataframe thead th {\n",
       "        text-align: right;\n",
       "    }\n",
       "</style>\n",
       "<table border=\"1\" class=\"dataframe\">\n",
       "  <thead>\n",
       "    <tr style=\"text-align: right;\">\n",
       "      <th></th>\n",
       "      <th>user_id</th>\n",
       "      <th>age</th>\n",
       "      <th>churn_date</th>\n",
       "      <th>city</th>\n",
       "      <th>first_name</th>\n",
       "      <th>last_name</th>\n",
       "      <th>reg_date</th>\n",
       "      <th>tariff</th>\n",
       "      <th>mes_included</th>\n",
       "      <th>mb_included</th>\n",
       "      <th>min_included</th>\n",
       "      <th>rub_monthly_fee</th>\n",
       "      <th>rub_per_gb</th>\n",
       "      <th>rub_per_mes</th>\n",
       "      <th>rub_per_min</th>\n",
       "      <th>month</th>\n",
       "      <th>duration</th>\n",
       "      <th>calls_profit</th>\n",
       "      <th>mes_count</th>\n",
       "      <th>mes_profit</th>\n",
       "      <th>mb_sum</th>\n",
       "      <th>inet_profit</th>\n",
       "      <th>profit</th>\n",
       "    </tr>\n",
       "  </thead>\n",
       "  <tbody>\n",
       "    <tr>\n",
       "      <th>0</th>\n",
       "      <td>1000</td>\n",
       "      <td>52</td>\n",
       "      <td>NaN</td>\n",
       "      <td>Краснодар</td>\n",
       "      <td>Рафаил</td>\n",
       "      <td>Верещагин</td>\n",
       "      <td>2018-05-25</td>\n",
       "      <td>ultra</td>\n",
       "      <td>1000</td>\n",
       "      <td>30720</td>\n",
       "      <td>3000</td>\n",
       "      <td>1950</td>\n",
       "      <td>150</td>\n",
       "      <td>1</td>\n",
       "      <td>1</td>\n",
       "      <td>5.00</td>\n",
       "      <td>151.00</td>\n",
       "      <td>0.00</td>\n",
       "      <td>22.00</td>\n",
       "      <td>0.00</td>\n",
       "      <td>2,253.00</td>\n",
       "      <td>0.00</td>\n",
       "      <td>1,950.00</td>\n",
       "    </tr>\n",
       "    <tr>\n",
       "      <th>1</th>\n",
       "      <td>1000</td>\n",
       "      <td>52</td>\n",
       "      <td>NaN</td>\n",
       "      <td>Краснодар</td>\n",
       "      <td>Рафаил</td>\n",
       "      <td>Верещагин</td>\n",
       "      <td>2018-05-25</td>\n",
       "      <td>ultra</td>\n",
       "      <td>1000</td>\n",
       "      <td>30720</td>\n",
       "      <td>3000</td>\n",
       "      <td>1950</td>\n",
       "      <td>150</td>\n",
       "      <td>1</td>\n",
       "      <td>1</td>\n",
       "      <td>6.00</td>\n",
       "      <td>159.00</td>\n",
       "      <td>0.00</td>\n",
       "      <td>60.00</td>\n",
       "      <td>0.00</td>\n",
       "      <td>23,233.00</td>\n",
       "      <td>0.00</td>\n",
       "      <td>1,950.00</td>\n",
       "    </tr>\n",
       "  </tbody>\n",
       "</table>\n",
       "</div>"
      ],
      "text/plain": [
       "   user_id  age churn_date       city first_name  last_name    reg_date  \\\n",
       "0     1000   52        NaN  Краснодар     Рафаил  Верещагин  2018-05-25   \n",
       "1     1000   52        NaN  Краснодар     Рафаил  Верещагин  2018-05-25   \n",
       "\n",
       "  tariff  mes_included  mb_included  min_included  rub_monthly_fee  \\\n",
       "0  ultra          1000        30720          3000             1950   \n",
       "1  ultra          1000        30720          3000             1950   \n",
       "\n",
       "   rub_per_gb  rub_per_mes  rub_per_min  month  duration  calls_profit  \\\n",
       "0         150            1            1   5.00    151.00          0.00   \n",
       "1         150            1            1   6.00    159.00          0.00   \n",
       "\n",
       "   mes_count  mes_profit    mb_sum  inet_profit   profit  \n",
       "0      22.00        0.00  2,253.00         0.00 1,950.00  \n",
       "1      60.00        0.00 23,233.00         0.00 1,950.00  "
      ]
     },
     "execution_count": 32,
     "metadata": {},
     "output_type": "execute_result"
    }
   ],
   "source": [
    "users_all['profit'] = users_all[['calls_profit',\n",
    "                                 'mes_profit', \n",
    "                                 'inet_profit', \n",
    "                                 'rub_monthly_fee']].sum(axis=1)\n",
    "users_all.head(2)"
   ]
  },
  {
   "cell_type": "markdown",
   "metadata": {},
   "source": [
    "**Вывод по разделу**  \n",
    "\n",
    "Мы загрузили данные, проверили их на пропуски и дубликаты. В данных присутствуют звонки с нулевой продолжительностью, это не ошибка: нулями обозначены пропущенные звонки, удаление не требуется. Для удобства дальнейшей работы мы объединили датасеты, также теперь все столбцы имеют соответствующий своему значению тип данных.  \n",
    "\n",
    "В этом разделе мы подсчитали для каждого пользователя по месяцам: количество звонков и израсходованных минут разговора, количество отправленных сообщений, объем израсходованного интернет-трафика и выручку с каждого пользователя."
   ]
  },
  {
   "cell_type": "markdown",
   "metadata": {},
   "source": [
    "## Исследовательский анализ данных"
   ]
  },
  {
   "cell_type": "markdown",
   "metadata": {},
   "source": [
    "### Анализ пользовательского поведения "
   ]
  },
  {
   "cell_type": "markdown",
   "metadata": {},
   "source": [
    "Проанализируем поведение пользователей. Посмотрим, сколько потрачено минут разговора, отправлено сообщений и какой объём интернет-трафика потребовался пользователям каждого тарифа в месяц. Посчитаем среднее количество, дисперсию и стандартное отклонение."
   ]
  },
  {
   "cell_type": "markdown",
   "metadata": {},
   "source": [
    "**Звонки**"
   ]
  },
  {
   "cell_type": "code",
   "execution_count": 33,
   "metadata": {},
   "outputs": [
    {
     "data": {
      "image/png": "[encoded data removed]",
      "text/plain": [
       "<Figure size 864x432 with 1 Axes>"
      ]
     },
     "metadata": {},
     "output_type": "display_data"
    }
   ],
   "source": [
    "sns.barplot(x='month', y='duration', hue='tariff', ci=None, data=users_all)\n",
    "plt.title('Распределение длительности звонков для пользователей тарифов ultra и smart \\n', fontsize=15)\n",
    "plt.show()"
   ]
  },
  {
   "cell_type": "markdown",
   "metadata": {},
   "source": [
    "График показывает, что длительность звонков пользователей тарифа ultra больше, чем у пользователей тарифа smart. Наблюдается некоторое отклонение в феврале, можно считать его погрешностью на фоне двудих 11 месяцев. "
   ]
  },
  {
   "cell_type": "markdown",
   "metadata": {},
   "source": [
    "**Сообщения**"
   ]
  },
  {
   "cell_type": "code",
   "execution_count": 34,
   "metadata": {},
   "outputs": [
    {
     "data": {
      "image/png": "[encoded data removed]",
      "text/plain": [
       "<Figure size 864x432 with 1 Axes>"
      ]
     },
     "metadata": {},
     "output_type": "display_data"
    }
   ],
   "source": [
    "sns.barplot(x='month', y='mes_count', hue='tariff', ci=None, data=users_all)\n",
    "plt.title('Распределение количества отправленных сообщений для пользователей тарифов ultra и smart \\n', \n",
    "          fontsize=15)\n",
    "plt.show()"
   ]
  },
  {
   "cell_type": "markdown",
   "metadata": {},
   "source": [
    "Мы видим, что в начале года (до мая) ultra и smart по количеству отправленных сообщений идут практически вровень, а начиная с мая по количеству отправленных сообщений тариф ultra резко вырывается вперед. Интересно, что пользователи каждого тарифа отравляют в среднем очень мало смс, хотя в пакет ultra входит 1000 сообщений. "
   ]
  },
  {
   "cell_type": "markdown",
   "metadata": {},
   "source": [
    "**Интернет-трафик**"
   ]
  },
  {
   "cell_type": "code",
   "execution_count": 35,
   "metadata": {},
   "outputs": [
    {
     "data": {
      "image/png": "[encoded data removed]",
      "text/plain": [
       "<Figure size 864x432 with 1 Axes>"
      ]
     },
     "metadata": {},
     "output_type": "display_data"
    }
   ],
   "source": [
    "sns.barplot(x='month', y='mb_sum', hue='tariff', ci=None, data=users_all)\n",
    "plt.title('Распределение расхода интернет-трафика для пользователей тарифов ultra и smart \\n', \n",
    "          fontsize=15)\n",
    "plt.show()"
   ]
  },
  {
   "cell_type": "markdown",
   "metadata": {},
   "source": [
    "Как и на предыдущих графиках, мы видим, что ultra в начале года по расходованию интернет-трафика не отличается от тарифа smart, но начиная с марта уходит вперед по этому показателю. "
   ]
  },
  {
   "cell_type": "markdown",
   "metadata": {},
   "source": [
    "**Выручка**"
   ]
  },
  {
   "cell_type": "code",
   "execution_count": 36,
   "metadata": {},
   "outputs": [
    {
     "data": {
      "image/png": "[encoded data removed]",
      "text/plain": [
       "<Figure size 864x432 with 1 Axes>"
      ]
     },
     "metadata": {},
     "output_type": "display_data"
    }
   ],
   "source": [
    "sns.barplot(x='month', y='profit', hue='tariff', ci=None, data=users_all)\n",
    "plt.title('Распределение выручки от тарифов ultra и smart \\n', \n",
    "          fontsize=15)\n",
    "plt.legend(bbox_to_anchor=(1.12, 1))\n",
    "plt.show()"
   ]
  },
  {
   "cell_type": "markdown",
   "metadata": {},
   "source": [
    "Очевидно, что выручка на тарифе ultra больше, чем на тарифе smart. Это объяснимо тем, что в тариф smart включено меньше бесплатных минут, sms и mb, а значит пользователи smart раньше начинают платить сверх тарифного пакета. Также мы видим, что тариф smart под конец года по выручке начинает догонять ultra. "
   ]
  },
  {
   "cell_type": "markdown",
   "metadata": {},
   "source": [
    "### Расчет среднего, дисперсии и стандартного отклонения"
   ]
  },
  {
   "cell_type": "markdown",
   "metadata": {},
   "source": [
    "**Продолжительность звонков**"
   ]
  },
  {
   "cell_type": "code",
   "execution_count": 37,
   "metadata": {},
   "outputs": [
    {
     "data": {
      "text/html": [
       "<div>\n",
       "<style scoped>\n",
       "    .dataframe tbody tr th:only-of-type {\n",
       "        vertical-align: middle;\n",
       "    }\n",
       "\n",
       "    .dataframe tbody tr th {\n",
       "        vertical-align: top;\n",
       "    }\n",
       "\n",
       "    .dataframe thead tr th {\n",
       "        text-align: left;\n",
       "    }\n",
       "\n",
       "    .dataframe thead tr:last-of-type th {\n",
       "        text-align: right;\n",
       "    }\n",
       "</style>\n",
       "<table border=\"1\" class=\"dataframe\">\n",
       "  <thead>\n",
       "    <tr>\n",
       "      <th></th>\n",
       "      <th colspan=\"2\" halign=\"left\">mean</th>\n",
       "      <th colspan=\"2\" halign=\"left\">std</th>\n",
       "      <th colspan=\"2\" halign=\"left\">var</th>\n",
       "    </tr>\n",
       "    <tr>\n",
       "      <th>tariff</th>\n",
       "      <th>smart</th>\n",
       "      <th>ultra</th>\n",
       "      <th>smart</th>\n",
       "      <th>ultra</th>\n",
       "      <th>smart</th>\n",
       "      <th>ultra</th>\n",
       "    </tr>\n",
       "    <tr>\n",
       "      <th>month</th>\n",
       "      <th></th>\n",
       "      <th></th>\n",
       "      <th></th>\n",
       "      <th></th>\n",
       "      <th></th>\n",
       "      <th></th>\n",
       "    </tr>\n",
       "  </thead>\n",
       "  <tbody>\n",
       "    <tr>\n",
       "      <th>1.00</th>\n",
       "      <td>193.47</td>\n",
       "      <td>405.33</td>\n",
       "      <td>146.30</td>\n",
       "      <td>254.73</td>\n",
       "      <td>21,403.35</td>\n",
       "      <td>64,885.25</td>\n",
       "    </tr>\n",
       "    <tr>\n",
       "      <th>2.00</th>\n",
       "      <td>283.41</td>\n",
       "      <td>281.08</td>\n",
       "      <td>180.97</td>\n",
       "      <td>281.02</td>\n",
       "      <td>32,751.51</td>\n",
       "      <td>78,974.08</td>\n",
       "    </tr>\n",
       "    <tr>\n",
       "      <th>3.00</th>\n",
       "      <td>368.34</td>\n",
       "      <td>462.97</td>\n",
       "      <td>181.54</td>\n",
       "      <td>315.65</td>\n",
       "      <td>32,956.10</td>\n",
       "      <td>99,636.75</td>\n",
       "    </tr>\n",
       "    <tr>\n",
       "      <th>4.00</th>\n",
       "      <td>346.77</td>\n",
       "      <td>432.36</td>\n",
       "      <td>176.14</td>\n",
       "      <td>253.09</td>\n",
       "      <td>31,023.59</td>\n",
       "      <td>64,052.20</td>\n",
       "    </tr>\n",
       "    <tr>\n",
       "      <th>5.00</th>\n",
       "      <td>365.71</td>\n",
       "      <td>482.21</td>\n",
       "      <td>176.56</td>\n",
       "      <td>273.43</td>\n",
       "      <td>31,173.51</td>\n",
       "      <td>74,763.83</td>\n",
       "    </tr>\n",
       "    <tr>\n",
       "      <th>6.00</th>\n",
       "      <td>373.67</td>\n",
       "      <td>453.45</td>\n",
       "      <td>165.70</td>\n",
       "      <td>286.47</td>\n",
       "      <td>27,456.10</td>\n",
       "      <td>82,065.82</td>\n",
       "    </tr>\n",
       "    <tr>\n",
       "      <th>7.00</th>\n",
       "      <td>386.00</td>\n",
       "      <td>515.69</td>\n",
       "      <td>169.74</td>\n",
       "      <td>290.15</td>\n",
       "      <td>28,811.53</td>\n",
       "      <td>84,188.59</td>\n",
       "    </tr>\n",
       "    <tr>\n",
       "      <th>8.00</th>\n",
       "      <td>398.36</td>\n",
       "      <td>482.38</td>\n",
       "      <td>176.48</td>\n",
       "      <td>295.35</td>\n",
       "      <td>31,146.54</td>\n",
       "      <td>87,229.30</td>\n",
       "    </tr>\n",
       "    <tr>\n",
       "      <th>9.00</th>\n",
       "      <td>405.01</td>\n",
       "      <td>509.60</td>\n",
       "      <td>173.29</td>\n",
       "      <td>306.74</td>\n",
       "      <td>30,030.35</td>\n",
       "      <td>94,090.82</td>\n",
       "    </tr>\n",
       "    <tr>\n",
       "      <th>10.00</th>\n",
       "      <td>402.76</td>\n",
       "      <td>527.30</td>\n",
       "      <td>177.99</td>\n",
       "      <td>308.05</td>\n",
       "      <td>31,681.34</td>\n",
       "      <td>94,894.43</td>\n",
       "    </tr>\n",
       "    <tr>\n",
       "      <th>11.00</th>\n",
       "      <td>411.10</td>\n",
       "      <td>511.36</td>\n",
       "      <td>168.11</td>\n",
       "      <td>293.54</td>\n",
       "      <td>28,259.62</td>\n",
       "      <td>86,167.72</td>\n",
       "    </tr>\n",
       "    <tr>\n",
       "      <th>12.00</th>\n",
       "      <td>452.20</td>\n",
       "      <td>560.08</td>\n",
       "      <td>188.49</td>\n",
       "      <td>322.99</td>\n",
       "      <td>35,527.45</td>\n",
       "      <td>104,324.86</td>\n",
       "    </tr>\n",
       "  </tbody>\n",
       "</table>\n",
       "</div>"
      ],
      "text/plain": [
       "         mean           std              var           \n",
       "tariff  smart  ultra  smart  ultra     smart      ultra\n",
       "month                                                  \n",
       "1.00   193.47 405.33 146.30 254.73 21,403.35  64,885.25\n",
       "2.00   283.41 281.08 180.97 281.02 32,751.51  78,974.08\n",
       "3.00   368.34 462.97 181.54 315.65 32,956.10  99,636.75\n",
       "4.00   346.77 432.36 176.14 253.09 31,023.59  64,052.20\n",
       "5.00   365.71 482.21 176.56 273.43 31,173.51  74,763.83\n",
       "6.00   373.67 453.45 165.70 286.47 27,456.10  82,065.82\n",
       "7.00   386.00 515.69 169.74 290.15 28,811.53  84,188.59\n",
       "8.00   398.36 482.38 176.48 295.35 31,146.54  87,229.30\n",
       "9.00   405.01 509.60 173.29 306.74 30,030.35  94,090.82\n",
       "10.00  402.76 527.30 177.99 308.05 31,681.34  94,894.43\n",
       "11.00  411.10 511.36 168.11 293.54 28,259.62  86,167.72\n",
       "12.00  452.20 560.08 188.49 322.99 35,527.45 104,324.86"
      ]
     },
     "execution_count": 37,
     "metadata": {},
     "output_type": "execute_result"
    }
   ],
   "source": [
    "calls_index = users_all.pivot_table(index='month', \n",
    "                                    columns='tariff', \n",
    "                                    values='duration', \n",
    "                                    aggfunc=('mean', 'var', 'std'))\n",
    "calls_index.head(12)"
   ]
  },
  {
   "cell_type": "markdown",
   "metadata": {},
   "source": [
    "Мы рассчитали среднее значение, дисперсию и стандартное отклонение для продолжительности звонков.  \n",
    "Для наглядности построим график стандартного отклонения длительности звонков по месяцам.  "
   ]
  },
  {
   "cell_type": "code",
   "execution_count": 38,
   "metadata": {},
   "outputs": [
    {
     "data": {
      "image/png": "[encoded data removed]",
      "text/plain": [
       "<Figure size 864x432 with 1 Axes>"
      ]
     },
     "metadata": {},
     "output_type": "display_data"
    }
   ],
   "source": [
    "calls_std = users_all.pivot_table(index='month', columns='tariff', values='duration', aggfunc='std')\n",
    "calls_std.plot(kind='bar', color=['r', 'b'])\n",
    "plt.title('Распределение стандартного отклонения длительности звонков \\n', \n",
    "          fontsize=15)\n",
    "plt.show()"
   ]
  },
  {
   "cell_type": "markdown",
   "metadata": {},
   "source": [
    "График показывает заметный разброс по продолжительности звонков у пользователей тарифа ultra, что логично (по предыдущим графикам мы видели, что пользователи ultra чаще звонят, чем пользователи smart). "
   ]
  },
  {
   "cell_type": "markdown",
   "metadata": {},
   "source": [
    "**Количество сообщений**"
   ]
  },
  {
   "cell_type": "code",
   "execution_count": 39,
   "metadata": {},
   "outputs": [
    {
     "data": {
      "text/html": [
       "<div>\n",
       "<style scoped>\n",
       "    .dataframe tbody tr th:only-of-type {\n",
       "        vertical-align: middle;\n",
       "    }\n",
       "\n",
       "    .dataframe tbody tr th {\n",
       "        vertical-align: top;\n",
       "    }\n",
       "\n",
       "    .dataframe thead tr th {\n",
       "        text-align: left;\n",
       "    }\n",
       "\n",
       "    .dataframe thead tr:last-of-type th {\n",
       "        text-align: right;\n",
       "    }\n",
       "</style>\n",
       "<table border=\"1\" class=\"dataframe\">\n",
       "  <thead>\n",
       "    <tr>\n",
       "      <th></th>\n",
       "      <th colspan=\"2\" halign=\"left\">mean</th>\n",
       "      <th colspan=\"2\" halign=\"left\">std</th>\n",
       "      <th colspan=\"2\" halign=\"left\">var</th>\n",
       "    </tr>\n",
       "    <tr>\n",
       "      <th>tariff</th>\n",
       "      <th>smart</th>\n",
       "      <th>ultra</th>\n",
       "      <th>smart</th>\n",
       "      <th>ultra</th>\n",
       "      <th>smart</th>\n",
       "      <th>ultra</th>\n",
       "    </tr>\n",
       "    <tr>\n",
       "      <th>month</th>\n",
       "      <th></th>\n",
       "      <th></th>\n",
       "      <th></th>\n",
       "      <th></th>\n",
       "      <th></th>\n",
       "      <th></th>\n",
       "    </tr>\n",
       "  </thead>\n",
       "  <tbody>\n",
       "    <tr>\n",
       "      <th>1.00</th>\n",
       "      <td>18.24</td>\n",
       "      <td>33.78</td>\n",
       "      <td>16.20</td>\n",
       "      <td>30.67</td>\n",
       "      <td>262.37</td>\n",
       "      <td>940.69</td>\n",
       "    </tr>\n",
       "    <tr>\n",
       "      <th>2.00</th>\n",
       "      <td>24.09</td>\n",
       "      <td>21.96</td>\n",
       "      <td>21.75</td>\n",
       "      <td>26.77</td>\n",
       "      <td>473.10</td>\n",
       "      <td>716.82</td>\n",
       "    </tr>\n",
       "    <tr>\n",
       "      <th>3.00</th>\n",
       "      <td>31.86</td>\n",
       "      <td>32.30</td>\n",
       "      <td>26.80</td>\n",
       "      <td>41.62</td>\n",
       "      <td>718.49</td>\n",
       "      <td>1,732.38</td>\n",
       "    </tr>\n",
       "    <tr>\n",
       "      <th>4.00</th>\n",
       "      <td>30.74</td>\n",
       "      <td>31.56</td>\n",
       "      <td>24.54</td>\n",
       "      <td>37.51</td>\n",
       "      <td>602.14</td>\n",
       "      <td>1,407.29</td>\n",
       "    </tr>\n",
       "    <tr>\n",
       "      <th>5.00</th>\n",
       "      <td>33.77</td>\n",
       "      <td>37.85</td>\n",
       "      <td>27.04</td>\n",
       "      <td>40.31</td>\n",
       "      <td>730.99</td>\n",
       "      <td>1,624.64</td>\n",
       "    </tr>\n",
       "    <tr>\n",
       "      <th>6.00</th>\n",
       "      <td>33.40</td>\n",
       "      <td>41.73</td>\n",
       "      <td>28.40</td>\n",
       "      <td>44.57</td>\n",
       "      <td>806.81</td>\n",
       "      <td>1,986.30</td>\n",
       "    </tr>\n",
       "    <tr>\n",
       "      <th>7.00</th>\n",
       "      <td>33.75</td>\n",
       "      <td>49.85</td>\n",
       "      <td>28.28</td>\n",
       "      <td>48.70</td>\n",
       "      <td>799.89</td>\n",
       "      <td>2,372.04</td>\n",
       "    </tr>\n",
       "    <tr>\n",
       "      <th>8.00</th>\n",
       "      <td>33.64</td>\n",
       "      <td>48.44</td>\n",
       "      <td>28.95</td>\n",
       "      <td>46.60</td>\n",
       "      <td>838.26</td>\n",
       "      <td>2,171.74</td>\n",
       "    </tr>\n",
       "    <tr>\n",
       "      <th>9.00</th>\n",
       "      <td>33.64</td>\n",
       "      <td>52.29</td>\n",
       "      <td>28.12</td>\n",
       "      <td>46.40</td>\n",
       "      <td>790.62</td>\n",
       "      <td>2,152.86</td>\n",
       "    </tr>\n",
       "    <tr>\n",
       "      <th>10.00</th>\n",
       "      <td>33.77</td>\n",
       "      <td>58.43</td>\n",
       "      <td>28.57</td>\n",
       "      <td>51.93</td>\n",
       "      <td>816.11</td>\n",
       "      <td>2,697.18</td>\n",
       "    </tr>\n",
       "    <tr>\n",
       "      <th>11.00</th>\n",
       "      <td>34.08</td>\n",
       "      <td>55.79</td>\n",
       "      <td>28.39</td>\n",
       "      <td>49.77</td>\n",
       "      <td>805.94</td>\n",
       "      <td>2,476.95</td>\n",
       "    </tr>\n",
       "    <tr>\n",
       "      <th>12.00</th>\n",
       "      <td>35.99</td>\n",
       "      <td>60.61</td>\n",
       "      <td>30.58</td>\n",
       "      <td>51.79</td>\n",
       "      <td>934.95</td>\n",
       "      <td>2,681.98</td>\n",
       "    </tr>\n",
       "  </tbody>\n",
       "</table>\n",
       "</div>"
      ],
      "text/plain": [
       "        mean         std          var         \n",
       "tariff smart ultra smart ultra  smart    ultra\n",
       "month                                         \n",
       "1.00   18.24 33.78 16.20 30.67 262.37   940.69\n",
       "2.00   24.09 21.96 21.75 26.77 473.10   716.82\n",
       "3.00   31.86 32.30 26.80 41.62 718.49 1,732.38\n",
       "4.00   30.74 31.56 24.54 37.51 602.14 1,407.29\n",
       "5.00   33.77 37.85 27.04 40.31 730.99 1,624.64\n",
       "6.00   33.40 41.73 28.40 44.57 806.81 1,986.30\n",
       "7.00   33.75 49.85 28.28 48.70 799.89 2,372.04\n",
       "8.00   33.64 48.44 28.95 46.60 838.26 2,171.74\n",
       "9.00   33.64 52.29 28.12 46.40 790.62 2,152.86\n",
       "10.00  33.77 58.43 28.57 51.93 816.11 2,697.18\n",
       "11.00  34.08 55.79 28.39 49.77 805.94 2,476.95\n",
       "12.00  35.99 60.61 30.58 51.79 934.95 2,681.98"
      ]
     },
     "execution_count": 39,
     "metadata": {},
     "output_type": "execute_result"
    }
   ],
   "source": [
    "messages_index = users_all.pivot_table(index='month',\n",
    "                                       columns='tariff', \n",
    "                                       values='mes_count', \n",
    "                                       aggfunc=('mean', 'var', 'std'))\n",
    "messages_index.head(12)"
   ]
  },
  {
   "cell_type": "code",
   "execution_count": 40,
   "metadata": {},
   "outputs": [
    {
     "data": {
      "image/png": "[encoded data removed]",
      "text/plain": [
       "<Figure size 864x432 with 1 Axes>"
      ]
     },
     "metadata": {},
     "output_type": "display_data"
    }
   ],
   "source": [
    "messages_std = users_all.pivot_table(index='month', columns='tariff', values='mes_count', aggfunc='std')\n",
    "messages_std.plot(kind='bar', color=['r', 'b'])\n",
    "plt.title('Распределение стандартного отклонения количества отправленных сообщений \\n', \n",
    "          fontsize=15)\n",
    "plt.show()"
   ]
  },
  {
   "cell_type": "markdown",
   "metadata": {},
   "source": [
    "Также как и для звонков мы видим, что разброс количества сообщений по пользователям, разбитый по месяцам, намного сильнее на тарифе ultra, чем на тарифе smart. Что также объясняется более активным использованием услуги отправки sms сообщений на тарифе ultra. "
   ]
  },
  {
   "cell_type": "markdown",
   "metadata": {},
   "source": [
    "**Объем интернет-трафика**"
   ]
  },
  {
   "cell_type": "code",
   "execution_count": 41,
   "metadata": {},
   "outputs": [
    {
     "data": {
      "text/html": [
       "<div>\n",
       "<style scoped>\n",
       "    .dataframe tbody tr th:only-of-type {\n",
       "        vertical-align: middle;\n",
       "    }\n",
       "\n",
       "    .dataframe tbody tr th {\n",
       "        vertical-align: top;\n",
       "    }\n",
       "\n",
       "    .dataframe thead tr th {\n",
       "        text-align: left;\n",
       "    }\n",
       "\n",
       "    .dataframe thead tr:last-of-type th {\n",
       "        text-align: right;\n",
       "    }\n",
       "</style>\n",
       "<table border=\"1\" class=\"dataframe\">\n",
       "  <thead>\n",
       "    <tr>\n",
       "      <th></th>\n",
       "      <th colspan=\"2\" halign=\"left\">mean</th>\n",
       "      <th colspan=\"2\" halign=\"left\">std</th>\n",
       "      <th colspan=\"2\" halign=\"left\">var</th>\n",
       "    </tr>\n",
       "    <tr>\n",
       "      <th>tariff</th>\n",
       "      <th>smart</th>\n",
       "      <th>ultra</th>\n",
       "      <th>smart</th>\n",
       "      <th>ultra</th>\n",
       "      <th>smart</th>\n",
       "      <th>ultra</th>\n",
       "    </tr>\n",
       "    <tr>\n",
       "      <th>month</th>\n",
       "      <th></th>\n",
       "      <th></th>\n",
       "      <th></th>\n",
       "      <th></th>\n",
       "      <th></th>\n",
       "      <th></th>\n",
       "    </tr>\n",
       "  </thead>\n",
       "  <tbody>\n",
       "    <tr>\n",
       "      <th>1.00</th>\n",
       "      <td>8,513.18</td>\n",
       "      <td>13,140.33</td>\n",
       "      <td>6,444.69</td>\n",
       "      <td>6,865.56</td>\n",
       "      <td>41,534,011.18</td>\n",
       "      <td>47,135,896.25</td>\n",
       "    </tr>\n",
       "    <tr>\n",
       "      <th>2.00</th>\n",
       "      <td>11,596.52</td>\n",
       "      <td>11,775.46</td>\n",
       "      <td>6,247.33</td>\n",
       "      <td>10,644.68</td>\n",
       "      <td>39,029,116.85</td>\n",
       "      <td>113,309,222.09</td>\n",
       "    </tr>\n",
       "    <tr>\n",
       "      <th>3.00</th>\n",
       "      <td>15,103.68</td>\n",
       "      <td>17,535.08</td>\n",
       "      <td>5,828.24</td>\n",
       "      <td>10,951.86</td>\n",
       "      <td>33,968,423.56</td>\n",
       "      <td>119,943,281.91</td>\n",
       "    </tr>\n",
       "    <tr>\n",
       "      <th>4.00</th>\n",
       "      <td>13,461.66</td>\n",
       "      <td>16,827.64</td>\n",
       "      <td>5,698.20</td>\n",
       "      <td>9,718.69</td>\n",
       "      <td>32,469,494.78</td>\n",
       "      <td>94,453,031.38</td>\n",
       "    </tr>\n",
       "    <tr>\n",
       "      <th>5.00</th>\n",
       "      <td>15,804.67</td>\n",
       "      <td>19,362.72</td>\n",
       "      <td>5,978.27</td>\n",
       "      <td>10,046.06</td>\n",
       "      <td>35,739,661.46</td>\n",
       "      <td>100,923,313.72</td>\n",
       "    </tr>\n",
       "    <tr>\n",
       "      <th>6.00</th>\n",
       "      <td>15,794.15</td>\n",
       "      <td>18,924.43</td>\n",
       "      <td>5,791.13</td>\n",
       "      <td>9,292.82</td>\n",
       "      <td>33,537,223.07</td>\n",
       "      <td>86,356,504.37</td>\n",
       "    </tr>\n",
       "    <tr>\n",
       "      <th>7.00</th>\n",
       "      <td>15,742.63</td>\n",
       "      <td>20,495.16</td>\n",
       "      <td>5,897.19</td>\n",
       "      <td>10,065.18</td>\n",
       "      <td>34,776,802.02</td>\n",
       "      <td>101,307,767.41</td>\n",
       "    </tr>\n",
       "    <tr>\n",
       "      <th>8.00</th>\n",
       "      <td>16,610.22</td>\n",
       "      <td>19,575.59</td>\n",
       "      <td>5,593.49</td>\n",
       "      <td>10,476.56</td>\n",
       "      <td>31,287,130.21</td>\n",
       "      <td>109,758,398.53</td>\n",
       "    </tr>\n",
       "    <tr>\n",
       "      <th>9.00</th>\n",
       "      <td>16,303.11</td>\n",
       "      <td>19,203.79</td>\n",
       "      <td>5,196.12</td>\n",
       "      <td>9,486.10</td>\n",
       "      <td>26,999,708.42</td>\n",
       "      <td>89,986,182.87</td>\n",
       "    </tr>\n",
       "    <tr>\n",
       "      <th>10.00</th>\n",
       "      <td>16,756.59</td>\n",
       "      <td>20,044.87</td>\n",
       "      <td>5,859.38</td>\n",
       "      <td>9,803.09</td>\n",
       "      <td>34,332,281.72</td>\n",
       "      <td>96,100,653.64</td>\n",
       "    </tr>\n",
       "    <tr>\n",
       "      <th>11.00</th>\n",
       "      <td>16,895.19</td>\n",
       "      <td>19,786.32</td>\n",
       "      <td>5,340.29</td>\n",
       "      <td>9,907.52</td>\n",
       "      <td>28,518,716.84</td>\n",
       "      <td>98,158,986.72</td>\n",
       "    </tr>\n",
       "    <tr>\n",
       "      <th>12.00</th>\n",
       "      <td>18,113.16</td>\n",
       "      <td>21,792.71</td>\n",
       "      <td>5,573.68</td>\n",
       "      <td>10,378.43</td>\n",
       "      <td>31,065,952.14</td>\n",
       "      <td>107,711,710.33</td>\n",
       "    </tr>\n",
       "  </tbody>\n",
       "</table>\n",
       "</div>"
      ],
      "text/plain": [
       "            mean                std                     var               \n",
       "tariff     smart     ultra    smart     ultra         smart          ultra\n",
       "month                                                                     \n",
       "1.00    8,513.18 13,140.33 6,444.69  6,865.56 41,534,011.18  47,135,896.25\n",
       "2.00   11,596.52 11,775.46 6,247.33 10,644.68 39,029,116.85 113,309,222.09\n",
       "3.00   15,103.68 17,535.08 5,828.24 10,951.86 33,968,423.56 119,943,281.91\n",
       "4.00   13,461.66 16,827.64 5,698.20  9,718.69 32,469,494.78  94,453,031.38\n",
       "5.00   15,804.67 19,362.72 5,978.27 10,046.06 35,739,661.46 100,923,313.72\n",
       "6.00   15,794.15 18,924.43 5,791.13  9,292.82 33,537,223.07  86,356,504.37\n",
       "7.00   15,742.63 20,495.16 5,897.19 10,065.18 34,776,802.02 101,307,767.41\n",
       "8.00   16,610.22 19,575.59 5,593.49 10,476.56 31,287,130.21 109,758,398.53\n",
       "9.00   16,303.11 19,203.79 5,196.12  9,486.10 26,999,708.42  89,986,182.87\n",
       "10.00  16,756.59 20,044.87 5,859.38  9,803.09 34,332,281.72  96,100,653.64\n",
       "11.00  16,895.19 19,786.32 5,340.29  9,907.52 28,518,716.84  98,158,986.72\n",
       "12.00  18,113.16 21,792.71 5,573.68 10,378.43 31,065,952.14 107,711,710.33"
      ]
     },
     "execution_count": 41,
     "metadata": {},
     "output_type": "execute_result"
    }
   ],
   "source": [
    "internet_index = users_all.pivot_table(index='month',\n",
    "                                       columns='tariff', \n",
    "                                       values='mb_sum', \n",
    "                                       aggfunc=('mean', 'var', 'std'))\n",
    "internet_index.head(12)"
   ]
  },
  {
   "cell_type": "code",
   "execution_count": 42,
   "metadata": {},
   "outputs": [
    {
     "data": {
      "image/png": "[encoded data removed]",
      "text/plain": [
       "<Figure size 864x432 with 1 Axes>"
      ]
     },
     "metadata": {},
     "output_type": "display_data"
    }
   ],
   "source": [
    "internet_std = users_all.pivot_table(index='month', \n",
    "                                     columns='tariff', \n",
    "                                     values='mb_sum', \n",
    "                                     aggfunc='std')\n",
    "internet_std.plot(kind='bar', color=['r', 'b'])\n",
    "plt.title('Распределение стандартного отклонения расхода интернет-трафика \\n', \n",
    "          fontsize=15)\n",
    "plt.show()"
   ]
  },
  {
   "cell_type": "markdown",
   "metadata": {},
   "source": [
    "Как и во всех предыдущих случаях, мы видим сильный отрыв по тарифу ultra.  \n",
    "\n",
    "Резюмируя, можно сказать, что пользователи активнее пользуются тарифом ultra и одновременно с этим видно, что выручка по данному тарифу тоже заметно выше, чем на тарифе smart."
   ]
  },
  {
   "cell_type": "markdown",
   "metadata": {},
   "source": [
    "**Вывод по разделу**  \n",
    "  \n",
    "- длительность звонков пользователей тарифа ultra больше, чем у пользователей тарифа smart. Наблюдается некоторое отклонение в феврале, можно считать его погрешностью на фоне двудих 11 месяцев;\n",
    "- в начале года (до мая) ultra и smart по количеству отправленных сообщений идут практически вровень, после тариф ultra резко вырывается вперед. Пользователи каждого тарифа отравляют в среднем очень мало смс, хотя в пакет ultra входит 1000 сообщений;\n",
    "- ultra в начале года по расходованию интернет-трафика не отличается от тарифа smart, но начиная с марта уходит вперед по этому показателю;\n",
    "- выручка по тарифу ultra больше, чем по тарифу smart. Это объяснимо тем, что в тариф smart включено меньше бесплатных минут, sms и mb, а значит пользователи smart раньше начинают платить сверх тарифного пакета;\n",
    "- тариф smart под конец года по выручке начинает догонять ultra.\n",
    "\n",
    "В этом разделе мы рассчитали среднее значение, дисперсию и стандартное отклонение для ежемесячных расходов звонков, смс и трафика. Построили графики стандартного отклонения для этих услуг, получили следующие результаты:\n",
    "- заметный разброс по продолжительности звонков у пользователей тарифа ultra;\n",
    "- разброс количества сообщений по пользователям, намного сильнее на тарифе ultra, чем на тарифе smart;\n",
    "- пользователи активнее пользуются тарифом ultra и одновременно с этим видно, что выручка по данному тарифу тоже заметно выше, чем на тарифе smart."
   ]
  },
  {
   "cell_type": "markdown",
   "metadata": {},
   "source": [
    "## Проверка гипотез"
   ]
  },
  {
   "cell_type": "markdown",
   "metadata": {},
   "source": [
    "### Гипотеза №1"
   ]
  },
  {
   "cell_type": "markdown",
   "metadata": {},
   "source": [
    "- средняя выручка пользователей тарифов ultra и smart различается.    \n",
    "\n",
    "Создадим две выборки для последующего анализа.  "
   ]
  },
  {
   "cell_type": "code",
   "execution_count": 43,
   "metadata": {},
   "outputs": [],
   "source": [
    "ultra = users_all.query('tariff == \"ultra\"')\n",
    "smart = users_all.query('tariff == \"smart\"')"
   ]
  },
  {
   "cell_type": "markdown",
   "metadata": {},
   "source": [
    "Гипотеза H₀: средние выручки тарифов smart и ultra равны друг другу.   \n",
    "Гипотеза H₁: средние выручки тарифов smart и ultra не равны друг другу."
   ]
  },
  {
   "cell_type": "code",
   "execution_count": 44,
   "metadata": {},
   "outputs": [
    {
     "name": "stdout",
     "output_type": "stream",
     "text": [
      "Отвергаем нулевую гипотезу\n",
      "6.179723168444486e-274\n"
     ]
    }
   ],
   "source": [
    "sample_1 = ultra['profit']\n",
    "sample_2 = smart['profit']\n",
    "\n",
    "alpha = 0.05\n",
    "\n",
    "results = st.ttest_ind(sample_1, sample_2, equal_var = False)\n",
    "\n",
    "if results.pvalue < alpha:\n",
    "    print(\"Отвергаем нулевую гипотезу\")\n",
    "else:\n",
    "    print(\"Не получилось отвергнуть нулевую гипотезу\")\n",
    "    \n",
    "print(results.pvalue)"
   ]
  },
  {
   "cell_type": "markdown",
   "metadata": {},
   "source": [
    "H₀ всегда формулируется так, чтобы использовать знак равенства.   \n",
    "В данном случае, если у нас средние выручки по тарифам smart и ultra за год равны друг другу, то данные не противоречат гипотезе. В обратном случае мы отвергаем нулевую гипотезу, что соответствует всем предыдущим данным по тарифам - действительно, ultra показывает ощутимо большую выручку за год, чем smart.  \n",
    "\n",
    "Для проверки гипотез был использован t-тест (известный как тест Стьюдента).  \n",
    "Этот тест используется, когда нужно сравнить средние значения двух независимых выборок по заданной переменной."
   ]
  },
  {
   "cell_type": "markdown",
   "metadata": {},
   "source": [
    "### Гипотеза №2"
   ]
  },
  {
   "cell_type": "markdown",
   "metadata": {},
   "source": [
    "- средняя выручка по пользователям из Москвы отличается от выручки пользователей из других регионов  \n",
    "\n",
    "Создадим две выборки для анализа. "
   ]
  },
  {
   "cell_type": "code",
   "execution_count": 45,
   "metadata": {},
   "outputs": [],
   "source": [
    "moscow = users_all.query('city == \"Москва\"')\n",
    "regions = users_all.query('city != \"Москва\"')"
   ]
  },
  {
   "cell_type": "markdown",
   "metadata": {},
   "source": [
    "Гипотеза H₀: средние значения выручки по Москве и по регионам равны друг другу.  \n",
    "Гипотеза H₁: средние значения выручки по Москве и по регионам отличаются."
   ]
  },
  {
   "cell_type": "code",
   "execution_count": 46,
   "metadata": {},
   "outputs": [
    {
     "name": "stdout",
     "output_type": "stream",
     "text": [
      "Не получилось отвергнуть нулевую гипотезу\n",
      "0.46532858228722906\n"
     ]
    }
   ],
   "source": [
    "sample_1 = moscow['profit']\n",
    "sample_2 = regions['profit']\n",
    "\n",
    "alpha = 0.05\n",
    "\n",
    "results = st.ttest_ind(sample_1, sample_2, equal_var = False)\n",
    "\n",
    "if results.pvalue < alpha:\n",
    "    print(\"Отвергаем нулевую гипотезу\")\n",
    "else:\n",
    "    print(\"Не получилось отвергнуть нулевую гипотезу\")\n",
    "    \n",
    "print(results.pvalue)"
   ]
  },
  {
   "cell_type": "markdown",
   "metadata": {},
   "source": [
    "В данном случае мы видим, что выручка по регионам не отличается от выручки по Москве. Это вполне логично, так как Москва - это один многомиллионный столичный город, а регионы это совокупность городов с меньшим количеством жителей. \n",
    "\n",
    "Здесь мы также использовали тест Стьюдента для сравнения средних значений двух выборок."
   ]
  },
  {
   "cell_type": "markdown",
   "metadata": {},
   "source": [
    "**Вывод по разделу**  \n",
    "\n",
    "Для сравнения средних значений двух выборок мы использовали тест Стьюдента.  \n",
    "  \n",
    "*Гипотеза №1:* средняя выручка пользователей тарифов ultra и smart различается.  \n",
    "  \n",
    "По результатам теста мы отвергли нулевую гипотезу о равенстве средней выручки по тарифам, тем самым подтвердив ранее полученные результаты (тариф ultra показывает ощутимо большую выручку за год, чем smart).  \n",
    "  \n",
    "*Гипотеза №2:* средняя выручка по пользователям из Москвы отличается от выручки пользователей из других регионов.\n",
    "\n",
    "В данном случае нулевую гипотезу о равенстве средних значений выручки по Москве и по регионам равны отвегнуть не удалось. Средняя выручка по столице практически равна выручке по регионам. "
   ]
  },
  {
   "cell_type": "markdown",
   "metadata": {},
   "source": [
    "## Общий вывод"
   ]
  },
  {
   "cell_type": "markdown",
   "metadata": {},
   "source": [
    "В рамках исследования мы проанализировали поведение клиентов «Мегалайн» (пользователей тарифов smart и ultra), подсчитали для каждого пользователя по месяцам: количество звонков и израсходованных минут разговора, количество отправленных сообщений, объем израсходованного интернет-трафика и выручку с каждого пользователя.\n",
    "\n",
    "Мы выяснили, что длительность звонков, количество отправленных сообщений и объем использованного интернет-трафика по тарифу ultra больше, чем по тарифу smart. Выручка по тарифу ultra превышает выручку по тарифу smart. Мы предположили, что лидерство обусловлено тем, что в тариф smart включено меньше бесплатных минут, sms и mb. Также мы выявили, что тариф smart под конец года по выручке начинает догонять ultra. \n",
    "\n",
    "Изучив данные о количестве минут разговора, сообщений и объёме интернет-трафика используемых пользователями каждого тарифа ежемесячно, посчитали среднее количество, дисперсию и стандартное отклонение мы обнаружили большой разброс по продолжительности звонков у пользователей тарифа ultra, пользователи ultra звонят чаще, чем пользователи тарифа smart. Также как и для звонков разброс количества сообщений намного сильнее на тарифе ultra, чем на тарифе smart, что объясняется более активным использованием услуги отправки sms сообщений на тарифе ultra. \n",
    "\n",
    "Проверка гипотезы о различии средней выручки по тарифам подтвердила ранее полученные результаты (тариф ultra показывает ощутимо большую выручку за год, чем тариф smart). Проверка гипотезы о различии средних значений выручки по Москве и по регионам показала, что средняя выручка по столице практически равна средней выручке по регионам. \n",
    "\n",
    "Полученные выше результаты указывают на то, что ultra более перспективный тариф как для компании, так и для пользователей. "
   ]
  }
 ],
 "metadata": {
  "ExecuteTimeLog": [
   {
    "duration": 343,
    "start_time": "2021-08-17T13:07:51.646Z"
   },
   {
    "duration": 896,
    "start_time": "2021-08-17T13:08:17.739Z"
   },
   {
    "duration": 217,
    "start_time": "2021-08-17T13:08:27.800Z"
   },
   {
    "duration": 181,
    "start_time": "2021-08-17T13:08:36.710Z"
   },
   {
    "duration": 117,
    "start_time": "2021-08-17T13:08:47.809Z"
   },
   {
    "duration": 25,
    "start_time": "2021-08-17T13:08:58.778Z"
   },
   {
    "duration": 388,
    "start_time": "2021-08-17T13:09:03.259Z"
   },
   {
    "duration": 45,
    "start_time": "2021-08-17T13:09:21.159Z"
   },
   {
    "duration": 29,
    "start_time": "2021-08-17T13:29:58.821Z"
   },
   {
    "duration": 23,
    "start_time": "2021-08-17T13:30:33.227Z"
   },
   {
    "duration": 21,
    "start_time": "2021-08-17T13:31:13.849Z"
   },
   {
    "duration": 8,
    "start_time": "2021-08-17T13:31:41.415Z"
   },
   {
    "duration": 9,
    "start_time": "2021-08-17T13:32:00.806Z"
   },
   {
    "duration": 326,
    "start_time": "2021-08-17T13:47:39.219Z"
   },
   {
    "duration": 303,
    "start_time": "2021-08-17T13:47:45.288Z"
   },
   {
    "duration": 1951,
    "start_time": "2021-08-17T13:47:53.498Z"
   },
   {
    "duration": 90,
    "start_time": "2021-08-17T13:49:17.929Z"
   },
   {
    "duration": 237,
    "start_time": "2021-08-17T13:49:21.730Z"
   },
   {
    "duration": 25,
    "start_time": "2021-08-17T13:49:33.499Z"
   },
   {
    "duration": 888,
    "start_time": "2021-08-17T13:52:21.938Z"
   },
   {
    "duration": 215,
    "start_time": "2021-08-17T13:52:25.335Z"
   },
   {
    "duration": 27,
    "start_time": "2021-08-17T13:52:27.463Z"
   },
   {
    "duration": 176,
    "start_time": "2021-08-17T13:52:50.610Z"
   },
   {
    "duration": 23,
    "start_time": "2021-08-17T13:56:10.586Z"
   },
   {
    "duration": 123,
    "start_time": "2021-08-17T13:56:39.539Z"
   },
   {
    "duration": 21,
    "start_time": "2021-08-17T13:56:42.533Z"
   },
   {
    "duration": 26,
    "start_time": "2021-08-17T13:57:24.224Z"
   },
   {
    "duration": 9,
    "start_time": "2021-08-17T13:57:28.341Z"
   },
   {
    "duration": 38,
    "start_time": "2021-08-17T14:01:20.422Z"
   },
   {
    "duration": 9,
    "start_time": "2021-08-17T14:01:23.342Z"
   },
   {
    "duration": 387,
    "start_time": "2021-08-17T14:46:01.821Z"
   },
   {
    "duration": 41,
    "start_time": "2021-08-17T14:46:15.291Z"
   },
   {
    "duration": 35,
    "start_time": "2021-08-17T14:46:19.951Z"
   },
   {
    "duration": 898,
    "start_time": "2021-08-17T15:35:19.233Z"
   },
   {
    "duration": 245,
    "start_time": "2021-08-17T15:35:24.664Z"
   },
   {
    "duration": 45,
    "start_time": "2021-08-17T15:35:48.703Z"
   },
   {
    "duration": 11,
    "start_time": "2021-08-17T15:36:10.825Z"
   },
   {
    "duration": 50,
    "start_time": "2021-08-17T15:36:30.594Z"
   },
   {
    "duration": 45,
    "start_time": "2021-08-17T15:37:00.573Z"
   },
   {
    "duration": 214,
    "start_time": "2021-08-17T15:37:23.353Z"
   },
   {
    "duration": 888,
    "start_time": "2021-08-17T15:37:31.236Z"
   },
   {
    "duration": 48,
    "start_time": "2021-08-17T15:37:33.776Z"
   },
   {
    "duration": 10,
    "start_time": "2021-08-17T15:37:36.016Z"
   },
   {
    "duration": 222,
    "start_time": "2021-08-17T15:37:38.757Z"
   },
   {
    "duration": 27,
    "start_time": "2021-08-17T15:37:41.497Z"
   },
   {
    "duration": 118,
    "start_time": "2021-08-17T15:38:29.540Z"
   },
   {
    "duration": 19,
    "start_time": "2021-08-17T15:38:32.415Z"
   },
   {
    "duration": 186,
    "start_time": "2021-08-17T15:39:02.535Z"
   },
   {
    "duration": 24,
    "start_time": "2021-08-17T15:39:04.897Z"
   },
   {
    "duration": 25,
    "start_time": "2021-08-17T15:39:08.906Z"
   },
   {
    "duration": 9,
    "start_time": "2021-08-17T15:39:11.926Z"
   },
   {
    "duration": 215,
    "start_time": "2021-08-17T15:51:42.222Z"
   },
   {
    "duration": 250,
    "start_time": "2021-08-17T15:51:48.535Z"
   },
   {
    "duration": 227,
    "start_time": "2021-08-17T15:52:34.254Z"
   },
   {
    "duration": 892,
    "start_time": "2021-08-17T16:25:39.327Z"
   },
   {
    "duration": 71,
    "start_time": "2021-08-17T16:25:42.639Z"
   },
   {
    "duration": 10,
    "start_time": "2021-08-17T16:25:44.989Z"
   },
   {
    "duration": 221,
    "start_time": "2021-08-17T16:25:47.839Z"
   },
   {
    "duration": 28,
    "start_time": "2021-08-17T16:25:50.589Z"
   },
   {
    "duration": 179,
    "start_time": "2021-08-17T16:25:52.900Z"
   },
   {
    "duration": 32,
    "start_time": "2021-08-17T16:25:55.079Z"
   },
   {
    "duration": 268,
    "start_time": "2021-08-17T16:25:57.999Z"
   },
   {
    "duration": 37,
    "start_time": "2021-08-17T16:26:00.077Z"
   },
   {
    "duration": 25,
    "start_time": "2021-08-17T16:26:02.534Z"
   },
   {
    "duration": 10,
    "start_time": "2021-08-17T16:26:05.139Z"
   },
   {
    "duration": 1226,
    "start_time": "2021-08-17T16:29:11.535Z"
   },
   {
    "duration": 63,
    "start_time": "2021-08-17T16:29:14.145Z"
   },
   {
    "duration": 11,
    "start_time": "2021-08-17T16:29:17.066Z"
   },
   {
    "duration": 245,
    "start_time": "2021-08-17T16:29:21.115Z"
   },
   {
    "duration": 29,
    "start_time": "2021-08-17T16:29:23.816Z"
   },
   {
    "duration": 128,
    "start_time": "2021-08-17T16:29:26.045Z"
   },
   {
    "duration": 31,
    "start_time": "2021-08-17T16:29:28.836Z"
   },
   {
    "duration": 222,
    "start_time": "2021-08-17T16:29:31.295Z"
   },
   {
    "duration": 38,
    "start_time": "2021-08-17T16:29:33.416Z"
   },
   {
    "duration": 34,
    "start_time": "2021-08-17T16:29:35.768Z"
   },
   {
    "duration": 12,
    "start_time": "2021-08-17T16:29:38.597Z"
   },
   {
    "duration": 835,
    "start_time": "2021-08-17T16:34:53.021Z"
   },
   {
    "duration": 73,
    "start_time": "2021-08-17T16:34:53.859Z"
   },
   {
    "duration": 10,
    "start_time": "2021-08-17T16:34:53.935Z"
   },
   {
    "duration": 220,
    "start_time": "2021-08-17T16:34:53.948Z"
   },
   {
    "duration": 39,
    "start_time": "2021-08-17T16:34:54.172Z"
   },
   {
    "duration": 141,
    "start_time": "2021-08-17T16:34:54.214Z"
   },
   {
    "duration": 24,
    "start_time": "2021-08-17T16:34:54.358Z"
   },
   {
    "duration": 263,
    "start_time": "2021-08-17T16:34:54.384Z"
   },
   {
    "duration": 47,
    "start_time": "2021-08-17T16:34:54.652Z"
   },
   {
    "duration": 32,
    "start_time": "2021-08-17T16:34:54.703Z"
   },
   {
    "duration": 30,
    "start_time": "2021-08-17T16:34:54.738Z"
   },
   {
    "duration": 384,
    "start_time": "2021-08-17T16:34:54.770Z"
   },
   {
    "duration": 846,
    "start_time": "2021-08-17T16:35:04.997Z"
   },
   {
    "duration": 57,
    "start_time": "2021-08-17T16:35:07.198Z"
   },
   {
    "duration": 11,
    "start_time": "2021-08-17T16:35:10.087Z"
   },
   {
    "duration": 222,
    "start_time": "2021-08-17T16:35:12.314Z"
   },
   {
    "duration": 30,
    "start_time": "2021-08-17T16:35:14.567Z"
   },
   {
    "duration": 122,
    "start_time": "2021-08-17T16:35:16.928Z"
   },
   {
    "duration": 21,
    "start_time": "2021-08-17T16:35:19.237Z"
   },
   {
    "duration": 187,
    "start_time": "2021-08-17T16:35:21.677Z"
   },
   {
    "duration": 24,
    "start_time": "2021-08-17T16:35:23.938Z"
   },
   {
    "duration": 26,
    "start_time": "2021-08-17T16:35:26.644Z"
   },
   {
    "duration": 8,
    "start_time": "2021-08-17T16:35:28.837Z"
   },
   {
    "duration": 420,
    "start_time": "2021-08-17T16:35:31.677Z"
   },
   {
    "duration": 270,
    "start_time": "2021-08-17T16:36:17.057Z"
   },
   {
    "duration": 302,
    "start_time": "2021-08-17T16:37:26.798Z"
   },
   {
    "duration": 23,
    "start_time": "2021-08-17T17:25:51.508Z"
   },
   {
    "duration": 36,
    "start_time": "2021-08-17T17:26:59.487Z"
   },
   {
    "duration": 20,
    "start_time": "2021-08-17T17:27:42.737Z"
   },
   {
    "duration": 1039,
    "start_time": "2021-08-17T17:58:35.847Z"
   },
   {
    "duration": 987,
    "start_time": "2021-08-17T17:59:36.796Z"
   },
   {
    "duration": 20,
    "start_time": "2021-08-17T18:00:19.916Z"
   },
   {
    "duration": 26,
    "start_time": "2021-08-17T18:00:45.526Z"
   },
   {
    "duration": 19,
    "start_time": "2021-08-17T18:02:05.567Z"
   },
   {
    "duration": 17,
    "start_time": "2021-08-17T18:03:02.157Z"
   },
   {
    "duration": 13,
    "start_time": "2021-08-17T18:03:34.797Z"
   },
   {
    "duration": 23,
    "start_time": "2021-08-17T18:03:50.396Z"
   },
   {
    "duration": 32,
    "start_time": "2021-08-17T18:04:20.476Z"
   },
   {
    "duration": 25,
    "start_time": "2021-08-17T18:04:38.756Z"
   },
   {
    "duration": 16,
    "start_time": "2021-08-17T18:05:10.119Z"
   },
   {
    "duration": 879,
    "start_time": "2021-08-17T18:15:36.351Z"
   },
   {
    "duration": 50,
    "start_time": "2021-08-17T18:15:47.532Z"
   },
   {
    "duration": 9,
    "start_time": "2021-08-17T18:15:49.399Z"
   },
   {
    "duration": 214,
    "start_time": "2021-08-17T18:15:51.341Z"
   },
   {
    "duration": 29,
    "start_time": "2021-08-17T18:16:13.542Z"
   },
   {
    "duration": 118,
    "start_time": "2021-08-17T18:16:17.601Z"
   },
   {
    "duration": 20,
    "start_time": "2021-08-17T18:16:19.762Z"
   },
   {
    "duration": 175,
    "start_time": "2021-08-17T18:16:22.082Z"
   },
   {
    "duration": 22,
    "start_time": "2021-08-17T18:16:24.293Z"
   },
   {
    "duration": 26,
    "start_time": "2021-08-17T18:16:26.501Z"
   },
   {
    "duration": 9,
    "start_time": "2021-08-17T18:16:28.673Z"
   },
   {
    "duration": 28,
    "start_time": "2021-08-17T18:16:36.803Z"
   },
   {
    "duration": 927,
    "start_time": "2021-08-17T18:18:17.344Z"
   },
   {
    "duration": 47,
    "start_time": "2021-08-17T18:18:19.941Z"
   },
   {
    "duration": 10,
    "start_time": "2021-08-17T18:18:22.361Z"
   },
   {
    "duration": 206,
    "start_time": "2021-08-17T18:18:25.551Z"
   },
   {
    "duration": 27,
    "start_time": "2021-08-17T18:18:28.151Z"
   },
   {
    "duration": 121,
    "start_time": "2021-08-17T18:18:31.179Z"
   },
   {
    "duration": 21,
    "start_time": "2021-08-17T18:18:34.051Z"
   },
   {
    "duration": 183,
    "start_time": "2021-08-17T18:18:36.353Z"
   },
   {
    "duration": 23,
    "start_time": "2021-08-17T18:18:39.023Z"
   },
   {
    "duration": 25,
    "start_time": "2021-08-17T18:18:42.321Z"
   },
   {
    "duration": 9,
    "start_time": "2021-08-17T18:18:45.521Z"
   },
   {
    "duration": 27,
    "start_time": "2021-08-17T18:18:56.811Z"
   },
   {
    "duration": 382,
    "start_time": "2021-08-17T18:19:02.681Z"
   },
   {
    "duration": 324,
    "start_time": "2021-08-17T18:23:27.204Z"
   },
   {
    "duration": 842,
    "start_time": "2021-08-17T18:25:50.469Z"
   },
   {
    "duration": 40,
    "start_time": "2021-08-17T18:25:52.968Z"
   },
   {
    "duration": 10,
    "start_time": "2021-08-17T18:25:55.479Z"
   },
   {
    "duration": 210,
    "start_time": "2021-08-17T18:25:57.458Z"
   },
   {
    "duration": 31,
    "start_time": "2021-08-17T18:26:00.068Z"
   },
   {
    "duration": 120,
    "start_time": "2021-08-17T18:26:02.588Z"
   },
   {
    "duration": 21,
    "start_time": "2021-08-17T18:26:04.568Z"
   },
   {
    "duration": 180,
    "start_time": "2021-08-17T18:26:07.105Z"
   },
   {
    "duration": 25,
    "start_time": "2021-08-17T18:26:09.429Z"
   },
   {
    "duration": 26,
    "start_time": "2021-08-17T18:26:11.733Z"
   },
   {
    "duration": 10,
    "start_time": "2021-08-17T18:26:14.337Z"
   },
   {
    "duration": 29,
    "start_time": "2021-08-17T18:26:21.191Z"
   },
   {
    "duration": 340,
    "start_time": "2021-08-17T18:26:35.226Z"
   },
   {
    "duration": 857,
    "start_time": "2021-08-17T18:28:35.060Z"
   },
   {
    "duration": 43,
    "start_time": "2021-08-17T18:28:37.924Z"
   },
   {
    "duration": 9,
    "start_time": "2021-08-17T18:28:39.902Z"
   },
   {
    "duration": 213,
    "start_time": "2021-08-17T18:28:42.372Z"
   },
   {
    "duration": 26,
    "start_time": "2021-08-17T18:28:44.565Z"
   },
   {
    "duration": 126,
    "start_time": "2021-08-17T18:28:47.642Z"
   },
   {
    "duration": 19,
    "start_time": "2021-08-17T18:28:49.762Z"
   },
   {
    "duration": 187,
    "start_time": "2021-08-17T18:28:51.892Z"
   },
   {
    "duration": 24,
    "start_time": "2021-08-17T18:28:54.112Z"
   },
   {
    "duration": 25,
    "start_time": "2021-08-17T18:28:56.454Z"
   },
   {
    "duration": 10,
    "start_time": "2021-08-17T18:28:58.454Z"
   },
   {
    "duration": 425,
    "start_time": "2021-08-17T18:34:52.421Z"
   },
   {
    "duration": 132,
    "start_time": "2021-08-17T18:35:41.302Z"
   },
   {
    "duration": 15,
    "start_time": "2021-08-17T18:36:01.153Z"
   },
   {
    "duration": 13,
    "start_time": "2021-08-17T18:36:15.012Z"
   },
   {
    "duration": 14,
    "start_time": "2021-08-17T18:36:20.882Z"
   },
   {
    "duration": 8,
    "start_time": "2021-08-17T18:47:29.674Z"
   },
   {
    "duration": 51,
    "start_time": "2021-08-17T18:47:44.864Z"
   },
   {
    "duration": 10,
    "start_time": "2021-08-17T18:49:43.344Z"
   },
   {
    "duration": 253,
    "start_time": "2021-08-17T18:51:07.926Z"
   },
   {
    "duration": 261,
    "start_time": "2021-08-17T18:51:25.105Z"
   },
   {
    "duration": 889,
    "start_time": "2021-08-17T18:54:50.038Z"
   },
   {
    "duration": 42,
    "start_time": "2021-08-17T18:54:52.911Z"
   },
   {
    "duration": 10,
    "start_time": "2021-08-17T18:54:55.371Z"
   },
   {
    "duration": 226,
    "start_time": "2021-08-17T18:54:58.000Z"
   },
   {
    "duration": 28,
    "start_time": "2021-08-17T18:55:00.200Z"
   },
   {
    "duration": 123,
    "start_time": "2021-08-17T18:55:02.620Z"
   },
   {
    "duration": 19,
    "start_time": "2021-08-17T18:55:04.712Z"
   },
   {
    "duration": 181,
    "start_time": "2021-08-17T18:55:07.080Z"
   },
   {
    "duration": 23,
    "start_time": "2021-08-17T18:55:09.792Z"
   },
   {
    "duration": 26,
    "start_time": "2021-08-17T18:55:12.380Z"
   },
   {
    "duration": 9,
    "start_time": "2021-08-17T18:55:15.392Z"
   },
   {
    "duration": 170,
    "start_time": "2021-08-17T18:55:23.501Z"
   },
   {
    "duration": 67,
    "start_time": "2021-08-17T18:57:33.499Z"
   },
   {
    "duration": 12,
    "start_time": "2021-08-17T18:57:38.611Z"
   },
   {
    "duration": 78,
    "start_time": "2021-08-17T18:59:16.960Z"
   },
   {
    "duration": 357,
    "start_time": "2021-08-17T18:59:33.456Z"
   },
   {
    "duration": 4,
    "start_time": "2021-08-17T19:00:36.440Z"
   },
   {
    "duration": 226,
    "start_time": "2021-08-17T19:00:43.340Z"
   },
   {
    "duration": 91,
    "start_time": "2021-08-17T19:12:24.061Z"
   },
   {
    "duration": 71,
    "start_time": "2021-08-17T19:12:32.311Z"
   },
   {
    "duration": 81,
    "start_time": "2021-08-17T19:13:34.132Z"
   },
   {
    "duration": 11,
    "start_time": "2021-08-17T19:14:25.066Z"
   },
   {
    "duration": 20,
    "start_time": "2021-08-17T19:14:44.188Z"
   },
   {
    "duration": 647,
    "start_time": "2021-08-17T19:14:53.754Z"
   },
   {
    "duration": 19,
    "start_time": "2021-08-17T19:14:59.414Z"
   },
   {
    "duration": 91,
    "start_time": "2021-08-17T19:15:04.562Z"
   },
   {
    "duration": 21,
    "start_time": "2021-08-17T19:15:06.458Z"
   },
   {
    "duration": 841,
    "start_time": "2021-08-17T19:54:19.001Z"
   },
   {
    "duration": 43,
    "start_time": "2021-08-17T19:54:20.646Z"
   },
   {
    "duration": 10,
    "start_time": "2021-08-17T19:54:22.816Z"
   },
   {
    "duration": 214,
    "start_time": "2021-08-17T19:54:24.854Z"
   },
   {
    "duration": 28,
    "start_time": "2021-08-17T19:54:26.965Z"
   },
   {
    "duration": 124,
    "start_time": "2021-08-17T19:54:29.194Z"
   },
   {
    "duration": 21,
    "start_time": "2021-08-17T19:54:31.455Z"
   },
   {
    "duration": 184,
    "start_time": "2021-08-17T19:54:33.672Z"
   },
   {
    "duration": 23,
    "start_time": "2021-08-17T19:54:35.983Z"
   },
   {
    "duration": 26,
    "start_time": "2021-08-17T19:54:38.135Z"
   },
   {
    "duration": 8,
    "start_time": "2021-08-17T19:54:40.486Z"
   },
   {
    "duration": 384,
    "start_time": "2021-08-17T19:54:45.444Z"
   },
   {
    "duration": 268,
    "start_time": "2021-08-17T19:56:00.406Z"
   },
   {
    "duration": 282,
    "start_time": "2021-08-17T19:56:07.395Z"
   },
   {
    "duration": 254,
    "start_time": "2021-08-17T19:56:21.544Z"
   },
   {
    "duration": 276,
    "start_time": "2021-08-17T19:58:31.979Z"
   },
   {
    "duration": 291,
    "start_time": "2021-08-17T19:59:00.531Z"
   },
   {
    "duration": 169,
    "start_time": "2021-08-17T20:02:07.580Z"
   },
   {
    "duration": 4,
    "start_time": "2021-08-17T20:04:47.648Z"
   },
   {
    "duration": 5,
    "start_time": "2021-08-17T20:05:43.578Z"
   },
   {
    "duration": 24,
    "start_time": "2021-08-17T20:07:52.811Z"
   },
   {
    "duration": 25,
    "start_time": "2021-08-17T20:08:33.220Z"
   },
   {
    "duration": 836,
    "start_time": "2021-08-18T16:42:49.333Z"
   },
   {
    "duration": 41,
    "start_time": "2021-08-18T16:42:53.431Z"
   },
   {
    "duration": 10,
    "start_time": "2021-08-18T16:42:55.511Z"
   },
   {
    "duration": 203,
    "start_time": "2021-08-18T16:43:00.014Z"
   },
   {
    "duration": 28,
    "start_time": "2021-08-18T16:43:02.532Z"
   },
   {
    "duration": 122,
    "start_time": "2021-08-18T16:43:10.782Z"
   },
   {
    "duration": 19,
    "start_time": "2021-08-18T16:43:13.099Z"
   },
   {
    "duration": 188,
    "start_time": "2021-08-18T16:43:15.047Z"
   },
   {
    "duration": 26,
    "start_time": "2021-08-18T16:43:17.211Z"
   },
   {
    "duration": 24,
    "start_time": "2021-08-18T16:43:19.607Z"
   },
   {
    "duration": 9,
    "start_time": "2021-08-18T16:43:22.023Z"
   },
   {
    "duration": 158,
    "start_time": "2021-08-18T16:43:25.942Z"
   },
   {
    "duration": 34,
    "start_time": "2021-08-18T16:43:29.853Z"
   },
   {
    "duration": 83,
    "start_time": "2021-08-18T16:43:46.463Z"
   },
   {
    "duration": 802,
    "start_time": "2021-08-18T16:48:18.557Z"
   },
   {
    "duration": 40,
    "start_time": "2021-08-18T16:48:19.977Z"
   },
   {
    "duration": 11,
    "start_time": "2021-08-18T16:48:21.957Z"
   },
   {
    "duration": 184,
    "start_time": "2021-08-18T16:48:23.990Z"
   },
   {
    "duration": 26,
    "start_time": "2021-08-18T16:48:25.835Z"
   },
   {
    "duration": 117,
    "start_time": "2021-08-18T16:48:29.167Z"
   },
   {
    "duration": 18,
    "start_time": "2021-08-18T16:48:31.027Z"
   },
   {
    "duration": 161,
    "start_time": "2021-08-18T16:48:32.876Z"
   },
   {
    "duration": 22,
    "start_time": "2021-08-18T16:48:34.807Z"
   },
   {
    "duration": 23,
    "start_time": "2021-08-18T16:48:36.767Z"
   },
   {
    "duration": 8,
    "start_time": "2021-08-18T16:48:38.817Z"
   },
   {
    "duration": 157,
    "start_time": "2021-08-18T16:48:43.236Z"
   },
   {
    "duration": 23,
    "start_time": "2021-08-18T16:49:18.896Z"
   },
   {
    "duration": 85,
    "start_time": "2021-08-18T16:49:26.256Z"
   },
   {
    "duration": 25,
    "start_time": "2021-08-18T16:50:49.746Z"
   },
   {
    "duration": 235,
    "start_time": "2021-08-18T16:51:29.217Z"
   },
   {
    "duration": 314,
    "start_time": "2021-08-18T16:53:09.766Z"
   },
   {
    "duration": 232,
    "start_time": "2021-08-18T16:53:38.461Z"
   },
   {
    "duration": 828,
    "start_time": "2021-08-18T16:55:23.174Z"
   },
   {
    "duration": 40,
    "start_time": "2021-08-18T16:55:25.665Z"
   },
   {
    "duration": 9,
    "start_time": "2021-08-18T16:55:28.246Z"
   },
   {
    "duration": 188,
    "start_time": "2021-08-18T16:55:30.734Z"
   },
   {
    "duration": 27,
    "start_time": "2021-08-18T16:55:32.714Z"
   },
   {
    "duration": 108,
    "start_time": "2021-08-18T16:55:34.814Z"
   },
   {
    "duration": 17,
    "start_time": "2021-08-18T16:55:36.786Z"
   },
   {
    "duration": 157,
    "start_time": "2021-08-18T16:55:39.096Z"
   },
   {
    "duration": 21,
    "start_time": "2021-08-18T16:55:41.526Z"
   },
   {
    "duration": 24,
    "start_time": "2021-08-18T16:55:44.044Z"
   },
   {
    "duration": 9,
    "start_time": "2021-08-18T16:55:46.254Z"
   },
   {
    "duration": 155,
    "start_time": "2021-08-18T16:56:01.934Z"
   },
   {
    "duration": 23,
    "start_time": "2021-08-18T16:56:04.144Z"
   },
   {
    "duration": 20,
    "start_time": "2021-08-18T16:57:22.143Z"
   },
   {
    "duration": 14,
    "start_time": "2021-08-18T16:57:41.470Z"
   },
   {
    "duration": 76,
    "start_time": "2021-08-18T16:58:18.058Z"
   },
   {
    "duration": 28,
    "start_time": "2021-08-18T16:59:31.682Z"
   },
   {
    "duration": 16,
    "start_time": "2021-08-18T16:59:41.882Z"
   },
   {
    "duration": 34,
    "start_time": "2021-08-18T17:00:24.392Z"
   },
   {
    "duration": 32,
    "start_time": "2021-08-18T17:01:44.282Z"
   },
   {
    "duration": 891,
    "start_time": "2021-08-18T17:02:40.471Z"
   },
   {
    "duration": 51,
    "start_time": "2021-08-18T17:02:43.175Z"
   },
   {
    "duration": 10,
    "start_time": "2021-08-18T17:02:45.785Z"
   },
   {
    "duration": 196,
    "start_time": "2021-08-18T17:02:48.254Z"
   },
   {
    "duration": 30,
    "start_time": "2021-08-18T17:02:50.165Z"
   },
   {
    "duration": 126,
    "start_time": "2021-08-18T17:02:55.544Z"
   },
   {
    "duration": 18,
    "start_time": "2021-08-18T17:02:57.737Z"
   },
   {
    "duration": 188,
    "start_time": "2021-08-18T17:03:00.466Z"
   },
   {
    "duration": 23,
    "start_time": "2021-08-18T17:03:03.046Z"
   },
   {
    "duration": 24,
    "start_time": "2021-08-18T17:03:05.545Z"
   },
   {
    "duration": 9,
    "start_time": "2021-08-18T17:03:08.075Z"
   },
   {
    "duration": 197,
    "start_time": "2021-08-18T17:03:14.325Z"
   },
   {
    "duration": 29,
    "start_time": "2021-08-18T17:03:17.225Z"
   },
   {
    "duration": 22,
    "start_time": "2021-08-18T17:03:22.257Z"
   },
   {
    "duration": 111,
    "start_time": "2021-08-18T17:03:59.815Z"
   },
   {
    "duration": 44,
    "start_time": "2021-08-18T17:04:02.430Z"
   },
   {
    "duration": 44,
    "start_time": "2021-08-18T17:05:02.275Z"
   },
   {
    "duration": 25,
    "start_time": "2021-08-18T17:05:17.624Z"
   },
   {
    "duration": 26,
    "start_time": "2021-08-18T17:06:23.811Z"
   },
   {
    "duration": 25,
    "start_time": "2021-08-18T17:07:03.108Z"
   },
   {
    "duration": 11,
    "start_time": "2021-08-18T17:09:27.284Z"
   },
   {
    "duration": 12,
    "start_time": "2021-08-18T17:12:37.859Z"
   },
   {
    "duration": 12,
    "start_time": "2021-08-18T17:15:19.187Z"
   },
   {
    "duration": 842,
    "start_time": "2021-08-18T17:17:12.450Z"
   },
   {
    "duration": 38,
    "start_time": "2021-08-18T17:17:14.868Z"
   },
   {
    "duration": 10,
    "start_time": "2021-08-18T17:17:18.740Z"
   },
   {
    "duration": 200,
    "start_time": "2021-08-18T17:17:21.868Z"
   },
   {
    "duration": 24,
    "start_time": "2021-08-18T17:17:24.351Z"
   },
   {
    "duration": 110,
    "start_time": "2021-08-18T17:17:28.618Z"
   },
   {
    "duration": 19,
    "start_time": "2021-08-18T17:17:35.657Z"
   },
   {
    "duration": 160,
    "start_time": "2021-08-18T17:17:38.038Z"
   },
   {
    "duration": 24,
    "start_time": "2021-08-18T17:17:40.012Z"
   },
   {
    "duration": 23,
    "start_time": "2021-08-18T17:17:42.290Z"
   },
   {
    "duration": 8,
    "start_time": "2021-08-18T17:17:44.832Z"
   },
   {
    "duration": 165,
    "start_time": "2021-08-18T17:17:57.700Z"
   },
   {
    "duration": 8,
    "start_time": "2021-08-18T17:19:04.465Z"
   },
   {
    "duration": 9,
    "start_time": "2021-08-18T17:19:34.522Z"
   },
   {
    "duration": 9,
    "start_time": "2021-08-18T17:19:41.942Z"
   },
   {
    "duration": 37,
    "start_time": "2021-08-18T17:19:51.813Z"
   },
   {
    "duration": 24,
    "start_time": "2021-08-18T17:20:03.981Z"
   },
   {
    "duration": 91,
    "start_time": "2021-08-18T17:20:17.954Z"
   },
   {
    "duration": 32,
    "start_time": "2021-08-18T17:20:51.290Z"
   },
   {
    "duration": 28,
    "start_time": "2021-08-18T17:21:26.375Z"
   },
   {
    "duration": 11,
    "start_time": "2021-08-18T17:21:43.043Z"
   },
   {
    "duration": 26,
    "start_time": "2021-08-18T17:22:03.925Z"
   },
   {
    "duration": 14,
    "start_time": "2021-08-18T17:22:13.145Z"
   },
   {
    "duration": 380,
    "start_time": "2021-08-18T17:22:49.325Z"
   },
   {
    "duration": 734,
    "start_time": "2021-08-18T17:23:02.993Z"
   },
   {
    "duration": 90,
    "start_time": "2021-08-18T17:23:13.124Z"
   },
   {
    "duration": 240,
    "start_time": "2021-08-18T17:23:16.333Z"
   },
   {
    "duration": 26,
    "start_time": "2021-08-18T17:23:52.998Z"
   },
   {
    "duration": 7,
    "start_time": "2021-08-18T17:24:28.661Z"
   },
   {
    "duration": 765,
    "start_time": "2021-08-18T17:29:06.515Z"
   },
   {
    "duration": 39,
    "start_time": "2021-08-18T17:29:09.266Z"
   },
   {
    "duration": 9,
    "start_time": "2021-08-18T17:29:11.546Z"
   },
   {
    "duration": 188,
    "start_time": "2021-08-18T17:29:14.346Z"
   },
   {
    "duration": 26,
    "start_time": "2021-08-18T17:29:16.775Z"
   },
   {
    "duration": 110,
    "start_time": "2021-08-18T17:29:19.584Z"
   },
   {
    "duration": 19,
    "start_time": "2021-08-18T17:29:22.065Z"
   },
   {
    "duration": 159,
    "start_time": "2021-08-18T17:29:24.906Z"
   },
   {
    "duration": 21,
    "start_time": "2021-08-18T17:29:27.395Z"
   },
   {
    "duration": 24,
    "start_time": "2021-08-18T17:29:29.995Z"
   },
   {
    "duration": 8,
    "start_time": "2021-08-18T17:29:32.266Z"
   },
   {
    "duration": 151,
    "start_time": "2021-08-18T17:29:35.934Z"
   },
   {
    "duration": 23,
    "start_time": "2021-08-18T17:29:47.036Z"
   },
   {
    "duration": 18,
    "start_time": "2021-08-18T17:29:57.863Z"
   },
   {
    "duration": 22,
    "start_time": "2021-08-18T17:30:05.837Z"
   },
   {
    "duration": 23,
    "start_time": "2021-08-18T17:30:11.285Z"
   },
   {
    "duration": 71,
    "start_time": "2021-08-18T17:30:16.794Z"
   },
   {
    "duration": 7,
    "start_time": "2021-08-18T17:30:21.364Z"
   },
   {
    "duration": 1114,
    "start_time": "2021-08-18T17:31:29.033Z"
   },
   {
    "duration": 12,
    "start_time": "2021-08-18T17:32:39.846Z"
   },
   {
    "duration": 11,
    "start_time": "2021-08-18T17:32:59.293Z"
   },
   {
    "duration": 1128,
    "start_time": "2021-08-18T17:36:13.674Z"
   },
   {
    "duration": 299,
    "start_time": "2021-08-18T17:40:47.464Z"
   },
   {
    "duration": 266,
    "start_time": "2021-08-18T17:41:39.775Z"
   },
   {
    "duration": 4,
    "start_time": "2021-08-18T17:42:23.966Z"
   },
   {
    "duration": 9,
    "start_time": "2021-08-18T17:42:30.365Z"
   },
   {
    "duration": 8,
    "start_time": "2021-08-18T17:42:49.674Z"
   },
   {
    "duration": 1019,
    "start_time": "2021-08-18T17:43:13.225Z"
   },
   {
    "duration": 8,
    "start_time": "2021-08-18T17:44:25.335Z"
   },
   {
    "duration": 1022,
    "start_time": "2021-08-18T17:44:37.689Z"
   },
   {
    "duration": 46,
    "start_time": "2021-08-18T17:44:40.180Z"
   },
   {
    "duration": 12,
    "start_time": "2021-08-18T17:44:42.130Z"
   },
   {
    "duration": 271,
    "start_time": "2021-08-18T17:44:44.270Z"
   },
   {
    "duration": 41,
    "start_time": "2021-08-18T17:44:46.630Z"
   },
   {
    "duration": 154,
    "start_time": "2021-08-18T17:44:49.939Z"
   },
   {
    "duration": 28,
    "start_time": "2021-08-18T17:44:52.290Z"
   },
   {
    "duration": 227,
    "start_time": "2021-08-18T17:44:55.088Z"
   },
   {
    "duration": 32,
    "start_time": "2021-08-18T17:44:57.620Z"
   },
   {
    "duration": 23,
    "start_time": "2021-08-18T17:45:00.408Z"
   },
   {
    "duration": 9,
    "start_time": "2021-08-18T17:45:02.990Z"
   },
   {
    "duration": 217,
    "start_time": "2021-08-18T17:45:05.349Z"
   },
   {
    "duration": 25,
    "start_time": "2021-08-18T17:45:07.390Z"
   },
   {
    "duration": 21,
    "start_time": "2021-08-18T17:45:10.298Z"
   },
   {
    "duration": 73,
    "start_time": "2021-08-18T17:45:13.338Z"
   },
   {
    "duration": 7,
    "start_time": "2021-08-18T17:45:15.690Z"
   },
   {
    "duration": 7,
    "start_time": "2021-08-18T17:45:18.039Z"
   },
   {
    "duration": 1063,
    "start_time": "2021-08-18T17:47:41.266Z"
   },
   {
    "duration": 10,
    "start_time": "2021-08-18T17:53:57.317Z"
   },
   {
    "duration": 7,
    "start_time": "2021-08-18T17:54:08.895Z"
   },
   {
    "duration": 6,
    "start_time": "2021-08-18T17:54:33.427Z"
   },
   {
    "duration": 79,
    "start_time": "2021-08-18T17:54:36.253Z"
   },
   {
    "duration": 8,
    "start_time": "2021-08-18T17:54:38.035Z"
   },
   {
    "duration": 7,
    "start_time": "2021-08-18T17:54:46.256Z"
   },
   {
    "duration": 78,
    "start_time": "2021-08-18T17:55:17.086Z"
   },
   {
    "duration": 9,
    "start_time": "2021-08-18T17:55:20.045Z"
   },
   {
    "duration": 1066,
    "start_time": "2021-08-18T17:56:07.886Z"
   },
   {
    "duration": 46,
    "start_time": "2021-08-18T17:56:10.596Z"
   },
   {
    "duration": 14,
    "start_time": "2021-08-18T17:56:12.777Z"
   },
   {
    "duration": 204,
    "start_time": "2021-08-18T17:56:14.882Z"
   },
   {
    "duration": 40,
    "start_time": "2021-08-18T17:56:17.025Z"
   },
   {
    "duration": 113,
    "start_time": "2021-08-18T17:56:20.905Z"
   },
   {
    "duration": 18,
    "start_time": "2021-08-18T17:56:23.698Z"
   },
   {
    "duration": 229,
    "start_time": "2021-08-18T17:56:27.316Z"
   },
   {
    "duration": 24,
    "start_time": "2021-08-18T17:56:29.714Z"
   },
   {
    "duration": 26,
    "start_time": "2021-08-18T17:56:32.216Z"
   },
   {
    "duration": 11,
    "start_time": "2021-08-18T17:56:34.429Z"
   },
   {
    "duration": 162,
    "start_time": "2021-08-18T17:56:37.824Z"
   },
   {
    "duration": 24,
    "start_time": "2021-08-18T17:56:40.906Z"
   },
   {
    "duration": 21,
    "start_time": "2021-08-18T17:56:46.636Z"
   },
   {
    "duration": 104,
    "start_time": "2021-08-18T17:57:04.624Z"
   },
   {
    "duration": 28,
    "start_time": "2021-08-18T17:57:38.474Z"
   },
   {
    "duration": 30,
    "start_time": "2021-08-18T17:59:27.780Z"
   },
   {
    "duration": 28,
    "start_time": "2021-08-18T17:59:46.009Z"
   },
   {
    "duration": 9,
    "start_time": "2021-08-18T18:06:31.801Z"
   },
   {
    "duration": 68,
    "start_time": "2021-08-18T18:07:30.515Z"
   },
   {
    "duration": 799,
    "start_time": "2021-08-18T18:08:45.532Z"
   },
   {
    "duration": 71,
    "start_time": "2021-08-18T18:08:51.692Z"
   },
   {
    "duration": 453,
    "start_time": "2021-08-18T18:09:32.542Z"
   },
   {
    "duration": 73,
    "start_time": "2021-08-18T18:09:40.220Z"
   },
   {
    "duration": 25,
    "start_time": "2021-08-18T18:09:46.902Z"
   },
   {
    "duration": 290,
    "start_time": "2021-08-18T18:11:28.691Z"
   },
   {
    "duration": 327,
    "start_time": "2021-08-18T18:11:42.741Z"
   },
   {
    "duration": 102,
    "start_time": "2021-08-18T18:11:57.452Z"
   },
   {
    "duration": 73,
    "start_time": "2021-08-18T18:12:10.302Z"
   },
   {
    "duration": 934,
    "start_time": "2021-08-18T18:12:30.468Z"
   },
   {
    "duration": 39,
    "start_time": "2021-08-18T18:12:34.769Z"
   },
   {
    "duration": 9,
    "start_time": "2021-08-18T18:12:37.559Z"
   },
   {
    "duration": 274,
    "start_time": "2021-08-18T18:12:40.329Z"
   },
   {
    "duration": 39,
    "start_time": "2021-08-18T18:12:43.812Z"
   },
   {
    "duration": 120,
    "start_time": "2021-08-18T18:12:46.137Z"
   },
   {
    "duration": 19,
    "start_time": "2021-08-18T18:12:48.186Z"
   },
   {
    "duration": 170,
    "start_time": "2021-08-18T18:12:50.839Z"
   },
   {
    "duration": 22,
    "start_time": "2021-08-18T18:12:53.109Z"
   },
   {
    "duration": 27,
    "start_time": "2021-08-18T18:12:55.843Z"
   },
   {
    "duration": 9,
    "start_time": "2021-08-18T18:12:58.728Z"
   },
   {
    "duration": 155,
    "start_time": "2021-08-18T18:13:02.328Z"
   },
   {
    "duration": 25,
    "start_time": "2021-08-18T18:13:18.887Z"
   },
   {
    "duration": 26,
    "start_time": "2021-08-18T18:13:22.706Z"
   },
   {
    "duration": 76,
    "start_time": "2021-08-18T18:13:49.107Z"
   },
   {
    "duration": 29,
    "start_time": "2021-08-18T18:13:52.019Z"
   },
   {
    "duration": 11,
    "start_time": "2021-08-18T18:16:31.930Z"
   },
   {
    "duration": 366,
    "start_time": "2021-08-18T18:22:33.191Z"
   },
   {
    "duration": 295,
    "start_time": "2021-08-18T18:27:10.354Z"
   },
   {
    "duration": 8,
    "start_time": "2021-08-18T18:27:39.851Z"
   },
   {
    "duration": 284,
    "start_time": "2021-08-18T18:27:57.442Z"
   },
   {
    "duration": 247,
    "start_time": "2021-08-18T18:28:16.512Z"
   },
   {
    "duration": 6,
    "start_time": "2021-08-18T18:29:07.252Z"
   },
   {
    "duration": 19,
    "start_time": "2021-08-18T18:29:24.243Z"
   },
   {
    "duration": 10,
    "start_time": "2021-08-18T18:30:29.101Z"
   },
   {
    "duration": 1002,
    "start_time": "2021-08-18T18:31:40.315Z"
   },
   {
    "duration": 44,
    "start_time": "2021-08-18T18:31:42.777Z"
   },
   {
    "duration": 10,
    "start_time": "2021-08-18T18:31:45.447Z"
   },
   {
    "duration": 284,
    "start_time": "2021-08-18T18:31:48.423Z"
   },
   {
    "duration": 41,
    "start_time": "2021-08-18T18:31:51.286Z"
   },
   {
    "duration": 154,
    "start_time": "2021-08-18T18:31:55.595Z"
   },
   {
    "duration": 28,
    "start_time": "2021-08-18T18:31:58.317Z"
   },
   {
    "duration": 179,
    "start_time": "2021-08-18T18:32:00.735Z"
   },
   {
    "duration": 23,
    "start_time": "2021-08-18T18:32:03.369Z"
   },
   {
    "duration": 27,
    "start_time": "2021-08-18T18:32:05.827Z"
   },
   {
    "duration": 12,
    "start_time": "2021-08-18T18:32:08.055Z"
   },
   {
    "duration": 204,
    "start_time": "2021-08-18T18:32:11.947Z"
   },
   {
    "duration": 29,
    "start_time": "2021-08-18T18:32:15.283Z"
   },
   {
    "duration": 23,
    "start_time": "2021-08-18T18:32:18.939Z"
   },
   {
    "duration": 100,
    "start_time": "2021-08-18T18:32:28.155Z"
   },
   {
    "duration": 35,
    "start_time": "2021-08-18T18:32:30.785Z"
   },
   {
    "duration": 12,
    "start_time": "2021-08-18T18:32:36.006Z"
   },
   {
    "duration": 331,
    "start_time": "2021-08-18T18:41:02.789Z"
   },
   {
    "duration": 841,
    "start_time": "2021-08-18T18:41:15.347Z"
   },
   {
    "duration": 49,
    "start_time": "2021-08-18T18:41:18.266Z"
   },
   {
    "duration": 28,
    "start_time": "2021-08-18T18:41:20.986Z"
   },
   {
    "duration": 208,
    "start_time": "2021-08-18T18:41:23.488Z"
   },
   {
    "duration": 27,
    "start_time": "2021-08-18T18:41:25.998Z"
   },
   {
    "duration": 118,
    "start_time": "2021-08-18T18:41:28.546Z"
   },
   {
    "duration": 18,
    "start_time": "2021-08-18T18:41:30.946Z"
   },
   {
    "duration": 211,
    "start_time": "2021-08-18T18:41:33.506Z"
   },
   {
    "duration": 24,
    "start_time": "2021-08-18T18:41:35.665Z"
   },
   {
    "duration": 24,
    "start_time": "2021-08-18T18:41:38.235Z"
   },
   {
    "duration": 9,
    "start_time": "2021-08-18T18:41:40.545Z"
   },
   {
    "duration": 172,
    "start_time": "2021-08-18T18:41:44.215Z"
   },
   {
    "duration": 407,
    "start_time": "2021-08-18T18:41:46.646Z"
   },
   {
    "duration": 10,
    "start_time": "2021-08-18T18:42:00.497Z"
   },
   {
    "duration": 25,
    "start_time": "2021-08-18T18:42:08.299Z"
   },
   {
    "duration": 23,
    "start_time": "2021-08-18T18:42:10.987Z"
   },
   {
    "duration": 79,
    "start_time": "2021-08-18T18:42:13.496Z"
   },
   {
    "duration": 27,
    "start_time": "2021-08-18T18:42:15.507Z"
   },
   {
    "duration": 10,
    "start_time": "2021-08-18T18:42:18.058Z"
   },
   {
    "duration": 73,
    "start_time": "2021-08-18T18:42:57.896Z"
   },
   {
    "duration": 26,
    "start_time": "2021-08-18T18:43:00.419Z"
   },
   {
    "duration": 891,
    "start_time": "2021-08-18T18:45:44.284Z"
   },
   {
    "duration": 48,
    "start_time": "2021-08-18T18:45:46.894Z"
   },
   {
    "duration": 12,
    "start_time": "2021-08-18T18:45:49.641Z"
   },
   {
    "duration": 235,
    "start_time": "2021-08-18T18:45:51.973Z"
   },
   {
    "duration": 37,
    "start_time": "2021-08-18T18:45:54.676Z"
   },
   {
    "duration": 118,
    "start_time": "2021-08-18T18:45:57.334Z"
   },
   {
    "duration": 28,
    "start_time": "2021-08-18T18:45:59.912Z"
   },
   {
    "duration": 230,
    "start_time": "2021-08-18T18:46:03.145Z"
   },
   {
    "duration": 34,
    "start_time": "2021-08-18T18:46:06.591Z"
   },
   {
    "duration": 23,
    "start_time": "2021-08-18T18:46:09.222Z"
   },
   {
    "duration": 9,
    "start_time": "2021-08-18T18:46:11.513Z"
   },
   {
    "duration": 172,
    "start_time": "2021-08-18T18:46:15.931Z"
   },
   {
    "duration": 9,
    "start_time": "2021-08-18T18:46:21.632Z"
   },
   {
    "duration": 66,
    "start_time": "2021-08-18T18:46:27.323Z"
   },
   {
    "duration": 904,
    "start_time": "2021-08-18T18:46:57.732Z"
   },
   {
    "duration": 47,
    "start_time": "2021-08-18T18:46:59.018Z"
   },
   {
    "duration": 10,
    "start_time": "2021-08-18T18:47:02.296Z"
   },
   {
    "duration": 202,
    "start_time": "2021-08-18T18:47:05.194Z"
   },
   {
    "duration": 40,
    "start_time": "2021-08-18T18:47:07.835Z"
   },
   {
    "duration": 129,
    "start_time": "2021-08-18T18:47:10.934Z"
   },
   {
    "duration": 21,
    "start_time": "2021-08-18T18:47:13.895Z"
   },
   {
    "duration": 224,
    "start_time": "2021-08-18T18:47:17.063Z"
   },
   {
    "duration": 24,
    "start_time": "2021-08-18T18:47:19.654Z"
   },
   {
    "duration": 24,
    "start_time": "2021-08-18T18:47:22.441Z"
   },
   {
    "duration": 9,
    "start_time": "2021-08-18T18:47:24.643Z"
   },
   {
    "duration": 168,
    "start_time": "2021-08-18T18:47:28.441Z"
   },
   {
    "duration": 33,
    "start_time": "2021-08-18T18:47:32.736Z"
   },
   {
    "duration": 20,
    "start_time": "2021-08-18T18:47:42.164Z"
   },
   {
    "duration": 78,
    "start_time": "2021-08-18T18:47:46.413Z"
   },
   {
    "duration": 27,
    "start_time": "2021-08-18T18:47:50.954Z"
   },
   {
    "duration": 29,
    "start_time": "2021-08-18T18:48:03.009Z"
   },
   {
    "duration": 12,
    "start_time": "2021-08-18T18:48:24.044Z"
   },
   {
    "duration": 98,
    "start_time": "2021-08-18T18:56:52.275Z"
   },
   {
    "duration": 33,
    "start_time": "2021-08-18T18:57:04.378Z"
   },
   {
    "duration": 78,
    "start_time": "2021-08-18T18:57:25.377Z"
   },
   {
    "duration": 20,
    "start_time": "2021-08-18T18:57:35.606Z"
   },
   {
    "duration": 852,
    "start_time": "2021-08-18T19:00:37.692Z"
   },
   {
    "duration": 42,
    "start_time": "2021-08-18T19:00:39.690Z"
   },
   {
    "duration": 13,
    "start_time": "2021-08-18T19:00:42.808Z"
   },
   {
    "duration": 219,
    "start_time": "2021-08-18T19:00:51.554Z"
   },
   {
    "duration": 38,
    "start_time": "2021-08-18T19:00:54.090Z"
   },
   {
    "duration": 149,
    "start_time": "2021-08-18T19:00:56.472Z"
   },
   {
    "duration": 19,
    "start_time": "2021-08-18T19:01:00.614Z"
   },
   {
    "duration": 188,
    "start_time": "2021-08-18T19:01:03.068Z"
   },
   {
    "duration": 24,
    "start_time": "2021-08-18T19:01:05.705Z"
   },
   {
    "duration": 25,
    "start_time": "2021-08-18T19:01:09.028Z"
   },
   {
    "duration": 10,
    "start_time": "2021-08-18T19:01:10.938Z"
   },
   {
    "duration": 168,
    "start_time": "2021-08-18T19:01:14.491Z"
   },
   {
    "duration": 10,
    "start_time": "2021-08-18T19:01:16.856Z"
   },
   {
    "duration": 106,
    "start_time": "2021-08-18T19:01:24.325Z"
   },
   {
    "duration": 24,
    "start_time": "2021-08-18T19:01:28.218Z"
   },
   {
    "duration": 24,
    "start_time": "2021-08-18T19:01:31.973Z"
   },
   {
    "duration": 90,
    "start_time": "2021-08-18T19:01:34.805Z"
   },
   {
    "duration": 31,
    "start_time": "2021-08-18T19:01:36.662Z"
   },
   {
    "duration": 846,
    "start_time": "2021-08-18T19:03:05.735Z"
   },
   {
    "duration": 49,
    "start_time": "2021-08-18T19:03:07.867Z"
   },
   {
    "duration": 12,
    "start_time": "2021-08-18T19:03:10.888Z"
   },
   {
    "duration": 220,
    "start_time": "2021-08-18T19:03:14.103Z"
   },
   {
    "duration": 26,
    "start_time": "2021-08-18T19:03:17.498Z"
   },
   {
    "duration": 124,
    "start_time": "2021-08-18T19:03:19.858Z"
   },
   {
    "duration": 29,
    "start_time": "2021-08-18T19:03:22.182Z"
   },
   {
    "duration": 192,
    "start_time": "2021-08-18T19:03:25.564Z"
   },
   {
    "duration": 23,
    "start_time": "2021-08-18T19:03:28.123Z"
   },
   {
    "duration": 23,
    "start_time": "2021-08-18T19:03:30.698Z"
   },
   {
    "duration": 11,
    "start_time": "2021-08-18T19:03:32.764Z"
   },
   {
    "duration": 173,
    "start_time": "2021-08-18T19:03:36.941Z"
   },
   {
    "duration": 10,
    "start_time": "2021-08-18T19:03:40.839Z"
   },
   {
    "duration": 25,
    "start_time": "2021-08-18T19:03:44.059Z"
   },
   {
    "duration": 19,
    "start_time": "2021-08-18T19:03:49.217Z"
   },
   {
    "duration": 84,
    "start_time": "2021-08-18T19:03:51.805Z"
   },
   {
    "duration": 30,
    "start_time": "2021-08-18T19:03:54.862Z"
   },
   {
    "duration": 97,
    "start_time": "2021-08-18T19:04:02.094Z"
   },
   {
    "duration": 21,
    "start_time": "2021-08-18T19:04:05.199Z"
   },
   {
    "duration": 871,
    "start_time": "2021-08-18T19:04:40.947Z"
   },
   {
    "duration": 47,
    "start_time": "2021-08-18T19:04:42.857Z"
   },
   {
    "duration": 12,
    "start_time": "2021-08-18T19:04:45.038Z"
   },
   {
    "duration": 233,
    "start_time": "2021-08-18T19:04:47.494Z"
   },
   {
    "duration": 27,
    "start_time": "2021-08-18T19:04:49.940Z"
   },
   {
    "duration": 122,
    "start_time": "2021-08-18T19:04:52.114Z"
   },
   {
    "duration": 17,
    "start_time": "2021-08-18T19:04:54.358Z"
   },
   {
    "duration": 180,
    "start_time": "2021-08-18T19:04:57.700Z"
   },
   {
    "duration": 34,
    "start_time": "2021-08-18T19:04:59.598Z"
   },
   {
    "duration": 29,
    "start_time": "2021-08-18T19:05:02.212Z"
   },
   {
    "duration": 8,
    "start_time": "2021-08-18T19:05:04.533Z"
   },
   {
    "duration": 174,
    "start_time": "2021-08-18T19:05:08.379Z"
   },
   {
    "duration": 9,
    "start_time": "2021-08-18T19:05:10.768Z"
   },
   {
    "duration": 30,
    "start_time": "2021-08-18T19:05:13.686Z"
   },
   {
    "duration": 19,
    "start_time": "2021-08-18T19:05:16.521Z"
   },
   {
    "duration": 87,
    "start_time": "2021-08-18T19:05:19.007Z"
   },
   {
    "duration": 33,
    "start_time": "2021-08-18T19:05:22.285Z"
   },
   {
    "duration": 1251,
    "start_time": "2021-08-18T19:05:27.424Z"
   },
   {
    "duration": 109,
    "start_time": "2021-08-18T19:07:21.045Z"
   },
   {
    "duration": 26,
    "start_time": "2021-08-18T19:07:31.503Z"
   },
   {
    "duration": 24,
    "start_time": "2021-08-18T19:07:35.467Z"
   },
   {
    "duration": 858,
    "start_time": "2021-08-18T19:08:07.650Z"
   },
   {
    "duration": 43,
    "start_time": "2021-08-18T19:08:09.986Z"
   },
   {
    "duration": 10,
    "start_time": "2021-08-18T19:08:12.131Z"
   },
   {
    "duration": 247,
    "start_time": "2021-08-18T19:08:14.946Z"
   },
   {
    "duration": 33,
    "start_time": "2021-08-18T19:08:17.377Z"
   },
   {
    "duration": 148,
    "start_time": "2021-08-18T19:08:19.811Z"
   },
   {
    "duration": 27,
    "start_time": "2021-08-18T19:08:22.081Z"
   },
   {
    "duration": 186,
    "start_time": "2021-08-18T19:08:24.411Z"
   },
   {
    "duration": 22,
    "start_time": "2021-08-18T19:08:26.652Z"
   },
   {
    "duration": 30,
    "start_time": "2021-08-18T19:08:29.067Z"
   },
   {
    "duration": 9,
    "start_time": "2021-08-18T19:08:31.155Z"
   },
   {
    "duration": 203,
    "start_time": "2021-08-18T19:08:33.892Z"
   },
   {
    "duration": 11,
    "start_time": "2021-08-18T19:08:54.875Z"
   },
   {
    "duration": 6,
    "start_time": "2021-08-18T19:09:20.523Z"
   },
   {
    "duration": 31,
    "start_time": "2021-08-18T19:09:24.139Z"
   },
   {
    "duration": 25,
    "start_time": "2021-08-18T19:09:28.389Z"
   },
   {
    "duration": 117,
    "start_time": "2021-08-18T19:09:30.578Z"
   },
   {
    "duration": 27,
    "start_time": "2021-08-18T19:09:33.260Z"
   },
   {
    "duration": 7,
    "start_time": "2021-08-18T19:11:12.405Z"
   },
   {
    "duration": 26,
    "start_time": "2021-08-18T19:11:20.850Z"
   },
   {
    "duration": 840,
    "start_time": "2021-08-18T19:18:31.300Z"
   },
   {
    "duration": 48,
    "start_time": "2021-08-18T19:18:33.359Z"
   },
   {
    "duration": 9,
    "start_time": "2021-08-18T19:18:35.760Z"
   },
   {
    "duration": 203,
    "start_time": "2021-08-18T19:18:38.057Z"
   },
   {
    "duration": 27,
    "start_time": "2021-08-18T19:18:40.809Z"
   },
   {
    "duration": 114,
    "start_time": "2021-08-18T19:18:43.178Z"
   },
   {
    "duration": 20,
    "start_time": "2021-08-18T19:18:45.519Z"
   },
   {
    "duration": 175,
    "start_time": "2021-08-18T19:18:48.204Z"
   },
   {
    "duration": 39,
    "start_time": "2021-08-18T19:18:50.438Z"
   },
   {
    "duration": 24,
    "start_time": "2021-08-18T19:18:52.880Z"
   },
   {
    "duration": 12,
    "start_time": "2021-08-18T19:18:55.341Z"
   },
   {
    "duration": 247,
    "start_time": "2021-08-18T19:18:58.499Z"
   },
   {
    "duration": 423,
    "start_time": "2021-08-18T19:19:18.988Z"
   },
   {
    "duration": 9,
    "start_time": "2021-08-18T19:23:53.003Z"
   },
   {
    "duration": 33,
    "start_time": "2021-08-18T19:23:56.015Z"
   },
   {
    "duration": 21,
    "start_time": "2021-08-18T19:23:59.069Z"
   },
   {
    "duration": 78,
    "start_time": "2021-08-18T19:24:01.411Z"
   },
   {
    "duration": 27,
    "start_time": "2021-08-18T19:24:03.473Z"
   },
   {
    "duration": 20,
    "start_time": "2021-08-18T19:24:05.852Z"
   },
   {
    "duration": 13,
    "start_time": "2021-08-18T19:24:09.365Z"
   },
   {
    "duration": 9,
    "start_time": "2021-08-18T19:24:40.065Z"
   },
   {
    "duration": 244,
    "start_time": "2021-08-18T19:25:11.513Z"
   },
   {
    "duration": 86,
    "start_time": "2021-08-18T19:25:33.551Z"
   },
   {
    "duration": 29,
    "start_time": "2021-08-18T19:25:47.855Z"
   },
   {
    "duration": 7,
    "start_time": "2021-08-18T19:26:05.091Z"
   },
   {
    "duration": 19,
    "start_time": "2021-08-18T19:26:08.143Z"
   },
   {
    "duration": 1085,
    "start_time": "2021-08-18T19:30:30.370Z"
   },
   {
    "duration": 49,
    "start_time": "2021-08-18T19:30:33.120Z"
   },
   {
    "duration": 14,
    "start_time": "2021-08-18T19:30:35.220Z"
   },
   {
    "duration": 289,
    "start_time": "2021-08-18T19:30:37.759Z"
   },
   {
    "duration": 42,
    "start_time": "2021-08-18T19:30:40.480Z"
   },
   {
    "duration": 166,
    "start_time": "2021-08-18T19:30:42.818Z"
   },
   {
    "duration": 20,
    "start_time": "2021-08-18T19:30:47.369Z"
   },
   {
    "duration": 179,
    "start_time": "2021-08-18T19:30:49.538Z"
   },
   {
    "duration": 22,
    "start_time": "2021-08-18T19:30:51.970Z"
   },
   {
    "duration": 24,
    "start_time": "2021-08-18T19:30:54.901Z"
   },
   {
    "duration": 9,
    "start_time": "2021-08-18T19:30:57.678Z"
   },
   {
    "duration": 229,
    "start_time": "2021-08-18T19:31:01.789Z"
   },
   {
    "duration": 36,
    "start_time": "2021-08-18T19:31:05.156Z"
   },
   {
    "duration": 21,
    "start_time": "2021-08-18T19:31:08.736Z"
   },
   {
    "duration": 86,
    "start_time": "2021-08-18T19:31:11.597Z"
   },
   {
    "duration": 39,
    "start_time": "2021-08-18T19:31:14.189Z"
   },
   {
    "duration": 40,
    "start_time": "2021-08-18T19:31:29.328Z"
   },
   {
    "duration": 37,
    "start_time": "2021-08-18T19:31:58.208Z"
   },
   {
    "duration": 11,
    "start_time": "2021-08-18T19:33:20.838Z"
   },
   {
    "duration": 34,
    "start_time": "2021-08-18T19:33:40.328Z"
   },
   {
    "duration": 11,
    "start_time": "2021-08-18T19:33:42.810Z"
   },
   {
    "duration": 43,
    "start_time": "2021-08-18T19:38:44.697Z"
   },
   {
    "duration": 7,
    "start_time": "2021-08-18T19:39:13.817Z"
   },
   {
    "duration": 427,
    "start_time": "2021-08-18T19:39:37.896Z"
   },
   {
    "duration": 7,
    "start_time": "2021-08-18T19:39:41.506Z"
   },
   {
    "duration": 64,
    "start_time": "2021-08-18T19:39:57.768Z"
   },
   {
    "duration": 31,
    "start_time": "2021-08-18T19:40:10.328Z"
   },
   {
    "duration": 275,
    "start_time": "2021-08-18T19:51:37.548Z"
   },
   {
    "duration": 32,
    "start_time": "2021-08-18T19:51:57.486Z"
   },
   {
    "duration": 293,
    "start_time": "2021-08-18T19:55:41.860Z"
   },
   {
    "duration": 10,
    "start_time": "2021-08-18T19:56:11.629Z"
   },
   {
    "duration": 20,
    "start_time": "2021-08-18T19:56:21.787Z"
   },
   {
    "duration": 42,
    "start_time": "2021-08-18T19:57:31.838Z"
   },
   {
    "duration": 277,
    "start_time": "2021-08-18T19:57:53.398Z"
   },
   {
    "duration": 30,
    "start_time": "2021-08-18T19:58:03.407Z"
   },
   {
    "duration": 28,
    "start_time": "2021-08-18T20:00:18.044Z"
   },
   {
    "duration": 32,
    "start_time": "2021-08-18T20:03:17.203Z"
   },
   {
    "duration": 42,
    "start_time": "2021-08-18T20:03:27.635Z"
   },
   {
    "duration": 244,
    "start_time": "2021-08-18T20:07:41.598Z"
   },
   {
    "duration": 271,
    "start_time": "2021-08-18T20:07:51.118Z"
   },
   {
    "duration": 27,
    "start_time": "2021-08-18T20:08:19.487Z"
   },
   {
    "duration": 28,
    "start_time": "2021-08-18T20:09:58.737Z"
   },
   {
    "duration": 10,
    "start_time": "2021-08-18T20:16:07.156Z"
   },
   {
    "duration": 105,
    "start_time": "2021-08-18T20:19:31.557Z"
   },
   {
    "duration": 78,
    "start_time": "2021-08-18T20:19:44.378Z"
   },
   {
    "duration": 74,
    "start_time": "2021-08-18T20:19:50.792Z"
   },
   {
    "duration": 75,
    "start_time": "2021-08-18T20:21:06.315Z"
   },
   {
    "duration": 871,
    "start_time": "2021-08-21T05:06:28.460Z"
   },
   {
    "duration": 75,
    "start_time": "2021-08-21T05:06:33.744Z"
   },
   {
    "duration": 10,
    "start_time": "2021-08-21T05:06:36.043Z"
   },
   {
    "duration": 203,
    "start_time": "2021-08-21T05:06:57.461Z"
   },
   {
    "duration": 26,
    "start_time": "2021-08-21T05:07:00.622Z"
   },
   {
    "duration": 121,
    "start_time": "2021-08-21T05:07:16.271Z"
   },
   {
    "duration": 18,
    "start_time": "2021-08-21T05:07:33.030Z"
   },
   {
    "duration": 173,
    "start_time": "2021-08-21T05:07:36.442Z"
   },
   {
    "duration": 22,
    "start_time": "2021-08-21T05:08:25.540Z"
   },
   {
    "duration": 26,
    "start_time": "2021-08-21T05:08:33.468Z"
   },
   {
    "duration": 8,
    "start_time": "2021-08-21T05:08:47.495Z"
   },
   {
    "duration": 13,
    "start_time": "2021-08-21T05:10:41.079Z"
   },
   {
    "duration": 18,
    "start_time": "2021-08-21T05:10:54.955Z"
   },
   {
    "duration": 163,
    "start_time": "2021-08-21T05:12:51.903Z"
   },
   {
    "duration": 26,
    "start_time": "2021-08-21T05:12:56.974Z"
   },
   {
    "duration": 23,
    "start_time": "2021-08-21T05:13:11.602Z"
   },
   {
    "duration": 86,
    "start_time": "2021-08-21T05:13:41.054Z"
   },
   {
    "duration": 33,
    "start_time": "2021-08-21T05:13:56.574Z"
   },
   {
    "duration": 12,
    "start_time": "2021-08-21T05:22:20.829Z"
   },
   {
    "duration": 28,
    "start_time": "2021-08-21T05:23:03.048Z"
   },
   {
    "duration": 20,
    "start_time": "2021-08-21T05:23:42.048Z"
   },
   {
    "duration": 16,
    "start_time": "2021-08-21T05:23:58.607Z"
   },
   {
    "duration": 15,
    "start_time": "2021-08-21T05:24:43.316Z"
   },
   {
    "duration": 472,
    "start_time": "2021-08-21T05:26:59.069Z"
   },
   {
    "duration": 21,
    "start_time": "2021-08-21T05:27:08.160Z"
   },
   {
    "duration": 23,
    "start_time": "2021-08-21T05:28:03.130Z"
   },
   {
    "duration": 23,
    "start_time": "2021-08-21T05:29:07.358Z"
   },
   {
    "duration": 24,
    "start_time": "2021-08-21T05:32:52.317Z"
   },
   {
    "duration": 22,
    "start_time": "2021-08-21T05:34:15.848Z"
   },
   {
    "duration": 23,
    "start_time": "2021-08-21T05:34:21.709Z"
   },
   {
    "duration": 135,
    "start_time": "2021-08-21T05:34:26.658Z"
   },
   {
    "duration": 21,
    "start_time": "2021-08-21T05:34:34.197Z"
   },
   {
    "duration": 21,
    "start_time": "2021-08-21T05:34:47.207Z"
   },
   {
    "duration": 22,
    "start_time": "2021-08-21T05:34:55.287Z"
   },
   {
    "duration": 22,
    "start_time": "2021-08-21T05:35:11.068Z"
   },
   {
    "duration": 22,
    "start_time": "2021-08-21T05:35:18.577Z"
   },
   {
    "duration": 1317,
    "start_time": "2021-08-21T06:43:43.130Z"
   },
   {
    "duration": 425,
    "start_time": "2021-08-21T06:44:10.468Z"
   },
   {
    "duration": 867,
    "start_time": "2021-08-21T06:44:27.128Z"
   },
   {
    "duration": 95,
    "start_time": "2021-08-21T06:44:27.997Z"
   },
   {
    "duration": 13,
    "start_time": "2021-08-21T06:44:28.095Z"
   },
   {
    "duration": 235,
    "start_time": "2021-08-21T06:44:28.111Z"
   },
   {
    "duration": 27,
    "start_time": "2021-08-21T06:44:28.348Z"
   },
   {
    "duration": 188,
    "start_time": "2021-08-21T06:44:28.379Z"
   },
   {
    "duration": 38,
    "start_time": "2021-08-21T06:44:28.570Z"
   },
   {
    "duration": 260,
    "start_time": "2021-08-21T06:44:28.611Z"
   },
   {
    "duration": 43,
    "start_time": "2021-08-21T06:44:28.877Z"
   },
   {
    "duration": 31,
    "start_time": "2021-08-21T06:44:28.924Z"
   },
   {
    "duration": 12,
    "start_time": "2021-08-21T06:44:28.957Z"
   },
   {
    "duration": 197,
    "start_time": "2021-08-21T06:44:28.972Z"
   },
   {
    "duration": 34,
    "start_time": "2021-08-21T06:44:29.172Z"
   },
   {
    "duration": 32,
    "start_time": "2021-08-21T06:44:29.208Z"
   },
   {
    "duration": 107,
    "start_time": "2021-08-21T06:44:29.243Z"
   },
   {
    "duration": 34,
    "start_time": "2021-08-21T06:44:29.353Z"
   },
   {
    "duration": 27,
    "start_time": "2021-08-21T06:44:29.400Z"
   },
   {
    "duration": 504,
    "start_time": "2021-08-21T06:44:29.430Z"
   },
   {
    "duration": -135,
    "start_time": "2021-08-21T06:44:30.073Z"
   },
   {
    "duration": -137,
    "start_time": "2021-08-21T06:44:30.077Z"
   },
   {
    "duration": -138,
    "start_time": "2021-08-21T06:44:30.080Z"
   },
   {
    "duration": -139,
    "start_time": "2021-08-21T06:44:30.083Z"
   },
   {
    "duration": -139,
    "start_time": "2021-08-21T06:44:30.085Z"
   },
   {
    "duration": 42,
    "start_time": "2021-08-21T06:44:41.514Z"
   },
   {
    "duration": 126,
    "start_time": "2021-08-21T06:45:11.981Z"
   },
   {
    "duration": 30,
    "start_time": "2021-08-21T06:45:15.071Z"
   },
   {
    "duration": 30,
    "start_time": "2021-08-21T06:45:30.291Z"
   },
   {
    "duration": 23,
    "start_time": "2021-08-21T06:45:45.591Z"
   },
   {
    "duration": 25,
    "start_time": "2021-08-21T06:53:26.638Z"
   },
   {
    "duration": 23,
    "start_time": "2021-08-21T06:53:34.771Z"
   },
   {
    "duration": 22,
    "start_time": "2021-08-21T06:57:09.871Z"
   },
   {
    "duration": 24,
    "start_time": "2021-08-21T07:01:48.046Z"
   },
   {
    "duration": 24,
    "start_time": "2021-08-21T07:03:10.317Z"
   },
   {
    "duration": 28,
    "start_time": "2021-08-21T07:19:12.883Z"
   },
   {
    "duration": 22,
    "start_time": "2021-08-21T07:20:01.831Z"
   },
   {
    "duration": 207,
    "start_time": "2021-08-21T12:44:01.997Z"
   },
   {
    "duration": 194,
    "start_time": "2021-08-21T12:44:15.327Z"
   },
   {
    "duration": 861,
    "start_time": "2021-08-21T12:46:22.503Z"
   },
   {
    "duration": 60,
    "start_time": "2021-08-21T12:46:27.311Z"
   },
   {
    "duration": 13,
    "start_time": "2021-08-21T12:49:33.869Z"
   },
   {
    "duration": 437,
    "start_time": "2021-08-21T12:50:38.647Z"
   },
   {
    "duration": 1006,
    "start_time": "2021-08-21T12:51:22.079Z"
   },
   {
    "duration": 455,
    "start_time": "2021-08-21T12:51:25.261Z"
   },
   {
    "duration": 562,
    "start_time": "2021-08-21T12:52:06.582Z"
   },
   {
    "duration": 563,
    "start_time": "2021-08-21T12:52:23.889Z"
   },
   {
    "duration": 572,
    "start_time": "2021-08-21T12:54:15.399Z"
   },
   {
    "duration": 428,
    "start_time": "2021-08-21T12:54:38.671Z"
   },
   {
    "duration": 965,
    "start_time": "2021-08-21T12:55:11.766Z"
   },
   {
    "duration": 872,
    "start_time": "2021-08-21T12:55:43.197Z"
   },
   {
    "duration": 54,
    "start_time": "2021-08-21T12:55:46.149Z"
   },
   {
    "duration": 10,
    "start_time": "2021-08-21T12:55:54.997Z"
   },
   {
    "duration": 204,
    "start_time": "2021-08-21T12:55:59.747Z"
   },
   {
    "duration": 28,
    "start_time": "2021-08-21T12:56:02.277Z"
   },
   {
    "duration": 121,
    "start_time": "2021-08-21T12:56:04.996Z"
   },
   {
    "duration": 20,
    "start_time": "2021-08-21T12:56:26.598Z"
   },
   {
    "duration": 162,
    "start_time": "2021-08-21T12:56:30.399Z"
   },
   {
    "duration": 22,
    "start_time": "2021-08-21T12:56:32.879Z"
   },
   {
    "duration": 27,
    "start_time": "2021-08-21T12:56:35.589Z"
   },
   {
    "duration": 9,
    "start_time": "2021-08-21T12:56:37.887Z"
   },
   {
    "duration": 163,
    "start_time": "2021-08-21T12:56:49.558Z"
   },
   {
    "duration": 25,
    "start_time": "2021-08-21T12:56:59.958Z"
   },
   {
    "duration": 342,
    "start_time": "2021-08-21T12:58:28.118Z"
   },
   {
    "duration": 331,
    "start_time": "2021-08-21T12:58:32.645Z"
   },
   {
    "duration": 61,
    "start_time": "2021-08-21T13:00:15.968Z"
   },
   {
    "duration": 15169,
    "start_time": "2021-08-21T13:00:27.178Z"
   },
   {
    "duration": 505,
    "start_time": "2021-08-21T13:01:00.334Z"
   },
   {
    "duration": 31,
    "start_time": "2021-08-21T13:01:39.890Z"
   },
   {
    "duration": 409,
    "start_time": "2021-08-21T13:01:51.635Z"
   },
   {
    "duration": 314,
    "start_time": "2021-08-21T13:02:25.770Z"
   },
   {
    "duration": 328,
    "start_time": "2021-08-21T13:02:46.190Z"
   },
   {
    "duration": 39,
    "start_time": "2021-08-21T13:04:23.579Z"
   },
   {
    "duration": 43,
    "start_time": "2021-08-21T13:12:28.714Z"
   },
   {
    "duration": 37,
    "start_time": "2021-08-21T13:13:26.464Z"
   },
   {
    "duration": 44,
    "start_time": "2021-08-21T13:13:37.816Z"
   },
   {
    "duration": 127,
    "start_time": "2021-08-21T13:14:15.204Z"
   },
   {
    "duration": 239,
    "start_time": "2021-08-21T13:14:18.864Z"
   },
   {
    "duration": 43,
    "start_time": "2021-08-21T13:14:56.665Z"
   },
   {
    "duration": 19,
    "start_time": "2021-08-21T13:17:27.136Z"
   },
   {
    "duration": 17,
    "start_time": "2021-08-21T13:18:08.415Z"
   },
   {
    "duration": 3735,
    "start_time": "2021-08-21T13:20:11.775Z"
   },
   {
    "duration": 35,
    "start_time": "2021-08-21T13:20:43.530Z"
   },
   {
    "duration": 13,
    "start_time": "2021-08-21T13:50:23.343Z"
   },
   {
    "duration": 313,
    "start_time": "2021-08-21T13:51:26.364Z"
   },
   {
    "duration": 35,
    "start_time": "2021-08-21T13:51:41.095Z"
   },
   {
    "duration": 29,
    "start_time": "2021-08-21T13:52:22.739Z"
   },
   {
    "duration": 39,
    "start_time": "2021-08-21T13:52:49.224Z"
   },
   {
    "duration": 482,
    "start_time": "2021-08-21T13:57:21.628Z"
   },
   {
    "duration": 473,
    "start_time": "2021-08-21T13:57:32.027Z"
   },
   {
    "duration": 381,
    "start_time": "2021-08-21T13:57:41.408Z"
   },
   {
    "duration": 403,
    "start_time": "2021-08-21T13:57:49.647Z"
   },
   {
    "duration": 438,
    "start_time": "2021-08-21T13:58:25.899Z"
   },
   {
    "duration": 373,
    "start_time": "2021-08-21T13:58:38.737Z"
   },
   {
    "duration": 369,
    "start_time": "2021-08-21T13:59:07.588Z"
   },
   {
    "duration": 37,
    "start_time": "2021-08-21T14:00:02.538Z"
   },
   {
    "duration": 44,
    "start_time": "2021-08-21T14:00:31.257Z"
   },
   {
    "duration": 34,
    "start_time": "2021-08-21T14:03:41.996Z"
   },
   {
    "duration": 14,
    "start_time": "2021-08-21T14:06:08.929Z"
   },
   {
    "duration": 254,
    "start_time": "2021-08-21T14:07:43.442Z"
   },
   {
    "duration": 37,
    "start_time": "2021-08-21T14:55:04.402Z"
   },
   {
    "duration": 8,
    "start_time": "2021-08-21T14:56:12.594Z"
   },
   {
    "duration": 21,
    "start_time": "2021-08-21T14:56:37.442Z"
   },
   {
    "duration": 905,
    "start_time": "2021-08-21T14:57:55.670Z"
   },
   {
    "duration": 54,
    "start_time": "2021-08-21T14:57:58.421Z"
   },
   {
    "duration": 10,
    "start_time": "2021-08-21T14:58:00.929Z"
   },
   {
    "duration": 208,
    "start_time": "2021-08-21T14:58:03.751Z"
   },
   {
    "duration": 26,
    "start_time": "2021-08-21T14:58:06.375Z"
   },
   {
    "duration": 114,
    "start_time": "2021-08-21T14:58:08.949Z"
   },
   {
    "duration": 20,
    "start_time": "2021-08-21T14:58:11.299Z"
   },
   {
    "duration": 168,
    "start_time": "2021-08-21T14:58:13.758Z"
   },
   {
    "duration": 22,
    "start_time": "2021-08-21T14:58:15.959Z"
   },
   {
    "duration": 28,
    "start_time": "2021-08-21T14:58:18.121Z"
   },
   {
    "duration": 9,
    "start_time": "2021-08-21T14:58:20.679Z"
   },
   {
    "duration": 157,
    "start_time": "2021-08-21T14:59:04.751Z"
   },
   {
    "duration": 26,
    "start_time": "2021-08-21T14:59:24.719Z"
   },
   {
    "duration": 35,
    "start_time": "2021-08-21T15:01:37.455Z"
   },
   {
    "duration": 1626,
    "start_time": "2021-08-21T15:03:46.570Z"
   },
   {
    "duration": 33,
    "start_time": "2021-08-21T15:04:24.038Z"
   },
   {
    "duration": 129,
    "start_time": "2021-08-21T15:05:43.805Z"
   },
   {
    "duration": 43,
    "start_time": "2021-08-21T15:05:57.396Z"
   },
   {
    "duration": 12,
    "start_time": "2021-08-21T15:07:19.179Z"
   },
   {
    "duration": 1589,
    "start_time": "2021-08-21T15:09:04.239Z"
   },
   {
    "duration": 165,
    "start_time": "2021-08-21T15:09:23.375Z"
   },
   {
    "duration": 310,
    "start_time": "2021-08-21T15:11:26.135Z"
   },
   {
    "duration": 63,
    "start_time": "2021-08-21T15:12:47.214Z"
   },
   {
    "duration": 306,
    "start_time": "2021-08-21T15:13:17.096Z"
   },
   {
    "duration": 133,
    "start_time": "2021-08-21T15:13:22.975Z"
   },
   {
    "duration": 311,
    "start_time": "2021-08-21T15:13:27.464Z"
   },
   {
    "duration": 125,
    "start_time": "2021-08-21T15:13:36.786Z"
   },
   {
    "duration": 135,
    "start_time": "2021-08-21T15:13:42.535Z"
   },
   {
    "duration": 188,
    "start_time": "2021-08-21T15:13:45.505Z"
   },
   {
    "duration": 189,
    "start_time": "2021-08-21T15:14:07.366Z"
   },
   {
    "duration": 38,
    "start_time": "2021-08-21T15:15:12.905Z"
   },
   {
    "duration": 36,
    "start_time": "2021-08-21T15:15:20.114Z"
   },
   {
    "duration": 38,
    "start_time": "2021-08-21T15:16:09.891Z"
   },
   {
    "duration": 16,
    "start_time": "2021-08-21T15:16:43.721Z"
   },
   {
    "duration": 184,
    "start_time": "2021-08-21T15:28:25.884Z"
   },
   {
    "duration": 128,
    "start_time": "2021-08-21T15:28:29.017Z"
   },
   {
    "duration": 188,
    "start_time": "2021-08-21T15:28:33.926Z"
   },
   {
    "duration": 123,
    "start_time": "2021-08-21T15:31:07.747Z"
   },
   {
    "duration": 213,
    "start_time": "2021-08-21T15:32:08.346Z"
   },
   {
    "duration": 131,
    "start_time": "2021-08-21T15:32:15.454Z"
   },
   {
    "duration": 175,
    "start_time": "2021-08-21T15:33:13.065Z"
   },
   {
    "duration": 188,
    "start_time": "2021-08-21T15:34:02.975Z"
   },
   {
    "duration": 136,
    "start_time": "2021-08-21T15:34:13.974Z"
   },
   {
    "duration": 211,
    "start_time": "2021-08-21T15:34:31.024Z"
   },
   {
    "duration": 209,
    "start_time": "2021-08-21T15:34:35.822Z"
   },
   {
    "duration": 199,
    "start_time": "2021-08-21T15:35:49.783Z"
   },
   {
    "duration": 563,
    "start_time": "2021-08-21T15:36:12.944Z"
   },
   {
    "duration": 214,
    "start_time": "2021-08-21T15:36:29.933Z"
   },
   {
    "duration": 221,
    "start_time": "2021-08-21T15:36:44.263Z"
   },
   {
    "duration": 205,
    "start_time": "2021-08-21T15:36:51.574Z"
   },
   {
    "duration": 188,
    "start_time": "2021-08-21T15:37:16.422Z"
   },
   {
    "duration": 210,
    "start_time": "2021-08-21T15:38:03.836Z"
   },
   {
    "duration": 32,
    "start_time": "2021-08-21T15:39:32.036Z"
   },
   {
    "duration": 27,
    "start_time": "2021-08-21T15:40:05.584Z"
   },
   {
    "duration": 29,
    "start_time": "2021-08-21T15:44:41.886Z"
   },
   {
    "duration": 12,
    "start_time": "2021-08-21T15:45:41.016Z"
   },
   {
    "duration": 27,
    "start_time": "2021-08-21T15:46:02.764Z"
   },
   {
    "duration": 10,
    "start_time": "2021-08-21T15:46:39.605Z"
   },
   {
    "duration": 8,
    "start_time": "2021-08-21T15:46:54.515Z"
   },
   {
    "duration": 28,
    "start_time": "2021-08-21T15:47:18.384Z"
   },
   {
    "duration": 27,
    "start_time": "2021-08-21T15:49:04.850Z"
   },
   {
    "duration": 27,
    "start_time": "2021-08-21T15:49:28.188Z"
   },
   {
    "duration": 27,
    "start_time": "2021-08-21T15:49:32.290Z"
   },
   {
    "duration": 935,
    "start_time": "2021-08-21T15:52:25.278Z"
   },
   {
    "duration": 56,
    "start_time": "2021-08-21T15:52:28.270Z"
   },
   {
    "duration": 10,
    "start_time": "2021-08-21T15:52:30.927Z"
   },
   {
    "duration": 208,
    "start_time": "2021-08-21T15:52:33.268Z"
   },
   {
    "duration": 27,
    "start_time": "2021-08-21T15:52:35.270Z"
   },
   {
    "duration": 129,
    "start_time": "2021-08-21T15:52:37.787Z"
   },
   {
    "duration": 20,
    "start_time": "2021-08-21T15:52:40.117Z"
   },
   {
    "duration": 175,
    "start_time": "2021-08-21T15:52:42.238Z"
   },
   {
    "duration": 25,
    "start_time": "2021-08-21T15:52:44.477Z"
   },
   {
    "duration": 28,
    "start_time": "2021-08-21T15:52:46.957Z"
   },
   {
    "duration": 10,
    "start_time": "2021-08-21T15:52:49.649Z"
   },
   {
    "duration": 175,
    "start_time": "2021-08-21T15:52:53.597Z"
   },
   {
    "duration": 26,
    "start_time": "2021-08-21T15:52:55.790Z"
   },
   {
    "duration": 235,
    "start_time": "2021-08-21T15:52:59.288Z"
   },
   {
    "duration": 36,
    "start_time": "2021-08-21T15:53:08.620Z"
   },
   {
    "duration": 28,
    "start_time": "2021-08-21T15:53:15.660Z"
   },
   {
    "duration": 88,
    "start_time": "2021-08-21T15:53:29.628Z"
   },
   {
    "duration": 1536,
    "start_time": "2021-08-21T15:54:05.711Z"
   },
   {
    "duration": 28,
    "start_time": "2021-08-21T15:56:23.577Z"
   },
   {
    "duration": 12,
    "start_time": "2021-08-21T15:56:35.646Z"
   },
   {
    "duration": 122,
    "start_time": "2021-08-21T16:01:59.459Z"
   },
   {
    "duration": 126,
    "start_time": "2021-08-21T16:02:11.628Z"
   },
   {
    "duration": 368,
    "start_time": "2021-08-21T16:02:27.968Z"
   },
   {
    "duration": 33,
    "start_time": "2021-08-21T16:02:42.957Z"
   },
   {
    "duration": 11,
    "start_time": "2021-08-21T16:02:46.867Z"
   },
   {
    "duration": 25,
    "start_time": "2021-08-21T16:03:55.627Z"
   },
   {
    "duration": 26,
    "start_time": "2021-08-21T16:04:05.317Z"
   },
   {
    "duration": 25,
    "start_time": "2021-08-21T16:04:14.296Z"
   },
   {
    "duration": 34,
    "start_time": "2021-08-21T16:09:04.888Z"
   },
   {
    "duration": 36,
    "start_time": "2021-08-21T16:10:04.197Z"
   },
   {
    "duration": 12,
    "start_time": "2021-08-21T16:10:10.180Z"
   },
   {
    "duration": 87,
    "start_time": "2021-08-21T16:12:47.737Z"
   },
   {
    "duration": 35,
    "start_time": "2021-08-21T16:12:53.636Z"
   },
   {
    "duration": 13,
    "start_time": "2021-08-21T16:12:56.116Z"
   },
   {
    "duration": 895,
    "start_time": "2021-08-21T16:13:16.813Z"
   },
   {
    "duration": 45,
    "start_time": "2021-08-21T16:13:19.792Z"
   },
   {
    "duration": 10,
    "start_time": "2021-08-21T16:13:22.112Z"
   },
   {
    "duration": 223,
    "start_time": "2021-08-21T16:13:24.432Z"
   },
   {
    "duration": 29,
    "start_time": "2021-08-21T16:13:26.482Z"
   },
   {
    "duration": 123,
    "start_time": "2021-08-21T16:13:31.272Z"
   },
   {
    "duration": 21,
    "start_time": "2021-08-21T16:13:35.191Z"
   },
   {
    "duration": 174,
    "start_time": "2021-08-21T16:13:39.192Z"
   },
   {
    "duration": 24,
    "start_time": "2021-08-21T16:13:41.901Z"
   },
   {
    "duration": 27,
    "start_time": "2021-08-21T16:13:45.082Z"
   },
   {
    "duration": 9,
    "start_time": "2021-08-21T16:13:47.232Z"
   },
   {
    "duration": 164,
    "start_time": "2021-08-21T16:13:50.742Z"
   },
   {
    "duration": 26,
    "start_time": "2021-08-21T16:13:53.615Z"
   },
   {
    "duration": 232,
    "start_time": "2021-08-21T16:13:57.771Z"
   },
   {
    "duration": 35,
    "start_time": "2021-08-21T16:14:00.743Z"
   },
   {
    "duration": 486,
    "start_time": "2021-08-21T16:14:03.612Z"
   },
   {
    "duration": 872,
    "start_time": "2021-08-21T16:14:58.876Z"
   },
   {
    "duration": 47,
    "start_time": "2021-08-21T16:15:01.236Z"
   },
   {
    "duration": 10,
    "start_time": "2021-08-21T16:15:03.426Z"
   },
   {
    "duration": 209,
    "start_time": "2021-08-21T16:15:05.586Z"
   },
   {
    "duration": 27,
    "start_time": "2021-08-21T16:15:08.066Z"
   },
   {
    "duration": 116,
    "start_time": "2021-08-21T16:15:10.138Z"
   },
   {
    "duration": 20,
    "start_time": "2021-08-21T16:15:12.458Z"
   },
   {
    "duration": 175,
    "start_time": "2021-08-21T16:15:16.109Z"
   },
   {
    "duration": 23,
    "start_time": "2021-08-21T16:15:18.387Z"
   },
   {
    "duration": 26,
    "start_time": "2021-08-21T16:15:20.537Z"
   },
   {
    "duration": 9,
    "start_time": "2021-08-21T16:15:22.667Z"
   },
   {
    "duration": 197,
    "start_time": "2021-08-21T16:15:24.997Z"
   },
   {
    "duration": 25,
    "start_time": "2021-08-21T16:15:27.668Z"
   },
   {
    "duration": 226,
    "start_time": "2021-08-21T16:15:31.836Z"
   },
   {
    "duration": 37,
    "start_time": "2021-08-21T16:15:38.597Z"
   },
   {
    "duration": 33,
    "start_time": "2021-08-21T16:15:41.067Z"
   },
   {
    "duration": 12,
    "start_time": "2021-08-21T16:15:44.738Z"
   },
   {
    "duration": 909,
    "start_time": "2021-08-21T17:12:24.373Z"
   },
   {
    "duration": 45,
    "start_time": "2021-08-21T17:12:27.005Z"
   },
   {
    "duration": 10,
    "start_time": "2021-08-21T17:12:29.704Z"
   },
   {
    "duration": 231,
    "start_time": "2021-08-21T17:12:32.185Z"
   },
   {
    "duration": 28,
    "start_time": "2021-08-21T17:12:35.345Z"
   },
   {
    "duration": 188,
    "start_time": "2021-08-21T17:12:38.186Z"
   },
   {
    "duration": 29,
    "start_time": "2021-08-21T17:12:40.735Z"
   },
   {
    "duration": 249,
    "start_time": "2021-08-21T17:12:43.265Z"
   },
   {
    "duration": 24,
    "start_time": "2021-08-21T17:12:45.563Z"
   },
   {
    "duration": 29,
    "start_time": "2021-08-21T17:12:48.144Z"
   },
   {
    "duration": 10,
    "start_time": "2021-08-21T17:12:50.582Z"
   },
   {
    "duration": 183,
    "start_time": "2021-08-21T17:12:53.385Z"
   },
   {
    "duration": 24,
    "start_time": "2021-08-21T17:12:55.665Z"
   },
   {
    "duration": 249,
    "start_time": "2021-08-21T17:12:58.672Z"
   },
   {
    "duration": 37,
    "start_time": "2021-08-21T17:13:01.333Z"
   },
   {
    "duration": 34,
    "start_time": "2021-08-21T17:13:04.753Z"
   },
   {
    "duration": 20,
    "start_time": "2021-08-21T17:13:07.306Z"
   },
   {
    "duration": 6102,
    "start_time": "2021-08-21T17:13:11.066Z"
   },
   {
    "duration": 46,
    "start_time": "2021-08-21T17:20:56.232Z"
   },
   {
    "duration": 25,
    "start_time": "2021-08-21T17:21:40.822Z"
   },
   {
    "duration": 26,
    "start_time": "2021-08-21T17:24:06.052Z"
   },
   {
    "duration": 26,
    "start_time": "2021-08-21T17:24:16.033Z"
   },
   {
    "duration": 54,
    "start_time": "2021-08-21T17:31:32.403Z"
   },
   {
    "duration": 12,
    "start_time": "2021-08-21T17:31:35.431Z"
   },
   {
    "duration": 129,
    "start_time": "2021-08-21T17:37:19.521Z"
   },
   {
    "duration": 127,
    "start_time": "2021-08-21T17:37:30.182Z"
   },
   {
    "duration": 151,
    "start_time": "2021-08-21T17:37:43.576Z"
   },
   {
    "duration": 25,
    "start_time": "2021-08-21T17:38:05.891Z"
   },
   {
    "duration": 36,
    "start_time": "2021-08-21T17:38:23.061Z"
   },
   {
    "duration": 12,
    "start_time": "2021-08-21T17:38:27.633Z"
   },
   {
    "duration": 166,
    "start_time": "2021-08-21T17:39:07.714Z"
   },
   {
    "duration": 161,
    "start_time": "2021-08-21T17:39:17.145Z"
   },
   {
    "duration": 901,
    "start_time": "2021-08-21T18:57:45.162Z"
   },
   {
    "duration": 51,
    "start_time": "2021-08-21T18:57:46.065Z"
   },
   {
    "duration": 8,
    "start_time": "2021-08-21T18:57:46.120Z"
   },
   {
    "duration": 243,
    "start_time": "2021-08-21T18:57:46.131Z"
   },
   {
    "duration": 36,
    "start_time": "2021-08-21T18:57:46.376Z"
   },
   {
    "duration": 137,
    "start_time": "2021-08-21T18:57:46.416Z"
   },
   {
    "duration": 20,
    "start_time": "2021-08-21T18:57:46.556Z"
   },
   {
    "duration": 211,
    "start_time": "2021-08-21T18:57:46.579Z"
   },
   {
    "duration": 33,
    "start_time": "2021-08-21T18:57:46.796Z"
   },
   {
    "duration": 26,
    "start_time": "2021-08-21T18:57:46.833Z"
   },
   {
    "duration": 13,
    "start_time": "2021-08-21T18:57:46.863Z"
   },
   {
    "duration": 215,
    "start_time": "2021-08-21T18:57:46.879Z"
   },
   {
    "duration": 31,
    "start_time": "2021-08-21T18:57:47.096Z"
   },
   {
    "duration": 262,
    "start_time": "2021-08-21T18:57:47.130Z"
   },
   {
    "duration": 42,
    "start_time": "2021-08-21T18:57:47.400Z"
   },
   {
    "duration": 59,
    "start_time": "2021-08-21T18:57:47.444Z"
   },
   {
    "duration": 15,
    "start_time": "2021-08-21T18:57:47.507Z"
   },
   {
    "duration": 205,
    "start_time": "2021-08-21T18:57:47.525Z"
   },
   {
    "duration": 18,
    "start_time": "2021-08-21T18:57:47.733Z"
   },
   {
    "duration": 107,
    "start_time": "2021-08-21T18:57:47.753Z"
   },
   {
    "duration": 37,
    "start_time": "2021-08-21T18:57:47.863Z"
   },
   {
    "duration": 125,
    "start_time": "2021-08-21T18:57:47.907Z"
   },
   {
    "duration": 289,
    "start_time": "2021-08-21T18:57:47.746Z"
   },
   {
    "duration": 285,
    "start_time": "2021-08-21T18:57:47.751Z"
   },
   {
    "duration": 275,
    "start_time": "2021-08-21T18:57:47.763Z"
   },
   {
    "duration": 272,
    "start_time": "2021-08-21T18:57:47.767Z"
   },
   {
    "duration": 271,
    "start_time": "2021-08-21T18:57:47.769Z"
   },
   {
    "duration": 269,
    "start_time": "2021-08-21T18:57:47.773Z"
   },
   {
    "duration": 193,
    "start_time": "2021-08-21T18:58:39.364Z"
   },
   {
    "duration": 203,
    "start_time": "2021-08-21T19:01:14.947Z"
   },
   {
    "duration": 202,
    "start_time": "2021-08-21T19:01:54.293Z"
   },
   {
    "duration": 207,
    "start_time": "2021-08-21T19:02:50.964Z"
   },
   {
    "duration": 11,
    "start_time": "2021-08-21T19:04:37.027Z"
   },
   {
    "duration": 265,
    "start_time": "2021-08-21T19:06:39.600Z"
   },
   {
    "duration": 210,
    "start_time": "2021-08-21T19:07:53.882Z"
   },
   {
    "duration": 190,
    "start_time": "2021-08-21T19:08:33.922Z"
   },
   {
    "duration": 893,
    "start_time": "2021-08-21T19:13:19.761Z"
   },
   {
    "duration": 79,
    "start_time": "2021-08-21T19:13:20.657Z"
   },
   {
    "duration": 8,
    "start_time": "2021-08-21T19:13:20.740Z"
   },
   {
    "duration": 228,
    "start_time": "2021-08-21T19:13:20.751Z"
   },
   {
    "duration": 43,
    "start_time": "2021-08-21T19:13:20.981Z"
   },
   {
    "duration": 128,
    "start_time": "2021-08-21T19:13:21.027Z"
   },
   {
    "duration": 19,
    "start_time": "2021-08-21T19:13:21.157Z"
   },
   {
    "duration": 206,
    "start_time": "2021-08-21T19:13:21.178Z"
   },
   {
    "duration": 38,
    "start_time": "2021-08-21T19:13:21.387Z"
   },
   {
    "duration": 29,
    "start_time": "2021-08-21T19:13:21.429Z"
   },
   {
    "duration": 22,
    "start_time": "2021-08-21T19:13:21.460Z"
   },
   {
    "duration": 191,
    "start_time": "2021-08-21T19:13:21.484Z"
   },
   {
    "duration": 42,
    "start_time": "2021-08-21T19:13:21.677Z"
   },
   {
    "duration": 256,
    "start_time": "2021-08-21T19:13:21.722Z"
   },
   {
    "duration": 55,
    "start_time": "2021-08-21T19:13:21.981Z"
   },
   {
    "duration": 34,
    "start_time": "2021-08-21T19:13:22.039Z"
   },
   {
    "duration": 30,
    "start_time": "2021-08-21T19:13:22.076Z"
   },
   {
    "duration": 15,
    "start_time": "2021-08-21T19:13:22.109Z"
   },
   {
    "duration": 211,
    "start_time": "2021-08-21T19:13:22.126Z"
   },
   {
    "duration": 18,
    "start_time": "2021-08-21T19:13:22.339Z"
   },
   {
    "duration": 105,
    "start_time": "2021-08-21T19:13:22.360Z"
   },
   {
    "duration": 37,
    "start_time": "2021-08-21T19:13:22.468Z"
   },
   {
    "duration": 5,
    "start_time": "2021-08-21T19:13:22.509Z"
   },
   {
    "duration": 6,
    "start_time": "2021-08-21T19:13:22.517Z"
   },
   {
    "duration": 5,
    "start_time": "2021-08-21T19:13:22.525Z"
   },
   {
    "duration": 5,
    "start_time": "2021-08-21T19:13:22.533Z"
   },
   {
    "duration": 4,
    "start_time": "2021-08-21T19:13:22.543Z"
   },
   {
    "duration": 902,
    "start_time": "2021-08-21T19:13:57.044Z"
   },
   {
    "duration": 65,
    "start_time": "2021-08-21T19:13:57.948Z"
   },
   {
    "duration": 80,
    "start_time": "2021-08-21T19:13:58.017Z"
   },
   {
    "duration": 288,
    "start_time": "2021-08-21T19:13:58.100Z"
   },
   {
    "duration": 41,
    "start_time": "2021-08-21T19:13:58.391Z"
   },
   {
    "duration": 142,
    "start_time": "2021-08-21T19:13:58.435Z"
   },
   {
    "duration": 24,
    "start_time": "2021-08-21T19:13:58.579Z"
   },
   {
    "duration": 252,
    "start_time": "2021-08-21T19:13:58.609Z"
   },
   {
    "duration": 22,
    "start_time": "2021-08-21T19:13:58.864Z"
   },
   {
    "duration": 118,
    "start_time": "2021-08-21T19:13:58.901Z"
   },
   {
    "duration": 63,
    "start_time": "2021-08-21T19:13:59.022Z"
   },
   {
    "duration": 218,
    "start_time": "2021-08-21T19:13:59.087Z"
   },
   {
    "duration": 27,
    "start_time": "2021-08-21T19:13:59.308Z"
   },
   {
    "duration": 280,
    "start_time": "2021-08-21T19:13:59.338Z"
   },
   {
    "duration": 35,
    "start_time": "2021-08-21T19:13:59.620Z"
   },
   {
    "duration": 70,
    "start_time": "2021-08-21T19:13:59.658Z"
   },
   {
    "duration": 35,
    "start_time": "2021-08-21T19:13:59.730Z"
   },
   {
    "duration": 57,
    "start_time": "2021-08-21T19:13:59.767Z"
   },
   {
    "duration": 219,
    "start_time": "2021-08-21T19:13:59.826Z"
   },
   {
    "duration": 18,
    "start_time": "2021-08-21T19:14:00.047Z"
   },
   {
    "duration": 18,
    "start_time": "2021-08-21T19:14:00.067Z"
   },
   {
    "duration": 38,
    "start_time": "2021-08-21T19:14:00.087Z"
   },
   {
    "duration": 25,
    "start_time": "2021-08-21T19:14:00.130Z"
   },
   {
    "duration": 21,
    "start_time": "2021-08-21T19:14:00.158Z"
   },
   {
    "duration": 26,
    "start_time": "2021-08-21T19:14:00.181Z"
   },
   {
    "duration": 40,
    "start_time": "2021-08-21T19:14:00.210Z"
   },
   {
    "duration": 25,
    "start_time": "2021-08-21T19:14:00.253Z"
   },
   {
    "duration": 974,
    "start_time": "2021-08-21T19:15:24.212Z"
   },
   {
    "duration": 55,
    "start_time": "2021-08-21T19:15:25.189Z"
   },
   {
    "duration": 10,
    "start_time": "2021-08-21T19:15:25.247Z"
   },
   {
    "duration": 243,
    "start_time": "2021-08-21T19:15:25.259Z"
   },
   {
    "duration": 33,
    "start_time": "2021-08-21T19:15:25.506Z"
   },
   {
    "duration": 133,
    "start_time": "2021-08-21T19:15:25.542Z"
   },
   {
    "duration": 34,
    "start_time": "2021-08-21T19:15:25.678Z"
   },
   {
    "duration": 215,
    "start_time": "2021-08-21T19:15:25.715Z"
   },
   {
    "duration": 22,
    "start_time": "2021-08-21T19:15:25.936Z"
   },
   {
    "duration": 26,
    "start_time": "2021-08-21T19:15:25.961Z"
   },
   {
    "duration": 9,
    "start_time": "2021-08-21T19:15:26.015Z"
   },
   {
    "duration": 169,
    "start_time": "2021-08-21T19:15:26.026Z"
   },
   {
    "duration": 30,
    "start_time": "2021-08-21T19:15:26.202Z"
   },
   {
    "duration": 281,
    "start_time": "2021-08-21T19:15:26.234Z"
   },
   {
    "duration": 35,
    "start_time": "2021-08-21T19:15:26.517Z"
   },
   {
    "duration": 64,
    "start_time": "2021-08-21T19:15:26.555Z"
   },
   {
    "duration": 11,
    "start_time": "2021-08-21T19:15:26.622Z"
   },
   {
    "duration": 15,
    "start_time": "2021-08-21T19:15:26.636Z"
   },
   {
    "duration": 208,
    "start_time": "2021-08-21T19:15:26.654Z"
   },
   {
    "duration": 3,
    "start_time": "2021-08-21T19:15:26.865Z"
   },
   {
    "duration": 17,
    "start_time": "2021-08-21T19:15:26.870Z"
   },
   {
    "duration": 12,
    "start_time": "2021-08-21T19:15:26.889Z"
   },
   {
    "duration": 11,
    "start_time": "2021-08-21T19:15:26.904Z"
   },
   {
    "duration": 8,
    "start_time": "2021-08-21T19:15:26.917Z"
   },
   {
    "duration": 5,
    "start_time": "2021-08-21T19:15:26.928Z"
   },
   {
    "duration": 5,
    "start_time": "2021-08-21T19:15:26.936Z"
   },
   {
    "duration": 4,
    "start_time": "2021-08-21T19:15:26.945Z"
   },
   {
    "duration": 17,
    "start_time": "2021-08-21T19:16:06.784Z"
   },
   {
    "duration": 9654,
    "start_time": "2021-08-21T19:16:30.874Z"
   },
   {
    "duration": 8,
    "start_time": "2021-08-21T19:16:43.412Z"
   },
   {
    "duration": 13,
    "start_time": "2021-08-21T19:17:27.672Z"
   },
   {
    "duration": 20,
    "start_time": "2021-08-21T19:17:41.690Z"
   },
   {
    "duration": 25,
    "start_time": "2021-08-21T19:17:58.201Z"
   },
   {
    "duration": 28,
    "start_time": "2021-08-21T19:18:21.292Z"
   },
   {
    "duration": 23,
    "start_time": "2021-08-21T19:19:06.471Z"
   },
   {
    "duration": 12,
    "start_time": "2021-08-21T19:19:56.243Z"
   },
   {
    "duration": 15,
    "start_time": "2021-08-21T19:24:19.410Z"
   },
   {
    "duration": 387,
    "start_time": "2021-08-21T19:26:08.471Z"
   },
   {
    "duration": 32,
    "start_time": "2021-08-21T19:26:23.732Z"
   },
   {
    "duration": 31,
    "start_time": "2021-08-21T19:26:46.827Z"
   },
   {
    "duration": 31,
    "start_time": "2021-08-21T19:26:53.365Z"
   },
   {
    "duration": 36,
    "start_time": "2021-08-21T19:27:07.998Z"
   },
   {
    "duration": 34,
    "start_time": "2021-08-21T19:30:35.998Z"
   },
   {
    "duration": 32,
    "start_time": "2021-08-21T19:30:56.257Z"
   },
   {
    "duration": 1573,
    "start_time": "2021-08-21T19:31:05.660Z"
   },
   {
    "duration": 33,
    "start_time": "2021-08-21T19:31:31.958Z"
   },
   {
    "duration": 29,
    "start_time": "2021-08-21T19:32:32.627Z"
   },
   {
    "duration": 140,
    "start_time": "2021-08-21T19:34:52.559Z"
   },
   {
    "duration": 383,
    "start_time": "2021-08-21T19:37:54.195Z"
   },
   {
    "duration": 12,
    "start_time": "2021-08-21T19:38:21.844Z"
   },
   {
    "duration": 37,
    "start_time": "2021-08-21T19:40:43.080Z"
   },
   {
    "duration": 195,
    "start_time": "2021-08-21T19:48:08.749Z"
   },
   {
    "duration": 166,
    "start_time": "2021-08-21T19:58:28.058Z"
   },
   {
    "duration": 167,
    "start_time": "2021-08-21T19:58:44.698Z"
   },
   {
    "duration": 126,
    "start_time": "2021-08-21T20:25:25.115Z"
   },
   {
    "duration": 439,
    "start_time": "2021-08-21T20:26:44.747Z"
   },
   {
    "duration": 11,
    "start_time": "2021-08-21T20:26:52.100Z"
   },
   {
    "duration": 203,
    "start_time": "2021-08-21T20:27:40.955Z"
   },
   {
    "duration": 7,
    "start_time": "2021-08-21T20:28:56.224Z"
   },
   {
    "duration": 9,
    "start_time": "2021-08-21T20:29:04.844Z"
   },
   {
    "duration": 21,
    "start_time": "2021-08-21T20:29:24.401Z"
   },
   {
    "duration": 20,
    "start_time": "2021-08-21T20:29:54.086Z"
   },
   {
    "duration": 139,
    "start_time": "2021-08-21T20:32:52.175Z"
   },
   {
    "duration": 870,
    "start_time": "2021-08-22T07:44:46.309Z"
   },
   {
    "duration": 46,
    "start_time": "2021-08-22T07:44:47.182Z"
   },
   {
    "duration": 9,
    "start_time": "2021-08-22T07:44:47.231Z"
   },
   {
    "duration": 231,
    "start_time": "2021-08-22T07:44:47.243Z"
   },
   {
    "duration": 27,
    "start_time": "2021-08-22T07:44:47.476Z"
   },
   {
    "duration": 127,
    "start_time": "2021-08-22T07:44:47.505Z"
   },
   {
    "duration": 31,
    "start_time": "2021-08-22T07:44:47.634Z"
   },
   {
    "duration": 190,
    "start_time": "2021-08-22T07:44:47.667Z"
   },
   {
    "duration": 26,
    "start_time": "2021-08-22T07:44:47.863Z"
   },
   {
    "duration": 26,
    "start_time": "2021-08-22T07:44:47.892Z"
   },
   {
    "duration": 10,
    "start_time": "2021-08-22T07:44:47.920Z"
   },
   {
    "duration": 198,
    "start_time": "2021-08-22T07:44:47.933Z"
   },
   {
    "duration": 32,
    "start_time": "2021-08-22T07:44:48.134Z"
   },
   {
    "duration": 254,
    "start_time": "2021-08-22T07:44:48.170Z"
   },
   {
    "duration": 51,
    "start_time": "2021-08-22T07:44:48.426Z"
   },
   {
    "duration": 36,
    "start_time": "2021-08-22T07:44:48.479Z"
   },
   {
    "duration": 211,
    "start_time": "2021-08-22T07:44:48.517Z"
   },
   {
    "duration": 48,
    "start_time": "2021-08-22T07:44:48.731Z"
   },
   {
    "duration": 33,
    "start_time": "2021-08-22T07:44:48.782Z"
   },
   {
    "duration": 186,
    "start_time": "2021-08-22T07:44:48.819Z"
   },
   {
    "duration": 16,
    "start_time": "2021-08-22T07:44:49.007Z"
   },
   {
    "duration": 174,
    "start_time": "2021-08-22T07:44:49.025Z"
   },
   {
    "duration": 2,
    "start_time": "2021-08-22T07:44:49.202Z"
   },
   {
    "duration": 8,
    "start_time": "2021-08-22T07:44:49.207Z"
   },
   {
    "duration": 10,
    "start_time": "2021-08-22T07:44:49.218Z"
   },
   {
    "duration": 15,
    "start_time": "2021-08-22T07:44:49.231Z"
   },
   {
    "duration": 14,
    "start_time": "2021-08-22T07:44:49.254Z"
   },
   {
    "duration": 13,
    "start_time": "2021-08-22T07:44:49.271Z"
   },
   {
    "duration": 13,
    "start_time": "2021-08-22T07:44:49.286Z"
   },
   {
    "duration": 155,
    "start_time": "2021-08-22T07:48:33.629Z"
   },
   {
    "duration": 152,
    "start_time": "2021-08-22T07:48:51.619Z"
   },
   {
    "duration": 9,
    "start_time": "2021-08-22T07:49:28.097Z"
   },
   {
    "duration": 79,
    "start_time": "2021-08-22T07:50:32.180Z"
   },
   {
    "duration": 73,
    "start_time": "2021-08-22T07:50:41.939Z"
   },
   {
    "duration": 3,
    "start_time": "2021-08-22T07:52:45.771Z"
   },
   {
    "duration": 859,
    "start_time": "2021-08-22T07:54:34.364Z"
   },
   {
    "duration": 49,
    "start_time": "2021-08-22T07:54:35.226Z"
   },
   {
    "duration": 12,
    "start_time": "2021-08-22T07:54:35.278Z"
   },
   {
    "duration": 229,
    "start_time": "2021-08-22T07:54:35.293Z"
   },
   {
    "duration": 38,
    "start_time": "2021-08-22T07:54:35.524Z"
   },
   {
    "duration": 139,
    "start_time": "2021-08-22T07:54:35.565Z"
   },
   {
    "duration": 23,
    "start_time": "2021-08-22T07:54:35.707Z"
   },
   {
    "duration": 197,
    "start_time": "2021-08-22T07:54:35.733Z"
   },
   {
    "duration": 37,
    "start_time": "2021-08-22T07:54:35.936Z"
   },
   {
    "duration": 34,
    "start_time": "2021-08-22T07:54:35.977Z"
   },
   {
    "duration": 13,
    "start_time": "2021-08-22T07:54:36.014Z"
   },
   {
    "duration": 191,
    "start_time": "2021-08-22T07:54:36.030Z"
   },
   {
    "duration": 37,
    "start_time": "2021-08-22T07:54:36.224Z"
   },
   {
    "duration": 256,
    "start_time": "2021-08-22T07:54:36.263Z"
   },
   {
    "duration": 51,
    "start_time": "2021-08-22T07:54:36.522Z"
   },
   {
    "duration": 33,
    "start_time": "2021-08-22T07:54:36.576Z"
   },
   {
    "duration": 203,
    "start_time": "2021-08-22T07:54:36.612Z"
   },
   {
    "duration": 50,
    "start_time": "2021-08-22T07:54:36.818Z"
   },
   {
    "duration": 30,
    "start_time": "2021-08-22T07:54:36.870Z"
   },
   {
    "duration": 178,
    "start_time": "2021-08-22T07:54:36.902Z"
   },
   {
    "duration": 13,
    "start_time": "2021-08-22T07:54:37.082Z"
   },
   {
    "duration": 3,
    "start_time": "2021-08-22T07:54:37.098Z"
   },
   {
    "duration": 12,
    "start_time": "2021-08-22T07:54:37.103Z"
   },
   {
    "duration": 7,
    "start_time": "2021-08-22T07:54:37.117Z"
   },
   {
    "duration": 30,
    "start_time": "2021-08-22T07:54:37.126Z"
   },
   {
    "duration": 13,
    "start_time": "2021-08-22T07:54:37.160Z"
   },
   {
    "duration": 4,
    "start_time": "2021-08-22T07:54:37.178Z"
   },
   {
    "duration": 7,
    "start_time": "2021-08-22T07:54:37.184Z"
   },
   {
    "duration": 13,
    "start_time": "2021-08-22T07:54:37.193Z"
   },
   {
    "duration": 7,
    "start_time": "2021-08-22T07:54:37.208Z"
   },
   {
    "duration": 12,
    "start_time": "2021-08-22T07:55:00.696Z"
   },
   {
    "duration": 3218,
    "start_time": "2021-08-22T08:07:34.996Z"
   },
   {
    "duration": 9035,
    "start_time": "2021-08-22T08:08:01.664Z"
   },
   {
    "duration": 2104,
    "start_time": "2021-08-22T08:08:26.894Z"
   },
   {
    "duration": 48,
    "start_time": "2021-08-22T08:08:45.424Z"
   },
   {
    "duration": 45,
    "start_time": "2021-08-22T08:09:17.795Z"
   },
   {
    "duration": 6788,
    "start_time": "2021-08-22T08:09:23.274Z"
   },
   {
    "duration": 44,
    "start_time": "2021-08-22T08:09:47.004Z"
   },
   {
    "duration": 51,
    "start_time": "2021-08-22T08:12:17.065Z"
   },
   {
    "duration": 300,
    "start_time": "2021-08-22T08:13:13.925Z"
   },
   {
    "duration": 8,
    "start_time": "2021-08-22T08:13:34.593Z"
   },
   {
    "duration": 34,
    "start_time": "2021-08-22T08:14:07.354Z"
   },
   {
    "duration": 18,
    "start_time": "2021-08-22T08:14:28.965Z"
   },
   {
    "duration": 33,
    "start_time": "2021-08-22T08:15:09.504Z"
   },
   {
    "duration": 34,
    "start_time": "2021-08-22T08:16:09.777Z"
   },
   {
    "duration": 25,
    "start_time": "2021-08-22T08:23:08.816Z"
   },
   {
    "duration": 66,
    "start_time": "2021-08-22T08:23:16.017Z"
   },
   {
    "duration": 318,
    "start_time": "2021-08-22T08:28:50.425Z"
   },
   {
    "duration": 467,
    "start_time": "2021-08-22T08:29:00.054Z"
   },
   {
    "duration": 200,
    "start_time": "2021-08-22T08:29:03.104Z"
   },
   {
    "duration": 198,
    "start_time": "2021-08-22T08:30:10.274Z"
   },
   {
    "duration": 12,
    "start_time": "2021-08-22T08:30:26.736Z"
   },
   {
    "duration": 227,
    "start_time": "2021-08-22T08:38:33.022Z"
   },
   {
    "duration": 912,
    "start_time": "2021-08-22T08:47:14.561Z"
   },
   {
    "duration": 46,
    "start_time": "2021-08-22T08:47:15.479Z"
   },
   {
    "duration": 17,
    "start_time": "2021-08-22T08:47:15.528Z"
   },
   {
    "duration": 247,
    "start_time": "2021-08-22T08:47:15.549Z"
   },
   {
    "duration": 26,
    "start_time": "2021-08-22T08:47:15.799Z"
   },
   {
    "duration": 155,
    "start_time": "2021-08-22T08:47:15.827Z"
   },
   {
    "duration": 19,
    "start_time": "2021-08-22T08:47:15.984Z"
   },
   {
    "duration": 220,
    "start_time": "2021-08-22T08:47:16.006Z"
   },
   {
    "duration": 39,
    "start_time": "2021-08-22T08:47:16.230Z"
   },
   {
    "duration": 33,
    "start_time": "2021-08-22T08:47:16.273Z"
   },
   {
    "duration": 29,
    "start_time": "2021-08-22T08:47:16.309Z"
   },
   {
    "duration": 191,
    "start_time": "2021-08-22T08:47:16.341Z"
   },
   {
    "duration": 39,
    "start_time": "2021-08-22T08:47:16.535Z"
   },
   {
    "duration": 254,
    "start_time": "2021-08-22T08:47:16.579Z"
   },
   {
    "duration": 51,
    "start_time": "2021-08-22T08:47:16.836Z"
   },
   {
    "duration": 35,
    "start_time": "2021-08-22T08:47:16.889Z"
   },
   {
    "duration": 181,
    "start_time": "2021-08-22T08:47:16.927Z"
   },
   {
    "duration": 50,
    "start_time": "2021-08-22T08:47:17.110Z"
   },
   {
    "duration": 38,
    "start_time": "2021-08-22T08:47:17.163Z"
   },
   {
    "duration": 148,
    "start_time": "2021-08-22T08:47:17.204Z"
   },
   {
    "duration": 18,
    "start_time": "2021-08-22T08:47:17.363Z"
   },
   {
    "duration": 43,
    "start_time": "2021-08-22T08:47:17.384Z"
   },
   {
    "duration": 55,
    "start_time": "2021-08-22T08:47:17.429Z"
   },
   {
    "duration": 155,
    "start_time": "2021-08-22T08:47:17.487Z"
   },
   {
    "duration": 17,
    "start_time": "2021-08-22T08:47:17.644Z"
   },
   {
    "duration": 10,
    "start_time": "2021-08-22T08:47:17.666Z"
   },
   {
    "duration": 2,
    "start_time": "2021-08-22T08:47:17.686Z"
   },
   {
    "duration": 15,
    "start_time": "2021-08-22T08:47:17.691Z"
   },
   {
    "duration": 148,
    "start_time": "2021-08-22T08:48:00.121Z"
   },
   {
    "duration": 619,
    "start_time": "2021-08-22T08:49:15.699Z"
   },
   {
    "duration": 254,
    "start_time": "2021-08-22T08:49:25.980Z"
   },
   {
    "duration": 254,
    "start_time": "2021-08-22T08:49:46.120Z"
   },
   {
    "duration": 266,
    "start_time": "2021-08-22T08:50:04.940Z"
   },
   {
    "duration": 33,
    "start_time": "2021-08-22T08:50:33.760Z"
   },
   {
    "duration": 139,
    "start_time": "2021-08-22T08:51:12.300Z"
   },
   {
    "duration": 11,
    "start_time": "2021-08-22T08:52:22.692Z"
   },
   {
    "duration": 11,
    "start_time": "2021-08-22T08:52:31.050Z"
   },
   {
    "duration": 10,
    "start_time": "2021-08-22T08:52:37.400Z"
   },
   {
    "duration": 276,
    "start_time": "2021-08-22T08:53:45.501Z"
   },
   {
    "duration": 7747,
    "start_time": "2021-08-22T08:54:15.709Z"
   },
   {
    "duration": 832,
    "start_time": "2021-08-22T08:54:47.773Z"
   },
   {
    "duration": 45,
    "start_time": "2021-08-22T08:54:49.822Z"
   },
   {
    "duration": 9,
    "start_time": "2021-08-22T08:54:52.091Z"
   },
   {
    "duration": 217,
    "start_time": "2021-08-22T08:54:54.372Z"
   },
   {
    "duration": 27,
    "start_time": "2021-08-22T08:54:56.682Z"
   },
   {
    "duration": 119,
    "start_time": "2021-08-22T08:54:59.030Z"
   },
   {
    "duration": 21,
    "start_time": "2021-08-22T08:55:01.532Z"
   },
   {
    "duration": 181,
    "start_time": "2021-08-22T08:55:04.462Z"
   },
   {
    "duration": 22,
    "start_time": "2021-08-22T08:55:07.053Z"
   },
   {
    "duration": 27,
    "start_time": "2021-08-22T08:55:09.350Z"
   },
   {
    "duration": 9,
    "start_time": "2021-08-22T08:55:11.622Z"
   },
   {
    "duration": 162,
    "start_time": "2021-08-22T08:55:14.820Z"
   },
   {
    "duration": 25,
    "start_time": "2021-08-22T08:55:18.780Z"
   },
   {
    "duration": 227,
    "start_time": "2021-08-22T08:55:21.616Z"
   },
   {
    "duration": 36,
    "start_time": "2021-08-22T08:55:24.209Z"
   },
   {
    "duration": 33,
    "start_time": "2021-08-22T08:55:26.890Z"
   },
   {
    "duration": 145,
    "start_time": "2021-08-22T08:55:30.932Z"
   },
   {
    "duration": 13,
    "start_time": "2021-08-22T08:55:36.350Z"
   },
   {
    "duration": 40,
    "start_time": "2021-08-22T08:56:11.152Z"
   },
   {
    "duration": 31,
    "start_time": "2021-08-22T08:56:14.210Z"
   },
   {
    "duration": 125,
    "start_time": "2021-08-22T08:56:19.412Z"
   },
   {
    "duration": 12,
    "start_time": "2021-08-22T08:56:44.462Z"
   },
   {
    "duration": 14,
    "start_time": "2021-08-22T08:56:49.922Z"
   },
   {
    "duration": 40,
    "start_time": "2021-08-22T08:56:52.700Z"
   },
   {
    "duration": 33,
    "start_time": "2021-08-22T08:56:55.312Z"
   },
   {
    "duration": 156,
    "start_time": "2021-08-22T08:57:00.190Z"
   },
   {
    "duration": 147,
    "start_time": "2021-08-22T08:57:05.380Z"
   },
   {
    "duration": 12,
    "start_time": "2021-08-22T08:57:31.263Z"
   },
   {
    "duration": 91,
    "start_time": "2021-08-22T09:04:13.121Z"
   },
   {
    "duration": 367,
    "start_time": "2021-08-22T09:04:20.141Z"
   },
   {
    "duration": 42,
    "start_time": "2021-08-22T09:04:42.071Z"
   },
   {
    "duration": 10,
    "start_time": "2021-08-22T09:05:31.821Z"
   },
   {
    "duration": 276,
    "start_time": "2021-08-22T09:05:51.943Z"
   },
   {
    "duration": 13,
    "start_time": "2021-08-22T09:06:03.831Z"
   },
   {
    "duration": 8,
    "start_time": "2021-08-22T09:06:19.374Z"
   },
   {
    "duration": 25,
    "start_time": "2021-08-22T09:09:55.783Z"
   },
   {
    "duration": 19,
    "start_time": "2021-08-22T09:20:42.900Z"
   },
   {
    "duration": 27,
    "start_time": "2021-08-22T09:21:05.165Z"
   },
   {
    "duration": 33,
    "start_time": "2021-08-22T09:23:25.254Z"
   },
   {
    "duration": 31,
    "start_time": "2021-08-22T09:23:39.292Z"
   },
   {
    "duration": 305,
    "start_time": "2021-08-22T09:24:52.643Z"
   },
   {
    "duration": 723,
    "start_time": "2021-08-22T09:25:03.293Z"
   },
   {
    "duration": 707,
    "start_time": "2021-08-22T09:25:22.616Z"
   },
   {
    "duration": 103,
    "start_time": "2021-08-22T09:25:30.778Z"
   },
   {
    "duration": 273,
    "start_time": "2021-08-22T09:25:34.100Z"
   },
   {
    "duration": 278,
    "start_time": "2021-08-22T09:25:41.271Z"
   },
   {
    "duration": 32,
    "start_time": "2021-08-22T09:26:30.623Z"
   },
   {
    "duration": 34,
    "start_time": "2021-08-22T09:27:59.171Z"
   },
   {
    "duration": 36,
    "start_time": "2021-08-22T09:28:20.176Z"
   },
   {
    "duration": 25,
    "start_time": "2021-08-22T09:28:37.101Z"
   },
   {
    "duration": 871,
    "start_time": "2021-08-22T09:54:30.675Z"
   },
   {
    "duration": 47,
    "start_time": "2021-08-22T09:54:33.498Z"
   },
   {
    "duration": 10,
    "start_time": "2021-08-22T09:54:35.527Z"
   },
   {
    "duration": 233,
    "start_time": "2021-08-22T09:54:37.435Z"
   },
   {
    "duration": 28,
    "start_time": "2021-08-22T09:54:39.487Z"
   },
   {
    "duration": 125,
    "start_time": "2021-08-22T09:54:41.695Z"
   },
   {
    "duration": 20,
    "start_time": "2021-08-22T09:54:43.605Z"
   },
   {
    "duration": 190,
    "start_time": "2021-08-22T09:54:45.575Z"
   },
   {
    "duration": 24,
    "start_time": "2021-08-22T09:54:47.437Z"
   },
   {
    "duration": 27,
    "start_time": "2021-08-22T09:54:49.395Z"
   },
   {
    "duration": 9,
    "start_time": "2021-08-22T09:54:51.467Z"
   },
   {
    "duration": 191,
    "start_time": "2021-08-22T09:54:54.135Z"
   },
   {
    "duration": 25,
    "start_time": "2021-08-22T09:54:55.967Z"
   },
   {
    "duration": 243,
    "start_time": "2021-08-22T09:54:58.875Z"
   },
   {
    "duration": 37,
    "start_time": "2021-08-22T09:55:01.377Z"
   },
   {
    "duration": 37,
    "start_time": "2021-08-22T09:55:03.445Z"
   },
   {
    "duration": 142,
    "start_time": "2021-08-22T09:55:06.007Z"
   },
   {
    "duration": 12,
    "start_time": "2021-08-22T09:55:10.277Z"
   },
   {
    "duration": 58,
    "start_time": "2021-08-22T09:57:35.107Z"
   },
   {
    "duration": 32,
    "start_time": "2021-08-22T09:57:38.276Z"
   },
   {
    "duration": 127,
    "start_time": "2021-08-22T09:57:41.205Z"
   },
   {
    "duration": 13,
    "start_time": "2021-08-22T09:57:43.425Z"
   },
   {
    "duration": 15,
    "start_time": "2021-08-22T09:57:45.897Z"
   },
   {
    "duration": 42,
    "start_time": "2021-08-22T09:57:47.986Z"
   },
   {
    "duration": 35,
    "start_time": "2021-08-22T09:57:50.535Z"
   },
   {
    "duration": 157,
    "start_time": "2021-08-22T09:57:53.455Z"
   },
   {
    "duration": 13,
    "start_time": "2021-08-22T09:57:55.967Z"
   },
   {
    "duration": 33,
    "start_time": "2021-08-22T09:57:58.545Z"
   },
   {
    "duration": 24,
    "start_time": "2021-08-22T09:58:31.926Z"
   },
   {
    "duration": 35,
    "start_time": "2021-08-22T09:58:55.965Z"
   },
   {
    "duration": 36,
    "start_time": "2021-08-22T09:59:05.485Z"
   },
   {
    "duration": 25,
    "start_time": "2021-08-22T09:59:26.885Z"
   },
   {
    "duration": 394,
    "start_time": "2021-08-22T10:00:08.335Z"
   },
   {
    "duration": 292,
    "start_time": "2021-08-22T10:00:52.676Z"
   },
   {
    "duration": 26,
    "start_time": "2021-08-22T10:01:16.314Z"
   },
   {
    "duration": 35,
    "start_time": "2021-08-22T10:01:43.005Z"
   },
   {
    "duration": 89,
    "start_time": "2021-08-22T10:02:21.737Z"
   },
   {
    "duration": 97,
    "start_time": "2021-08-22T10:02:31.689Z"
   },
   {
    "duration": 34,
    "start_time": "2021-08-22T10:10:05.057Z"
   },
   {
    "duration": 122,
    "start_time": "2021-08-22T10:10:55.219Z"
   },
   {
    "duration": 97,
    "start_time": "2021-08-22T10:14:07.196Z"
   },
   {
    "duration": 83,
    "start_time": "2021-08-22T10:14:27.187Z"
   },
   {
    "duration": 39,
    "start_time": "2021-08-22T10:15:25.156Z"
   },
   {
    "duration": 57,
    "start_time": "2021-08-22T10:15:57.206Z"
   },
   {
    "duration": 15,
    "start_time": "2021-08-22T10:35:04.012Z"
   },
   {
    "duration": 8,
    "start_time": "2021-08-22T10:38:11.902Z"
   },
   {
    "duration": 14,
    "start_time": "2021-08-22T10:42:25.448Z"
   },
   {
    "duration": 882,
    "start_time": "2021-08-22T12:28:07.407Z"
   },
   {
    "duration": 903,
    "start_time": "2021-08-22T12:28:26.322Z"
   },
   {
    "duration": 89,
    "start_time": "2021-08-22T12:28:29.764Z"
   },
   {
    "duration": 9,
    "start_time": "2021-08-22T12:28:32.993Z"
   },
   {
    "duration": 214,
    "start_time": "2021-08-22T12:28:36.183Z"
   },
   {
    "duration": 29,
    "start_time": "2021-08-22T12:28:38.923Z"
   },
   {
    "duration": 118,
    "start_time": "2021-08-22T12:28:41.922Z"
   },
   {
    "duration": 20,
    "start_time": "2021-08-22T12:28:46.223Z"
   },
   {
    "duration": 175,
    "start_time": "2021-08-22T12:28:48.892Z"
   },
   {
    "duration": 25,
    "start_time": "2021-08-22T12:28:52.312Z"
   },
   {
    "duration": 31,
    "start_time": "2021-08-22T12:28:55.665Z"
   },
   {
    "duration": 9,
    "start_time": "2021-08-22T12:28:58.221Z"
   },
   {
    "duration": 165,
    "start_time": "2021-08-22T12:29:05.474Z"
   },
   {
    "duration": 26,
    "start_time": "2021-08-22T12:29:15.642Z"
   },
   {
    "duration": 218,
    "start_time": "2021-08-22T12:29:19.555Z"
   },
   {
    "duration": 36,
    "start_time": "2021-08-22T12:29:23.625Z"
   },
   {
    "duration": 33,
    "start_time": "2021-08-22T12:29:27.913Z"
   },
   {
    "duration": 144,
    "start_time": "2021-08-22T12:29:32.113Z"
   },
   {
    "duration": 12,
    "start_time": "2021-08-22T12:29:35.352Z"
   },
   {
    "duration": 34,
    "start_time": "2021-08-22T12:29:39.593Z"
   },
   {
    "duration": 31,
    "start_time": "2021-08-22T12:29:43.992Z"
   },
   {
    "duration": 124,
    "start_time": "2021-08-22T12:29:48.633Z"
   },
   {
    "duration": 12,
    "start_time": "2021-08-22T12:29:51.474Z"
   },
   {
    "duration": 14,
    "start_time": "2021-08-22T12:29:54.344Z"
   },
   {
    "duration": 41,
    "start_time": "2021-08-22T12:29:58.123Z"
   },
   {
    "duration": 31,
    "start_time": "2021-08-22T12:30:01.513Z"
   },
   {
    "duration": 147,
    "start_time": "2021-08-22T12:30:05.714Z"
   },
   {
    "duration": 12,
    "start_time": "2021-08-22T12:30:08.874Z"
   },
   {
    "duration": 42,
    "start_time": "2021-08-22T12:30:13.655Z"
   },
   {
    "duration": 13,
    "start_time": "2021-08-22T12:30:16.112Z"
   },
   {
    "duration": 8,
    "start_time": "2021-08-22T12:30:19.692Z"
   },
   {
    "duration": 13,
    "start_time": "2021-08-22T12:30:24.295Z"
   },
   {
    "duration": 165,
    "start_time": "2021-08-22T12:49:49.902Z"
   },
   {
    "duration": 128,
    "start_time": "2021-08-22T12:49:59.235Z"
   },
   {
    "duration": 477,
    "start_time": "2021-08-22T12:52:11.634Z"
   },
   {
    "duration": 433,
    "start_time": "2021-08-22T12:52:32.543Z"
   },
   {
    "duration": 9,
    "start_time": "2021-08-22T12:52:50.803Z"
   },
   {
    "duration": 11,
    "start_time": "2021-08-22T12:52:54.904Z"
   },
   {
    "duration": 7,
    "start_time": "2021-08-22T12:53:03.523Z"
   },
   {
    "duration": 12,
    "start_time": "2021-08-22T12:53:05.687Z"
   },
   {
    "duration": 363,
    "start_time": "2021-08-22T12:53:40.552Z"
   },
   {
    "duration": 7,
    "start_time": "2021-08-22T12:57:38.513Z"
   },
   {
    "duration": 389,
    "start_time": "2021-08-22T12:58:43.313Z"
   },
   {
    "duration": 498,
    "start_time": "2021-08-22T12:59:25.305Z"
   },
   {
    "duration": 9251,
    "start_time": "2021-08-22T13:00:06.013Z"
   },
   {
    "duration": 10179,
    "start_time": "2021-08-22T13:00:17.702Z"
   },
   {
    "duration": 869,
    "start_time": "2021-08-22T13:00:36.668Z"
   },
   {
    "duration": 85,
    "start_time": "2021-08-22T13:00:39.189Z"
   },
   {
    "duration": 13,
    "start_time": "2021-08-22T13:00:41.656Z"
   },
   {
    "duration": 218,
    "start_time": "2021-08-22T13:00:44.047Z"
   },
   {
    "duration": 27,
    "start_time": "2021-08-22T13:00:46.298Z"
   },
   {
    "duration": 122,
    "start_time": "2021-08-22T13:00:48.698Z"
   },
   {
    "duration": 20,
    "start_time": "2021-08-22T13:00:51.056Z"
   },
   {
    "duration": 175,
    "start_time": "2021-08-22T13:00:53.516Z"
   },
   {
    "duration": 23,
    "start_time": "2021-08-22T13:00:56.337Z"
   },
   {
    "duration": 27,
    "start_time": "2021-08-22T13:00:58.864Z"
   },
   {
    "duration": 9,
    "start_time": "2021-08-22T13:01:01.036Z"
   },
   {
    "duration": 168,
    "start_time": "2021-08-22T13:01:04.986Z"
   },
   {
    "duration": 25,
    "start_time": "2021-08-22T13:01:07.238Z"
   },
   {
    "duration": 236,
    "start_time": "2021-08-22T13:01:10.066Z"
   },
   {
    "duration": 36,
    "start_time": "2021-08-22T13:01:14.188Z"
   },
   {
    "duration": 35,
    "start_time": "2021-08-22T13:01:17.266Z"
   },
   {
    "duration": 136,
    "start_time": "2021-08-22T13:01:21.416Z"
   },
   {
    "duration": 12,
    "start_time": "2021-08-22T13:01:24.436Z"
   },
   {
    "duration": 36,
    "start_time": "2021-08-22T13:01:26.836Z"
   },
   {
    "duration": 31,
    "start_time": "2021-08-22T13:01:29.786Z"
   },
   {
    "duration": 120,
    "start_time": "2021-08-22T13:01:34.818Z"
   },
   {
    "duration": 11,
    "start_time": "2021-08-22T13:01:37.667Z"
   },
   {
    "duration": 16,
    "start_time": "2021-08-22T13:01:40.326Z"
   },
   {
    "duration": 41,
    "start_time": "2021-08-22T13:01:42.197Z"
   },
   {
    "duration": 31,
    "start_time": "2021-08-22T13:01:44.647Z"
   },
   {
    "duration": 146,
    "start_time": "2021-08-22T13:01:47.666Z"
   },
   {
    "duration": 13,
    "start_time": "2021-08-22T13:01:50.906Z"
   },
   {
    "duration": 44,
    "start_time": "2021-08-22T13:01:53.856Z"
   },
   {
    "duration": 13,
    "start_time": "2021-08-22T13:01:56.197Z"
   },
   {
    "duration": 8,
    "start_time": "2021-08-22T13:01:59.305Z"
   },
   {
    "duration": 8,
    "start_time": "2021-08-22T13:02:06.376Z"
   },
   {
    "duration": 12,
    "start_time": "2021-08-22T13:02:09.406Z"
   },
   {
    "duration": -521,
    "start_time": "2021-08-22T13:02:23.501Z"
   },
   {
    "duration": 9276,
    "start_time": "2021-08-22T13:02:25.666Z"
   },
   {
    "duration": 9,
    "start_time": "2021-08-22T13:02:52.137Z"
   },
   {
    "duration": 9,
    "start_time": "2021-08-22T13:03:10.537Z"
   },
   {
    "duration": 10,
    "start_time": "2021-08-22T13:03:25.528Z"
   },
   {
    "duration": 377,
    "start_time": "2021-08-22T13:03:32.725Z"
   },
   {
    "duration": 16,
    "start_time": "2021-08-22T13:06:23.928Z"
   },
   {
    "duration": 956,
    "start_time": "2021-08-22T13:09:40.812Z"
   },
   {
    "duration": 68,
    "start_time": "2021-08-22T13:09:43.001Z"
   },
   {
    "duration": 10,
    "start_time": "2021-08-22T13:09:45.789Z"
   },
   {
    "duration": 210,
    "start_time": "2021-08-22T13:09:48.329Z"
   },
   {
    "duration": 28,
    "start_time": "2021-08-22T13:09:50.909Z"
   },
   {
    "duration": 122,
    "start_time": "2021-08-22T13:09:53.292Z"
   },
   {
    "duration": 20,
    "start_time": "2021-08-22T13:09:55.511Z"
   },
   {
    "duration": 175,
    "start_time": "2021-08-22T13:09:57.829Z"
   },
   {
    "duration": 25,
    "start_time": "2021-08-22T13:10:00.138Z"
   },
   {
    "duration": 28,
    "start_time": "2021-08-22T13:10:02.341Z"
   },
   {
    "duration": 9,
    "start_time": "2021-08-22T13:10:04.269Z"
   },
   {
    "duration": 163,
    "start_time": "2021-08-22T13:10:07.629Z"
   },
   {
    "duration": 26,
    "start_time": "2021-08-22T13:10:10.191Z"
   },
   {
    "duration": 224,
    "start_time": "2021-08-22T13:10:13.381Z"
   },
   {
    "duration": 35,
    "start_time": "2021-08-22T13:10:16.109Z"
   },
   {
    "duration": 37,
    "start_time": "2021-08-22T13:10:18.589Z"
   },
   {
    "duration": 138,
    "start_time": "2021-08-22T13:10:21.379Z"
   },
   {
    "duration": 11,
    "start_time": "2021-08-22T13:10:23.861Z"
   },
   {
    "duration": 34,
    "start_time": "2021-08-22T13:10:26.139Z"
   },
   {
    "duration": 31,
    "start_time": "2021-08-22T13:10:28.501Z"
   },
   {
    "duration": 125,
    "start_time": "2021-08-22T13:10:31.419Z"
   },
   {
    "duration": 12,
    "start_time": "2021-08-22T13:10:34.049Z"
   },
   {
    "duration": 15,
    "start_time": "2021-08-22T13:10:37.109Z"
   },
   {
    "duration": 39,
    "start_time": "2021-08-22T13:10:39.679Z"
   },
   {
    "duration": 32,
    "start_time": "2021-08-22T13:10:42.189Z"
   },
   {
    "duration": 151,
    "start_time": "2021-08-22T13:10:44.940Z"
   },
   {
    "duration": 12,
    "start_time": "2021-08-22T13:10:47.849Z"
   },
   {
    "duration": 42,
    "start_time": "2021-08-22T13:10:50.348Z"
   },
   {
    "duration": 12,
    "start_time": "2021-08-22T13:11:13.661Z"
   },
   {
    "duration": 8,
    "start_time": "2021-08-22T13:12:59.252Z"
   },
   {
    "duration": 15,
    "start_time": "2021-08-22T13:13:12.967Z"
   },
   {
    "duration": 11,
    "start_time": "2021-08-22T13:13:35.669Z"
   },
   {
    "duration": 11,
    "start_time": "2021-08-22T13:15:46.741Z"
   },
   {
    "duration": 20,
    "start_time": "2021-08-22T13:16:04.909Z"
   },
   {
    "duration": 16,
    "start_time": "2021-08-22T13:16:44.960Z"
   },
   {
    "duration": 20,
    "start_time": "2021-08-22T13:16:52.689Z"
   },
   {
    "duration": 876,
    "start_time": "2021-08-22T13:33:48.749Z"
   },
   {
    "duration": 57,
    "start_time": "2021-08-22T13:33:51.851Z"
   },
   {
    "duration": 9,
    "start_time": "2021-08-22T13:33:54.712Z"
   },
   {
    "duration": 213,
    "start_time": "2021-08-22T13:33:56.811Z"
   },
   {
    "duration": 28,
    "start_time": "2021-08-22T13:33:59.871Z"
   },
   {
    "duration": 120,
    "start_time": "2021-08-22T13:34:20.001Z"
   },
   {
    "duration": 29,
    "start_time": "2021-08-22T13:34:22.161Z"
   },
   {
    "duration": 180,
    "start_time": "2021-08-22T13:34:24.201Z"
   },
   {
    "duration": 25,
    "start_time": "2021-08-22T13:34:26.759Z"
   },
   {
    "duration": 26,
    "start_time": "2021-08-22T13:34:29.349Z"
   },
   {
    "duration": 9,
    "start_time": "2021-08-22T13:34:31.522Z"
   },
   {
    "duration": 159,
    "start_time": "2021-08-22T13:35:36.774Z"
   },
   {
    "duration": 24,
    "start_time": "2021-08-22T13:35:39.265Z"
   },
   {
    "duration": 227,
    "start_time": "2021-08-22T13:35:44.827Z"
   },
   {
    "duration": 39,
    "start_time": "2021-08-22T13:36:03.542Z"
   },
   {
    "duration": 34,
    "start_time": "2021-08-22T13:36:06.662Z"
   },
   {
    "duration": 143,
    "start_time": "2021-08-22T13:36:10.803Z"
   },
   {
    "duration": 16,
    "start_time": "2021-08-22T13:36:13.933Z"
   },
   {
    "duration": 38,
    "start_time": "2021-08-22T13:36:16.783Z"
   },
   {
    "duration": 31,
    "start_time": "2021-08-22T13:36:23.014Z"
   },
   {
    "duration": 119,
    "start_time": "2021-08-22T13:36:27.832Z"
   },
   {
    "duration": 13,
    "start_time": "2021-08-22T13:36:30.765Z"
   },
   {
    "duration": 15,
    "start_time": "2021-08-22T13:36:33.444Z"
   },
   {
    "duration": 41,
    "start_time": "2021-08-22T13:36:36.172Z"
   },
   {
    "duration": 32,
    "start_time": "2021-08-22T13:36:38.400Z"
   },
   {
    "duration": 144,
    "start_time": "2021-08-22T13:36:41.195Z"
   },
   {
    "duration": 12,
    "start_time": "2021-08-22T13:36:43.952Z"
   },
   {
    "duration": 44,
    "start_time": "2021-08-22T13:36:46.210Z"
   },
   {
    "duration": 8,
    "start_time": "2021-08-22T13:36:49.484Z"
   },
   {
    "duration": 29,
    "start_time": "2021-08-22T13:37:24.655Z"
   },
   {
    "duration": 9274,
    "start_time": "2021-08-22T13:43:03.883Z"
   },
   {
    "duration": 952,
    "start_time": "2021-08-22T13:55:51.268Z"
   },
   {
    "duration": 135,
    "start_time": "2021-08-22T13:56:15.516Z"
   },
   {
    "duration": 9436,
    "start_time": "2021-08-22T13:56:43.155Z"
   },
   {
    "duration": 186,
    "start_time": "2021-08-22T14:04:53.854Z"
   },
   {
    "duration": 869,
    "start_time": "2021-08-22T15:14:40.866Z"
   },
   {
    "duration": 48,
    "start_time": "2021-08-22T15:14:45.802Z"
   },
   {
    "duration": 10,
    "start_time": "2021-08-22T15:14:48.179Z"
   },
   {
    "duration": 218,
    "start_time": "2021-08-22T15:14:50.585Z"
   },
   {
    "duration": 29,
    "start_time": "2021-08-22T15:14:52.895Z"
   },
   {
    "duration": 120,
    "start_time": "2021-08-22T15:14:55.174Z"
   },
   {
    "duration": 19,
    "start_time": "2021-08-22T15:14:57.333Z"
   },
   {
    "duration": 178,
    "start_time": "2021-08-22T15:14:59.703Z"
   },
   {
    "duration": 22,
    "start_time": "2021-08-22T15:15:01.543Z"
   },
   {
    "duration": 27,
    "start_time": "2021-08-22T15:15:04.281Z"
   },
   {
    "duration": 9,
    "start_time": "2021-08-22T15:15:06.758Z"
   },
   {
    "duration": 177,
    "start_time": "2021-08-22T15:15:09.904Z"
   },
   {
    "duration": 26,
    "start_time": "2021-08-22T15:15:13.465Z"
   },
   {
    "duration": 240,
    "start_time": "2021-08-22T15:15:17.993Z"
   },
   {
    "duration": 36,
    "start_time": "2021-08-22T15:15:26.165Z"
   },
   {
    "duration": 35,
    "start_time": "2021-08-22T15:15:32.074Z"
   },
   {
    "duration": 148,
    "start_time": "2021-08-22T15:15:36.862Z"
   },
   {
    "duration": 54,
    "start_time": "2021-08-22T15:15:57.004Z"
   },
   {
    "duration": 39,
    "start_time": "2021-08-22T15:16:00.015Z"
   },
   {
    "duration": 128,
    "start_time": "2021-08-22T15:16:04.974Z"
   },
   {
    "duration": 22,
    "start_time": "2021-08-22T15:16:20.148Z"
   },
   {
    "duration": 49,
    "start_time": "2021-08-22T15:16:24.973Z"
   },
   {
    "duration": 37,
    "start_time": "2021-08-22T15:16:28.939Z"
   },
   {
    "duration": 159,
    "start_time": "2021-08-22T15:16:33.854Z"
   },
   {
    "duration": 131,
    "start_time": "2021-08-22T15:16:42.024Z"
   },
   {
    "duration": 937,
    "start_time": "2021-08-22T15:17:15.056Z"
   },
   {
    "duration": 48,
    "start_time": "2021-08-22T15:17:18.762Z"
   },
   {
    "duration": 10,
    "start_time": "2021-08-22T15:17:21.385Z"
   },
   {
    "duration": 235,
    "start_time": "2021-08-22T15:17:23.728Z"
   },
   {
    "duration": 28,
    "start_time": "2021-08-22T15:17:26.615Z"
   },
   {
    "duration": 126,
    "start_time": "2021-08-22T15:17:29.171Z"
   },
   {
    "duration": 27,
    "start_time": "2021-08-22T15:17:32.261Z"
   },
   {
    "duration": 186,
    "start_time": "2021-08-22T15:17:35.007Z"
   },
   {
    "duration": 26,
    "start_time": "2021-08-22T15:17:38.737Z"
   },
   {
    "duration": 28,
    "start_time": "2021-08-22T15:17:43.020Z"
   },
   {
    "duration": 10,
    "start_time": "2021-08-22T15:17:44.967Z"
   },
   {
    "duration": 165,
    "start_time": "2021-08-22T15:17:53.810Z"
   },
   {
    "duration": 36,
    "start_time": "2021-08-22T15:17:57.101Z"
   },
   {
    "duration": 240,
    "start_time": "2021-08-22T15:18:02.789Z"
   },
   {
    "duration": 39,
    "start_time": "2021-08-22T15:18:09.345Z"
   },
   {
    "duration": 37,
    "start_time": "2021-08-22T15:18:48.470Z"
   },
   {
    "duration": 154,
    "start_time": "2021-08-22T15:18:52.342Z"
   },
   {
    "duration": 14,
    "start_time": "2021-08-22T15:20:11.514Z"
   },
   {
    "duration": 38,
    "start_time": "2021-08-22T15:20:15.257Z"
   },
   {
    "duration": 32,
    "start_time": "2021-08-22T15:20:20.343Z"
   },
   {
    "duration": 125,
    "start_time": "2021-08-22T15:20:25.961Z"
   },
   {
    "duration": 13,
    "start_time": "2021-08-22T15:20:49.991Z"
   },
   {
    "duration": 16,
    "start_time": "2021-08-22T15:20:53.357Z"
   },
   {
    "duration": 43,
    "start_time": "2021-08-22T15:20:57.049Z"
   },
   {
    "duration": 34,
    "start_time": "2021-08-22T15:21:01.631Z"
   },
   {
    "duration": 168,
    "start_time": "2021-08-22T15:21:07.258Z"
   },
   {
    "duration": 14,
    "start_time": "2021-08-22T15:21:29.460Z"
   },
   {
    "duration": 69,
    "start_time": "2021-08-22T15:21:43.112Z"
   },
   {
    "duration": 13,
    "start_time": "2021-08-22T15:22:27.781Z"
   },
   {
    "duration": 11,
    "start_time": "2021-08-22T15:26:27.771Z"
   },
   {
    "duration": 24,
    "start_time": "2021-08-22T15:28:43.624Z"
   },
   {
    "duration": 175,
    "start_time": "2021-08-22T15:28:51.813Z"
   },
   {
    "duration": 22,
    "start_time": "2021-08-22T15:29:30.783Z"
   },
   {
    "duration": 204,
    "start_time": "2021-08-22T15:29:36.166Z"
   },
   {
    "duration": 486,
    "start_time": "2021-08-22T15:32:18.943Z"
   },
   {
    "duration": 5,
    "start_time": "2021-08-22T15:32:33.424Z"
   },
   {
    "duration": 6,
    "start_time": "2021-08-22T15:33:08.973Z"
   },
   {
    "duration": 402,
    "start_time": "2021-08-22T15:39:18.930Z"
   },
   {
    "duration": 420,
    "start_time": "2021-08-22T15:40:03.900Z"
   },
   {
    "duration": 8,
    "start_time": "2021-08-22T15:40:41.620Z"
   },
   {
    "duration": 7,
    "start_time": "2021-08-22T15:42:14.480Z"
   },
   {
    "duration": 5,
    "start_time": "2021-08-22T15:43:03.337Z"
   },
   {
    "duration": 902,
    "start_time": "2021-08-22T16:04:11.507Z"
   },
   {
    "duration": 77,
    "start_time": "2021-08-22T16:04:12.412Z"
   },
   {
    "duration": 9,
    "start_time": "2021-08-22T16:04:12.491Z"
   },
   {
    "duration": 226,
    "start_time": "2021-08-22T16:04:12.503Z"
   },
   {
    "duration": 31,
    "start_time": "2021-08-22T16:04:12.731Z"
   },
   {
    "duration": 124,
    "start_time": "2021-08-22T16:04:12.765Z"
   },
   {
    "duration": 18,
    "start_time": "2021-08-22T16:04:12.891Z"
   },
   {
    "duration": 195,
    "start_time": "2021-08-22T16:04:12.911Z"
   },
   {
    "duration": 21,
    "start_time": "2021-08-22T16:04:13.110Z"
   },
   {
    "duration": 39,
    "start_time": "2021-08-22T16:04:13.134Z"
   },
   {
    "duration": 32,
    "start_time": "2021-08-22T16:04:13.176Z"
   },
   {
    "duration": 173,
    "start_time": "2021-08-22T16:04:13.211Z"
   },
   {
    "duration": 24,
    "start_time": "2021-08-22T16:04:13.387Z"
   },
   {
    "duration": 234,
    "start_time": "2021-08-22T16:04:13.413Z"
   },
   {
    "duration": 37,
    "start_time": "2021-08-22T16:04:13.649Z"
   },
   {
    "duration": 32,
    "start_time": "2021-08-22T16:04:13.688Z"
   },
   {
    "duration": 173,
    "start_time": "2021-08-22T16:04:13.722Z"
   },
   {
    "duration": 12,
    "start_time": "2021-08-22T16:04:13.897Z"
   },
   {
    "duration": 51,
    "start_time": "2021-08-22T16:04:13.911Z"
   },
   {
    "duration": 29,
    "start_time": "2021-08-22T16:04:13.964Z"
   },
   {
    "duration": 141,
    "start_time": "2021-08-22T16:04:13.996Z"
   },
   {
    "duration": 20,
    "start_time": "2021-08-22T16:04:14.139Z"
   },
   {
    "duration": 13,
    "start_time": "2021-08-22T16:04:14.161Z"
   },
   {
    "duration": 38,
    "start_time": "2021-08-22T16:04:14.177Z"
   },
   {
    "duration": 57,
    "start_time": "2021-08-22T16:04:14.218Z"
   },
   {
    "duration": 163,
    "start_time": "2021-08-22T16:04:14.277Z"
   },
   {
    "duration": 19,
    "start_time": "2021-08-22T16:04:14.444Z"
   },
   {
    "duration": 50,
    "start_time": "2021-08-22T16:04:14.465Z"
   },
   {
    "duration": 11,
    "start_time": "2021-08-22T16:04:14.517Z"
   },
   {
    "duration": 47,
    "start_time": "2021-08-22T16:04:14.530Z"
   },
   {
    "duration": 195,
    "start_time": "2021-08-22T16:04:14.580Z"
   },
   {
    "duration": 4,
    "start_time": "2021-08-22T16:04:14.778Z"
   },
   {
    "duration": 6,
    "start_time": "2021-08-22T16:11:22.807Z"
   },
   {
    "duration": 6,
    "start_time": "2021-08-22T16:12:35.660Z"
   },
   {
    "duration": 8,
    "start_time": "2021-08-22T16:16:55.188Z"
   },
   {
    "duration": 36,
    "start_time": "2021-08-22T16:18:04.250Z"
   },
   {
    "duration": 924,
    "start_time": "2021-08-22T16:18:35.131Z"
   },
   {
    "duration": 66,
    "start_time": "2021-08-22T16:18:36.058Z"
   },
   {
    "duration": 9,
    "start_time": "2021-08-22T16:18:36.127Z"
   },
   {
    "duration": 225,
    "start_time": "2021-08-22T16:18:36.139Z"
   },
   {
    "duration": 26,
    "start_time": "2021-08-22T16:18:36.366Z"
   },
   {
    "duration": 139,
    "start_time": "2021-08-22T16:18:36.395Z"
   },
   {
    "duration": 24,
    "start_time": "2021-08-22T16:18:36.536Z"
   },
   {
    "duration": 186,
    "start_time": "2021-08-22T16:18:36.562Z"
   },
   {
    "duration": 23,
    "start_time": "2021-08-22T16:18:36.752Z"
   },
   {
    "duration": 35,
    "start_time": "2021-08-22T16:18:36.779Z"
   },
   {
    "duration": 26,
    "start_time": "2021-08-22T16:18:36.817Z"
   },
   {
    "duration": 176,
    "start_time": "2021-08-22T16:18:36.845Z"
   },
   {
    "duration": 32,
    "start_time": "2021-08-22T16:18:37.024Z"
   },
   {
    "duration": 246,
    "start_time": "2021-08-22T16:18:37.059Z"
   },
   {
    "duration": 48,
    "start_time": "2021-08-22T16:18:37.307Z"
   },
   {
    "duration": 33,
    "start_time": "2021-08-22T16:18:37.358Z"
   },
   {
    "duration": 163,
    "start_time": "2021-08-22T16:18:37.393Z"
   },
   {
    "duration": 12,
    "start_time": "2021-08-22T16:18:37.558Z"
   },
   {
    "duration": 52,
    "start_time": "2021-08-22T16:18:37.573Z"
   },
   {
    "duration": 471,
    "start_time": "2021-08-22T16:18:37.628Z"
   },
   {
    "duration": -513,
    "start_time": "2021-08-22T16:18:38.616Z"
   },
   {
    "duration": -552,
    "start_time": "2021-08-22T16:18:38.657Z"
   },
   {
    "duration": -554,
    "start_time": "2021-08-22T16:18:38.661Z"
   },
   {
    "duration": -554,
    "start_time": "2021-08-22T16:18:38.663Z"
   },
   {
    "duration": -555,
    "start_time": "2021-08-22T16:18:38.666Z"
   },
   {
    "duration": -555,
    "start_time": "2021-08-22T16:18:38.669Z"
   },
   {
    "duration": -556,
    "start_time": "2021-08-22T16:18:38.672Z"
   },
   {
    "duration": -557,
    "start_time": "2021-08-22T16:18:38.675Z"
   },
   {
    "duration": -556,
    "start_time": "2021-08-22T16:18:38.677Z"
   },
   {
    "duration": -557,
    "start_time": "2021-08-22T16:18:38.680Z"
   },
   {
    "duration": -558,
    "start_time": "2021-08-22T16:18:38.683Z"
   },
   {
    "duration": -558,
    "start_time": "2021-08-22T16:18:38.685Z"
   },
   {
    "duration": -560,
    "start_time": "2021-08-22T16:18:38.689Z"
   },
   {
    "duration": 887,
    "start_time": "2021-08-22T16:19:01.087Z"
   },
   {
    "duration": 59,
    "start_time": "2021-08-22T16:19:01.977Z"
   },
   {
    "duration": 9,
    "start_time": "2021-08-22T16:19:02.040Z"
   },
   {
    "duration": 246,
    "start_time": "2021-08-22T16:19:02.052Z"
   },
   {
    "duration": 28,
    "start_time": "2021-08-22T16:19:02.300Z"
   },
   {
    "duration": 139,
    "start_time": "2021-08-22T16:19:02.331Z"
   },
   {
    "duration": 20,
    "start_time": "2021-08-22T16:19:02.472Z"
   },
   {
    "duration": 198,
    "start_time": "2021-08-22T16:19:02.496Z"
   },
   {
    "duration": 23,
    "start_time": "2021-08-22T16:19:02.697Z"
   },
   {
    "duration": 55,
    "start_time": "2021-08-22T16:19:02.722Z"
   },
   {
    "duration": 39,
    "start_time": "2021-08-22T16:19:02.779Z"
   },
   {
    "duration": 189,
    "start_time": "2021-08-22T16:19:02.820Z"
   },
   {
    "duration": 25,
    "start_time": "2021-08-22T16:19:03.012Z"
   },
   {
    "duration": 259,
    "start_time": "2021-08-22T16:19:03.039Z"
   },
   {
    "duration": 35,
    "start_time": "2021-08-22T16:19:03.301Z"
   },
   {
    "duration": 34,
    "start_time": "2021-08-22T16:19:03.355Z"
   },
   {
    "duration": 157,
    "start_time": "2021-08-22T16:19:03.391Z"
   },
   {
    "duration": 16,
    "start_time": "2021-08-22T16:19:03.550Z"
   },
   {
    "duration": 46,
    "start_time": "2021-08-22T16:19:03.568Z"
   },
   {
    "duration": 516,
    "start_time": "2021-08-22T16:19:03.616Z"
   },
   {
    "duration": -513,
    "start_time": "2021-08-22T16:19:04.648Z"
   },
   {
    "duration": -515,
    "start_time": "2021-08-22T16:19:04.651Z"
   },
   {
    "duration": -517,
    "start_time": "2021-08-22T16:19:04.654Z"
   },
   {
    "duration": -518,
    "start_time": "2021-08-22T16:19:04.657Z"
   },
   {
    "duration": -561,
    "start_time": "2021-08-22T16:19:04.701Z"
   },
   {
    "duration": -562,
    "start_time": "2021-08-22T16:19:04.704Z"
   },
   {
    "duration": -564,
    "start_time": "2021-08-22T16:19:04.707Z"
   },
   {
    "duration": -565,
    "start_time": "2021-08-22T16:19:04.709Z"
   },
   {
    "duration": -567,
    "start_time": "2021-08-22T16:19:04.713Z"
   },
   {
    "duration": -568,
    "start_time": "2021-08-22T16:19:04.715Z"
   },
   {
    "duration": -570,
    "start_time": "2021-08-22T16:19:04.718Z"
   },
   {
    "duration": -571,
    "start_time": "2021-08-22T16:19:04.721Z"
   },
   {
    "duration": -572,
    "start_time": "2021-08-22T16:19:04.723Z"
   },
   {
    "duration": 902,
    "start_time": "2021-08-22T16:19:30.501Z"
   },
   {
    "duration": 56,
    "start_time": "2021-08-22T16:19:31.405Z"
   },
   {
    "duration": 14,
    "start_time": "2021-08-22T16:19:31.464Z"
   },
   {
    "duration": 333,
    "start_time": "2021-08-22T16:19:31.482Z"
   },
   {
    "duration": 59,
    "start_time": "2021-08-22T16:19:31.819Z"
   },
   {
    "duration": 211,
    "start_time": "2021-08-22T16:19:31.881Z"
   },
   {
    "duration": 30,
    "start_time": "2021-08-22T16:19:32.095Z"
   },
   {
    "duration": 195,
    "start_time": "2021-08-22T16:19:32.130Z"
   },
   {
    "duration": 31,
    "start_time": "2021-08-22T16:19:32.329Z"
   },
   {
    "duration": 30,
    "start_time": "2021-08-22T16:19:32.362Z"
   },
   {
    "duration": 25,
    "start_time": "2021-08-22T16:19:32.395Z"
   },
   {
    "duration": 250,
    "start_time": "2021-08-22T16:19:32.423Z"
   },
   {
    "duration": 35,
    "start_time": "2021-08-22T16:19:32.676Z"
   },
   {
    "duration": 255,
    "start_time": "2021-08-22T16:19:32.714Z"
   },
   {
    "duration": 37,
    "start_time": "2021-08-22T16:19:32.972Z"
   },
   {
    "duration": 68,
    "start_time": "2021-08-22T16:19:33.011Z"
   },
   {
    "duration": 159,
    "start_time": "2021-08-22T16:19:33.081Z"
   },
   {
    "duration": 21,
    "start_time": "2021-08-22T16:19:33.242Z"
   },
   {
    "duration": 40,
    "start_time": "2021-08-22T16:19:33.266Z"
   },
   {
    "duration": 58,
    "start_time": "2021-08-22T16:19:33.309Z"
   },
   {
    "duration": 255,
    "start_time": "2021-08-22T16:19:33.369Z"
   },
   {
    "duration": 29,
    "start_time": "2021-08-22T16:19:33.627Z"
   },
   {
    "duration": 18,
    "start_time": "2021-08-22T16:19:33.662Z"
   },
   {
    "duration": 76,
    "start_time": "2021-08-22T16:19:33.684Z"
   },
   {
    "duration": 50,
    "start_time": "2021-08-22T16:19:33.763Z"
   },
   {
    "duration": 307,
    "start_time": "2021-08-22T16:19:33.816Z"
   },
   {
    "duration": 32,
    "start_time": "2021-08-22T16:19:34.126Z"
   },
   {
    "duration": 52,
    "start_time": "2021-08-22T16:19:34.161Z"
   },
   {
    "duration": 9396,
    "start_time": "2021-08-22T16:19:34.216Z"
   },
   {
    "duration": -556,
    "start_time": "2021-08-22T16:19:44.170Z"
   },
   {
    "duration": -558,
    "start_time": "2021-08-22T16:19:44.174Z"
   },
   {
    "duration": -558,
    "start_time": "2021-08-22T16:19:44.176Z"
   },
   {
    "duration": -560,
    "start_time": "2021-08-22T16:19:44.179Z"
   },
   {
    "duration": 1842,
    "start_time": "2021-08-22T16:20:15.765Z"
   },
   {
    "duration": 587,
    "start_time": "2021-08-22T16:20:17.610Z"
   },
   {
    "duration": 13,
    "start_time": "2021-08-22T16:20:18.201Z"
   },
   {
    "duration": 306,
    "start_time": "2021-08-22T16:20:18.218Z"
   },
   {
    "duration": 55,
    "start_time": "2021-08-22T16:20:18.527Z"
   },
   {
    "duration": 136,
    "start_time": "2021-08-22T16:20:18.586Z"
   },
   {
    "duration": 33,
    "start_time": "2021-08-22T16:20:18.725Z"
   },
   {
    "duration": 186,
    "start_time": "2021-08-22T16:20:18.761Z"
   },
   {
    "duration": 23,
    "start_time": "2021-08-22T16:20:18.955Z"
   },
   {
    "duration": 36,
    "start_time": "2021-08-22T16:20:18.983Z"
   },
   {
    "duration": 116,
    "start_time": "2021-08-22T16:20:19.023Z"
   },
   {
    "duration": 200,
    "start_time": "2021-08-22T16:20:19.141Z"
   },
   {
    "duration": 36,
    "start_time": "2021-08-22T16:20:19.343Z"
   },
   {
    "duration": 360,
    "start_time": "2021-08-22T16:20:19.382Z"
   },
   {
    "duration": 52,
    "start_time": "2021-08-22T16:20:19.744Z"
   },
   {
    "duration": 59,
    "start_time": "2021-08-22T16:20:19.799Z"
   },
   {
    "duration": 160,
    "start_time": "2021-08-22T16:20:19.861Z"
   },
   {
    "duration": 32,
    "start_time": "2021-08-22T16:20:20.024Z"
   },
   {
    "duration": 35,
    "start_time": "2021-08-22T16:20:20.058Z"
   },
   {
    "duration": 61,
    "start_time": "2021-08-22T16:20:20.095Z"
   },
   {
    "duration": 138,
    "start_time": "2021-08-22T16:20:20.158Z"
   },
   {
    "duration": 12,
    "start_time": "2021-08-22T16:20:20.298Z"
   },
   {
    "duration": 22,
    "start_time": "2021-08-22T16:20:20.312Z"
   },
   {
    "duration": 58,
    "start_time": "2021-08-22T16:20:20.336Z"
   },
   {
    "duration": 30,
    "start_time": "2021-08-22T16:20:20.396Z"
   },
   {
    "duration": 150,
    "start_time": "2021-08-22T16:20:20.456Z"
   },
   {
    "duration": 12,
    "start_time": "2021-08-22T16:20:20.611Z"
   },
   {
    "duration": 65,
    "start_time": "2021-08-22T16:20:20.626Z"
   },
   {
    "duration": 11,
    "start_time": "2021-08-22T16:20:20.693Z"
   },
   {
    "duration": 31,
    "start_time": "2021-08-22T16:20:20.706Z"
   },
   {
    "duration": 179,
    "start_time": "2021-08-22T16:20:20.758Z"
   },
   {
    "duration": 18,
    "start_time": "2021-08-22T16:20:20.939Z"
   },
   {
    "duration": 5,
    "start_time": "2021-08-22T16:20:20.959Z"
   },
   {
    "duration": 8,
    "start_time": "2021-08-22T16:22:24.217Z"
   },
   {
    "duration": 8,
    "start_time": "2021-08-22T16:22:35.388Z"
   },
   {
    "duration": 8,
    "start_time": "2021-08-22T16:23:44.849Z"
   },
   {
    "duration": 8,
    "start_time": "2021-08-22T16:24:13.036Z"
   },
   {
    "duration": 946,
    "start_time": "2021-08-22T16:24:47.151Z"
   },
   {
    "duration": 66,
    "start_time": "2021-08-22T16:24:48.100Z"
   },
   {
    "duration": 15,
    "start_time": "2021-08-22T16:24:48.168Z"
   },
   {
    "duration": 226,
    "start_time": "2021-08-22T16:24:48.186Z"
   },
   {
    "duration": 28,
    "start_time": "2021-08-22T16:24:48.414Z"
   },
   {
    "duration": 130,
    "start_time": "2021-08-22T16:24:48.456Z"
   },
   {
    "duration": 19,
    "start_time": "2021-08-22T16:24:48.589Z"
   },
   {
    "duration": 189,
    "start_time": "2021-08-22T16:24:48.612Z"
   },
   {
    "duration": 22,
    "start_time": "2021-08-22T16:24:48.805Z"
   },
   {
    "duration": 38,
    "start_time": "2021-08-22T16:24:48.829Z"
   },
   {
    "duration": 32,
    "start_time": "2021-08-22T16:24:48.869Z"
   },
   {
    "duration": 181,
    "start_time": "2021-08-22T16:24:48.903Z"
   },
   {
    "duration": 25,
    "start_time": "2021-08-22T16:24:49.087Z"
   },
   {
    "duration": 244,
    "start_time": "2021-08-22T16:24:49.114Z"
   },
   {
    "duration": 34,
    "start_time": "2021-08-22T16:24:49.361Z"
   },
   {
    "duration": 58,
    "start_time": "2021-08-22T16:24:49.398Z"
   },
   {
    "duration": 161,
    "start_time": "2021-08-22T16:24:49.458Z"
   },
   {
    "duration": 12,
    "start_time": "2021-08-22T16:24:49.621Z"
   },
   {
    "duration": 53,
    "start_time": "2021-08-22T16:24:49.636Z"
   },
   {
    "duration": 29,
    "start_time": "2021-08-22T16:24:49.691Z"
   },
   {
    "duration": 144,
    "start_time": "2021-08-22T16:24:49.723Z"
   },
   {
    "duration": 12,
    "start_time": "2021-08-22T16:24:49.870Z"
   },
   {
    "duration": 38,
    "start_time": "2021-08-22T16:24:49.886Z"
   },
   {
    "duration": 53,
    "start_time": "2021-08-22T16:24:49.928Z"
   },
   {
    "duration": 31,
    "start_time": "2021-08-22T16:24:49.985Z"
   },
   {
    "duration": 172,
    "start_time": "2021-08-22T16:24:50.018Z"
   },
   {
    "duration": 12,
    "start_time": "2021-08-22T16:24:50.192Z"
   },
   {
    "duration": 66,
    "start_time": "2021-08-22T16:24:50.206Z"
   },
   {
    "duration": 11,
    "start_time": "2021-08-22T16:24:50.274Z"
   },
   {
    "duration": 42,
    "start_time": "2021-08-22T16:24:50.288Z"
   },
   {
    "duration": 191,
    "start_time": "2021-08-22T16:24:50.333Z"
   },
   {
    "duration": 15,
    "start_time": "2021-08-22T16:24:50.527Z"
   },
   {
    "duration": 8,
    "start_time": "2021-08-22T16:25:33.044Z"
   },
   {
    "duration": 7,
    "start_time": "2021-08-22T16:25:35.654Z"
   },
   {
    "duration": 7,
    "start_time": "2021-08-22T16:25:37.972Z"
   },
   {
    "duration": 9011,
    "start_time": "2021-08-22T16:26:07.466Z"
   },
   {
    "duration": 7,
    "start_time": "2021-08-22T16:26:20.816Z"
   },
   {
    "duration": 352,
    "start_time": "2021-08-22T16:32:48.536Z"
   },
   {
    "duration": 389,
    "start_time": "2021-08-22T16:33:30.618Z"
   },
   {
    "duration": 934,
    "start_time": "2021-08-22T16:33:58.678Z"
   },
   {
    "duration": 29,
    "start_time": "2021-08-22T16:34:27.766Z"
   },
   {
    "duration": 62,
    "start_time": "2021-08-22T16:34:49.167Z"
   },
   {
    "duration": 8,
    "start_time": "2021-08-22T16:36:25.599Z"
   },
   {
    "duration": 41,
    "start_time": "2021-08-22T16:37:41.767Z"
   },
   {
    "duration": 40,
    "start_time": "2021-08-22T16:38:14.756Z"
   },
   {
    "duration": 38,
    "start_time": "2021-08-22T16:38:18.570Z"
   },
   {
    "duration": 59,
    "start_time": "2021-08-22T16:38:22.107Z"
   },
   {
    "duration": 124,
    "start_time": "2021-08-22T16:40:39.307Z"
   },
   {
    "duration": 887,
    "start_time": "2021-08-22T16:40:55.084Z"
   },
   {
    "duration": 55,
    "start_time": "2021-08-22T16:40:55.973Z"
   },
   {
    "duration": 9,
    "start_time": "2021-08-22T16:40:56.032Z"
   },
   {
    "duration": 224,
    "start_time": "2021-08-22T16:40:56.044Z"
   },
   {
    "duration": 26,
    "start_time": "2021-08-22T16:40:56.270Z"
   },
   {
    "duration": 130,
    "start_time": "2021-08-22T16:40:56.299Z"
   },
   {
    "duration": 27,
    "start_time": "2021-08-22T16:40:56.432Z"
   },
   {
    "duration": 185,
    "start_time": "2021-08-22T16:40:56.463Z"
   },
   {
    "duration": 24,
    "start_time": "2021-08-22T16:40:56.652Z"
   },
   {
    "duration": 31,
    "start_time": "2021-08-22T16:40:56.678Z"
   },
   {
    "duration": 19,
    "start_time": "2021-08-22T16:40:56.712Z"
   },
   {
    "duration": 193,
    "start_time": "2021-08-22T16:40:56.734Z"
   },
   {
    "duration": 31,
    "start_time": "2021-08-22T16:40:56.929Z"
   },
   {
    "duration": 259,
    "start_time": "2021-08-22T16:40:56.963Z"
   },
   {
    "duration": 46,
    "start_time": "2021-08-22T16:40:57.225Z"
   },
   {
    "duration": 35,
    "start_time": "2021-08-22T16:40:57.273Z"
   },
   {
    "duration": 166,
    "start_time": "2021-08-22T16:40:57.311Z"
   },
   {
    "duration": 15,
    "start_time": "2021-08-22T16:40:57.480Z"
   },
   {
    "duration": 60,
    "start_time": "2021-08-22T16:40:57.497Z"
   },
   {
    "duration": 31,
    "start_time": "2021-08-22T16:40:57.560Z"
   },
   {
    "duration": 149,
    "start_time": "2021-08-22T16:40:57.593Z"
   },
   {
    "duration": 20,
    "start_time": "2021-08-22T16:40:57.744Z"
   },
   {
    "duration": 20,
    "start_time": "2021-08-22T16:40:57.769Z"
   },
   {
    "duration": 42,
    "start_time": "2021-08-22T16:40:57.793Z"
   },
   {
    "duration": 31,
    "start_time": "2021-08-22T16:40:57.856Z"
   },
   {
    "duration": 167,
    "start_time": "2021-08-22T16:40:57.889Z"
   },
   {
    "duration": 12,
    "start_time": "2021-08-22T16:40:58.059Z"
   },
   {
    "duration": 70,
    "start_time": "2021-08-22T16:40:58.074Z"
   },
   {
    "duration": 17,
    "start_time": "2021-08-22T16:40:58.146Z"
   },
   {
    "duration": 44,
    "start_time": "2021-08-22T16:40:58.166Z"
   },
   {
    "duration": 184,
    "start_time": "2021-08-22T16:40:58.212Z"
   },
   {
    "duration": 168,
    "start_time": "2021-08-22T16:40:58.399Z"
   },
   {
    "duration": -467,
    "start_time": "2021-08-22T16:40:59.036Z"
   },
   {
    "duration": -474,
    "start_time": "2021-08-22T16:40:59.045Z"
   },
   {
    "duration": -476,
    "start_time": "2021-08-22T16:40:59.049Z"
   },
   {
    "duration": 65,
    "start_time": "2021-08-22T16:41:16.113Z"
   },
   {
    "duration": 40,
    "start_time": "2021-08-22T16:42:16.475Z"
   },
   {
    "duration": 38,
    "start_time": "2021-08-22T16:43:19.113Z"
   },
   {
    "duration": 220,
    "start_time": "2021-08-22T16:45:16.197Z"
   },
   {
    "duration": 121,
    "start_time": "2021-08-22T16:45:21.517Z"
   },
   {
    "duration": 521,
    "start_time": "2021-08-22T16:45:28.587Z"
   },
   {
    "duration": 39,
    "start_time": "2021-08-22T16:45:39.897Z"
   },
   {
    "duration": 41,
    "start_time": "2021-08-22T16:47:45.365Z"
   },
   {
    "duration": 401,
    "start_time": "2021-08-22T16:58:07.449Z"
   },
   {
    "duration": 40,
    "start_time": "2021-08-22T16:58:20.907Z"
   },
   {
    "duration": 804,
    "start_time": "2021-08-22T17:47:07.110Z"
   },
   {
    "duration": 601,
    "start_time": "2021-08-22T17:49:12.459Z"
   },
   {
    "duration": 8895,
    "start_time": "2021-08-22T17:50:37.289Z"
   },
   {
    "duration": 590,
    "start_time": "2021-08-22T17:50:55.589Z"
   },
   {
    "duration": 113,
    "start_time": "2021-08-22T17:51:12.435Z"
   },
   {
    "duration": 757,
    "start_time": "2021-08-22T17:51:16.093Z"
   },
   {
    "duration": 578,
    "start_time": "2021-08-22T17:51:33.741Z"
   },
   {
    "duration": 31,
    "start_time": "2021-08-22T18:12:24.772Z"
   },
   {
    "duration": 28,
    "start_time": "2021-08-22T18:12:38.950Z"
   },
   {
    "duration": 357,
    "start_time": "2021-08-22T18:13:18.632Z"
   },
   {
    "duration": 25,
    "start_time": "2021-08-22T18:14:42.932Z"
   },
   {
    "duration": 353,
    "start_time": "2021-08-22T18:15:00.581Z"
   },
   {
    "duration": 27,
    "start_time": "2021-08-22T18:16:21.339Z"
   },
   {
    "duration": 362,
    "start_time": "2021-08-22T18:16:33.551Z"
   },
   {
    "duration": 315,
    "start_time": "2021-08-27T15:51:35.388Z"
   },
   {
    "duration": 1196,
    "start_time": "2021-08-27T15:51:50.329Z"
   },
   {
    "duration": 39,
    "start_time": "2021-08-27T15:51:51.528Z"
   },
   {
    "duration": 8,
    "start_time": "2021-08-27T15:51:51.569Z"
   },
   {
    "duration": 166,
    "start_time": "2021-08-27T15:51:51.579Z"
   },
   {
    "duration": 20,
    "start_time": "2021-08-27T15:51:51.747Z"
   },
   {
    "duration": 105,
    "start_time": "2021-08-27T15:51:51.770Z"
   },
   {
    "duration": 15,
    "start_time": "2021-08-27T15:51:51.877Z"
   },
   {
    "duration": 154,
    "start_time": "2021-08-27T15:51:51.893Z"
   },
   {
    "duration": 18,
    "start_time": "2021-08-27T15:51:52.050Z"
   },
   {
    "duration": 22,
    "start_time": "2021-08-27T15:51:52.071Z"
   },
   {
    "duration": 9,
    "start_time": "2021-08-27T15:51:52.094Z"
   },
   {
    "duration": 143,
    "start_time": "2021-08-27T15:51:52.104Z"
   },
   {
    "duration": 17,
    "start_time": "2021-08-27T15:51:52.249Z"
   },
   {
    "duration": 202,
    "start_time": "2021-08-27T15:51:52.269Z"
   },
   {
    "duration": 26,
    "start_time": "2021-08-27T15:51:52.473Z"
   },
   {
    "duration": 46,
    "start_time": "2021-08-27T15:51:52.500Z"
   },
   {
    "duration": 100,
    "start_time": "2021-08-27T15:51:52.548Z"
   },
   {
    "duration": 9,
    "start_time": "2021-08-27T15:51:52.650Z"
   },
   {
    "duration": 27,
    "start_time": "2021-08-27T15:51:52.661Z"
   },
   {
    "duration": 53,
    "start_time": "2021-08-27T15:51:52.690Z"
   },
   {
    "duration": 76,
    "start_time": "2021-08-27T15:51:52.744Z"
   },
   {
    "duration": 25,
    "start_time": "2021-08-27T15:51:52.822Z"
   },
   {
    "duration": 12,
    "start_time": "2021-08-27T15:51:52.850Z"
   },
   {
    "duration": 31,
    "start_time": "2021-08-27T15:51:52.864Z"
   },
   {
    "duration": 50,
    "start_time": "2021-08-27T15:51:52.897Z"
   },
   {
    "duration": 100,
    "start_time": "2021-08-27T15:51:52.948Z"
   },
   {
    "duration": 9,
    "start_time": "2021-08-27T15:51:53.052Z"
   },
   {
    "duration": 32,
    "start_time": "2021-08-27T15:51:53.063Z"
   },
   {
    "duration": 8,
    "start_time": "2021-08-27T15:51:53.096Z"
   },
   {
    "duration": 46,
    "start_time": "2021-08-27T15:51:53.106Z"
   },
   {
    "duration": 122,
    "start_time": "2021-08-27T15:51:53.154Z"
   },
   {
    "duration": 248,
    "start_time": "2021-08-27T15:51:53.278Z"
   },
   {
    "duration": 315,
    "start_time": "2021-08-27T15:51:53.528Z"
   },
   {
    "duration": 300,
    "start_time": "2021-08-27T15:51:53.845Z"
   },
   {
    "duration": 327,
    "start_time": "2021-08-27T15:51:54.147Z"
   },
   {
    "duration": 27,
    "start_time": "2021-08-27T15:51:54.476Z"
   },
   {
    "duration": 39,
    "start_time": "2021-08-27T15:51:54.504Z"
   },
   {
    "duration": 309,
    "start_time": "2021-08-27T15:51:54.545Z"
   },
   {
    "duration": 25,
    "start_time": "2021-08-27T15:51:54.856Z"
   },
   {
    "duration": 18,
    "start_time": "2021-08-27T15:51:54.883Z"
   },
   {
    "duration": 338,
    "start_time": "2021-08-27T15:51:54.902Z"
   },
   {
    "duration": 28,
    "start_time": "2021-08-27T15:51:55.242Z"
   },
   {
    "duration": 543,
    "start_time": "2021-08-27T15:51:55.272Z"
   },
   {
    "duration": 362,
    "start_time": "2021-08-27T15:51:55.816Z"
   },
   {
    "duration": 11,
    "start_time": "2021-08-27T15:51:56.169Z"
   },
   {
    "duration": 7,
    "start_time": "2021-08-27T15:51:56.174Z"
   },
   {
    "duration": -10,
    "start_time": "2021-08-27T15:51:56.191Z"
   },
   {
    "duration": 306,
    "start_time": "2021-08-27T15:52:18.449Z"
   },
   {
    "duration": 27,
    "start_time": "2021-08-27T15:54:36.109Z"
   },
   {
    "duration": 19,
    "start_time": "2021-08-27T15:56:59.320Z"
   },
   {
    "duration": 28,
    "start_time": "2021-08-27T15:57:06.419Z"
   },
   {
    "duration": 19,
    "start_time": "2021-08-27T15:57:12.270Z"
   },
   {
    "duration": 293,
    "start_time": "2021-08-27T15:57:14.930Z"
   },
   {
    "duration": 27,
    "start_time": "2021-08-27T15:57:19.578Z"
   },
   {
    "duration": 32,
    "start_time": "2021-08-27T15:57:31.258Z"
   },
   {
    "duration": 19,
    "start_time": "2021-08-27T15:58:36.789Z"
   },
   {
    "duration": 315,
    "start_time": "2021-08-27T15:58:43.938Z"
   },
   {
    "duration": 26,
    "start_time": "2021-08-27T16:04:33.418Z"
   },
   {
    "duration": 22,
    "start_time": "2021-08-27T16:06:00.810Z"
   },
   {
    "duration": 308,
    "start_time": "2021-08-27T16:06:30.767Z"
   },
   {
    "duration": 1162,
    "start_time": "2021-08-27T16:48:49.060Z"
   },
   {
    "duration": 39,
    "start_time": "2021-08-27T16:48:50.224Z"
   },
   {
    "duration": 8,
    "start_time": "2021-08-27T16:48:50.266Z"
   },
   {
    "duration": 180,
    "start_time": "2021-08-27T16:48:50.276Z"
   },
   {
    "duration": 22,
    "start_time": "2021-08-27T16:48:50.458Z"
   },
   {
    "duration": 102,
    "start_time": "2021-08-27T16:48:50.482Z"
   },
   {
    "duration": 15,
    "start_time": "2021-08-27T16:48:50.586Z"
   },
   {
    "duration": 159,
    "start_time": "2021-08-27T16:48:50.603Z"
   },
   {
    "duration": 18,
    "start_time": "2021-08-27T16:48:50.765Z"
   },
   {
    "duration": 24,
    "start_time": "2021-08-27T16:48:50.785Z"
   },
   {
    "duration": 7,
    "start_time": "2021-08-27T16:48:50.811Z"
   },
   {
    "duration": 156,
    "start_time": "2021-08-27T16:48:50.819Z"
   },
   {
    "duration": 17,
    "start_time": "2021-08-27T16:48:50.977Z"
   },
   {
    "duration": 202,
    "start_time": "2021-08-27T16:48:50.996Z"
   },
   {
    "duration": 42,
    "start_time": "2021-08-27T16:48:51.200Z"
   },
   {
    "duration": 23,
    "start_time": "2021-08-27T16:48:51.244Z"
   },
   {
    "duration": 105,
    "start_time": "2021-08-27T16:48:51.269Z"
   },
   {
    "duration": 9,
    "start_time": "2021-08-27T16:48:51.376Z"
   },
   {
    "duration": 28,
    "start_time": "2021-08-27T16:48:51.387Z"
   },
   {
    "duration": 43,
    "start_time": "2021-08-27T16:48:51.416Z"
   },
   {
    "duration": 99,
    "start_time": "2021-08-27T16:48:51.461Z"
   },
   {
    "duration": 9,
    "start_time": "2021-08-27T16:48:51.561Z"
   },
   {
    "duration": 23,
    "start_time": "2021-08-27T16:48:51.571Z"
   },
   {
    "duration": 46,
    "start_time": "2021-08-27T16:48:51.596Z"
   },
   {
    "duration": 21,
    "start_time": "2021-08-27T16:48:51.644Z"
   },
   {
    "duration": 105,
    "start_time": "2021-08-27T16:48:51.666Z"
   },
   {
    "duration": 8,
    "start_time": "2021-08-27T16:48:51.775Z"
   },
   {
    "duration": 30,
    "start_time": "2021-08-27T16:48:51.785Z"
   },
   {
    "duration": 8,
    "start_time": "2021-08-27T16:48:51.841Z"
   },
   {
    "duration": 21,
    "start_time": "2021-08-27T16:48:51.851Z"
   },
   {
    "duration": 136,
    "start_time": "2021-08-27T16:48:51.874Z"
   },
   {
    "duration": 244,
    "start_time": "2021-08-27T16:48:52.012Z"
   },
   {
    "duration": 312,
    "start_time": "2021-08-27T16:48:52.258Z"
   },
   {
    "duration": 312,
    "start_time": "2021-08-27T16:48:52.572Z"
   },
   {
    "duration": 328,
    "start_time": "2021-08-27T16:48:52.885Z"
   },
   {
    "duration": 39,
    "start_time": "2021-08-27T16:48:53.215Z"
   },
   {
    "duration": 18,
    "start_time": "2021-08-27T16:48:53.255Z"
   },
   {
    "duration": 307,
    "start_time": "2021-08-27T16:48:53.274Z"
   },
   {
    "duration": 26,
    "start_time": "2021-08-27T16:48:53.582Z"
   },
   {
    "duration": 38,
    "start_time": "2021-08-27T16:48:53.610Z"
   },
   {
    "duration": 301,
    "start_time": "2021-08-27T16:48:53.650Z"
   },
   {
    "duration": 29,
    "start_time": "2021-08-27T16:48:53.953Z"
   },
   {
    "duration": 17,
    "start_time": "2021-08-27T16:48:53.983Z"
   },
   {
    "duration": 406,
    "start_time": "2021-08-27T16:48:54.002Z"
   },
   {
    "duration": 264,
    "start_time": "2021-08-27T17:18:23.184Z"
   },
   {
    "duration": 375,
    "start_time": "2021-08-27T17:35:48.465Z"
   },
   {
    "duration": 261,
    "start_time": "2021-08-27T17:36:59.403Z"
   },
   {
    "duration": 271,
    "start_time": "2021-08-27T17:37:20.763Z"
   },
   {
    "duration": 274,
    "start_time": "2021-08-27T17:37:33.843Z"
   },
   {
    "duration": 318,
    "start_time": "2021-08-27T17:38:23.403Z"
   },
   {
    "duration": 302,
    "start_time": "2021-08-27T17:38:30.466Z"
   },
   {
    "duration": 17,
    "start_time": "2021-08-27T17:43:23.466Z"
   },
   {
    "duration": 17,
    "start_time": "2021-08-27T17:43:44.415Z"
   },
   {
    "duration": 15,
    "start_time": "2021-08-27T17:44:20.603Z"
   },
   {
    "duration": 8,
    "start_time": "2021-08-27T17:48:01.964Z"
   },
   {
    "duration": 8,
    "start_time": "2021-08-27T17:49:35.736Z"
   },
   {
    "duration": 62,
    "start_time": "2021-08-27T17:51:25.373Z"
   },
   {
    "duration": 7,
    "start_time": "2021-08-27T17:52:28.914Z"
   },
   {
    "duration": 9,
    "start_time": "2021-08-27T17:54:12.343Z"
   },
   {
    "duration": 8,
    "start_time": "2021-08-27T17:56:39.263Z"
   },
   {
    "duration": 263,
    "start_time": "2021-08-27T17:59:41.633Z"
   },
   {
    "duration": 271,
    "start_time": "2021-08-27T18:00:22.813Z"
   },
   {
    "duration": 9,
    "start_time": "2021-08-27T18:08:51.099Z"
   },
   {
    "duration": 9,
    "start_time": "2021-08-27T18:08:57.545Z"
   },
   {
    "duration": 336,
    "start_time": "2021-08-27T18:20:40.095Z"
   },
   {
    "duration": 4,
    "start_time": "2021-08-27T18:20:52.365Z"
   },
   {
    "duration": 4,
    "start_time": "2021-08-27T18:21:01.818Z"
   },
   {
    "duration": 4,
    "start_time": "2021-08-27T18:21:06.252Z"
   },
   {
    "duration": 4,
    "start_time": "2021-08-27T18:21:59.334Z"
   },
   {
    "duration": 275,
    "start_time": "2021-08-27T18:23:45.964Z"
   },
   {
    "duration": 5,
    "start_time": "2021-08-27T18:24:10.183Z"
   },
   {
    "duration": 5,
    "start_time": "2021-08-27T18:24:27.354Z"
   },
   {
    "duration": 5,
    "start_time": "2021-08-27T18:24:33.404Z"
   },
   {
    "duration": 281,
    "start_time": "2021-08-27T18:26:01.305Z"
   },
   {
    "duration": 4,
    "start_time": "2021-08-27T18:26:09.994Z"
   },
   {
    "duration": 1177,
    "start_time": "2021-08-27T18:26:32.336Z"
   },
   {
    "duration": 3,
    "start_time": "2021-08-27T18:26:42.195Z"
   },
   {
    "duration": 261,
    "start_time": "2021-08-27T18:32:26.344Z"
   },
   {
    "duration": 265,
    "start_time": "2021-08-27T18:32:55.036Z"
   },
   {
    "duration": 4,
    "start_time": "2021-08-27T18:33:17.854Z"
   },
   {
    "duration": 266,
    "start_time": "2021-08-27T18:33:44.604Z"
   },
   {
    "duration": 5,
    "start_time": "2021-08-27T18:33:55.974Z"
   },
   {
    "duration": 4,
    "start_time": "2021-08-27T18:34:05.844Z"
   },
   {
    "duration": 5,
    "start_time": "2021-08-27T18:35:06.044Z"
   },
   {
    "duration": 4,
    "start_time": "2021-08-27T18:42:26.744Z"
   },
   {
    "duration": 5,
    "start_time": "2021-08-27T18:44:28.713Z"
   },
   {
    "duration": 5,
    "start_time": "2021-08-27T18:48:00.914Z"
   },
   {
    "duration": 8,
    "start_time": "2021-08-27T20:04:08.884Z"
   },
   {
    "duration": 6,
    "start_time": "2021-08-27T20:13:35.704Z"
   },
   {
    "duration": 4,
    "start_time": "2021-08-27T20:13:45.185Z"
   },
   {
    "duration": 4,
    "start_time": "2021-08-27T20:13:50.183Z"
   },
   {
    "duration": 8,
    "start_time": "2021-08-27T20:14:58.565Z"
   },
   {
    "duration": 5,
    "start_time": "2021-08-27T20:18:58.444Z"
   },
   {
    "duration": 1107,
    "start_time": "2021-08-27T20:49:35.874Z"
   },
   {
    "duration": 36,
    "start_time": "2021-08-27T20:49:36.983Z"
   },
   {
    "duration": 5,
    "start_time": "2021-08-27T20:49:37.022Z"
   },
   {
    "duration": 149,
    "start_time": "2021-08-27T20:49:37.029Z"
   },
   {
    "duration": 20,
    "start_time": "2021-08-27T20:49:37.179Z"
   },
   {
    "duration": 90,
    "start_time": "2021-08-27T20:49:37.201Z"
   },
   {
    "duration": 13,
    "start_time": "2021-08-27T20:49:37.292Z"
   },
   {
    "duration": 143,
    "start_time": "2021-08-27T20:49:37.307Z"
   },
   {
    "duration": 16,
    "start_time": "2021-08-27T20:49:37.453Z"
   },
   {
    "duration": 21,
    "start_time": "2021-08-27T20:49:37.472Z"
   },
   {
    "duration": 6,
    "start_time": "2021-08-27T20:49:37.495Z"
   },
   {
    "duration": 132,
    "start_time": "2021-08-27T20:49:37.503Z"
   },
   {
    "duration": 19,
    "start_time": "2021-08-27T20:49:37.637Z"
   },
   {
    "duration": 182,
    "start_time": "2021-08-27T20:49:37.657Z"
   },
   {
    "duration": 23,
    "start_time": "2021-08-27T20:49:37.841Z"
   },
   {
    "duration": 20,
    "start_time": "2021-08-27T20:49:37.866Z"
   },
   {
    "duration": 105,
    "start_time": "2021-08-27T20:49:37.888Z"
   },
   {
    "duration": 8,
    "start_time": "2021-08-27T20:49:37.994Z"
   },
   {
    "duration": 42,
    "start_time": "2021-08-27T20:49:38.004Z"
   },
   {
    "duration": 18,
    "start_time": "2021-08-27T20:49:38.048Z"
   },
   {
    "duration": 87,
    "start_time": "2021-08-27T20:49:38.067Z"
   },
   {
    "duration": 7,
    "start_time": "2021-08-27T20:49:38.155Z"
   },
   {
    "duration": 13,
    "start_time": "2021-08-27T20:49:38.164Z"
   },
   {
    "duration": 25,
    "start_time": "2021-08-27T20:49:38.179Z"
   },
   {
    "duration": 47,
    "start_time": "2021-08-27T20:49:38.205Z"
   },
   {
    "duration": 88,
    "start_time": "2021-08-27T20:49:38.253Z"
   },
   {
    "duration": 7,
    "start_time": "2021-08-27T20:49:38.345Z"
   },
   {
    "duration": 27,
    "start_time": "2021-08-27T20:49:38.354Z"
   },
   {
    "duration": 6,
    "start_time": "2021-08-27T20:49:38.383Z"
   },
   {
    "duration": 49,
    "start_time": "2021-08-27T20:49:38.391Z"
   },
   {
    "duration": 102,
    "start_time": "2021-08-27T20:49:38.442Z"
   },
   {
    "duration": 224,
    "start_time": "2021-08-27T20:49:38.545Z"
   },
   {
    "duration": 351,
    "start_time": "2021-08-27T20:49:38.771Z"
   },
   {
    "duration": 275,
    "start_time": "2021-08-27T20:49:39.124Z"
   },
   {
    "duration": 282,
    "start_time": "2021-08-27T20:49:39.401Z"
   },
   {
    "duration": 24,
    "start_time": "2021-08-27T20:49:39.685Z"
   },
   {
    "duration": 40,
    "start_time": "2021-08-27T20:49:39.710Z"
   },
   {
    "duration": 265,
    "start_time": "2021-08-27T20:49:39.752Z"
   },
   {
    "duration": 37,
    "start_time": "2021-08-27T20:49:40.018Z"
   },
   {
    "duration": 16,
    "start_time": "2021-08-27T20:49:40.057Z"
   },
   {
    "duration": 277,
    "start_time": "2021-08-27T20:49:40.075Z"
   },
   {
    "duration": 23,
    "start_time": "2021-08-27T20:49:40.354Z"
   },
   {
    "duration": 16,
    "start_time": "2021-08-27T20:49:40.379Z"
   },
   {
    "duration": 367,
    "start_time": "2021-08-27T20:49:40.396Z"
   },
   {
    "duration": 11,
    "start_time": "2021-08-27T20:49:40.765Z"
   },
   {
    "duration": 5,
    "start_time": "2021-08-27T20:49:40.778Z"
   },
   {
    "duration": 10,
    "start_time": "2021-08-27T20:49:40.785Z"
   },
   {
    "duration": 6,
    "start_time": "2021-08-27T20:49:40.797Z"
   },
   {
    "duration": 313,
    "start_time": "2021-08-27T22:12:50.771Z"
   },
   {
    "duration": 1063,
    "start_time": "2021-08-27T22:12:53.625Z"
   },
   {
    "duration": 36,
    "start_time": "2021-08-27T22:12:54.690Z"
   },
   {
    "duration": 5,
    "start_time": "2021-08-27T22:12:54.729Z"
   },
   {
    "duration": 149,
    "start_time": "2021-08-27T22:12:54.736Z"
   },
   {
    "duration": 19,
    "start_time": "2021-08-27T22:12:54.886Z"
   },
   {
    "duration": 86,
    "start_time": "2021-08-27T22:12:54.907Z"
   },
   {
    "duration": 13,
    "start_time": "2021-08-27T22:12:54.994Z"
   },
   {
    "duration": 136,
    "start_time": "2021-08-27T22:12:55.009Z"
   },
   {
    "duration": 16,
    "start_time": "2021-08-27T22:12:55.147Z"
   },
   {
    "duration": 22,
    "start_time": "2021-08-27T22:12:55.165Z"
   },
   {
    "duration": 7,
    "start_time": "2021-08-27T22:12:55.188Z"
   },
   {
    "duration": 126,
    "start_time": "2021-08-27T22:12:55.197Z"
   },
   {
    "duration": 20,
    "start_time": "2021-08-27T22:12:55.324Z"
   },
   {
    "duration": 31,
    "start_time": "2021-08-27T22:12:55.346Z"
   },
   {
    "duration": 167,
    "start_time": "2021-08-27T22:12:55.378Z"
   },
   {
    "duration": 24,
    "start_time": "2021-08-27T22:12:55.546Z"
   },
   {
    "duration": 19,
    "start_time": "2021-08-27T22:12:55.572Z"
   },
   {
    "duration": 99,
    "start_time": "2021-08-27T22:12:55.593Z"
   },
   {
    "duration": 8,
    "start_time": "2021-08-27T22:12:55.693Z"
   },
   {
    "duration": 25,
    "start_time": "2021-08-27T22:12:55.702Z"
   },
   {
    "duration": 26,
    "start_time": "2021-08-27T22:12:55.729Z"
   },
   {
    "duration": 85,
    "start_time": "2021-08-27T22:12:55.757Z"
   },
   {
    "duration": 8,
    "start_time": "2021-08-27T22:12:55.845Z"
   },
   {
    "duration": 16,
    "start_time": "2021-08-27T22:12:55.855Z"
   },
   {
    "duration": 25,
    "start_time": "2021-08-27T22:12:55.872Z"
   },
   {
    "duration": 17,
    "start_time": "2021-08-27T22:12:55.899Z"
   },
   {
    "duration": 80,
    "start_time": "2021-08-27T22:12:55.941Z"
   },
   {
    "duration": 18,
    "start_time": "2021-08-27T22:12:56.023Z"
   },
   {
    "duration": 29,
    "start_time": "2021-08-27T22:12:56.043Z"
   },
   {
    "duration": 8,
    "start_time": "2021-08-27T22:12:56.074Z"
   },
   {
    "duration": 18,
    "start_time": "2021-08-27T22:12:56.083Z"
   },
   {
    "duration": 123,
    "start_time": "2021-08-27T22:12:56.102Z"
   },
   {
    "duration": 208,
    "start_time": "2021-08-27T22:12:56.228Z"
   },
   {
    "duration": 273,
    "start_time": "2021-08-27T22:12:56.440Z"
   },
   {
    "duration": 274,
    "start_time": "2021-08-27T22:12:56.716Z"
   },
   {
    "duration": 282,
    "start_time": "2021-08-27T22:12:56.992Z"
   },
   {
    "duration": 24,
    "start_time": "2021-08-27T22:12:57.276Z"
   },
   {
    "duration": 16,
    "start_time": "2021-08-27T22:12:57.301Z"
   },
   {
    "duration": 282,
    "start_time": "2021-08-27T22:12:57.319Z"
   },
   {
    "duration": 24,
    "start_time": "2021-08-27T22:12:57.603Z"
   },
   {
    "duration": 27,
    "start_time": "2021-08-27T22:12:57.628Z"
   },
   {
    "duration": 271,
    "start_time": "2021-08-27T22:12:57.657Z"
   },
   {
    "duration": 33,
    "start_time": "2021-08-27T22:12:57.930Z"
   },
   {
    "duration": 17,
    "start_time": "2021-08-27T22:12:57.965Z"
   },
   {
    "duration": 352,
    "start_time": "2021-08-27T22:12:57.984Z"
   },
   {
    "duration": 11,
    "start_time": "2021-08-27T22:12:58.340Z"
   },
   {
    "duration": 4,
    "start_time": "2021-08-27T22:12:58.353Z"
   },
   {
    "duration": 9,
    "start_time": "2021-08-27T22:12:58.358Z"
   },
   {
    "duration": 5,
    "start_time": "2021-08-27T22:12:58.368Z"
   },
   {
    "duration": 19,
    "start_time": "2021-08-27T22:24:33.910Z"
   },
   {
    "duration": 16,
    "start_time": "2021-08-27T22:28:40.178Z"
   },
   {
    "duration": 95,
    "start_time": "2021-08-27T22:29:49.647Z"
   },
   {
    "duration": 303,
    "start_time": "2021-08-27T22:31:11.269Z"
   },
   {
    "duration": 249,
    "start_time": "2021-08-27T22:31:35.214Z"
   },
   {
    "duration": 20,
    "start_time": "2021-08-27T22:31:38.973Z"
   },
   {
    "duration": 17,
    "start_time": "2021-08-27T22:31:55.072Z"
   },
   {
    "duration": 3,
    "start_time": "2021-08-27T22:31:58.927Z"
   },
   {
    "duration": 39,
    "start_time": "2021-08-27T22:31:58.932Z"
   },
   {
    "duration": 8,
    "start_time": "2021-08-27T22:31:58.974Z"
   },
   {
    "duration": 144,
    "start_time": "2021-08-27T22:31:58.984Z"
   },
   {
    "duration": 23,
    "start_time": "2021-08-27T22:31:59.130Z"
   },
   {
    "duration": 89,
    "start_time": "2021-08-27T22:31:59.155Z"
   },
   {
    "duration": 13,
    "start_time": "2021-08-27T22:31:59.246Z"
   },
   {
    "duration": 122,
    "start_time": "2021-08-27T22:31:59.262Z"
   },
   {
    "duration": 16,
    "start_time": "2021-08-27T22:31:59.386Z"
   },
   {
    "duration": 23,
    "start_time": "2021-08-27T22:31:59.404Z"
   },
   {
    "duration": 12,
    "start_time": "2021-08-27T22:31:59.429Z"
   },
   {
    "duration": 105,
    "start_time": "2021-08-27T22:31:59.442Z"
   },
   {
    "duration": 15,
    "start_time": "2021-08-27T22:31:59.549Z"
   },
   {
    "duration": 151,
    "start_time": "2021-08-27T22:31:59.565Z"
   },
   {
    "duration": 25,
    "start_time": "2021-08-27T22:31:59.718Z"
   },
   {
    "duration": 20,
    "start_time": "2021-08-27T22:31:59.745Z"
   },
   {
    "duration": 92,
    "start_time": "2021-08-27T22:31:59.767Z"
   },
   {
    "duration": 7,
    "start_time": "2021-08-27T22:31:59.861Z"
   },
   {
    "duration": 21,
    "start_time": "2021-08-27T22:31:59.869Z"
   },
   {
    "duration": 18,
    "start_time": "2021-08-27T22:31:59.891Z"
   },
   {
    "duration": 93,
    "start_time": "2021-08-27T22:31:59.911Z"
   },
   {
    "duration": 8,
    "start_time": "2021-08-27T22:32:00.006Z"
   },
   {
    "duration": 30,
    "start_time": "2021-08-27T22:32:00.019Z"
   },
   {
    "duration": 26,
    "start_time": "2021-08-27T22:32:00.051Z"
   },
   {
    "duration": 20,
    "start_time": "2021-08-27T22:32:00.078Z"
   },
   {
    "duration": 110,
    "start_time": "2021-08-27T22:32:00.100Z"
   },
   {
    "duration": 9,
    "start_time": "2021-08-27T22:32:00.212Z"
   },
   {
    "duration": 38,
    "start_time": "2021-08-27T22:32:00.223Z"
   },
   {
    "duration": 22,
    "start_time": "2021-08-27T22:32:00.263Z"
   },
   {
    "duration": 9,
    "start_time": "2021-08-27T22:32:00.287Z"
   },
   {
    "duration": 47,
    "start_time": "2021-08-27T22:32:00.298Z"
   },
   {
    "duration": 109,
    "start_time": "2021-08-27T22:32:00.347Z"
   },
   {
    "duration": 272,
    "start_time": "2021-08-27T22:32:00.458Z"
   },
   {
    "duration": 270,
    "start_time": "2021-08-27T22:32:00.732Z"
   },
   {
    "duration": 276,
    "start_time": "2021-08-27T22:32:01.004Z"
   },
   {
    "duration": 287,
    "start_time": "2021-08-27T22:32:01.282Z"
   },
   {
    "duration": 24,
    "start_time": "2021-08-27T22:32:01.571Z"
   },
   {
    "duration": 16,
    "start_time": "2021-08-27T22:32:01.597Z"
   },
   {
    "duration": 290,
    "start_time": "2021-08-27T22:32:01.616Z"
   },
   {
    "duration": 35,
    "start_time": "2021-08-27T22:32:01.907Z"
   },
   {
    "duration": 16,
    "start_time": "2021-08-27T22:32:01.943Z"
   },
   {
    "duration": 269,
    "start_time": "2021-08-27T22:32:01.960Z"
   },
   {
    "duration": 29,
    "start_time": "2021-08-27T22:32:02.230Z"
   },
   {
    "duration": 15,
    "start_time": "2021-08-27T22:32:02.261Z"
   },
   {
    "duration": 288,
    "start_time": "2021-08-27T22:32:02.278Z"
   },
   {
    "duration": 7,
    "start_time": "2021-08-27T22:32:02.567Z"
   },
   {
    "duration": 8,
    "start_time": "2021-08-27T22:32:02.575Z"
   },
   {
    "duration": 9,
    "start_time": "2021-08-27T22:32:02.584Z"
   },
   {
    "duration": 5,
    "start_time": "2021-08-27T22:32:02.595Z"
   },
   {
    "duration": 28,
    "start_time": "2021-08-27T22:38:51.837Z"
   },
   {
    "duration": 19,
    "start_time": "2021-08-27T22:38:54.917Z"
   },
   {
    "duration": 102,
    "start_time": "2021-08-27T22:40:00.075Z"
   },
   {
    "duration": 3,
    "start_time": "2021-08-27T22:41:23.347Z"
   },
   {
    "duration": 38,
    "start_time": "2021-08-27T22:41:23.352Z"
   },
   {
    "duration": 5,
    "start_time": "2021-08-27T22:41:23.392Z"
   },
   {
    "duration": 150,
    "start_time": "2021-08-27T22:41:23.399Z"
   },
   {
    "duration": 19,
    "start_time": "2021-08-27T22:41:23.550Z"
   },
   {
    "duration": 88,
    "start_time": "2021-08-27T22:41:23.571Z"
   },
   {
    "duration": 13,
    "start_time": "2021-08-27T22:41:23.661Z"
   },
   {
    "duration": 124,
    "start_time": "2021-08-27T22:41:23.675Z"
   },
   {
    "duration": 15,
    "start_time": "2021-08-27T22:41:23.802Z"
   },
   {
    "duration": 25,
    "start_time": "2021-08-27T22:41:23.819Z"
   },
   {
    "duration": 7,
    "start_time": "2021-08-27T22:41:23.846Z"
   },
   {
    "duration": 106,
    "start_time": "2021-08-27T22:41:23.855Z"
   },
   {
    "duration": 15,
    "start_time": "2021-08-27T22:41:23.963Z"
   },
   {
    "duration": 156,
    "start_time": "2021-08-27T22:41:23.979Z"
   },
   {
    "duration": 17,
    "start_time": "2021-08-27T22:41:24.137Z"
   },
   {
    "duration": 19,
    "start_time": "2021-08-27T22:41:24.156Z"
   },
   {
    "duration": 101,
    "start_time": "2021-08-27T22:41:24.177Z"
   },
   {
    "duration": 9,
    "start_time": "2021-08-27T22:41:24.280Z"
   },
   {
    "duration": 23,
    "start_time": "2021-08-27T22:41:24.291Z"
   },
   {
    "duration": 40,
    "start_time": "2021-08-27T22:41:24.316Z"
   },
   {
    "duration": 84,
    "start_time": "2021-08-27T22:41:24.358Z"
   },
   {
    "duration": 9,
    "start_time": "2021-08-27T22:41:24.444Z"
   },
   {
    "duration": 11,
    "start_time": "2021-08-27T22:41:24.455Z"
   },
   {
    "duration": 22,
    "start_time": "2021-08-27T22:41:24.468Z"
   },
   {
    "duration": 18,
    "start_time": "2021-08-27T22:41:24.492Z"
   },
   {
    "duration": 107,
    "start_time": "2021-08-27T22:41:24.511Z"
   },
   {
    "duration": 20,
    "start_time": "2021-08-27T22:41:24.622Z"
   },
   {
    "duration": 26,
    "start_time": "2021-08-27T22:41:24.643Z"
   },
   {
    "duration": 19,
    "start_time": "2021-08-27T22:41:24.671Z"
   },
   {
    "duration": 7,
    "start_time": "2021-08-27T22:41:24.691Z"
   },
   {
    "duration": 41,
    "start_time": "2021-08-27T22:41:24.700Z"
   },
   {
    "duration": 99,
    "start_time": "2021-08-27T22:41:24.742Z"
   },
   {
    "duration": 57974,
    "start_time": "2021-08-27T22:40:26.869Z"
   },
   {
    "duration": 57969,
    "start_time": "2021-08-27T22:40:26.875Z"
   },
   {
    "duration": 57967,
    "start_time": "2021-08-27T22:40:26.878Z"
   },
   {
    "duration": 57966,
    "start_time": "2021-08-27T22:40:26.880Z"
   },
   {
    "duration": 57961,
    "start_time": "2021-08-27T22:40:26.886Z"
   },
   {
    "duration": 57956,
    "start_time": "2021-08-27T22:40:26.893Z"
   },
   {
    "duration": 57955,
    "start_time": "2021-08-27T22:40:26.895Z"
   },
   {
    "duration": 57954,
    "start_time": "2021-08-27T22:40:26.897Z"
   },
   {
    "duration": 57953,
    "start_time": "2021-08-27T22:40:26.899Z"
   },
   {
    "duration": 57952,
    "start_time": "2021-08-27T22:40:26.901Z"
   },
   {
    "duration": 57951,
    "start_time": "2021-08-27T22:40:26.903Z"
   },
   {
    "duration": 57946,
    "start_time": "2021-08-27T22:40:26.909Z"
   },
   {
    "duration": 57944,
    "start_time": "2021-08-27T22:40:26.912Z"
   },
   {
    "duration": 57944,
    "start_time": "2021-08-27T22:40:26.913Z"
   },
   {
    "duration": 57932,
    "start_time": "2021-08-27T22:40:26.926Z"
   },
   {
    "duration": 57931,
    "start_time": "2021-08-27T22:40:26.928Z"
   },
   {
    "duration": 57930,
    "start_time": "2021-08-27T22:40:26.930Z"
   },
   {
    "duration": 57929,
    "start_time": "2021-08-27T22:40:26.932Z"
   },
   {
    "duration": 4,
    "start_time": "2021-08-27T22:47:46.805Z"
   },
   {
    "duration": 41,
    "start_time": "2021-08-27T22:47:46.810Z"
   },
   {
    "duration": 6,
    "start_time": "2021-08-27T22:47:46.853Z"
   },
   {
    "duration": 153,
    "start_time": "2021-08-27T22:47:46.861Z"
   },
   {
    "duration": 25,
    "start_time": "2021-08-27T22:47:47.016Z"
   },
   {
    "duration": 87,
    "start_time": "2021-08-27T22:47:47.042Z"
   },
   {
    "duration": 13,
    "start_time": "2021-08-27T22:47:47.131Z"
   },
   {
    "duration": 132,
    "start_time": "2021-08-27T22:47:47.145Z"
   },
   {
    "duration": 15,
    "start_time": "2021-08-27T22:47:47.280Z"
   },
   {
    "duration": 23,
    "start_time": "2021-08-27T22:47:47.297Z"
   },
   {
    "duration": 10,
    "start_time": "2021-08-27T22:47:47.322Z"
   },
   {
    "duration": 104,
    "start_time": "2021-08-27T22:47:47.333Z"
   },
   {
    "duration": 17,
    "start_time": "2021-08-27T22:47:47.438Z"
   },
   {
    "duration": 148,
    "start_time": "2021-08-27T22:47:47.457Z"
   },
   {
    "duration": 18,
    "start_time": "2021-08-27T22:47:47.606Z"
   },
   {
    "duration": 33,
    "start_time": "2021-08-27T22:47:47.626Z"
   },
   {
    "duration": 88,
    "start_time": "2021-08-27T22:47:47.661Z"
   },
   {
    "duration": 9,
    "start_time": "2021-08-27T22:47:47.751Z"
   },
   {
    "duration": 28,
    "start_time": "2021-08-27T22:47:47.762Z"
   },
   {
    "duration": 19,
    "start_time": "2021-08-27T22:47:47.792Z"
   },
   {
    "duration": 87,
    "start_time": "2021-08-27T22:47:47.813Z"
   },
   {
    "duration": 9,
    "start_time": "2021-08-27T22:47:47.902Z"
   },
   {
    "duration": 31,
    "start_time": "2021-08-27T22:47:47.913Z"
   },
   {
    "duration": 32,
    "start_time": "2021-08-27T22:47:47.946Z"
   },
   {
    "duration": 20,
    "start_time": "2021-08-27T22:47:47.979Z"
   },
   {
    "duration": 88,
    "start_time": "2021-08-27T22:47:48.001Z"
   },
   {
    "duration": 8,
    "start_time": "2021-08-27T22:47:48.093Z"
   },
   {
    "duration": 44,
    "start_time": "2021-08-27T22:47:48.104Z"
   },
   {
    "duration": 8,
    "start_time": "2021-08-27T22:47:48.149Z"
   },
   {
    "duration": 14,
    "start_time": "2021-08-27T22:47:48.159Z"
   },
   {
    "duration": 114,
    "start_time": "2021-08-27T22:47:48.175Z"
   },
   {
    "duration": 271,
    "start_time": "2021-08-27T22:47:48.290Z"
   },
   {
    "duration": 357,
    "start_time": "2021-08-27T22:47:48.563Z"
   },
   {
    "duration": 270,
    "start_time": "2021-08-27T22:47:48.922Z"
   },
   {
    "duration": 288,
    "start_time": "2021-08-27T22:47:49.194Z"
   },
   {
    "duration": 25,
    "start_time": "2021-08-27T22:47:49.484Z"
   },
   {
    "duration": 34,
    "start_time": "2021-08-27T22:47:49.510Z"
   },
   {
    "duration": 278,
    "start_time": "2021-08-27T22:47:49.545Z"
   },
   {
    "duration": 33,
    "start_time": "2021-08-27T22:47:49.825Z"
   },
   {
    "duration": 17,
    "start_time": "2021-08-27T22:47:49.860Z"
   },
   {
    "duration": 272,
    "start_time": "2021-08-27T22:47:49.879Z"
   },
   {
    "duration": 25,
    "start_time": "2021-08-27T22:47:50.154Z"
   },
   {
    "duration": 17,
    "start_time": "2021-08-27T22:47:50.182Z"
   },
   {
    "duration": 299,
    "start_time": "2021-08-27T22:47:50.201Z"
   },
   {
    "duration": 9,
    "start_time": "2021-08-27T22:47:50.502Z"
   },
   {
    "duration": 6,
    "start_time": "2021-08-27T22:47:50.512Z"
   },
   {
    "duration": 24,
    "start_time": "2021-08-27T22:47:50.520Z"
   },
   {
    "duration": 6,
    "start_time": "2021-08-27T22:47:50.546Z"
   },
   {
    "duration": 89,
    "start_time": "2021-08-27T22:52:22.738Z"
   },
   {
    "duration": 85,
    "start_time": "2021-08-27T22:54:58.363Z"
   },
   {
    "duration": 3,
    "start_time": "2021-08-27T22:55:05.422Z"
   },
   {
    "duration": 48,
    "start_time": "2021-08-27T22:55:05.427Z"
   },
   {
    "duration": 6,
    "start_time": "2021-08-27T22:55:05.477Z"
   },
   {
    "duration": 142,
    "start_time": "2021-08-27T22:55:05.484Z"
   },
   {
    "duration": 19,
    "start_time": "2021-08-27T22:55:05.628Z"
   },
   {
    "duration": 102,
    "start_time": "2021-08-27T22:55:05.648Z"
   },
   {
    "duration": 12,
    "start_time": "2021-08-27T22:55:05.752Z"
   },
   {
    "duration": 130,
    "start_time": "2021-08-27T22:55:05.767Z"
   },
   {
    "duration": 17,
    "start_time": "2021-08-27T22:55:05.899Z"
   },
   {
    "duration": 28,
    "start_time": "2021-08-27T22:55:05.917Z"
   },
   {
    "duration": 16,
    "start_time": "2021-08-27T22:55:05.946Z"
   },
   {
    "duration": 112,
    "start_time": "2021-08-27T22:55:05.964Z"
   },
   {
    "duration": 16,
    "start_time": "2021-08-27T22:55:06.077Z"
   },
   {
    "duration": 150,
    "start_time": "2021-08-27T22:55:06.094Z"
   },
   {
    "duration": 17,
    "start_time": "2021-08-27T22:55:06.246Z"
   },
   {
    "duration": 19,
    "start_time": "2021-08-27T22:55:06.265Z"
   },
   {
    "duration": 94,
    "start_time": "2021-08-27T22:55:06.286Z"
   },
   {
    "duration": 8,
    "start_time": "2021-08-27T22:55:06.382Z"
   },
   {
    "duration": 26,
    "start_time": "2021-08-27T22:55:06.391Z"
   },
   {
    "duration": 30,
    "start_time": "2021-08-27T22:55:06.419Z"
   },
   {
    "duration": 67,
    "start_time": "2021-08-27T22:55:06.450Z"
   },
   {
    "duration": 7,
    "start_time": "2021-08-27T22:55:06.519Z"
   },
   {
    "duration": 9,
    "start_time": "2021-08-27T22:55:06.543Z"
   },
   {
    "duration": 28,
    "start_time": "2021-08-27T22:55:06.554Z"
   },
   {
    "duration": 17,
    "start_time": "2021-08-27T22:55:06.583Z"
   },
   {
    "duration": 97,
    "start_time": "2021-08-27T22:55:06.602Z"
   },
   {
    "duration": 8,
    "start_time": "2021-08-27T22:55:06.700Z"
   },
   {
    "duration": 39,
    "start_time": "2021-08-27T22:55:06.709Z"
   },
   {
    "duration": 8,
    "start_time": "2021-08-27T22:55:06.750Z"
   },
   {
    "duration": 22,
    "start_time": "2021-08-27T22:55:06.759Z"
   },
   {
    "duration": 110,
    "start_time": "2021-08-27T22:55:06.783Z"
   },
   {
    "duration": 266,
    "start_time": "2021-08-27T22:55:06.895Z"
   },
   {
    "duration": 269,
    "start_time": "2021-08-27T22:55:07.162Z"
   },
   {
    "duration": 262,
    "start_time": "2021-08-27T22:55:07.440Z"
   },
   {
    "duration": 283,
    "start_time": "2021-08-27T22:55:07.704Z"
   },
   {
    "duration": 23,
    "start_time": "2021-08-27T22:55:07.989Z"
   },
   {
    "duration": 30,
    "start_time": "2021-08-27T22:55:08.013Z"
   },
   {
    "duration": 268,
    "start_time": "2021-08-27T22:55:08.045Z"
   },
   {
    "duration": 30,
    "start_time": "2021-08-27T22:55:08.315Z"
   },
   {
    "duration": 15,
    "start_time": "2021-08-27T22:55:08.346Z"
   },
   {
    "duration": 350,
    "start_time": "2021-08-27T22:55:08.363Z"
   },
   {
    "duration": 33,
    "start_time": "2021-08-27T22:55:08.715Z"
   },
   {
    "duration": 16,
    "start_time": "2021-08-27T22:55:08.749Z"
   },
   {
    "duration": 284,
    "start_time": "2021-08-27T22:55:08.767Z"
   },
   {
    "duration": 8,
    "start_time": "2021-08-27T22:55:09.052Z"
   },
   {
    "duration": 7,
    "start_time": "2021-08-27T22:55:09.062Z"
   },
   {
    "duration": 14,
    "start_time": "2021-08-27T22:55:09.071Z"
   },
   {
    "duration": 7,
    "start_time": "2021-08-27T22:55:09.086Z"
   },
   {
    "duration": 4,
    "start_time": "2021-08-28T08:06:36.299Z"
   },
   {
    "duration": 3,
    "start_time": "2021-08-28T08:06:37.784Z"
   },
   {
    "duration": 1078,
    "start_time": "2021-08-28T08:06:58.359Z"
   },
   {
    "duration": 36,
    "start_time": "2021-08-28T08:07:01.565Z"
   },
   {
    "duration": 7,
    "start_time": "2021-08-28T08:07:03.633Z"
   },
   {
    "duration": 148,
    "start_time": "2021-08-28T08:07:05.452Z"
   },
   {
    "duration": 19,
    "start_time": "2021-08-28T08:07:07.635Z"
   },
   {
    "duration": 89,
    "start_time": "2021-08-28T08:07:09.875Z"
   },
   {
    "duration": 14,
    "start_time": "2021-08-28T08:07:12.118Z"
   },
   {
    "duration": 131,
    "start_time": "2021-08-28T08:07:14.262Z"
   },
   {
    "duration": 16,
    "start_time": "2021-08-28T08:07:16.172Z"
   },
   {
    "duration": 21,
    "start_time": "2021-08-28T08:07:19.112Z"
   },
   {
    "duration": 5,
    "start_time": "2021-08-28T08:07:20.985Z"
   },
   {
    "duration": 112,
    "start_time": "2021-08-28T08:07:24.784Z"
   },
   {
    "duration": 15,
    "start_time": "2021-08-28T08:07:28.544Z"
   },
   {
    "duration": 35,
    "start_time": "2021-08-28T08:08:00.567Z"
   },
   {
    "duration": 34,
    "start_time": "2021-08-28T08:11:10.093Z"
   },
   {
    "duration": 32,
    "start_time": "2021-08-28T08:11:40.150Z"
   },
   {
    "duration": 42,
    "start_time": "2021-08-28T08:18:13.965Z"
   },
   {
    "duration": 29,
    "start_time": "2021-08-28T08:18:33.084Z"
   },
   {
    "duration": 32,
    "start_time": "2021-08-28T08:19:01.082Z"
   },
   {
    "duration": 375,
    "start_time": "2021-08-28T08:23:14.757Z"
   },
   {
    "duration": 18,
    "start_time": "2021-08-28T08:23:40.587Z"
   },
   {
    "duration": 31,
    "start_time": "2021-08-28T08:24:21.196Z"
   },
   {
    "duration": 21,
    "start_time": "2021-08-28T08:25:47.512Z"
   },
   {
    "duration": 18,
    "start_time": "2021-08-28T08:30:00.367Z"
   },
   {
    "duration": 78,
    "start_time": "2021-08-28T08:31:37.549Z"
   },
   {
    "duration": 9,
    "start_time": "2021-08-28T08:32:46.291Z"
   },
   {
    "duration": 23,
    "start_time": "2021-08-28T08:33:35.243Z"
   },
   {
    "duration": 246,
    "start_time": "2021-08-28T08:33:54.700Z"
   },
   {
    "duration": 19,
    "start_time": "2021-08-28T08:34:00.632Z"
   },
   {
    "duration": 69,
    "start_time": "2021-08-28T08:34:05.301Z"
   },
   {
    "duration": 10,
    "start_time": "2021-08-28T08:34:13.402Z"
   },
   {
    "duration": 15,
    "start_time": "2021-08-28T08:34:21.079Z"
   },
   {
    "duration": 27,
    "start_time": "2021-08-28T08:34:28.454Z"
   },
   {
    "duration": 28,
    "start_time": "2021-08-28T08:35:03.150Z"
   },
   {
    "duration": 78,
    "start_time": "2021-08-28T08:35:54.397Z"
   },
   {
    "duration": 19,
    "start_time": "2021-08-28T08:36:05.986Z"
   },
   {
    "duration": 19,
    "start_time": "2021-08-28T08:39:04.549Z"
   },
   {
    "duration": 18,
    "start_time": "2021-08-28T08:39:19.389Z"
   },
   {
    "duration": 71,
    "start_time": "2021-08-28T08:39:31.276Z"
   },
   {
    "duration": 9,
    "start_time": "2021-08-28T08:39:46.463Z"
   },
   {
    "duration": 271,
    "start_time": "2021-08-28T08:39:50.795Z"
   },
   {
    "duration": 1431,
    "start_time": "2021-08-28T08:40:22.932Z"
   },
   {
    "duration": 44,
    "start_time": "2021-08-28T08:40:26.221Z"
   },
   {
    "duration": 8,
    "start_time": "2021-08-28T08:40:28.511Z"
   },
   {
    "duration": 226,
    "start_time": "2021-08-28T08:40:30.590Z"
   },
   {
    "duration": 32,
    "start_time": "2021-08-28T08:40:33.960Z"
   },
   {
    "duration": 119,
    "start_time": "2021-08-28T08:40:36.269Z"
   },
   {
    "duration": 23,
    "start_time": "2021-08-28T08:40:38.721Z"
   },
   {
    "duration": 192,
    "start_time": "2021-08-28T08:40:40.671Z"
   },
   {
    "duration": 16,
    "start_time": "2021-08-28T08:40:43.089Z"
   },
   {
    "duration": 21,
    "start_time": "2021-08-28T08:40:47.221Z"
   },
   {
    "duration": 8,
    "start_time": "2021-08-28T08:40:48.759Z"
   },
   {
    "duration": 135,
    "start_time": "2021-08-28T08:40:51.470Z"
   },
   {
    "duration": 17,
    "start_time": "2021-08-28T08:40:55.962Z"
   },
   {
    "duration": 35,
    "start_time": "2021-08-28T08:41:04.852Z"
   },
   {
    "duration": 30,
    "start_time": "2021-08-28T08:41:08.732Z"
   },
   {
    "duration": 83,
    "start_time": "2021-08-28T08:41:11.492Z"
   },
   {
    "duration": 9,
    "start_time": "2021-08-28T08:41:14.093Z"
   },
   {
    "duration": 22,
    "start_time": "2021-08-28T08:41:17.352Z"
   },
   {
    "duration": 19,
    "start_time": "2021-08-28T08:41:23.662Z"
   },
   {
    "duration": 72,
    "start_time": "2021-08-28T08:41:26.512Z"
   },
   {
    "duration": 9,
    "start_time": "2021-08-28T08:41:32.333Z"
   },
   {
    "duration": 15,
    "start_time": "2021-08-28T08:41:36.983Z"
   },
   {
    "duration": 39,
    "start_time": "2021-08-28T08:42:04.129Z"
   },
   {
    "duration": 18,
    "start_time": "2021-08-28T08:42:18.520Z"
   },
   {
    "duration": 76,
    "start_time": "2021-08-28T08:42:22.665Z"
   },
   {
    "duration": 8,
    "start_time": "2021-08-28T08:42:32.165Z"
   },
   {
    "duration": 19,
    "start_time": "2021-08-28T08:43:47.709Z"
   },
   {
    "duration": 79,
    "start_time": "2021-08-28T08:43:52.614Z"
   },
   {
    "duration": 9,
    "start_time": "2021-08-28T08:43:57.326Z"
   },
   {
    "duration": 342,
    "start_time": "2021-08-28T08:50:49.094Z"
   },
   {
    "duration": 111,
    "start_time": "2021-08-28T08:51:17.612Z"
   },
   {
    "duration": 62,
    "start_time": "2021-08-28T08:51:41.484Z"
   },
   {
    "duration": 1069,
    "start_time": "2021-08-28T08:52:19.419Z"
   },
   {
    "duration": 35,
    "start_time": "2021-08-28T08:52:22.694Z"
   },
   {
    "duration": 7,
    "start_time": "2021-08-28T08:52:24.797Z"
   },
   {
    "duration": 143,
    "start_time": "2021-08-28T08:52:26.816Z"
   },
   {
    "duration": 20,
    "start_time": "2021-08-28T08:52:29.156Z"
   },
   {
    "duration": 87,
    "start_time": "2021-08-28T08:52:31.254Z"
   },
   {
    "duration": 14,
    "start_time": "2021-08-28T08:52:33.534Z"
   },
   {
    "duration": 124,
    "start_time": "2021-08-28T08:52:35.499Z"
   },
   {
    "duration": 17,
    "start_time": "2021-08-28T08:52:38.284Z"
   },
   {
    "duration": 25,
    "start_time": "2021-08-28T08:52:41.065Z"
   },
   {
    "duration": 7,
    "start_time": "2021-08-28T08:52:43.545Z"
   },
   {
    "duration": 112,
    "start_time": "2021-08-28T08:52:46.883Z"
   },
   {
    "duration": 14,
    "start_time": "2021-08-28T08:52:50.086Z"
   },
   {
    "duration": 34,
    "start_time": "2021-08-28T08:52:56.645Z"
   },
   {
    "duration": 18,
    "start_time": "2021-08-28T08:53:01.787Z"
   },
   {
    "duration": 81,
    "start_time": "2021-08-28T08:53:05.044Z"
   },
   {
    "duration": 9,
    "start_time": "2021-08-28T08:53:08.076Z"
   },
   {
    "duration": 24,
    "start_time": "2021-08-28T08:53:11.376Z"
   },
   {
    "duration": 17,
    "start_time": "2021-08-28T08:53:14.916Z"
   },
   {
    "duration": 68,
    "start_time": "2021-08-28T08:53:18.956Z"
   },
   {
    "duration": 9,
    "start_time": "2021-08-28T08:53:21.696Z"
   },
   {
    "duration": 15,
    "start_time": "2021-08-28T08:53:24.636Z"
   },
   {
    "duration": 27,
    "start_time": "2021-08-28T08:53:27.625Z"
   },
   {
    "duration": 20,
    "start_time": "2021-08-28T08:53:33.016Z"
   },
   {
    "duration": 78,
    "start_time": "2021-08-28T08:53:38.004Z"
   },
   {
    "duration": 10,
    "start_time": "2021-08-28T08:53:42.326Z"
   },
   {
    "duration": 354,
    "start_time": "2021-08-28T08:54:09.185Z"
   },
   {
    "duration": 16,
    "start_time": "2021-08-28T08:54:52.822Z"
   },
   {
    "duration": 26,
    "start_time": "2021-08-28T08:55:11.183Z"
   },
   {
    "duration": 10,
    "start_time": "2021-08-28T08:55:44.695Z"
   },
   {
    "duration": 9,
    "start_time": "2021-08-28T09:02:41.815Z"
   },
   {
    "duration": 248,
    "start_time": "2021-08-28T09:13:51.645Z"
   },
   {
    "duration": 334,
    "start_time": "2021-08-28T09:14:34.292Z"
   },
   {
    "duration": 7,
    "start_time": "2021-08-28T09:14:52.985Z"
   },
   {
    "duration": 15,
    "start_time": "2021-08-28T09:14:55.371Z"
   },
   {
    "duration": 1147,
    "start_time": "2021-08-28T09:15:34.419Z"
   },
   {
    "duration": 36,
    "start_time": "2021-08-28T09:15:35.568Z"
   },
   {
    "duration": 7,
    "start_time": "2021-08-28T09:15:35.606Z"
   },
   {
    "duration": 159,
    "start_time": "2021-08-28T09:15:35.614Z"
   },
   {
    "duration": 23,
    "start_time": "2021-08-28T09:15:35.775Z"
   },
   {
    "duration": 91,
    "start_time": "2021-08-28T09:15:35.800Z"
   },
   {
    "duration": 13,
    "start_time": "2021-08-28T09:15:35.893Z"
   },
   {
    "duration": 146,
    "start_time": "2021-08-28T09:15:35.908Z"
   },
   {
    "duration": 17,
    "start_time": "2021-08-28T09:15:36.057Z"
   },
   {
    "duration": 21,
    "start_time": "2021-08-28T09:15:36.076Z"
   },
   {
    "duration": 8,
    "start_time": "2021-08-28T09:15:36.099Z"
   },
   {
    "duration": 128,
    "start_time": "2021-08-28T09:15:36.109Z"
   },
   {
    "duration": 18,
    "start_time": "2021-08-28T09:15:36.239Z"
   },
   {
    "duration": 4,
    "start_time": "2021-08-28T09:15:36.259Z"
   },
   {
    "duration": 5,
    "start_time": "2021-08-28T09:15:36.265Z"
   },
   {
    "duration": 49,
    "start_time": "2021-08-28T09:15:36.272Z"
   },
   {
    "duration": 2,
    "start_time": "2021-08-28T09:15:36.323Z"
   },
   {
    "duration": 23,
    "start_time": "2021-08-28T09:15:36.327Z"
   },
   {
    "duration": 97,
    "start_time": "2021-08-28T09:15:36.351Z"
   },
   {
    "duration": 12,
    "start_time": "2021-08-28T09:15:36.450Z"
   },
   {
    "duration": 53,
    "start_time": "2021-08-28T09:15:36.465Z"
   },
   {
    "duration": 29,
    "start_time": "2021-08-28T09:15:36.520Z"
   },
   {
    "duration": 134,
    "start_time": "2021-08-28T09:15:36.554Z"
   },
   {
    "duration": 13,
    "start_time": "2021-08-28T09:15:36.692Z"
   },
   {
    "duration": 25,
    "start_time": "2021-08-28T09:15:36.707Z"
   },
   {
    "duration": 40,
    "start_time": "2021-08-28T09:15:36.734Z"
   },
   {
    "duration": 31,
    "start_time": "2021-08-28T09:15:36.793Z"
   },
   {
    "duration": 150,
    "start_time": "2021-08-28T09:15:36.827Z"
   },
   {
    "duration": 16,
    "start_time": "2021-08-28T09:15:36.979Z"
   },
   {
    "duration": 6,
    "start_time": "2021-08-28T09:15:36.997Z"
   },
   {
    "duration": 29,
    "start_time": "2021-08-28T09:15:37.005Z"
   },
   {
    "duration": 8,
    "start_time": "2021-08-28T09:15:37.035Z"
   },
   {
    "duration": 6,
    "start_time": "2021-08-28T09:15:37.045Z"
   },
   {
    "duration": 40,
    "start_time": "2021-08-28T09:15:37.052Z"
   },
   {
    "duration": 120,
    "start_time": "2021-08-28T09:15:37.094Z"
   },
   {
    "duration": 219,
    "start_time": "2021-08-28T09:15:37.216Z"
   },
   {
    "duration": 282,
    "start_time": "2021-08-28T09:15:37.437Z"
   },
   {
    "duration": 279,
    "start_time": "2021-08-28T09:15:37.721Z"
   },
   {
    "duration": 294,
    "start_time": "2021-08-28T09:15:38.002Z"
   },
   {
    "duration": 25,
    "start_time": "2021-08-28T09:15:38.298Z"
   },
   {
    "duration": 18,
    "start_time": "2021-08-28T09:15:38.325Z"
   },
   {
    "duration": 298,
    "start_time": "2021-08-28T09:15:38.345Z"
   },
   {
    "duration": 23,
    "start_time": "2021-08-28T09:15:38.645Z"
   },
   {
    "duration": 29,
    "start_time": "2021-08-28T09:15:38.670Z"
   },
   {
    "duration": 283,
    "start_time": "2021-08-28T09:15:38.701Z"
   },
   {
    "duration": 29,
    "start_time": "2021-08-28T09:15:38.986Z"
   },
   {
    "duration": 16,
    "start_time": "2021-08-28T09:15:39.016Z"
   },
   {
    "duration": 381,
    "start_time": "2021-08-28T09:15:39.034Z"
   },
   {
    "duration": 12,
    "start_time": "2021-08-28T09:15:39.417Z"
   },
   {
    "duration": 5,
    "start_time": "2021-08-28T09:15:39.431Z"
   },
   {
    "duration": 9,
    "start_time": "2021-08-28T09:15:39.438Z"
   },
   {
    "duration": 6,
    "start_time": "2021-08-28T09:15:39.449Z"
   },
   {
    "duration": 1169,
    "start_time": "2021-08-28T09:22:50.644Z"
   },
   {
    "duration": 41,
    "start_time": "2021-08-28T09:22:51.815Z"
   },
   {
    "duration": 8,
    "start_time": "2021-08-28T09:22:51.859Z"
   },
   {
    "duration": 171,
    "start_time": "2021-08-28T09:22:51.869Z"
   },
   {
    "duration": 19,
    "start_time": "2021-08-28T09:22:52.042Z"
   },
   {
    "duration": 137,
    "start_time": "2021-08-28T09:22:52.063Z"
   },
   {
    "duration": 22,
    "start_time": "2021-08-28T09:22:52.203Z"
   },
   {
    "duration": 200,
    "start_time": "2021-08-28T09:22:52.228Z"
   },
   {
    "duration": 25,
    "start_time": "2021-08-28T09:22:52.431Z"
   },
   {
    "duration": 31,
    "start_time": "2021-08-28T09:22:52.458Z"
   },
   {
    "duration": 10,
    "start_time": "2021-08-28T09:22:52.491Z"
   },
   {
    "duration": 169,
    "start_time": "2021-08-28T09:22:52.503Z"
   },
   {
    "duration": 33,
    "start_time": "2021-08-28T09:22:52.674Z"
   },
   {
    "duration": 3,
    "start_time": "2021-08-28T09:22:52.709Z"
   },
   {
    "duration": 6,
    "start_time": "2021-08-28T09:22:52.714Z"
   },
   {
    "duration": 40,
    "start_time": "2021-08-28T09:22:52.721Z"
   },
   {
    "duration": 2,
    "start_time": "2021-08-28T09:22:52.763Z"
   },
   {
    "duration": 41,
    "start_time": "2021-08-28T09:22:52.767Z"
   },
   {
    "duration": 89,
    "start_time": "2021-08-28T09:22:52.810Z"
   },
   {
    "duration": 9,
    "start_time": "2021-08-28T09:22:52.900Z"
   },
   {
    "duration": 22,
    "start_time": "2021-08-28T09:22:52.910Z"
   },
   {
    "duration": 15,
    "start_time": "2021-08-28T09:22:52.934Z"
   },
   {
    "duration": 93,
    "start_time": "2021-08-28T09:22:52.953Z"
   },
   {
    "duration": 7,
    "start_time": "2021-08-28T09:22:53.048Z"
   },
   {
    "duration": 15,
    "start_time": "2021-08-28T09:22:53.056Z"
   },
   {
    "duration": 45,
    "start_time": "2021-08-28T09:22:53.073Z"
   },
   {
    "duration": 20,
    "start_time": "2021-08-28T09:22:53.119Z"
   },
   {
    "duration": 101,
    "start_time": "2021-08-28T09:22:53.141Z"
   },
   {
    "duration": 7,
    "start_time": "2021-08-28T09:22:53.244Z"
   },
   {
    "duration": 6,
    "start_time": "2021-08-28T09:22:53.253Z"
   },
   {
    "duration": 37,
    "start_time": "2021-08-28T09:22:53.261Z"
   },
   {
    "duration": 9,
    "start_time": "2021-08-28T09:22:53.300Z"
   },
   {
    "duration": 8,
    "start_time": "2021-08-28T09:22:53.310Z"
   },
   {
    "duration": 14,
    "start_time": "2021-08-28T09:22:53.320Z"
   },
   {
    "duration": 125,
    "start_time": "2021-08-28T09:22:53.336Z"
   },
   {
    "duration": 226,
    "start_time": "2021-08-28T09:22:53.463Z"
   },
   {
    "duration": 272,
    "start_time": "2021-08-28T09:22:53.691Z"
   },
   {
    "duration": 269,
    "start_time": "2021-08-28T09:22:53.965Z"
   },
   {
    "duration": 291,
    "start_time": "2021-08-28T09:22:54.236Z"
   },
   {
    "duration": 25,
    "start_time": "2021-08-28T09:22:54.529Z"
   },
   {
    "duration": 15,
    "start_time": "2021-08-28T09:22:54.556Z"
   },
   {
    "duration": 368,
    "start_time": "2021-08-28T09:22:54.573Z"
   },
   {
    "duration": 25,
    "start_time": "2021-08-28T09:22:54.943Z"
   },
   {
    "duration": 31,
    "start_time": "2021-08-28T09:22:54.970Z"
   },
   {
    "duration": 273,
    "start_time": "2021-08-28T09:22:55.003Z"
   },
   {
    "duration": 32,
    "start_time": "2021-08-28T09:22:55.278Z"
   },
   {
    "duration": 83,
    "start_time": "2021-08-28T09:22:55.312Z"
   },
   {
    "duration": 362,
    "start_time": "2021-08-28T09:22:55.396Z"
   },
   {
    "duration": 12,
    "start_time": "2021-08-28T09:22:55.759Z"
   },
   {
    "duration": 6,
    "start_time": "2021-08-28T09:22:55.773Z"
   },
   {
    "duration": 9,
    "start_time": "2021-08-28T09:22:55.792Z"
   },
   {
    "duration": 6,
    "start_time": "2021-08-28T09:22:55.803Z"
   },
   {
    "duration": 1519,
    "start_time": "2021-08-29T06:41:10.872Z"
   },
   {
    "duration": 43,
    "start_time": "2021-08-29T06:41:12.394Z"
   },
   {
    "duration": 10,
    "start_time": "2021-08-29T06:41:12.440Z"
   },
   {
    "duration": 222,
    "start_time": "2021-08-29T06:41:12.455Z"
   },
   {
    "duration": 36,
    "start_time": "2021-08-29T06:41:12.679Z"
   },
   {
    "duration": 134,
    "start_time": "2021-08-29T06:41:12.718Z"
   },
   {
    "duration": 20,
    "start_time": "2021-08-29T06:41:12.855Z"
   },
   {
    "duration": 204,
    "start_time": "2021-08-29T06:41:12.879Z"
   },
   {
    "duration": 24,
    "start_time": "2021-08-29T06:41:13.086Z"
   },
   {
    "duration": 45,
    "start_time": "2021-08-29T06:41:13.112Z"
   },
   {
    "duration": 9,
    "start_time": "2021-08-29T06:41:13.160Z"
   },
   {
    "duration": 190,
    "start_time": "2021-08-29T06:41:13.171Z"
   },
   {
    "duration": 27,
    "start_time": "2021-08-29T06:41:13.364Z"
   },
   {
    "duration": 12,
    "start_time": "2021-08-29T06:41:13.394Z"
   },
   {
    "duration": 13,
    "start_time": "2021-08-29T06:41:13.408Z"
   },
   {
    "duration": 75,
    "start_time": "2021-08-29T06:41:13.424Z"
   },
   {
    "duration": 2,
    "start_time": "2021-08-29T06:41:13.502Z"
   },
   {
    "duration": 49,
    "start_time": "2021-08-29T06:41:13.507Z"
   },
   {
    "duration": 158,
    "start_time": "2021-08-29T06:41:13.559Z"
   },
   {
    "duration": 15,
    "start_time": "2021-08-29T06:41:13.720Z"
   },
   {
    "duration": 53,
    "start_time": "2021-08-29T06:41:13.738Z"
   },
   {
    "duration": 35,
    "start_time": "2021-08-29T06:41:13.794Z"
   },
   {
    "duration": 141,
    "start_time": "2021-08-29T06:41:13.858Z"
   },
   {
    "duration": 12,
    "start_time": "2021-08-29T06:41:14.002Z"
   },
   {
    "duration": 43,
    "start_time": "2021-08-29T06:41:14.016Z"
   },
   {
    "duration": 39,
    "start_time": "2021-08-29T06:41:14.062Z"
   },
   {
    "duration": 58,
    "start_time": "2021-08-29T06:41:14.103Z"
   },
   {
    "duration": 170,
    "start_time": "2021-08-29T06:41:14.164Z"
   },
   {
    "duration": 22,
    "start_time": "2021-08-29T06:41:14.337Z"
   },
   {
    "duration": 6,
    "start_time": "2021-08-29T06:41:14.362Z"
   },
   {
    "duration": 56,
    "start_time": "2021-08-29T06:41:14.370Z"
   },
   {
    "duration": 37,
    "start_time": "2021-08-29T06:41:14.428Z"
   },
   {
    "duration": 12,
    "start_time": "2021-08-29T06:41:14.467Z"
   },
   {
    "duration": 13,
    "start_time": "2021-08-29T06:41:14.482Z"
   },
   {
    "duration": 24,
    "start_time": "2021-08-29T06:41:14.497Z"
   },
   {
    "duration": 286,
    "start_time": "2021-08-29T06:41:14.524Z"
   },
   {
    "duration": 475,
    "start_time": "2021-08-29T06:41:14.813Z"
   },
   {
    "duration": 681,
    "start_time": "2021-08-29T06:41:15.291Z"
   },
   {
    "duration": 491,
    "start_time": "2021-08-29T06:41:15.975Z"
   },
   {
    "duration": 550,
    "start_time": "2021-08-29T06:41:16.469Z"
   },
   {
    "duration": 55,
    "start_time": "2021-08-29T06:41:17.022Z"
   },
   {
    "duration": 35,
    "start_time": "2021-08-29T06:41:17.079Z"
   },
   {
    "duration": 578,
    "start_time": "2021-08-29T06:41:17.117Z"
   },
   {
    "duration": 38,
    "start_time": "2021-08-29T06:41:17.697Z"
   },
   {
    "duration": 27,
    "start_time": "2021-08-29T06:41:17.754Z"
   },
   {
    "duration": 524,
    "start_time": "2021-08-29T06:41:17.783Z"
   },
   {
    "duration": 58,
    "start_time": "2021-08-29T06:41:18.310Z"
   },
   {
    "duration": 33,
    "start_time": "2021-08-29T06:41:18.370Z"
   },
   {
    "duration": 656,
    "start_time": "2021-08-29T06:41:18.406Z"
   },
   {
    "duration": 15,
    "start_time": "2021-08-29T06:41:19.065Z"
   },
   {
    "duration": 20,
    "start_time": "2021-08-29T06:41:19.082Z"
   },
   {
    "duration": 19,
    "start_time": "2021-08-29T06:41:19.104Z"
   },
   {
    "duration": 12,
    "start_time": "2021-08-29T06:41:19.125Z"
   }
  ],
  "kernelspec": {
   "display_name": "Python 3 (ipykernel)",
   "language": "python",
   "name": "python3"
  },
  "language_info": {
   "codemirror_mode": {
    "name": "ipython",
    "version": 3
   },
   "file_extension": ".py",
   "mimetype": "text/x-python",
   "name": "python",
   "nbconvert_exporter": "python",
   "pygments_lexer": "ipython3",
   "version": "3.9.7"
  },
  "toc": {
   "base_numbering": 1,
   "nav_menu": {},
   "number_sections": true,
   "sideBar": true,
   "skip_h1_title": true,
   "title_cell": "Table of Contents",
   "title_sidebar": "Contents",
   "toc_cell": false,
   "toc_position": {},
   "toc_section_display": true,
   "toc_window_display": false
  }
 },
 "nbformat": 4,
 "nbformat_minor": 2
}
